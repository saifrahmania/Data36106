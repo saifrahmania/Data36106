{
  "cells": [
    {
      "cell_type": "markdown",
      "metadata": {
        "id": "uQ6wc2HE0pke"
      },
      "source": [
        "# **Experiment Notebook**\n",
        "\n"
      ]
    },
    {
      "cell_type": "markdown",
      "metadata": {
        "id": "KFVpE17Ahezu"
      },
      "source": [
        "---\n",
        "## 0. Setup Environment"
      ]
    },
    {
      "cell_type": "markdown",
      "source": [
        "### 0.a Install Environment and Mandatory Packages"
      ],
      "metadata": {
        "id": "kWUmi7fakv5O"
      }
    },
    {
      "cell_type": "code",
      "source": [
        "# Do not modify this code\n",
        "!pip install -q utstd\n",
        "\n",
        "from utstd.folders import *\n",
        "from utstd.ipyrenders import *\n",
        "\n",
        "at = AtFolder(\n",
        "    course_code=36106,\n",
        "    assignment=\"AT2\",\n",
        ")\n",
        "at.run()"
      ],
      "metadata": {
        "id": "S8jFaNXqvV5W",
        "colab": {
          "base_uri": "https://localhost:8080/"
        },
        "outputId": "43b2990e-2482-4131-9d24-c085e6c58387"
      },
      "execution_count": 2,
      "outputs": [
        {
          "output_type": "stream",
          "name": "stdout",
          "text": [
            "Mounted at /content/gdrive\n",
            "\n",
            "You can now save your data files in: /content/gdrive/MyDrive/36106/assignment/AT2/data\n"
          ]
        }
      ]
    },
    {
      "cell_type": "code",
      "source": [
        "from google.colab import drive\n",
        "drive.mount('/content/drive')"
      ],
      "metadata": {
        "id": "Rhs7CpEgiIiz",
        "colab": {
          "base_uri": "https://localhost:8080/"
        },
        "outputId": "cfa6f550-c8f9-4dfe-d752-78563892be79"
      },
      "execution_count": 3,
      "outputs": [
        {
          "output_type": "stream",
          "name": "stdout",
          "text": [
            "Mounted at /content/drive\n"
          ]
        }
      ]
    },
    {
      "cell_type": "markdown",
      "source": [
        "### 0.b Disable Warnings Messages"
      ],
      "metadata": {
        "id": "jM39DExClCc5"
      }
    },
    {
      "cell_type": "code",
      "source": [
        "# Do not modify this code\n",
        "import warnings\n",
        "warnings.simplefilter(action='ignore')"
      ],
      "metadata": {
        "id": "6FneOmBfka9G"
      },
      "execution_count": 4,
      "outputs": []
    },
    {
      "cell_type": "markdown",
      "source": [
        "### 0.c Install Additional Packages\n",
        "\n",
        "> If you are using additional packages, you need to install them here using the command: `! pip install <package_name>`"
      ],
      "metadata": {
        "id": "CgTrMfyylVLf"
      }
    },
    {
      "cell_type": "code",
      "source": [
        "# <Student to fill this section>"
      ],
      "metadata": {
        "id": "D79tb2V-lVpJ"
      },
      "execution_count": 5,
      "outputs": []
    },
    {
      "cell_type": "markdown",
      "source": [
        "### 0.d Import Packages"
      ],
      "metadata": {
        "id": "mXFKfa2tp1ch"
      }
    },
    {
      "cell_type": "code",
      "source": [
        "# <Student to fill this section>\n",
        "import pandas as pd\n",
        "import altair as alt"
      ],
      "metadata": {
        "id": "GBEAwdncnlAx"
      },
      "execution_count": 6,
      "outputs": []
    },
    {
      "cell_type": "markdown",
      "metadata": {
        "id": "tQgxLRrvjiJb"
      },
      "source": [
        "---\n",
        "## A. Project Description\n"
      ]
    },
    {
      "cell_type": "code",
      "source": [
        "# <Student to fill this section>\n",
        "student_name = \"Md Saifur Rahman\"\n",
        "student_id = \"25528668\""
      ],
      "metadata": {
        "id": "X5mh2fhW1iBy"
      },
      "execution_count": 7,
      "outputs": []
    },
    {
      "cell_type": "code",
      "source": [
        "# Do not modify this code\n",
        "print_tile(size=\"h1\", key='student_name', value=student_name)"
      ],
      "metadata": {
        "id": "uaK__uW61iI8",
        "colab": {
          "base_uri": "https://localhost:8080/",
          "height": 98
        },
        "outputId": "62b62a3a-d258-400b-e25e-2ac922c02491"
      },
      "execution_count": 8,
      "outputs": [
        {
          "output_type": "display_data",
          "data": {
            "text/plain": [
              "<IPython.core.display.HTML object>"
            ],
            "text/html": [
              "<p style=\"color:grey\">student_name</p><h1 font-size: 3em>Md Saifur Rahman</h1>"
            ]
          },
          "metadata": {}
        }
      ]
    },
    {
      "cell_type": "code",
      "source": [
        "# Do not modify this code\n",
        "print_tile(size=\"h1\", key='student_id', value=student_id)"
      ],
      "metadata": {
        "id": "3sklS9SO1iPN",
        "colab": {
          "base_uri": "https://localhost:8080/",
          "height": 98
        },
        "outputId": "63e89a77-c185-4ab7-80b6-06c89d10a885"
      },
      "execution_count": 9,
      "outputs": [
        {
          "output_type": "display_data",
          "data": {
            "text/plain": [
              "<IPython.core.display.HTML object>"
            ],
            "text/html": [
              "<p style=\"color:grey\">student_id</p><h1 font-size: 3em>25528668</h1>"
            ]
          },
          "metadata": {}
        }
      ]
    },
    {
      "cell_type": "code",
      "source": [
        "business_objective = \"\"\"\n",
        "The goal of this project is to develop a reliable predictive model that classifies university students into four academic performance categories—Excellent, Good, Average, and Poor—based on various academic, personal, and behavioral attributes.\n",
        "\n",
        "The business value lies in enabling educational institutions to proactively identify students at risk of underperforming and provide timely academic support or counseling. Accurate predictions will help in resource allocation, targeted interventions, and improved student retention rates.\n",
        "\n",
        "Conversely, incorrect classifications—especially mislabeling high-performing students as poor performers or vice versa—could lead to misallocated support efforts, student dissatisfaction, and reputational risk for the institution. Therefore, model accuracy and interpretability are critical to ensure decisions are fair, data-driven, and actionable.\n",
        "\"\"\""
      ],
      "metadata": {
        "id": "GTf0Pg6Z2v-Z"
      },
      "execution_count": 10,
      "outputs": []
    },
    {
      "cell_type": "code",
      "source": [
        "# Do not modify this code\n",
        "print_tile(size=\"h3\", key='business_objective', value=business_objective)"
      ],
      "metadata": {
        "id": "exnz6agQ2wFg",
        "colab": {
          "base_uri": "https://localhost:8080/",
          "height": 284
        },
        "outputId": "d9479ec0-995c-41c6-e13f-a1d0b5ff8210"
      },
      "execution_count": 11,
      "outputs": [
        {
          "output_type": "display_data",
          "data": {
            "text/plain": [
              "<IPython.core.display.HTML object>"
            ],
            "text/html": [
              "<p style=\"color:grey\">business_objective</p><h3 font-size: 3em>\n",
              "The goal of this project is to develop a reliable predictive model that classifies university students into four academic performance categories—Excellent, Good, Average, and Poor—based on various academic, personal, and behavioral attributes.\n",
              "\n",
              "The business value lies in enabling educational institutions to proactively identify students at risk of underperforming and provide timely academic support or counseling. Accurate predictions will help in resource allocation, targeted interventions, and improved student retention rates.\n",
              "\n",
              "Conversely, incorrect classifications—especially mislabeling high-performing students as poor performers or vice versa—could lead to misallocated support efforts, student dissatisfaction, and reputational risk for the institution. Therefore, model accuracy and interpretability are critical to ensure decisions are fair, data-driven, and actionable.\n",
              "</h3>"
            ]
          },
          "metadata": {}
        }
      ]
    },
    {
      "cell_type": "markdown",
      "source": [
        "---\n",
        "## B. Experiment Description"
      ],
      "metadata": {
        "id": "4q1Bzcejvfpm"
      }
    },
    {
      "cell_type": "code",
      "source": [
        "# Do not modify this code\n",
        "experiment_id = \"1\"\n",
        "print_tile(size=\"h1\", key='experiment_id', value=experiment_id)"
      ],
      "metadata": {
        "id": "dXpWo_-o21FD",
        "colab": {
          "base_uri": "https://localhost:8080/",
          "height": 98
        },
        "outputId": "37274587-8ab0-49ab-9634-75b92a87e2c5"
      },
      "execution_count": 12,
      "outputs": [
        {
          "output_type": "display_data",
          "data": {
            "text/plain": [
              "<IPython.core.display.HTML object>"
            ],
            "text/html": [
              "<p style=\"color:grey\">experiment_id</p><h1 font-size: 3em>1</h1>"
            ]
          },
          "metadata": {}
        }
      ]
    },
    {
      "cell_type": "code",
      "source": [
        "experiment_hypothesis = \"\"\"\n",
        "We hypothesize that a student’s academic performance category (Excellent, Good, Average, Poor) can be predicted using a combination of their historical academic metrics (GPA, completed credits), engagement indicators (study hours, attendance, study sessions), and behavioral/lifestyle factors (social media usage, skill development hours, etc.).\n",
        "\n",
        "This hypothesis is worth testing because if a strong relationship exists between these features and performance, we can design a practical model to identify students in need of academic support early in the semester. This can help universities reduce dropout rates, improve student success, and allocate support resources more efficiently.\n",
        "\"\"\"\n"
      ],
      "metadata": {
        "id": "qng9pUoU21Kp"
      },
      "execution_count": 13,
      "outputs": []
    },
    {
      "cell_type": "code",
      "source": [
        "# Do not modify this code\n",
        "print_tile(size=\"h3\", key='experiment_hypothesis', value=experiment_hypothesis)"
      ],
      "metadata": {
        "id": "3F9fpCzf21YI",
        "colab": {
          "base_uri": "https://localhost:8080/",
          "height": 243
        },
        "outputId": "96aeb77f-ef8d-42db-bdf8-6c30844f357f"
      },
      "execution_count": 14,
      "outputs": [
        {
          "output_type": "display_data",
          "data": {
            "text/plain": [
              "<IPython.core.display.HTML object>"
            ],
            "text/html": [
              "<p style=\"color:grey\">experiment_hypothesis</p><h3 font-size: 3em>\n",
              "We hypothesize that a student’s academic performance category (Excellent, Good, Average, Poor) can be predicted using a combination of their historical academic metrics (GPA, completed credits), engagement indicators (study hours, attendance, study sessions), and behavioral/lifestyle factors (social media usage, skill development hours, etc.).\n",
              "\n",
              "This hypothesis is worth testing because if a strong relationship exists between these features and performance, we can design a practical model to identify students in need of academic support early in the semester. This can help universities reduce dropout rates, improve student success, and allocate support resources more efficiently.\n",
              "</h3>"
            ]
          },
          "metadata": {}
        }
      ]
    },
    {
      "cell_type": "code",
      "source": [
        "# <Student to fill this section>\n",
        "experiment_expectations = \"\"\"\n",
        "Detail what will be the expected outcome of the experiment. If possible, estimate the goal you are expecting.\n",
        "List the possible scenarios resulting from this experiment.\n",
        "\"\"\""
      ],
      "metadata": {
        "id": "8Ke5AG7A21dx"
      },
      "execution_count": 15,
      "outputs": []
    },
    {
      "cell_type": "code",
      "source": [
        "# Do not modify this code\n",
        "print_tile(size=\"h3\", key='experiment_expectations', value=experiment_expectations)"
      ],
      "metadata": {
        "id": "Aal6ECC821nJ",
        "colab": {
          "base_uri": "https://localhost:8080/",
          "height": 101
        },
        "outputId": "dc21f521-2df1-4f01-c13e-76d87e91f432"
      },
      "execution_count": 16,
      "outputs": [
        {
          "output_type": "display_data",
          "data": {
            "text/plain": [
              "<IPython.core.display.HTML object>"
            ],
            "text/html": [
              "<p style=\"color:grey\">experiment_expectations</p><h3 font-size: 3em>\n",
              "Detail what will be the expected outcome of the experiment. If possible, estimate the goal you are expecting.\n",
              "List the possible scenarios resulting from this experiment.\n",
              "</h3>"
            ]
          },
          "metadata": {}
        }
      ]
    },
    {
      "cell_type": "markdown",
      "source": [
        "---\n",
        "## C. Data Understanding"
      ],
      "metadata": {
        "id": "P0zsEPshwy1K"
      }
    },
    {
      "cell_type": "code",
      "source": [
        "# Do not modify this code\n",
        "try:\n",
        "  X_train = pd.read_csv('/content/drive/MyDrive/36106/AT02/X_train.csv')\n",
        "  y_train = pd.read_csv('/content/drive/MyDrive/36106/AT02/y_train.csv')\n",
        "\n",
        "  X_val = pd.read_csv('/content/drive/MyDrive/36106/AT02/X_val.csv')\n",
        "  y_val = pd.read_csv('/content/drive/MyDrive/36106/AT02/y_val.csv')\n",
        "\n",
        "  X_test = pd.read_csv('/content/drive/MyDrive/36106/AT02/X_test.csv')\n",
        "  y_test = pd.read_csv('/content/drive/MyDrive/36106/AT02/y_test.csv')\n",
        "except Exception as e:\n",
        "  print(e)"
      ],
      "metadata": {
        "id": "NKgOzSn-w0eq"
      },
      "execution_count": 17,
      "outputs": []
    },
    {
      "cell_type": "markdown",
      "metadata": {
        "id": "_NCwQQFkU3v5"
      },
      "source": [
        "---\n",
        "## D. Feature Selection\n"
      ]
    },
    {
      "cell_type": "code",
      "source": [
        "X_train.columns.tolist()"
      ],
      "metadata": {
        "colab": {
          "base_uri": "https://localhost:8080/"
        },
        "id": "_HqvsRmcqawd",
        "outputId": "796654bb-f854-425c-e3e5-7503cb44a17c"
      },
      "execution_count": 18,
      "outputs": [
        {
          "output_type": "execute_result",
          "data": {
            "text/plain": [
              "['gender',\n",
              " 'scholarship',\n",
              " 'university_transport',\n",
              " 'learning_mode',\n",
              " 'has_phone',\n",
              " 'has_laptop',\n",
              " 'english_proficiency',\n",
              " 'on_probation',\n",
              " 'is_suspended',\n",
              " 'has_consulted_teacher',\n",
              " 'relationship',\n",
              " 'co_curricular',\n",
              " 'living_arrangement',\n",
              " 'health_issues',\n",
              " 'disabilities',\n",
              " 'current _semester',\n",
              " 'study_hours',\n",
              " 'study_sessions',\n",
              " 'social_media_hours',\n",
              " 'average_attendance',\n",
              " 'skills',\n",
              " 'skills_development_hours',\n",
              " 'previous_gpa',\n",
              " 'current_gpa',\n",
              " 'completed_credits',\n",
              " 'has_diploma',\n",
              " 'house_income',\n",
              " 'gpa_change',\n",
              " 'study_x_attendance',\n",
              " 'skill_to_social_ratio']"
            ]
          },
          "metadata": {},
          "execution_count": 18
        }
      ]
    },
    {
      "cell_type": "code",
      "source": [
        "# prompt: now check the the column type\n",
        "\n",
        "X_train.dtypes\n"
      ],
      "metadata": {
        "colab": {
          "base_uri": "https://localhost:8080/",
          "height": 1000
        },
        "id": "DfVxMKvIuMga",
        "outputId": "1d98d6f2-ceb9-4082-ae39-72c104733fe2"
      },
      "execution_count": 19,
      "outputs": [
        {
          "output_type": "execute_result",
          "data": {
            "text/plain": [
              "gender                        int64\n",
              "scholarship                   int64\n",
              "university_transport          int64\n",
              "learning_mode                 int64\n",
              "has_phone                     int64\n",
              "has_laptop                    int64\n",
              "english_proficiency           int64\n",
              "on_probation                  int64\n",
              "is_suspended                  int64\n",
              "has_consulted_teacher         int64\n",
              "relationship                  int64\n",
              "co_curricular                 int64\n",
              "living_arrangement            int64\n",
              "health_issues                 int64\n",
              "disabilities                  int64\n",
              "current _semester           float64\n",
              "study_hours                 float64\n",
              "study_sessions              float64\n",
              "social_media_hours          float64\n",
              "average_attendance          float64\n",
              "skills                        int64\n",
              "skills_development_hours    float64\n",
              "previous_gpa                float64\n",
              "current_gpa                 float64\n",
              "completed_credits           float64\n",
              "has_diploma                    bool\n",
              "house_income                float64\n",
              "gpa_change                  float64\n",
              "study_x_attendance          float64\n",
              "skill_to_social_ratio       float64\n",
              "dtype: object"
            ],
            "text/html": [
              "<div>\n",
              "<style scoped>\n",
              "    .dataframe tbody tr th:only-of-type {\n",
              "        vertical-align: middle;\n",
              "    }\n",
              "\n",
              "    .dataframe tbody tr th {\n",
              "        vertical-align: top;\n",
              "    }\n",
              "\n",
              "    .dataframe thead th {\n",
              "        text-align: right;\n",
              "    }\n",
              "</style>\n",
              "<table border=\"1\" class=\"dataframe\">\n",
              "  <thead>\n",
              "    <tr style=\"text-align: right;\">\n",
              "      <th></th>\n",
              "      <th>0</th>\n",
              "    </tr>\n",
              "  </thead>\n",
              "  <tbody>\n",
              "    <tr>\n",
              "      <th>gender</th>\n",
              "      <td>int64</td>\n",
              "    </tr>\n",
              "    <tr>\n",
              "      <th>scholarship</th>\n",
              "      <td>int64</td>\n",
              "    </tr>\n",
              "    <tr>\n",
              "      <th>university_transport</th>\n",
              "      <td>int64</td>\n",
              "    </tr>\n",
              "    <tr>\n",
              "      <th>learning_mode</th>\n",
              "      <td>int64</td>\n",
              "    </tr>\n",
              "    <tr>\n",
              "      <th>has_phone</th>\n",
              "      <td>int64</td>\n",
              "    </tr>\n",
              "    <tr>\n",
              "      <th>has_laptop</th>\n",
              "      <td>int64</td>\n",
              "    </tr>\n",
              "    <tr>\n",
              "      <th>english_proficiency</th>\n",
              "      <td>int64</td>\n",
              "    </tr>\n",
              "    <tr>\n",
              "      <th>on_probation</th>\n",
              "      <td>int64</td>\n",
              "    </tr>\n",
              "    <tr>\n",
              "      <th>is_suspended</th>\n",
              "      <td>int64</td>\n",
              "    </tr>\n",
              "    <tr>\n",
              "      <th>has_consulted_teacher</th>\n",
              "      <td>int64</td>\n",
              "    </tr>\n",
              "    <tr>\n",
              "      <th>relationship</th>\n",
              "      <td>int64</td>\n",
              "    </tr>\n",
              "    <tr>\n",
              "      <th>co_curricular</th>\n",
              "      <td>int64</td>\n",
              "    </tr>\n",
              "    <tr>\n",
              "      <th>living_arrangement</th>\n",
              "      <td>int64</td>\n",
              "    </tr>\n",
              "    <tr>\n",
              "      <th>health_issues</th>\n",
              "      <td>int64</td>\n",
              "    </tr>\n",
              "    <tr>\n",
              "      <th>disabilities</th>\n",
              "      <td>int64</td>\n",
              "    </tr>\n",
              "    <tr>\n",
              "      <th>current _semester</th>\n",
              "      <td>float64</td>\n",
              "    </tr>\n",
              "    <tr>\n",
              "      <th>study_hours</th>\n",
              "      <td>float64</td>\n",
              "    </tr>\n",
              "    <tr>\n",
              "      <th>study_sessions</th>\n",
              "      <td>float64</td>\n",
              "    </tr>\n",
              "    <tr>\n",
              "      <th>social_media_hours</th>\n",
              "      <td>float64</td>\n",
              "    </tr>\n",
              "    <tr>\n",
              "      <th>average_attendance</th>\n",
              "      <td>float64</td>\n",
              "    </tr>\n",
              "    <tr>\n",
              "      <th>skills</th>\n",
              "      <td>int64</td>\n",
              "    </tr>\n",
              "    <tr>\n",
              "      <th>skills_development_hours</th>\n",
              "      <td>float64</td>\n",
              "    </tr>\n",
              "    <tr>\n",
              "      <th>previous_gpa</th>\n",
              "      <td>float64</td>\n",
              "    </tr>\n",
              "    <tr>\n",
              "      <th>current_gpa</th>\n",
              "      <td>float64</td>\n",
              "    </tr>\n",
              "    <tr>\n",
              "      <th>completed_credits</th>\n",
              "      <td>float64</td>\n",
              "    </tr>\n",
              "    <tr>\n",
              "      <th>has_diploma</th>\n",
              "      <td>bool</td>\n",
              "    </tr>\n",
              "    <tr>\n",
              "      <th>house_income</th>\n",
              "      <td>float64</td>\n",
              "    </tr>\n",
              "    <tr>\n",
              "      <th>gpa_change</th>\n",
              "      <td>float64</td>\n",
              "    </tr>\n",
              "    <tr>\n",
              "      <th>study_x_attendance</th>\n",
              "      <td>float64</td>\n",
              "    </tr>\n",
              "    <tr>\n",
              "      <th>skill_to_social_ratio</th>\n",
              "      <td>float64</td>\n",
              "    </tr>\n",
              "  </tbody>\n",
              "</table>\n",
              "</div><br><label><b>dtype:</b> object</label>"
            ]
          },
          "metadata": {},
          "execution_count": 19
        }
      ]
    },
    {
      "cell_type": "code",
      "source": [
        "X_test.dtypes"
      ],
      "metadata": {
        "colab": {
          "base_uri": "https://localhost:8080/",
          "height": 1000
        },
        "id": "1Y32U8lN6vqt",
        "outputId": "6d195575-0999-4e6d-b526-928dcc4761ce"
      },
      "execution_count": 20,
      "outputs": [
        {
          "output_type": "execute_result",
          "data": {
            "text/plain": [
              "gender                        int64\n",
              "scholarship                   int64\n",
              "university_transport          int64\n",
              "learning_mode                 int64\n",
              "has_phone                     int64\n",
              "has_laptop                    int64\n",
              "english_proficiency           int64\n",
              "on_probation                  int64\n",
              "is_suspended                  int64\n",
              "has_consulted_teacher         int64\n",
              "relationship                  int64\n",
              "co_curricular                 int64\n",
              "living_arrangement            int64\n",
              "health_issues                 int64\n",
              "disabilities                  int64\n",
              "current _semester           float64\n",
              "study_hours                 float64\n",
              "study_sessions              float64\n",
              "social_media_hours          float64\n",
              "average_attendance          float64\n",
              "skills                        int64\n",
              "skills_development_hours    float64\n",
              "previous_gpa                float64\n",
              "current_gpa                 float64\n",
              "completed_credits           float64\n",
              "has_diploma                    bool\n",
              "house_income                float64\n",
              "gpa_change                  float64\n",
              "study_x_attendance          float64\n",
              "skill_to_social_ratio       float64\n",
              "dtype: object"
            ],
            "text/html": [
              "<div>\n",
              "<style scoped>\n",
              "    .dataframe tbody tr th:only-of-type {\n",
              "        vertical-align: middle;\n",
              "    }\n",
              "\n",
              "    .dataframe tbody tr th {\n",
              "        vertical-align: top;\n",
              "    }\n",
              "\n",
              "    .dataframe thead th {\n",
              "        text-align: right;\n",
              "    }\n",
              "</style>\n",
              "<table border=\"1\" class=\"dataframe\">\n",
              "  <thead>\n",
              "    <tr style=\"text-align: right;\">\n",
              "      <th></th>\n",
              "      <th>0</th>\n",
              "    </tr>\n",
              "  </thead>\n",
              "  <tbody>\n",
              "    <tr>\n",
              "      <th>gender</th>\n",
              "      <td>int64</td>\n",
              "    </tr>\n",
              "    <tr>\n",
              "      <th>scholarship</th>\n",
              "      <td>int64</td>\n",
              "    </tr>\n",
              "    <tr>\n",
              "      <th>university_transport</th>\n",
              "      <td>int64</td>\n",
              "    </tr>\n",
              "    <tr>\n",
              "      <th>learning_mode</th>\n",
              "      <td>int64</td>\n",
              "    </tr>\n",
              "    <tr>\n",
              "      <th>has_phone</th>\n",
              "      <td>int64</td>\n",
              "    </tr>\n",
              "    <tr>\n",
              "      <th>has_laptop</th>\n",
              "      <td>int64</td>\n",
              "    </tr>\n",
              "    <tr>\n",
              "      <th>english_proficiency</th>\n",
              "      <td>int64</td>\n",
              "    </tr>\n",
              "    <tr>\n",
              "      <th>on_probation</th>\n",
              "      <td>int64</td>\n",
              "    </tr>\n",
              "    <tr>\n",
              "      <th>is_suspended</th>\n",
              "      <td>int64</td>\n",
              "    </tr>\n",
              "    <tr>\n",
              "      <th>has_consulted_teacher</th>\n",
              "      <td>int64</td>\n",
              "    </tr>\n",
              "    <tr>\n",
              "      <th>relationship</th>\n",
              "      <td>int64</td>\n",
              "    </tr>\n",
              "    <tr>\n",
              "      <th>co_curricular</th>\n",
              "      <td>int64</td>\n",
              "    </tr>\n",
              "    <tr>\n",
              "      <th>living_arrangement</th>\n",
              "      <td>int64</td>\n",
              "    </tr>\n",
              "    <tr>\n",
              "      <th>health_issues</th>\n",
              "      <td>int64</td>\n",
              "    </tr>\n",
              "    <tr>\n",
              "      <th>disabilities</th>\n",
              "      <td>int64</td>\n",
              "    </tr>\n",
              "    <tr>\n",
              "      <th>current _semester</th>\n",
              "      <td>float64</td>\n",
              "    </tr>\n",
              "    <tr>\n",
              "      <th>study_hours</th>\n",
              "      <td>float64</td>\n",
              "    </tr>\n",
              "    <tr>\n",
              "      <th>study_sessions</th>\n",
              "      <td>float64</td>\n",
              "    </tr>\n",
              "    <tr>\n",
              "      <th>social_media_hours</th>\n",
              "      <td>float64</td>\n",
              "    </tr>\n",
              "    <tr>\n",
              "      <th>average_attendance</th>\n",
              "      <td>float64</td>\n",
              "    </tr>\n",
              "    <tr>\n",
              "      <th>skills</th>\n",
              "      <td>int64</td>\n",
              "    </tr>\n",
              "    <tr>\n",
              "      <th>skills_development_hours</th>\n",
              "      <td>float64</td>\n",
              "    </tr>\n",
              "    <tr>\n",
              "      <th>previous_gpa</th>\n",
              "      <td>float64</td>\n",
              "    </tr>\n",
              "    <tr>\n",
              "      <th>current_gpa</th>\n",
              "      <td>float64</td>\n",
              "    </tr>\n",
              "    <tr>\n",
              "      <th>completed_credits</th>\n",
              "      <td>float64</td>\n",
              "    </tr>\n",
              "    <tr>\n",
              "      <th>has_diploma</th>\n",
              "      <td>bool</td>\n",
              "    </tr>\n",
              "    <tr>\n",
              "      <th>house_income</th>\n",
              "      <td>float64</td>\n",
              "    </tr>\n",
              "    <tr>\n",
              "      <th>gpa_change</th>\n",
              "      <td>float64</td>\n",
              "    </tr>\n",
              "    <tr>\n",
              "      <th>study_x_attendance</th>\n",
              "      <td>float64</td>\n",
              "    </tr>\n",
              "    <tr>\n",
              "      <th>skill_to_social_ratio</th>\n",
              "      <td>float64</td>\n",
              "    </tr>\n",
              "  </tbody>\n",
              "</table>\n",
              "</div><br><label><b>dtype:</b> object</label>"
            ]
          },
          "metadata": {},
          "execution_count": 20
        }
      ]
    },
    {
      "cell_type": "code",
      "source": [
        "X_val.dtypes"
      ],
      "metadata": {
        "colab": {
          "base_uri": "https://localhost:8080/",
          "height": 1000
        },
        "id": "ZcJzd-4H6zYi",
        "outputId": "fa711ac4-f12e-45c5-bf3a-952386f90a3c"
      },
      "execution_count": 21,
      "outputs": [
        {
          "output_type": "execute_result",
          "data": {
            "text/plain": [
              "gender                        int64\n",
              "scholarship                   int64\n",
              "university_transport          int64\n",
              "learning_mode                 int64\n",
              "has_phone                     int64\n",
              "has_laptop                    int64\n",
              "english_proficiency           int64\n",
              "on_probation                  int64\n",
              "is_suspended                  int64\n",
              "has_consulted_teacher         int64\n",
              "relationship                  int64\n",
              "co_curricular                 int64\n",
              "living_arrangement            int64\n",
              "health_issues                 int64\n",
              "disabilities                  int64\n",
              "current _semester           float64\n",
              "study_hours                 float64\n",
              "study_sessions              float64\n",
              "social_media_hours          float64\n",
              "average_attendance          float64\n",
              "skills                        int64\n",
              "skills_development_hours    float64\n",
              "previous_gpa                float64\n",
              "current_gpa                 float64\n",
              "completed_credits           float64\n",
              "has_diploma                    bool\n",
              "house_income                float64\n",
              "gpa_change                  float64\n",
              "study_x_attendance          float64\n",
              "skill_to_social_ratio       float64\n",
              "dtype: object"
            ],
            "text/html": [
              "<div>\n",
              "<style scoped>\n",
              "    .dataframe tbody tr th:only-of-type {\n",
              "        vertical-align: middle;\n",
              "    }\n",
              "\n",
              "    .dataframe tbody tr th {\n",
              "        vertical-align: top;\n",
              "    }\n",
              "\n",
              "    .dataframe thead th {\n",
              "        text-align: right;\n",
              "    }\n",
              "</style>\n",
              "<table border=\"1\" class=\"dataframe\">\n",
              "  <thead>\n",
              "    <tr style=\"text-align: right;\">\n",
              "      <th></th>\n",
              "      <th>0</th>\n",
              "    </tr>\n",
              "  </thead>\n",
              "  <tbody>\n",
              "    <tr>\n",
              "      <th>gender</th>\n",
              "      <td>int64</td>\n",
              "    </tr>\n",
              "    <tr>\n",
              "      <th>scholarship</th>\n",
              "      <td>int64</td>\n",
              "    </tr>\n",
              "    <tr>\n",
              "      <th>university_transport</th>\n",
              "      <td>int64</td>\n",
              "    </tr>\n",
              "    <tr>\n",
              "      <th>learning_mode</th>\n",
              "      <td>int64</td>\n",
              "    </tr>\n",
              "    <tr>\n",
              "      <th>has_phone</th>\n",
              "      <td>int64</td>\n",
              "    </tr>\n",
              "    <tr>\n",
              "      <th>has_laptop</th>\n",
              "      <td>int64</td>\n",
              "    </tr>\n",
              "    <tr>\n",
              "      <th>english_proficiency</th>\n",
              "      <td>int64</td>\n",
              "    </tr>\n",
              "    <tr>\n",
              "      <th>on_probation</th>\n",
              "      <td>int64</td>\n",
              "    </tr>\n",
              "    <tr>\n",
              "      <th>is_suspended</th>\n",
              "      <td>int64</td>\n",
              "    </tr>\n",
              "    <tr>\n",
              "      <th>has_consulted_teacher</th>\n",
              "      <td>int64</td>\n",
              "    </tr>\n",
              "    <tr>\n",
              "      <th>relationship</th>\n",
              "      <td>int64</td>\n",
              "    </tr>\n",
              "    <tr>\n",
              "      <th>co_curricular</th>\n",
              "      <td>int64</td>\n",
              "    </tr>\n",
              "    <tr>\n",
              "      <th>living_arrangement</th>\n",
              "      <td>int64</td>\n",
              "    </tr>\n",
              "    <tr>\n",
              "      <th>health_issues</th>\n",
              "      <td>int64</td>\n",
              "    </tr>\n",
              "    <tr>\n",
              "      <th>disabilities</th>\n",
              "      <td>int64</td>\n",
              "    </tr>\n",
              "    <tr>\n",
              "      <th>current _semester</th>\n",
              "      <td>float64</td>\n",
              "    </tr>\n",
              "    <tr>\n",
              "      <th>study_hours</th>\n",
              "      <td>float64</td>\n",
              "    </tr>\n",
              "    <tr>\n",
              "      <th>study_sessions</th>\n",
              "      <td>float64</td>\n",
              "    </tr>\n",
              "    <tr>\n",
              "      <th>social_media_hours</th>\n",
              "      <td>float64</td>\n",
              "    </tr>\n",
              "    <tr>\n",
              "      <th>average_attendance</th>\n",
              "      <td>float64</td>\n",
              "    </tr>\n",
              "    <tr>\n",
              "      <th>skills</th>\n",
              "      <td>int64</td>\n",
              "    </tr>\n",
              "    <tr>\n",
              "      <th>skills_development_hours</th>\n",
              "      <td>float64</td>\n",
              "    </tr>\n",
              "    <tr>\n",
              "      <th>previous_gpa</th>\n",
              "      <td>float64</td>\n",
              "    </tr>\n",
              "    <tr>\n",
              "      <th>current_gpa</th>\n",
              "      <td>float64</td>\n",
              "    </tr>\n",
              "    <tr>\n",
              "      <th>completed_credits</th>\n",
              "      <td>float64</td>\n",
              "    </tr>\n",
              "    <tr>\n",
              "      <th>has_diploma</th>\n",
              "      <td>bool</td>\n",
              "    </tr>\n",
              "    <tr>\n",
              "      <th>house_income</th>\n",
              "      <td>float64</td>\n",
              "    </tr>\n",
              "    <tr>\n",
              "      <th>gpa_change</th>\n",
              "      <td>float64</td>\n",
              "    </tr>\n",
              "    <tr>\n",
              "      <th>study_x_attendance</th>\n",
              "      <td>float64</td>\n",
              "    </tr>\n",
              "    <tr>\n",
              "      <th>skill_to_social_ratio</th>\n",
              "      <td>float64</td>\n",
              "    </tr>\n",
              "  </tbody>\n",
              "</table>\n",
              "</div><br><label><b>dtype:</b> object</label>"
            ]
          },
          "metadata": {},
          "execution_count": 21
        }
      ]
    },
    {
      "cell_type": "code",
      "source": [
        "# <Student to fill this section>\n",
        "\n",
        "features_list = ['gender',\n",
        " 'scholarship',\n",
        " 'university_transport',\n",
        " 'learning_mode',\n",
        " 'has_phone',\n",
        " 'has_laptop',\n",
        " 'english_proficiency',\n",
        " 'on_probation',\n",
        " 'is_suspended',\n",
        " 'has_consulted_teacher',\n",
        " 'relationship',\n",
        " 'co_curricular',\n",
        " 'living_arrangement',\n",
        " 'health_issues',\n",
        " 'disabilities',\n",
        " 'current _semester',\n",
        " 'study_hours',\n",
        " 'study_sessions',\n",
        " 'social_media_hours',\n",
        " 'average_attendance',\n",
        " 'skills',\n",
        " 'skills_development_hours',\n",
        " 'previous_gpa',\n",
        " 'current_gpa',\n",
        " 'completed_credits',\n",
        " 'has_diploma',\n",
        " 'house_income',\n",
        " 'gpa_change',\n",
        " 'study_x_attendance',\n",
        " 'skill_to_social_ratio']"
      ],
      "metadata": {
        "id": "zfC-DLKv4AuM"
      },
      "execution_count": 22,
      "outputs": []
    },
    {
      "cell_type": "code",
      "source": [
        "feature_selection_explanations = \"\"\"\n",
        "The selected features were chosen based on a combination of exploratory data analysis, visual inspection, and multiple feature selection techniques such as Mutual Information, Random Forest Importance, and Lasso Regression. These features demonstrate strong or moderate predictive relationships with the target variable (student performance), as confirmed by statistical patterns and visual trends.\n",
        "\n",
        "For instance, `current_gpa`, `previous_gpa`, and `average_attendance` emerged as the top predictors due to their strong correlation with performance outcomes. Behavioral features like `study_hours`, `study_sessions`, `skills_development_hours`, and `social_media_hours` were retained for their interpretability and moderate associations with performance classes. Engineered features such as `gpa_change`, `study_x_attendance`, and `skill_to_social_ratio` were included to capture deeper interactions that were not directly visible in the raw data.\n",
        "\n",
        "Categorical variables such as `english_proficiency`, `scholarship`, `on_probation`, `is_suspended`, `learning_mode`, and `has_consulted_teacher` showed strong explanatory power in differentiating performance groups and were therefore included. Other demographic and support-related features like `gender`, `co_curricular`, and `living_arrangement` were retained for their mild but meaningful contribution.\n",
        "\n",
        "On the other hand, features like `program`, `birth_country`, `relationship`, `secondary_address`, and `has_phone` were excluded due to low variance, weak predictive power, or redundancy. These columns either lacked meaningful distribution across the target or provided minimal contribution during feature importance analysis. Additionally, all personally identifiable information (PII) columns were removed to maintain privacy and avoid data leakage.\n",
        "\n",
        "The final set of features reflects a well-balanced mix of academic, behavioral, support-related, and engineered indicators, offering a strong foundation for building a reliable predictive model.\n",
        "\"\"\"\n"
      ],
      "metadata": {
        "id": "ZHaIRLAj2_fj"
      },
      "execution_count": 23,
      "outputs": []
    },
    {
      "cell_type": "code",
      "source": [
        "# Do not modify this code\n",
        "print_tile(size=\"h3\", key='feature_selection_explanations', value=feature_selection_explanations)"
      ],
      "metadata": {
        "id": "GXCmXWx62_kZ",
        "colab": {
          "base_uri": "https://localhost:8080/",
          "height": 568
        },
        "outputId": "d16ec8c2-5654-4b6d-84df-9d31bdde76a9"
      },
      "execution_count": 24,
      "outputs": [
        {
          "output_type": "display_data",
          "data": {
            "text/plain": [
              "<IPython.core.display.HTML object>"
            ],
            "text/html": [
              "<p style=\"color:grey\">feature_selection_explanations</p><h3 font-size: 3em>\n",
              "The selected features were chosen based on a combination of exploratory data analysis, visual inspection, and multiple feature selection techniques such as Mutual Information, Random Forest Importance, and Lasso Regression. These features demonstrate strong or moderate predictive relationships with the target variable (student performance), as confirmed by statistical patterns and visual trends.\n",
              "\n",
              "For instance, `current_gpa`, `previous_gpa`, and `average_attendance` emerged as the top predictors due to their strong correlation with performance outcomes. Behavioral features like `study_hours`, `study_sessions`, `skills_development_hours`, and `social_media_hours` were retained for their interpretability and moderate associations with performance classes. Engineered features such as `gpa_change`, `study_x_attendance`, and `skill_to_social_ratio` were included to capture deeper interactions that were not directly visible in the raw data.\n",
              "\n",
              "Categorical variables such as `english_proficiency`, `scholarship`, `on_probation`, `is_suspended`, `learning_mode`, and `has_consulted_teacher` showed strong explanatory power in differentiating performance groups and were therefore included. Other demographic and support-related features like `gender`, `co_curricular`, and `living_arrangement` were retained for their mild but meaningful contribution.\n",
              "\n",
              "On the other hand, features like `program`, `birth_country`, `relationship`, `secondary_address`, and `has_phone` were excluded due to low variance, weak predictive power, or redundancy. These columns either lacked meaningful distribution across the target or provided minimal contribution during feature importance analysis. Additionally, all personally identifiable information (PII) columns were removed to maintain privacy and avoid data leakage.\n",
              "\n",
              "The final set of features reflects a well-balanced mix of academic, behavioral, support-related, and engineered indicators, offering a strong foundation for building a reliable predictive model.\n",
              "</h3>"
            ]
          },
          "metadata": {}
        }
      ]
    },
    {
      "cell_type": "markdown",
      "source": [
        "---\n",
        "## E. Data Preparation"
      ],
      "metadata": {
        "id": "j-nNSpJK0Rgu"
      }
    },
    {
      "cell_type": "markdown",
      "source": [
        "### E.1 Data Transformation <put_name_here>\n"
      ],
      "metadata": {
        "id": "EDtRq1990rcW"
      }
    },
    {
      "cell_type": "code",
      "source": [
        "from sklearn.preprocessing import StandardScaler\n",
        "\n",
        "# 1. Rename inconsistent column across all datasets\n",
        "for df in [X_train, X_val, X_test]:\n",
        "    if 'current _semester' in df.columns:\n",
        "        df.rename(columns={'current _semester': 'current_semester'}, inplace=True)\n",
        "\n",
        "# 2. Convert boolean column to int if present\n",
        "for df in [X_train, X_val, X_test]:\n",
        "    if 'has_diploma' in df.columns and df['has_diploma'].dtype == 'bool':\n",
        "        df['has_diploma'] = df['has_diploma'].astype(int)\n",
        "\n",
        "# 3. Standardize float features\n",
        "float_cols = [\n",
        "    'current_semester', 'study_hours', 'study_sessions', 'social_media_hours',\n",
        "    'average_attendance', 'skills_development_hours', 'previous_gpa', 'current_gpa',\n",
        "    'completed_credits', 'house_income', 'gpa_change', 'study_x_attendance', 'skill_to_social_ratio'\n",
        "]\n",
        "\n",
        "# Fit scaler on training data only\n",
        "scaler = StandardScaler()\n",
        "X_train[float_cols] = scaler.fit_transform(X_train[float_cols])\n",
        "X_val[float_cols] = scaler.transform(X_val[float_cols])\n",
        "X_test[float_cols] = scaler.transform(X_test[float_cols])\n",
        "\n",
        "# 4. Confirm all transformations\n",
        "print(\"✅ Data transformation complete. Dtypes after processing:\\n\")\n",
        "print(\"X_train:\\n\", X_train.dtypes)\n",
        "print(\"\\nX_val:\\n\", X_val.dtypes)\n",
        "print(\"\\nX_test:\\n\", X_test.dtypes)"
      ],
      "metadata": {
        "id": "AZN0u9DD0v5X",
        "colab": {
          "base_uri": "https://localhost:8080/"
        },
        "outputId": "9dfa7751-baf8-4485-efa8-d3f56541cd22"
      },
      "execution_count": 25,
      "outputs": [
        {
          "output_type": "stream",
          "name": "stdout",
          "text": [
            "✅ Data transformation complete. Dtypes after processing:\n",
            "\n",
            "X_train:\n",
            " gender                        int64\n",
            "scholarship                   int64\n",
            "university_transport          int64\n",
            "learning_mode                 int64\n",
            "has_phone                     int64\n",
            "has_laptop                    int64\n",
            "english_proficiency           int64\n",
            "on_probation                  int64\n",
            "is_suspended                  int64\n",
            "has_consulted_teacher         int64\n",
            "relationship                  int64\n",
            "co_curricular                 int64\n",
            "living_arrangement            int64\n",
            "health_issues                 int64\n",
            "disabilities                  int64\n",
            "current_semester            float64\n",
            "study_hours                 float64\n",
            "study_sessions              float64\n",
            "social_media_hours          float64\n",
            "average_attendance          float64\n",
            "skills                        int64\n",
            "skills_development_hours    float64\n",
            "previous_gpa                float64\n",
            "current_gpa                 float64\n",
            "completed_credits           float64\n",
            "has_diploma                   int64\n",
            "house_income                float64\n",
            "gpa_change                  float64\n",
            "study_x_attendance          float64\n",
            "skill_to_social_ratio       float64\n",
            "dtype: object\n",
            "\n",
            "X_val:\n",
            " gender                        int64\n",
            "scholarship                   int64\n",
            "university_transport          int64\n",
            "learning_mode                 int64\n",
            "has_phone                     int64\n",
            "has_laptop                    int64\n",
            "english_proficiency           int64\n",
            "on_probation                  int64\n",
            "is_suspended                  int64\n",
            "has_consulted_teacher         int64\n",
            "relationship                  int64\n",
            "co_curricular                 int64\n",
            "living_arrangement            int64\n",
            "health_issues                 int64\n",
            "disabilities                  int64\n",
            "current_semester            float64\n",
            "study_hours                 float64\n",
            "study_sessions              float64\n",
            "social_media_hours          float64\n",
            "average_attendance          float64\n",
            "skills                        int64\n",
            "skills_development_hours    float64\n",
            "previous_gpa                float64\n",
            "current_gpa                 float64\n",
            "completed_credits           float64\n",
            "has_diploma                   int64\n",
            "house_income                float64\n",
            "gpa_change                  float64\n",
            "study_x_attendance          float64\n",
            "skill_to_social_ratio       float64\n",
            "dtype: object\n",
            "\n",
            "X_test:\n",
            " gender                        int64\n",
            "scholarship                   int64\n",
            "university_transport          int64\n",
            "learning_mode                 int64\n",
            "has_phone                     int64\n",
            "has_laptop                    int64\n",
            "english_proficiency           int64\n",
            "on_probation                  int64\n",
            "is_suspended                  int64\n",
            "has_consulted_teacher         int64\n",
            "relationship                  int64\n",
            "co_curricular                 int64\n",
            "living_arrangement            int64\n",
            "health_issues                 int64\n",
            "disabilities                  int64\n",
            "current_semester            float64\n",
            "study_hours                 float64\n",
            "study_sessions              float64\n",
            "social_media_hours          float64\n",
            "average_attendance          float64\n",
            "skills                        int64\n",
            "skills_development_hours    float64\n",
            "previous_gpa                float64\n",
            "current_gpa                 float64\n",
            "completed_credits           float64\n",
            "has_diploma                   int64\n",
            "house_income                float64\n",
            "gpa_change                  float64\n",
            "study_x_attendance          float64\n",
            "skill_to_social_ratio       float64\n",
            "dtype: object\n"
          ]
        }
      ]
    },
    {
      "cell_type": "code",
      "source": [
        "data_transformation_1_explanations = \"\"\"\n",
        "Data transformation is a critical preprocessing step that ensures consistency, interpretability, and compatibility with machine learning models. In this case, we first renamed the column `current _semester` to `current_semester` to maintain uniform naming conventions and avoid errors during model training. We also converted the `has_diploma` column from boolean to integer format, as most ML models require numeric input and do not handle boolean values natively.\n",
        "\n",
        "Standardization was applied to all numerical features using z-score normalization (StandardScaler). This transformation was especially important for models sensitive to feature scales, such as KNN, logistic regression, and SVM. Without standardization, features like `house_income` or `completed_credits` would dominate others purely due to their scale, potentially biasing the model and reducing performance.\n",
        "\n",
        "By applying these transformations consistently across training, validation, and test datasets, we not only enhanced model stability and convergence but also ensured fair weight distribution across features. This helps in building more generalizable and interpretable models.\n",
        "\"\"\"\n"
      ],
      "metadata": {
        "id": "GKhUJOlM3FkC"
      },
      "execution_count": 26,
      "outputs": []
    },
    {
      "cell_type": "code",
      "source": [
        "# Do not modify this code\n",
        "print_tile(size=\"h3\", key='data_transformation_1_explanations', value=data_transformation_1_explanations)"
      ],
      "metadata": {
        "id": "GaWzPi9h3Fqi",
        "colab": {
          "base_uri": "https://localhost:8080/",
          "height": 365
        },
        "outputId": "c0d7737f-e9e5-432e-80d7-85f92e121dce"
      },
      "execution_count": 27,
      "outputs": [
        {
          "output_type": "display_data",
          "data": {
            "text/plain": [
              "<IPython.core.display.HTML object>"
            ],
            "text/html": [
              "<p style=\"color:grey\">data_transformation_1_explanations</p><h3 font-size: 3em>\n",
              "Data transformation is a critical preprocessing step that ensures consistency, interpretability, and compatibility with machine learning models. In this case, we first renamed the column `current _semester` to `current_semester` to maintain uniform naming conventions and avoid errors during model training. We also converted the `has_diploma` column from boolean to integer format, as most ML models require numeric input and do not handle boolean values natively.\n",
              "\n",
              "Standardization was applied to all numerical features using z-score normalization (StandardScaler). This transformation was especially important for models sensitive to feature scales, such as KNN, logistic regression, and SVM. Without standardization, features like `house_income` or `completed_credits` would dominate others purely due to their scale, potentially biasing the model and reducing performance.\n",
              "\n",
              "By applying these transformations consistently across training, validation, and test datasets, we not only enhanced model stability and convergence but also ensured fair weight distribution across features. This helps in building more generalizable and interpretable models.\n",
              "</h3>"
            ]
          },
          "metadata": {}
        }
      ]
    },
    {
      "cell_type": "markdown",
      "source": [
        "### E.2 Data Transformation <put_name_here>\n"
      ],
      "metadata": {
        "id": "SxhDoAkw08Eb"
      }
    },
    {
      "cell_type": "code",
      "source": [
        "# <Student to fill this section>"
      ],
      "metadata": {
        "id": "OO5ITMDZ035_"
      },
      "execution_count": 28,
      "outputs": []
    },
    {
      "cell_type": "code",
      "source": [
        "# <Student to fill this section>\n",
        "data_transformation_2_explanations = \"\"\"\n",
        "Provide some explanations on why you believe it is important to perform this data transformation and its impacts\n",
        "\"\"\""
      ],
      "metadata": {
        "id": "QZeg-jbf3YPr"
      },
      "execution_count": 29,
      "outputs": []
    },
    {
      "cell_type": "code",
      "source": [
        "# Do not modify this code\n",
        "print_tile(size=\"h3\", key='data_transformation_2_explanations', value=data_transformation_2_explanations)"
      ],
      "metadata": {
        "id": "dyr9ZQOL3YUX",
        "colab": {
          "base_uri": "https://localhost:8080/",
          "height": 101
        },
        "outputId": "5afb7442-df80-4cd5-fbb2-92ed33239c77"
      },
      "execution_count": 30,
      "outputs": [
        {
          "output_type": "display_data",
          "data": {
            "text/plain": [
              "<IPython.core.display.HTML object>"
            ],
            "text/html": [
              "<p style=\"color:grey\">data_transformation_2_explanations</p><h3 font-size: 3em>\n",
              "Provide some explanations on why you believe it is important to perform this data transformation and its impacts\n",
              "</h3>"
            ]
          },
          "metadata": {}
        }
      ]
    },
    {
      "cell_type": "markdown",
      "source": [
        "### E.3 Data Transformation <put_name_here>\n"
      ],
      "metadata": {
        "id": "ylQxO-4g03qH"
      }
    },
    {
      "cell_type": "code",
      "source": [
        "# <Student to fill this section>"
      ],
      "metadata": {
        "id": "5VymIZpS1Ch7"
      },
      "execution_count": 31,
      "outputs": []
    },
    {
      "cell_type": "code",
      "source": [
        "# <Student to fill this section>\n",
        "data_transformation_3_explanations = \"\"\"\n",
        "Provide some explanations on why you believe it is important to perform this data transformation and its impacts\n",
        "\"\"\""
      ],
      "metadata": {
        "id": "68S5Eev23b1j"
      },
      "execution_count": 32,
      "outputs": []
    },
    {
      "cell_type": "code",
      "source": [
        "# Do not modify this code\n",
        "print_tile(size=\"h3\", key='data_transformation_3_explanations', value=data_transformation_3_explanations)"
      ],
      "metadata": {
        "id": "yeT-WCIm3b4g",
        "colab": {
          "base_uri": "https://localhost:8080/",
          "height": 101
        },
        "outputId": "2f41a100-5ed5-4e46-c4f1-841d5dc533e8"
      },
      "execution_count": 33,
      "outputs": [
        {
          "output_type": "display_data",
          "data": {
            "text/plain": [
              "<IPython.core.display.HTML object>"
            ],
            "text/html": [
              "<p style=\"color:grey\">data_transformation_3_explanations</p><h3 font-size: 3em>\n",
              "Provide some explanations on why you believe it is important to perform this data transformation and its impacts\n",
              "</h3>"
            ]
          },
          "metadata": {}
        }
      ]
    },
    {
      "cell_type": "markdown",
      "source": [
        "### G.n Fixing \"\\<describe_issue_here\\>\"\n",
        "\n",
        "> You can add more cells related to data preparation in this section"
      ],
      "metadata": {
        "id": "0ykY58h40rwu"
      }
    },
    {
      "cell_type": "code",
      "source": [],
      "metadata": {
        "id": "fk_i65M20r1y"
      },
      "execution_count": 33,
      "outputs": []
    },
    {
      "cell_type": "markdown",
      "source": [
        "---\n",
        "## F. Feature Engineering"
      ],
      "metadata": {
        "id": "S80O7okb0RIx"
      }
    },
    {
      "cell_type": "markdown",
      "source": [
        "### F.1 New Feature \"\\<put_name_here\\>\"\n",
        "\n"
      ],
      "metadata": {
        "id": "Kst7h7wp1MFK"
      }
    },
    {
      "cell_type": "code",
      "source": [
        "# <Student to fill this section>"
      ],
      "metadata": {
        "id": "f_wsc2n-1Mdm"
      },
      "execution_count": 34,
      "outputs": []
    },
    {
      "cell_type": "code",
      "source": [
        "# <Student to fill this section>\n",
        "feature_engineering_1_explanations = \"\"\"\n",
        "Provide some explanations on why you believe it is important to create this feature and its impacts\n",
        "\"\"\""
      ],
      "metadata": {
        "id": "9Bh6p8D_3hC2"
      },
      "execution_count": 35,
      "outputs": []
    },
    {
      "cell_type": "code",
      "source": [
        "# Do not modify this code\n",
        "print_tile(size=\"h3\", key='feature_engineering_1_explanations', value=feature_engineering_1_explanations)"
      ],
      "metadata": {
        "id": "CBCPPzRB3hFt",
        "colab": {
          "base_uri": "https://localhost:8080/",
          "height": 101
        },
        "outputId": "c1300114-8b9b-45c8-964f-ea6c97bb2a32"
      },
      "execution_count": 36,
      "outputs": [
        {
          "output_type": "display_data",
          "data": {
            "text/plain": [
              "<IPython.core.display.HTML object>"
            ],
            "text/html": [
              "<p style=\"color:grey\">feature_engineering_1_explanations</p><h3 font-size: 3em>\n",
              "Provide some explanations on why you believe it is important to create this feature and its impacts\n",
              "</h3>"
            ]
          },
          "metadata": {}
        }
      ]
    },
    {
      "cell_type": "markdown",
      "source": [
        "### F.2 New Feature \"\\<put_name_here\\>\"\n"
      ],
      "metadata": {
        "id": "xY_hWhC71XAl"
      }
    },
    {
      "cell_type": "code",
      "source": [
        "# <Student to fill this section>"
      ],
      "metadata": {
        "id": "F3DhQoJZ1Xvw"
      },
      "execution_count": 37,
      "outputs": []
    },
    {
      "cell_type": "code",
      "source": [
        "# <Student to fill this section>\n",
        "feature_engineering_2_explanations = \"\"\"\n",
        "Provide some explanations on why you believe it is important to create this feature and its impacts\n",
        "\"\"\""
      ],
      "metadata": {
        "id": "BJyOmWEm3l8a"
      },
      "execution_count": 38,
      "outputs": []
    },
    {
      "cell_type": "code",
      "source": [
        "# Do not modify this code\n",
        "print_tile(size=\"h3\", key='feature_engineering_2_explanations', value=feature_engineering_2_explanations)"
      ],
      "metadata": {
        "id": "5l9zSFCt3l_4",
        "colab": {
          "base_uri": "https://localhost:8080/",
          "height": 101
        },
        "outputId": "c60d848a-d16b-447a-a062-e65312d3cddb"
      },
      "execution_count": 39,
      "outputs": [
        {
          "output_type": "display_data",
          "data": {
            "text/plain": [
              "<IPython.core.display.HTML object>"
            ],
            "text/html": [
              "<p style=\"color:grey\">feature_engineering_2_explanations</p><h3 font-size: 3em>\n",
              "Provide some explanations on why you believe it is important to create this feature and its impacts\n",
              "</h3>"
            ]
          },
          "metadata": {}
        }
      ]
    },
    {
      "cell_type": "markdown",
      "source": [
        "### F.3 New Feature \"\\<put_name_here\\>\"\n"
      ],
      "metadata": {
        "id": "w0Fhn4271gVu"
      }
    },
    {
      "cell_type": "code",
      "source": [
        "# <Student to fill this section>"
      ],
      "metadata": {
        "id": "N6wBdmYD1g6c"
      },
      "execution_count": 40,
      "outputs": []
    },
    {
      "cell_type": "code",
      "source": [
        "# <Student to fill this section>\n",
        "feature_engineering_3_explanations = \"\"\"\n",
        "Provide some explanations on why you believe it is important to create this feature and its impacts\n",
        "\"\"\""
      ],
      "metadata": {
        "id": "ftZovroG3pv8"
      },
      "execution_count": 41,
      "outputs": []
    },
    {
      "cell_type": "code",
      "source": [
        "# Do not modify this code\n",
        "print_tile(size=\"h3\", key='feature_engineering_3_explanations', value=feature_engineering_3_explanations)"
      ],
      "metadata": {
        "id": "xDeQtmJf3pzj",
        "colab": {
          "base_uri": "https://localhost:8080/",
          "height": 101
        },
        "outputId": "08cb8bae-2611-4c13-8bb8-ce10fbb0353c"
      },
      "execution_count": 42,
      "outputs": [
        {
          "output_type": "display_data",
          "data": {
            "text/plain": [
              "<IPython.core.display.HTML object>"
            ],
            "text/html": [
              "<p style=\"color:grey\">feature_engineering_3_explanations</p><h3 font-size: 3em>\n",
              "Provide some explanations on why you believe it is important to create this feature and its impacts\n",
              "</h3>"
            ]
          },
          "metadata": {}
        }
      ]
    },
    {
      "cell_type": "markdown",
      "source": [
        "### F.n Fixing \"\\<describe_issue_here\\>\"\n",
        "\n",
        "> You can add more cells related to new features in this section"
      ],
      "metadata": {
        "id": "hEIG3OUB0p66"
      }
    },
    {
      "cell_type": "code",
      "source": [],
      "metadata": {
        "id": "1wLqXCWt0p_i"
      },
      "execution_count": 42,
      "outputs": []
    },
    {
      "cell_type": "markdown",
      "source": [
        "Note: The following engineered features were created and saved in Experiment Book 0:\n",
        "- `gpa_change`: Tracks GPA momentum.\n",
        "- `study_x_attendance`: Measures study engagement.\n",
        "- `skill_to_social_ratio`: Reflects time prioritization.\n",
        "\n",
        "These features are already included in `X_train`, `X_val`, and `X_test`, and thus do not need to be re-generated here.\n",
        "\n",
        "\n"
      ],
      "metadata": {
        "id": "v4K6GXLCLVI7"
      }
    },
    {
      "cell_type": "markdown",
      "metadata": {
        "id": "N8MNBrC4Zgz6"
      },
      "source": [
        "---\n",
        "## G. Train Machine Learning Model"
      ]
    },
    {
      "cell_type": "markdown",
      "source": [
        "### G.1 Import Algorithm\n"
      ],
      "metadata": {
        "id": "4_tQitOfeDXr"
      }
    },
    {
      "cell_type": "code",
      "execution_count": 43,
      "metadata": {
        "id": "Mh6epkAThez5"
      },
      "outputs": [],
      "source": [
        "from sklearn.neighbors import KNeighborsClassifier\n",
        "from sklearn.metrics import (\n",
        "    accuracy_score, precision_score, recall_score,\n",
        "    f1_score, classification_report, confusion_matrix\n",
        ")\n",
        "import matplotlib.pyplot as plt\n",
        "import seaborn as sns\n",
        "import pandas as pd\n"
      ]
    },
    {
      "cell_type": "code",
      "source": [
        "# <Student to fill this section>\n",
        "algorithm_selection_explanations = \"\"\"\n",
        "Provide some explanations on why you believe this algorithm is a good fit\n",
        "\"\"\""
      ],
      "metadata": {
        "id": "OOzgowlJ3uyp"
      },
      "execution_count": 44,
      "outputs": []
    },
    {
      "cell_type": "code",
      "source": [
        "# Do not modify this code\n",
        "print_tile(size=\"h3\", key='algorithm_selection_explanations', value=algorithm_selection_explanations)"
      ],
      "metadata": {
        "id": "BYNgEFLX3u17",
        "colab": {
          "base_uri": "https://localhost:8080/",
          "height": 81
        },
        "outputId": "6c9a3af9-674e-42e9-bfdb-484e99e9ee81"
      },
      "execution_count": 45,
      "outputs": [
        {
          "output_type": "display_data",
          "data": {
            "text/plain": [
              "<IPython.core.display.HTML object>"
            ],
            "text/html": [
              "<p style=\"color:grey\">algorithm_selection_explanations</p><h3 font-size: 3em>\n",
              "Provide some explanations on why you believe this algorithm is a good fit\n",
              "</h3>"
            ]
          },
          "metadata": {}
        }
      ]
    },
    {
      "cell_type": "markdown",
      "source": [
        "### G.2 Set Hyperparameters"
      ],
      "metadata": {
        "id": "0ks_MmM2mCfm"
      }
    },
    {
      "cell_type": "code",
      "source": [
        "# Initialize KNN with a chosen number of neighbors (can be tuned later)\n",
        "model = KNeighborsClassifier(n_neighbors=5)"
      ],
      "metadata": {
        "id": "NUswpGVLmDXl"
      },
      "execution_count": 46,
      "outputs": []
    },
    {
      "cell_type": "code",
      "source": [
        "# <Student to fill this section>\n",
        "hyperparameters_selection_explanations = \"\"\"\n",
        "Explain why you are tuning these hyperparameters\n",
        "\"\"\""
      ],
      "metadata": {
        "id": "L_hjiXab31B3"
      },
      "execution_count": 47,
      "outputs": []
    },
    {
      "cell_type": "code",
      "source": [
        "# Do not modify this code\n",
        "print_tile(size=\"h3\", key='hyperparameters_selection_explanations', value=hyperparameters_selection_explanations)"
      ],
      "metadata": {
        "id": "tcZOBvcv31E5",
        "colab": {
          "base_uri": "https://localhost:8080/",
          "height": 81
        },
        "outputId": "b1144834-9b1f-463b-cfbc-4c6b0200e077"
      },
      "execution_count": 48,
      "outputs": [
        {
          "output_type": "display_data",
          "data": {
            "text/plain": [
              "<IPython.core.display.HTML object>"
            ],
            "text/html": [
              "<p style=\"color:grey\">hyperparameters_selection_explanations</p><h3 font-size: 3em>\n",
              "Explain why you are tuning these hyperparameters\n",
              "</h3>"
            ]
          },
          "metadata": {}
        }
      ]
    },
    {
      "cell_type": "markdown",
      "source": [
        "### G.3 Fit Model"
      ],
      "metadata": {
        "id": "VDjdjQjFmkLe"
      }
    },
    {
      "cell_type": "code",
      "source": [
        "# Train the model on training data\n",
        "model.fit(X_train, y_train)\n",
        "\n",
        "\n",
        "# Generate predictions on training and test sets\n",
        "y_train_pred = model.predict(X_train)\n",
        "y_test_pred = model.predict(X_test)\n"
      ],
      "metadata": {
        "id": "0Ub3Nrdgmm2N"
      },
      "execution_count": 49,
      "outputs": []
    },
    {
      "cell_type": "markdown",
      "source": [
        "### G.4 Model Technical Performance"
      ],
      "metadata": {
        "id": "q43YtqpdeniY"
      }
    },
    {
      "cell_type": "code",
      "execution_count": 50,
      "metadata": {
        "id": "x1Q3oxoNhez5",
        "colab": {
          "base_uri": "https://localhost:8080/"
        },
        "outputId": "4bfdf7ed-33e1-4117-81e5-28fafb3f46ec"
      },
      "outputs": [
        {
          "output_type": "stream",
          "name": "stdout",
          "text": [
            "📘 Training Set Metrics:\n",
            "Accuracy: 0.753\n",
            "Precision: 0.770\n",
            "Recall: 0.753\n",
            "F1 Score: 0.757\n"
          ]
        }
      ],
      "source": [
        "train_acc = accuracy_score(y_train, y_train_pred)\n",
        "train_prec = precision_score(y_train, y_train_pred, average='weighted')\n",
        "train_rec = recall_score(y_train, y_train_pred, average='weighted')\n",
        "train_f1 = f1_score(y_train, y_train_pred, average='weighted')\n",
        "\n",
        "print(\"📘 Training Set Metrics:\")\n",
        "print(f\"Accuracy: {train_acc:.3f}\")\n",
        "print(f\"Precision: {train_prec:.3f}\")\n",
        "print(f\"Recall: {train_rec:.3f}\")\n",
        "print(f\"F1 Score: {train_f1:.3f}\")\n"
      ]
    },
    {
      "cell_type": "code",
      "source": [
        "test_acc = accuracy_score(y_test, y_test_pred)\n",
        "test_prec = precision_score(y_test, y_test_pred, average='weighted')\n",
        "test_rec = recall_score(y_test, y_test_pred, average='weighted')\n",
        "test_f1 = f1_score(y_test, y_test_pred, average='weighted')\n",
        "\n",
        "print(\"\\n📙 Test Set Metrics:\")\n",
        "print(f\"Accuracy: {test_acc:.3f}\")\n",
        "print(f\"Precision: {test_prec:.3f}\")\n",
        "print(f\"Recall: {test_rec:.3f}\")\n",
        "print(f\"F1 Score: {test_f1:.3f}\")\n"
      ],
      "metadata": {
        "colab": {
          "base_uri": "https://localhost:8080/"
        },
        "id": "XReF7T0rBU83",
        "outputId": "f76a967a-9525-4273-abcf-bb82497ba53c"
      },
      "execution_count": 51,
      "outputs": [
        {
          "output_type": "stream",
          "name": "stdout",
          "text": [
            "\n",
            "📙 Test Set Metrics:\n",
            "Accuracy: 0.694\n",
            "Precision: 0.700\n",
            "Recall: 0.694\n",
            "F1 Score: 0.695\n"
          ]
        }
      ]
    },
    {
      "cell_type": "code",
      "source": [
        "print(\"\\n📄 Test Set Classification Report:\\n\")\n",
        "print(classification_report(y_test, y_test_pred))\n"
      ],
      "metadata": {
        "colab": {
          "base_uri": "https://localhost:8080/"
        },
        "id": "Xqwzgt0iBZKh",
        "outputId": "963cbabf-ce5c-40c3-ba25-ffe04370385c"
      },
      "execution_count": 52,
      "outputs": [
        {
          "output_type": "stream",
          "name": "stdout",
          "text": [
            "\n",
            "📄 Test Set Classification Report:\n",
            "\n",
            "              precision    recall  f1-score   support\n",
            "\n",
            "           0       0.55      0.61      0.58        18\n",
            "           1       0.67      0.50      0.57         4\n",
            "           2       0.67      0.67      0.67        12\n",
            "           3       0.81      0.79      0.80        28\n",
            "\n",
            "    accuracy                           0.69        62\n",
            "   macro avg       0.67      0.64      0.65        62\n",
            "weighted avg       0.70      0.69      0.70        62\n",
            "\n"
          ]
        }
      ]
    },
    {
      "cell_type": "code",
      "source": [
        "conf_matrix = confusion_matrix(y_test, y_test_pred)\n",
        "labels = sorted(model.classes_)\n",
        "conf_df = pd.DataFrame(conf_matrix, index=labels, columns=labels)\n",
        "\n",
        "plt.figure(figsize=(6, 5))\n",
        "sns.heatmap(conf_df, annot=True, fmt=\"d\", cmap=\"Blues\")\n",
        "plt.title(\"KNN Confusion Matrix (Test Set)\")\n",
        "plt.xlabel(\"Predicted\")\n",
        "plt.ylabel(\"Actual\")\n",
        "plt.tight_layout()\n",
        "plt.show()\n"
      ],
      "metadata": {
        "colab": {
          "base_uri": "https://localhost:8080/",
          "height": 507
        },
        "id": "IFUwcw-MBazB",
        "outputId": "87d7e7c0-7d58-456a-f1e9-f5d4c8ff9b89"
      },
      "execution_count": 53,
      "outputs": [
        {
          "output_type": "display_data",
          "data": {
            "text/plain": [
              "<Figure size 600x500 with 2 Axes>"
            ],
            "image/png": "[encoded data removed]"
          },
          "metadata": {}
        }
      ]
    },
    {
      "cell_type": "code",
      "source": [
        "comparison_df = pd.DataFrame({\n",
        "    \"Metric\": [\"Accuracy\", \"Precision\", \"Recall\", \"F1 Score\"],\n",
        "    \"Training\": [train_acc, train_prec, train_rec, train_f1],\n",
        "    \"Test\": [test_acc, test_prec, test_rec, test_f1]\n",
        "})\n",
        "\n",
        "print(\"\\n📊 Train vs Test Metrics Comparison:\")\n",
        "display(comparison_df)\n"
      ],
      "metadata": {
        "colab": {
          "base_uri": "https://localhost:8080/",
          "height": 209
        },
        "id": "AagotggFBbeK",
        "outputId": "46f4a4bc-d0ab-4f11-f726-bc8cec54fb4c"
      },
      "execution_count": 54,
      "outputs": [
        {
          "output_type": "stream",
          "name": "stdout",
          "text": [
            "\n",
            "📊 Train vs Test Metrics Comparison:\n"
          ]
        },
        {
          "output_type": "display_data",
          "data": {
            "text/plain": [
              "      Metric  Training      Test\n",
              "0   Accuracy  0.752827  0.693548\n",
              "1  Precision  0.769752  0.699701\n",
              "2     Recall  0.752827  0.693548\n",
              "3   F1 Score  0.757357  0.695270"
            ],
            "text/html": [
              "\n",
              "  <div id=\"df-346c5be8-6d52-4920-9b6a-efc7e538c0e6\" class=\"colab-df-container\">\n",
              "    <div>\n",
              "<style scoped>\n",
              "    .dataframe tbody tr th:only-of-type {\n",
              "        vertical-align: middle;\n",
              "    }\n",
              "\n",
              "    .dataframe tbody tr th {\n",
              "        vertical-align: top;\n",
              "    }\n",
              "\n",
              "    .dataframe thead th {\n",
              "        text-align: right;\n",
              "    }\n",
              "</style>\n",
              "<table border=\"1\" class=\"dataframe\">\n",
              "  <thead>\n",
              "    <tr style=\"text-align: right;\">\n",
              "      <th></th>\n",
              "      <th>Metric</th>\n",
              "      <th>Training</th>\n",
              "      <th>Test</th>\n",
              "    </tr>\n",
              "  </thead>\n",
              "  <tbody>\n",
              "    <tr>\n",
              "      <th>0</th>\n",
              "      <td>Accuracy</td>\n",
              "      <td>0.752827</td>\n",
              "      <td>0.693548</td>\n",
              "    </tr>\n",
              "    <tr>\n",
              "      <th>1</th>\n",
              "      <td>Precision</td>\n",
              "      <td>0.769752</td>\n",
              "      <td>0.699701</td>\n",
              "    </tr>\n",
              "    <tr>\n",
              "      <th>2</th>\n",
              "      <td>Recall</td>\n",
              "      <td>0.752827</td>\n",
              "      <td>0.693548</td>\n",
              "    </tr>\n",
              "    <tr>\n",
              "      <th>3</th>\n",
              "      <td>F1 Score</td>\n",
              "      <td>0.757357</td>\n",
              "      <td>0.695270</td>\n",
              "    </tr>\n",
              "  </tbody>\n",
              "</table>\n",
              "</div>\n",
              "    <div class=\"colab-df-buttons\">\n",
              "\n",
              "  <div class=\"colab-df-container\">\n",
              "    <button class=\"colab-df-convert\" onclick=\"convertToInteractive('df-346c5be8-6d52-4920-9b6a-efc7e538c0e6')\"\n",
              "            title=\"Convert this dataframe to an interactive table.\"\n",
              "            style=\"display:none;\">\n",
              "\n",
              "  <svg xmlns=\"http://www.w3.org/2000/svg\" height=\"24px\" viewBox=\"0 -960 960 960\">\n",
              "    <path d=\"M120-120v-720h720v720H120Zm60-500h600v-160H180v160Zm220 220h160v-160H400v160Zm0 220h160v-160H400v160ZM180-400h160v-160H180v160Zm440 0h160v-160H620v160ZM180-180h160v-160H180v160Zm440 0h160v-160H620v160Z\"/>\n",
              "  </svg>\n",
              "    </button>\n",
              "\n",
              "  <style>\n",
              "    .colab-df-container {\n",
              "      display:flex;\n",
              "      gap: 12px;\n",
              "    }\n",
              "\n",
              "    .colab-df-convert {\n",
              "      background-color: #E8F0FE;\n",
              "      border: none;\n",
              "      border-radius: 50%;\n",
              "      cursor: pointer;\n",
              "      display: none;\n",
              "      fill: #1967D2;\n",
              "      height: 32px;\n",
              "      padding: 0 0 0 0;\n",
              "      width: 32px;\n",
              "    }\n",
              "\n",
              "    .colab-df-convert:hover {\n",
              "      background-color: #E2EBFA;\n",
              "      box-shadow: 0px 1px 2px rgba(60, 64, 67, 0.3), 0px 1px 3px 1px rgba(60, 64, 67, 0.15);\n",
              "      fill: #174EA6;\n",
              "    }\n",
              "\n",
              "    .colab-df-buttons div {\n",
              "      margin-bottom: 4px;\n",
              "    }\n",
              "\n",
              "    [theme=dark] .colab-df-convert {\n",
              "      background-color: #3B4455;\n",
              "      fill: #D2E3FC;\n",
              "    }\n",
              "\n",
              "    [theme=dark] .colab-df-convert:hover {\n",
              "      background-color: #434B5C;\n",
              "      box-shadow: 0px 1px 3px 1px rgba(0, 0, 0, 0.15);\n",
              "      filter: drop-shadow(0px 1px 2px rgba(0, 0, 0, 0.3));\n",
              "      fill: #FFFFFF;\n",
              "    }\n",
              "  </style>\n",
              "\n",
              "    <script>\n",
              "      const buttonEl =\n",
              "        document.querySelector('#df-346c5be8-6d52-4920-9b6a-efc7e538c0e6 button.colab-df-convert');\n",
              "      buttonEl.style.display =\n",
              "        google.colab.kernel.accessAllowed ? 'block' : 'none';\n",
              "\n",
              "      async function convertToInteractive(key) {\n",
              "        const element = document.querySelector('#df-346c5be8-6d52-4920-9b6a-efc7e538c0e6');\n",
              "        const dataTable =\n",
              "          await google.colab.kernel.invokeFunction('convertToInteractive',\n",
              "                                                    [key], {});\n",
              "        if (!dataTable) return;\n",
              "\n",
              "        const docLinkHtml = 'Like what you see? Visit the ' +\n",
              "          '<a target=\"_blank\" href=https://colab.research.google.com/notebooks/data_table.ipynb>data table notebook</a>'\n",
              "          + ' to learn more about interactive tables.';\n",
              "        element.innerHTML = '';\n",
              "        dataTable['output_type'] = 'display_data';\n",
              "        await google.colab.output.renderOutput(dataTable, element);\n",
              "        const docLink = document.createElement('div');\n",
              "        docLink.innerHTML = docLinkHtml;\n",
              "        element.appendChild(docLink);\n",
              "      }\n",
              "    </script>\n",
              "  </div>\n",
              "\n",
              "\n",
              "<div id=\"df-0c4e3da5-83ce-4ec4-83e7-3d62d4d4044e\">\n",
              "  <button class=\"colab-df-quickchart\" onclick=\"quickchart('df-0c4e3da5-83ce-4ec4-83e7-3d62d4d4044e')\"\n",
              "            title=\"Suggest charts\"\n",
              "            style=\"display:none;\">\n",
              "\n",
              "<svg xmlns=\"http://www.w3.org/2000/svg\" height=\"24px\"viewBox=\"0 0 24 24\"\n",
              "     width=\"24px\">\n",
              "    <g>\n",
              "        <path d=\"M19 3H5c-1.1 0-2 .9-2 2v14c0 1.1.9 2 2 2h14c1.1 0 2-.9 2-2V5c0-1.1-.9-2-2-2zM9 17H7v-7h2v7zm4 0h-2V7h2v10zm4 0h-2v-4h2v4z\"/>\n",
              "    </g>\n",
              "</svg>\n",
              "  </button>\n",
              "\n",
              "<style>\n",
              "  .colab-df-quickchart {\n",
              "      --bg-color: #E8F0FE;\n",
              "      --fill-color: #1967D2;\n",
              "      --hover-bg-color: #E2EBFA;\n",
              "      --hover-fill-color: #174EA6;\n",
              "      --disabled-fill-color: #AAA;\n",
              "      --disabled-bg-color: #DDD;\n",
              "  }\n",
              "\n",
              "  [theme=dark] .colab-df-quickchart {\n",
              "      --bg-color: #3B4455;\n",
              "      --fill-color: #D2E3FC;\n",
              "      --hover-bg-color: #434B5C;\n",
              "      --hover-fill-color: #FFFFFF;\n",
              "      --disabled-bg-color: #3B4455;\n",
              "      --disabled-fill-color: #666;\n",
              "  }\n",
              "\n",
              "  .colab-df-quickchart {\n",
              "    background-color: var(--bg-color);\n",
              "    border: none;\n",
              "    border-radius: 50%;\n",
              "    cursor: pointer;\n",
              "    display: none;\n",
              "    fill: var(--fill-color);\n",
              "    height: 32px;\n",
              "    padding: 0;\n",
              "    width: 32px;\n",
              "  }\n",
              "\n",
              "  .colab-df-quickchart:hover {\n",
              "    background-color: var(--hover-bg-color);\n",
              "    box-shadow: 0 1px 2px rgba(60, 64, 67, 0.3), 0 1px 3px 1px rgba(60, 64, 67, 0.15);\n",
              "    fill: var(--button-hover-fill-color);\n",
              "  }\n",
              "\n",
              "  .colab-df-quickchart-complete:disabled,\n",
              "  .colab-df-quickchart-complete:disabled:hover {\n",
              "    background-color: var(--disabled-bg-color);\n",
              "    fill: var(--disabled-fill-color);\n",
              "    box-shadow: none;\n",
              "  }\n",
              "\n",
              "  .colab-df-spinner {\n",
              "    border: 2px solid var(--fill-color);\n",
              "    border-color: transparent;\n",
              "    border-bottom-color: var(--fill-color);\n",
              "    animation:\n",
              "      spin 1s steps(1) infinite;\n",
              "  }\n",
              "\n",
              "  @keyframes spin {\n",
              "    0% {\n",
              "      border-color: transparent;\n",
              "      border-bottom-color: var(--fill-color);\n",
              "      border-left-color: var(--fill-color);\n",
              "    }\n",
              "    20% {\n",
              "      border-color: transparent;\n",
              "      border-left-color: var(--fill-color);\n",
              "      border-top-color: var(--fill-color);\n",
              "    }\n",
              "    30% {\n",
              "      border-color: transparent;\n",
              "      border-left-color: var(--fill-color);\n",
              "      border-top-color: var(--fill-color);\n",
              "      border-right-color: var(--fill-color);\n",
              "    }\n",
              "    40% {\n",
              "      border-color: transparent;\n",
              "      border-right-color: var(--fill-color);\n",
              "      border-top-color: var(--fill-color);\n",
              "    }\n",
              "    60% {\n",
              "      border-color: transparent;\n",
              "      border-right-color: var(--fill-color);\n",
              "    }\n",
              "    80% {\n",
              "      border-color: transparent;\n",
              "      border-right-color: var(--fill-color);\n",
              "      border-bottom-color: var(--fill-color);\n",
              "    }\n",
              "    90% {\n",
              "      border-color: transparent;\n",
              "      border-bottom-color: var(--fill-color);\n",
              "    }\n",
              "  }\n",
              "</style>\n",
              "\n",
              "  <script>\n",
              "    async function quickchart(key) {\n",
              "      const quickchartButtonEl =\n",
              "        document.querySelector('#' + key + ' button');\n",
              "      quickchartButtonEl.disabled = true;  // To prevent multiple clicks.\n",
              "      quickchartButtonEl.classList.add('colab-df-spinner');\n",
              "      try {\n",
              "        const charts = await google.colab.kernel.invokeFunction(\n",
              "            'suggestCharts', [key], {});\n",
              "      } catch (error) {\n",
              "        console.error('Error during call to suggestCharts:', error);\n",
              "      }\n",
              "      quickchartButtonEl.classList.remove('colab-df-spinner');\n",
              "      quickchartButtonEl.classList.add('colab-df-quickchart-complete');\n",
              "    }\n",
              "    (() => {\n",
              "      let quickchartButtonEl =\n",
              "        document.querySelector('#df-0c4e3da5-83ce-4ec4-83e7-3d62d4d4044e button');\n",
              "      quickchartButtonEl.style.display =\n",
              "        google.colab.kernel.accessAllowed ? 'block' : 'none';\n",
              "    })();\n",
              "  </script>\n",
              "</div>\n",
              "\n",
              "  <div id=\"id_18ea78ba-de12-49a2-b911-40724589801d\">\n",
              "    <style>\n",
              "      .colab-df-generate {\n",
              "        background-color: #E8F0FE;\n",
              "        border: none;\n",
              "        border-radius: 50%;\n",
              "        cursor: pointer;\n",
              "        display: none;\n",
              "        fill: #1967D2;\n",
              "        height: 32px;\n",
              "        padding: 0 0 0 0;\n",
              "        width: 32px;\n",
              "      }\n",
              "\n",
              "      .colab-df-generate:hover {\n",
              "        background-color: #E2EBFA;\n",
              "        box-shadow: 0px 1px 2px rgba(60, 64, 67, 0.3), 0px 1px 3px 1px rgba(60, 64, 67, 0.15);\n",
              "        fill: #174EA6;\n",
              "      }\n",
              "\n",
              "      [theme=dark] .colab-df-generate {\n",
              "        background-color: #3B4455;\n",
              "        fill: #D2E3FC;\n",
              "      }\n",
              "\n",
              "      [theme=dark] .colab-df-generate:hover {\n",
              "        background-color: #434B5C;\n",
              "        box-shadow: 0px 1px 3px 1px rgba(0, 0, 0, 0.15);\n",
              "        filter: drop-shadow(0px 1px 2px rgba(0, 0, 0, 0.3));\n",
              "        fill: #FFFFFF;\n",
              "      }\n",
              "    </style>\n",
              "    <button class=\"colab-df-generate\" onclick=\"generateWithVariable('comparison_df')\"\n",
              "            title=\"Generate code using this dataframe.\"\n",
              "            style=\"display:none;\">\n",
              "\n",
              "  <svg xmlns=\"http://www.w3.org/2000/svg\" height=\"24px\"viewBox=\"0 0 24 24\"\n",
              "       width=\"24px\">\n",
              "    <path d=\"M7,19H8.4L18.45,9,17,7.55,7,17.6ZM5,21V16.75L18.45,3.32a2,2,0,0,1,2.83,0l1.4,1.43a1.91,1.91,0,0,1,.58,1.4,1.91,1.91,0,0,1-.58,1.4L9.25,21ZM18.45,9,17,7.55Zm-12,3A5.31,5.31,0,0,0,4.9,8.1,5.31,5.31,0,0,0,1,6.5,5.31,5.31,0,0,0,4.9,4.9,5.31,5.31,0,0,0,6.5,1,5.31,5.31,0,0,0,8.1,4.9,5.31,5.31,0,0,0,12,6.5,5.46,5.46,0,0,0,6.5,12Z\"/>\n",
              "  </svg>\n",
              "    </button>\n",
              "    <script>\n",
              "      (() => {\n",
              "      const buttonEl =\n",
              "        document.querySelector('#id_18ea78ba-de12-49a2-b911-40724589801d button.colab-df-generate');\n",
              "      buttonEl.style.display =\n",
              "        google.colab.kernel.accessAllowed ? 'block' : 'none';\n",
              "\n",
              "      buttonEl.onclick = () => {\n",
              "        google.colab.notebook.generateWithVariable('comparison_df');\n",
              "      }\n",
              "      })();\n",
              "    </script>\n",
              "  </div>\n",
              "\n",
              "    </div>\n",
              "  </div>\n"
            ],
            "application/vnd.google.colaboratory.intrinsic+json": {
              "type": "dataframe",
              "variable_name": "comparison_df",
              "summary": "{\n  \"name\": \"comparison_df\",\n  \"rows\": 4,\n  \"fields\": [\n    {\n      \"column\": \"Metric\",\n      \"properties\": {\n        \"dtype\": \"string\",\n        \"num_unique_values\": 4,\n        \"samples\": [\n          \"Precision\",\n          \"F1 Score\",\n          \"Accuracy\"\n        ],\n        \"semantic_type\": \"\",\n        \"description\": \"\"\n      }\n    },\n    {\n      \"column\": \"Training\",\n      \"properties\": {\n        \"dtype\": \"number\",\n        \"std\": 0.007997855697674893,\n        \"min\": 0.752827140549273,\n        \"max\": 0.7697520917876683,\n        \"num_unique_values\": 3,\n        \"samples\": [\n          0.752827140549273,\n          0.7697520917876683,\n          0.7573565733567925\n        ],\n        \"semantic_type\": \"\",\n        \"description\": \"\"\n      }\n    },\n    {\n      \"column\": \"Test\",\n      \"properties\": {\n        \"dtype\": \"number\",\n        \"std\": 0.002905176623773713,\n        \"min\": 0.6935483870967742,\n        \"max\": 0.6997013142174432,\n        \"num_unique_values\": 3,\n        \"samples\": [\n          0.6935483870967742,\n          0.6997013142174432,\n          0.6952704341498909\n        ],\n        \"semantic_type\": \"\",\n        \"description\": \"\"\n      }\n    }\n  ]\n}"
            }
          },
          "metadata": {}
        }
      ]
    },
    {
      "cell_type": "code",
      "source": [],
      "metadata": {
        "id": "oV-nAkKRBeaZ"
      },
      "execution_count": 54,
      "outputs": []
    },
    {
      "cell_type": "code",
      "source": [
        "# <Student to fill this section>\n",
        "model_performance_explanations = \"\"\"\n",
        "Provide some explanations on model performance\n",
        "\"\"\""
      ],
      "metadata": {
        "id": "7movz2AD3-k_"
      },
      "execution_count": 55,
      "outputs": []
    },
    {
      "cell_type": "code",
      "source": [
        "# Do not modify this code\n",
        "print_tile(size=\"h3\", key='model_performance_explanations', value=model_performance_explanations)"
      ],
      "metadata": {
        "id": "1U_nKfW93-t0",
        "colab": {
          "base_uri": "https://localhost:8080/",
          "height": 81
        },
        "outputId": "fbd7bc6f-5a27-426f-ec72-88088ebc8fc9"
      },
      "execution_count": 56,
      "outputs": [
        {
          "output_type": "display_data",
          "data": {
            "text/plain": [
              "<IPython.core.display.HTML object>"
            ],
            "text/html": [
              "<p style=\"color:grey\">model_performance_explanations</p><h3 font-size: 3em>\n",
              "Provide some explanations on model performance\n",
              "</h3>"
            ]
          },
          "metadata": {}
        }
      ]
    },
    {
      "cell_type": "markdown",
      "source": [
        "### G.5 Business Impact from Current Model Performance\n"
      ],
      "metadata": {
        "id": "W1HgZMPcmtu7"
      }
    },
    {
      "cell_type": "code",
      "source": [
        "# <Student to fill this section>"
      ],
      "metadata": {
        "id": "XGq2RWyqmuKM"
      },
      "execution_count": 57,
      "outputs": []
    },
    {
      "cell_type": "code",
      "source": [
        "# <Student to fill this section>\n",
        "business_impacts_explanations = \"\"\"\n",
        "Interpret the results of the experiments related to the business objective set earlier. Estimate the impacts of the incorrect results for the business (some results may have more impact compared to others)\n",
        "\"\"\""
      ],
      "metadata": {
        "id": "T7zWIZ4v4Ehd"
      },
      "execution_count": 58,
      "outputs": []
    },
    {
      "cell_type": "code",
      "source": [
        "# Do not modify this code\n",
        "print_tile(size=\"h3\", key='business_impacts_explanations', value=business_impacts_explanations)"
      ],
      "metadata": {
        "id": "OfuoUsp84Eod",
        "colab": {
          "base_uri": "https://localhost:8080/",
          "height": 122
        },
        "outputId": "ca6d1384-7cd7-42e5-99ed-2d6a1633e72a"
      },
      "execution_count": 59,
      "outputs": [
        {
          "output_type": "display_data",
          "data": {
            "text/plain": [
              "<IPython.core.display.HTML object>"
            ],
            "text/html": [
              "<p style=\"color:grey\">business_impacts_explanations</p><h3 font-size: 3em>\n",
              "Interpret the results of the experiments related to the business objective set earlier. Estimate the impacts of the incorrect results for the business (some results may have more impact compared to others)\n",
              "</h3>"
            ]
          },
          "metadata": {}
        }
      ]
    },
    {
      "cell_type": "markdown",
      "source": [
        "## H. Experiment Outcomes"
      ],
      "metadata": {
        "id": "mp1Ie9o8nDl1"
      }
    },
    {
      "cell_type": "code",
      "source": [
        "# <Student to fill this section>\n",
        "experiment_outcome = \"\" # Either 'Hypothesis Confirmed', 'Hypothesis Partially Confirmed' or 'Hypothesis Rejected'"
      ],
      "metadata": {
        "id": "f1ks62SL4KEk"
      },
      "execution_count": 60,
      "outputs": []
    },
    {
      "cell_type": "code",
      "source": [
        "# Do not modify this code\n",
        "print_tile(size=\"h2\", key='experiment_outcomes_explanations', value=experiment_outcome)"
      ],
      "metadata": {
        "id": "1Z2YIMpr4KLJ",
        "colab": {
          "base_uri": "https://localhost:8080/",
          "height": 58
        },
        "outputId": "d1f47fcf-eddc-46a3-c162-4fda72334a97"
      },
      "execution_count": 61,
      "outputs": [
        {
          "output_type": "display_data",
          "data": {
            "text/plain": [
              "<IPython.core.display.HTML object>"
            ],
            "text/html": [
              "<p style=\"color:grey\">experiment_outcomes_explanations</p><h2 font-size: 3em></h2>"
            ]
          },
          "metadata": {}
        }
      ]
    },
    {
      "cell_type": "code",
      "source": [
        "# <Student to fill this section>\n",
        "experiment_results_explanations = \"\"\"\n",
        "Reflect on the outcome of the experiment and list the new insights you gained from it. Provide rationale for pursuing more experimentation with the current approach or call out if you think it is a dead end.\n",
        "Given the results achieved and the overall objective of the project, list the potential next steps and experiments. For each of them assess the expected uplift or gains and rank them accordingly. If the experiment achieved the required outcome for the business, recommend the steps to deploy this solution into production.\n",
        "\"\"\""
      ],
      "metadata": {
        "id": "6tw5lZ2S4KV3"
      },
      "execution_count": 62,
      "outputs": []
    },
    {
      "cell_type": "code",
      "source": [
        "# Do not modify this code\n",
        "print_tile(size=\"h2\", key='experiment_results_explanations', value=experiment_results_explanations)"
      ],
      "metadata": {
        "id": "H-Zd7BEz4Kc3",
        "colab": {
          "base_uri": "https://localhost:8080/",
          "height": 296
        },
        "outputId": "d3307aa9-f47b-483b-eaf2-fa893c52d665"
      },
      "execution_count": 63,
      "outputs": [
        {
          "output_type": "display_data",
          "data": {
            "text/plain": [
              "<IPython.core.display.HTML object>"
            ],
            "text/html": [
              "<p style=\"color:grey\">experiment_results_explanations</p><h2 font-size: 3em>\n",
              "Reflect on the outcome of the experiment and list the new insights you gained from it. Provide rationale for pursuing more experimentation with the current approach or call out if you think it is a dead end.\n",
              "Given the results achieved and the overall objective of the project, list the potential next steps and experiments. For each of them assess the expected uplift or gains and rank them accordingly. If the experiment achieved the required outcome for the business, recommend the steps to deploy this solution into production.\n",
              "</h2>"
            ]
          },
          "metadata": {}
        }
      ]
    },
    {
      "cell_type": "code",
      "source": [],
      "metadata": {
        "id": "RMYQ-XSv6YgU"
      },
      "execution_count": 63,
      "outputs": []
    },
    {
      "cell_type": "code",
      "source": [],
      "metadata": {
        "id": "2kJZdk0g6Yir"
      },
      "execution_count": 63,
      "outputs": []
    }
  ],
  "metadata": {
    "colab": {
      "provenance": []
    },
    "kernelspec": {
      "display_name": "Python 3 (ipykernel)",
      "language": "python",
      "name": "python3"
    },
    "language_info": {
      "codemirror_mode": {
        "name": "ipython",
        "version": 3
      },
      "file_extension": ".py",
      "mimetype": "text/x-python",
      "name": "python",
      "nbconvert_exporter": "python",
      "pygments_lexer": "ipython3",
      "version": "3.10.10"
    }
  },
  "nbformat": 4,
  "nbformat_minor": 0
}