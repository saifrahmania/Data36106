{
  "cells": [
    {
      "cell_type": "markdown",
      "metadata": {
        "id": "uQ6wc2HE0pke"
      },
      "source": [
        "# **Experiment Notebook**\n",
        "\n"
      ]
    },
    {
      "cell_type": "markdown",
      "metadata": {
        "id": "KFVpE17Ahezu"
      },
      "source": [
        "---\n",
        "## 0. Setup Environment"
      ]
    },
    {
      "cell_type": "markdown",
      "source": [
        "### 0.a Install Mandatory Packages\n",
        "\n",
        "> Do not modify this code before running it"
      ],
      "metadata": {
        "id": "kWUmi7fakv5O"
      }
    },
    {
      "cell_type": "code",
      "source": [
        "# Do not modify this code\n",
        "\n",
        "import os\n",
        "import sys\n",
        "from pathlib import Path\n",
        "\n",
        "COURSE = \"36106\"\n",
        "ASSIGNMENT = \"AT2\"\n",
        "DATA = \"data\"\n",
        "\n",
        "asgmt_path = f\"{COURSE}/assignment/{ASSIGNMENT}\"\n",
        "root_path = \"./\"\n",
        "\n",
        "print(\"###### Install required Python packages ######\")\n",
        "! pip install -r https://raw.githubusercontent.com/aso-uts/labs_datasets/main/36106-mlaa/requirements.txt\n",
        "\n",
        "if os.getenv(\"COLAB_RELEASE_TAG\"):\n",
        "\n",
        "    from google.colab import drive\n",
        "    from pathlib import Path\n",
        "\n",
        "    print(\"\\n###### Connect to personal Google Drive ######\")\n",
        "    gdrive_path = \"/content/gdrive\"\n",
        "    drive.mount(gdrive_path)\n",
        "    root_path = f\"{gdrive_path}/MyDrive/\"\n",
        "\n",
        "print(\"\\n###### Setting up folders ######\")\n",
        "folder_path = Path(f\"{root_path}/{asgmt_path}/\") / DATA\n",
        "folder_path.mkdir(parents=True, exist_ok=True)\n",
        "print(f\"\\nYou can now save your data files in: {folder_path}\")\n",
        "\n",
        "if os.getenv(\"COLAB_RELEASE_TAG\"):\n",
        "    %cd {folder_path}\n"
      ],
      "metadata": {
        "colab": {
          "base_uri": "https://localhost:8080/"
        },
        "id": "S8jFaNXqvV5W",
        "outputId": "5d472cf1-ef84-440a-ddaf-50e9e491a069"
      },
      "execution_count": 1,
      "outputs": [
        {
          "output_type": "stream",
          "name": "stdout",
          "text": [
            "###### Install required Python packages ######\n",
            "Requirement already satisfied: pandas==2.2.2 in /usr/local/lib/python3.11/dist-packages (from -r https://raw.githubusercontent.com/aso-uts/labs_datasets/main/36106-mlaa/requirements.txt (line 1)) (2.2.2)\n",
            "Requirement already satisfied: scikit-learn==1.6.1 in /usr/local/lib/python3.11/dist-packages (from -r https://raw.githubusercontent.com/aso-uts/labs_datasets/main/36106-mlaa/requirements.txt (line 2)) (1.6.1)\n",
            "Requirement already satisfied: altair==5.5.0 in /usr/local/lib/python3.11/dist-packages (from -r https://raw.githubusercontent.com/aso-uts/labs_datasets/main/36106-mlaa/requirements.txt (line 3)) (5.5.0)\n",
            "Requirement already satisfied: numpy>=1.23.2 in /usr/local/lib/python3.11/dist-packages (from pandas==2.2.2->-r https://raw.githubusercontent.com/aso-uts/labs_datasets/main/36106-mlaa/requirements.txt (line 1)) (1.26.4)\n",
            "Requirement already satisfied: python-dateutil>=2.8.2 in /usr/local/lib/python3.11/dist-packages (from pandas==2.2.2->-r https://raw.githubusercontent.com/aso-uts/labs_datasets/main/36106-mlaa/requirements.txt (line 1)) (2.8.2)\n",
            "Requirement already satisfied: pytz>=2020.1 in /usr/local/lib/python3.11/dist-packages (from pandas==2.2.2->-r https://raw.githubusercontent.com/aso-uts/labs_datasets/main/36106-mlaa/requirements.txt (line 1)) (2025.1)\n",
            "Requirement already satisfied: tzdata>=2022.7 in /usr/local/lib/python3.11/dist-packages (from pandas==2.2.2->-r https://raw.githubusercontent.com/aso-uts/labs_datasets/main/36106-mlaa/requirements.txt (line 1)) (2025.1)\n",
            "Requirement already satisfied: scipy>=1.6.0 in /usr/local/lib/python3.11/dist-packages (from scikit-learn==1.6.1->-r https://raw.githubusercontent.com/aso-uts/labs_datasets/main/36106-mlaa/requirements.txt (line 2)) (1.13.1)\n",
            "Requirement already satisfied: joblib>=1.2.0 in /usr/local/lib/python3.11/dist-packages (from scikit-learn==1.6.1->-r https://raw.githubusercontent.com/aso-uts/labs_datasets/main/36106-mlaa/requirements.txt (line 2)) (1.4.2)\n",
            "Requirement already satisfied: threadpoolctl>=3.1.0 in /usr/local/lib/python3.11/dist-packages (from scikit-learn==1.6.1->-r https://raw.githubusercontent.com/aso-uts/labs_datasets/main/36106-mlaa/requirements.txt (line 2)) (3.5.0)\n",
            "Requirement already satisfied: jinja2 in /usr/local/lib/python3.11/dist-packages (from altair==5.5.0->-r https://raw.githubusercontent.com/aso-uts/labs_datasets/main/36106-mlaa/requirements.txt (line 3)) (3.1.5)\n",
            "Requirement already satisfied: jsonschema>=3.0 in /usr/local/lib/python3.11/dist-packages (from altair==5.5.0->-r https://raw.githubusercontent.com/aso-uts/labs_datasets/main/36106-mlaa/requirements.txt (line 3)) (4.23.0)\n",
            "Requirement already satisfied: narwhals>=1.14.2 in /usr/local/lib/python3.11/dist-packages (from altair==5.5.0->-r https://raw.githubusercontent.com/aso-uts/labs_datasets/main/36106-mlaa/requirements.txt (line 3)) (1.29.0)\n",
            "Requirement already satisfied: packaging in /usr/local/lib/python3.11/dist-packages (from altair==5.5.0->-r https://raw.githubusercontent.com/aso-uts/labs_datasets/main/36106-mlaa/requirements.txt (line 3)) (24.2)\n",
            "Requirement already satisfied: typing-extensions>=4.10.0 in /usr/local/lib/python3.11/dist-packages (from altair==5.5.0->-r https://raw.githubusercontent.com/aso-uts/labs_datasets/main/36106-mlaa/requirements.txt (line 3)) (4.12.2)\n",
            "Requirement already satisfied: attrs>=22.2.0 in /usr/local/lib/python3.11/dist-packages (from jsonschema>=3.0->altair==5.5.0->-r https://raw.githubusercontent.com/aso-uts/labs_datasets/main/36106-mlaa/requirements.txt (line 3)) (25.1.0)\n",
            "Requirement already satisfied: jsonschema-specifications>=2023.03.6 in /usr/local/lib/python3.11/dist-packages (from jsonschema>=3.0->altair==5.5.0->-r https://raw.githubusercontent.com/aso-uts/labs_datasets/main/36106-mlaa/requirements.txt (line 3)) (2024.10.1)\n",
            "Requirement already satisfied: referencing>=0.28.4 in /usr/local/lib/python3.11/dist-packages (from jsonschema>=3.0->altair==5.5.0->-r https://raw.githubusercontent.com/aso-uts/labs_datasets/main/36106-mlaa/requirements.txt (line 3)) (0.36.2)\n",
            "Requirement already satisfied: rpds-py>=0.7.1 in /usr/local/lib/python3.11/dist-packages (from jsonschema>=3.0->altair==5.5.0->-r https://raw.githubusercontent.com/aso-uts/labs_datasets/main/36106-mlaa/requirements.txt (line 3)) (0.23.1)\n",
            "Requirement already satisfied: six>=1.5 in /usr/local/lib/python3.11/dist-packages (from python-dateutil>=2.8.2->pandas==2.2.2->-r https://raw.githubusercontent.com/aso-uts/labs_datasets/main/36106-mlaa/requirements.txt (line 1)) (1.17.0)\n",
            "Requirement already satisfied: MarkupSafe>=2.0 in /usr/local/lib/python3.11/dist-packages (from jinja2->altair==5.5.0->-r https://raw.githubusercontent.com/aso-uts/labs_datasets/main/36106-mlaa/requirements.txt (line 3)) (3.0.2)\n",
            "\n",
            "###### Connect to personal Google Drive ######\n",
            "Mounted at /content/gdrive\n",
            "\n",
            "###### Setting up folders ######\n",
            "\n",
            "You can now save your data files in: /content/gdrive/MyDrive/36106/assignment/AT2/data\n",
            "/content/gdrive/MyDrive/36106/assignment/AT2/data\n"
          ]
        }
      ]
    },
    {
      "cell_type": "markdown",
      "source": [
        "### 0.b Disable Warnings Messages\n",
        "\n",
        "> Do not modify this code before running it"
      ],
      "metadata": {
        "id": "jM39DExClCc5"
      }
    },
    {
      "cell_type": "code",
      "source": [
        "import warnings\n",
        "warnings.simplefilter(action='ignore', category=FutureWarning)"
      ],
      "metadata": {
        "id": "6FneOmBfka9G"
      },
      "execution_count": null,
      "outputs": []
    },
    {
      "cell_type": "markdown",
      "source": [
        "### 0.c Install Additional Packages\n",
        "\n",
        "> If you are using additional packages, you need to install them here using the command: `! pip install <package_name>`"
      ],
      "metadata": {
        "id": "CgTrMfyylVLf"
      }
    },
    {
      "cell_type": "code",
      "source": [
        "# <Student to fill this section>"
      ],
      "metadata": {
        "id": "D79tb2V-lVpJ"
      },
      "execution_count": null,
      "outputs": []
    },
    {
      "cell_type": "markdown",
      "source": [
        "### 0.d Import Packages"
      ],
      "metadata": {
        "id": "mXFKfa2tp1ch"
      }
    },
    {
      "cell_type": "code",
      "source": [
        "import ipywidgets as widgets\n",
        "import pandas as pd\n",
        "import altair as alt"
      ],
      "metadata": {
        "id": "GBEAwdncnlAx"
      },
      "execution_count": null,
      "outputs": []
    },
    {
      "cell_type": "markdown",
      "metadata": {
        "id": "tQgxLRrvjiJb"
      },
      "source": [
        "---\n",
        "## A. Project Description\n"
      ]
    },
    {
      "cell_type": "code",
      "source": [
        "# @title Student Information\n",
        "wgt_student_name = widgets.Text(\n",
        "    value=None,\n",
        "    placeholder='<student to fill this section>',\n",
        "    description='Student Name:',\n",
        "    style={'description_width': 'initial'},\n",
        "    disabled=False\n",
        ")\n",
        "\n",
        "wgt_student_id = widgets.Text(\n",
        "    value=None,\n",
        "    placeholder='<student to fill this section>',\n",
        "    description='Student Id:',\n",
        "    style={'description_width': 'initial'},\n",
        "    disabled=False\n",
        ")\n",
        "\n",
        "widgets.HBox([wgt_student_name, wgt_student_id])"
      ],
      "metadata": {
        "colab": {
          "base_uri": "https://localhost:8080/",
          "height": 49,
          "referenced_widgets": [
            "e4d2393cbd5a4c6b9a754eac190eec39",
            "cc882c05cce44e839160db00dddead87",
            "9465a71969b44d8e9442262abf5d47aa",
            "7f0b224583bd488eb57f46104db231af",
            "d818b8665924449aba648baede1dd760",
            "921788f1a35e4b77be7f784cc99dcd03",
            "52cedab010894f94bd108392ca0d6fd6",
            "6195bd71f3e14222ae79f963a6be344a"
          ]
        },
        "cellView": "form",
        "id": "fGU0q-Egs0Ju",
        "outputId": "8c6bc2d6-49fc-4f0f-d179-b07f2fe6ea6c"
      },
      "execution_count": null,
      "outputs": [
        {
          "output_type": "display_data",
          "data": {
            "text/plain": [
              "HBox(children=(Text(value='', description='Student Name:', placeholder='<student to fill this section>', style…"
            ],
            "application/vnd.jupyter.widget-view+json": {
              "version_major": 2,
              "version_minor": 0,
              "model_id": "e4d2393cbd5a4c6b9a754eac190eec39"
            }
          },
          "metadata": {}
        }
      ]
    },
    {
      "cell_type": "code",
      "source": [
        "# @title Experiment ID\n",
        "\n",
        "wgt_experiment_id = widgets.BoundedIntText(\n",
        "    value=0,\n",
        "    min=0,\n",
        "    max=4,\n",
        "    step=1,\n",
        "    description='Experiment ID:',\n",
        "    style={'description_width': 'initial'},\n",
        "    disabled=False\n",
        ")\n",
        "wgt_experiment_id"
      ],
      "metadata": {
        "colab": {
          "base_uri": "https://localhost:8080/",
          "height": 49,
          "referenced_widgets": [
            "416a99681c4e4c08b4a5347f7217fedb",
            "2d6349d7ba514724b16adbbf44afafe5",
            "4d4b21b3fb43473da8d99ec08d3cce76"
          ]
        },
        "cellView": "form",
        "id": "RWCjbJJmnKbB",
        "outputId": "e276e2e8-5dcf-41f9-e359-40fa095bf536"
      },
      "execution_count": null,
      "outputs": [
        {
          "output_type": "display_data",
          "data": {
            "text/plain": [
              "BoundedIntText(value=0, description='Experiment ID:', max=3, style=DescriptionStyle(description_width='initial…"
            ],
            "application/vnd.jupyter.widget-view+json": {
              "version_major": 2,
              "version_minor": 0,
              "model_id": "416a99681c4e4c08b4a5347f7217fedb"
            }
          },
          "metadata": {}
        }
      ]
    },
    {
      "cell_type": "code",
      "source": [
        "# @title Business Objective\n",
        "\n",
        "wgt_business_objective = widgets.Textarea(\n",
        "    value=None,\n",
        "    placeholder='<student to fill this section>',\n",
        "    description='Business Objective:',\n",
        "    disabled=False,\n",
        "    style={'description_width': 'initial'},\n",
        "    layout=widgets.Layout(height=\"100%\", width=\"auto\")\n",
        ")\n",
        "wgt_business_objective"
      ],
      "metadata": {
        "colab": {
          "base_uri": "https://localhost:8080/",
          "height": 63,
          "referenced_widgets": [
            "56d7bf7435fb4fc99d2e72fc48cdd958",
            "78fcec803b804679877f38bb9391a087",
            "6d0a3f56998f433faa4be76994b49ee1"
          ]
        },
        "cellView": "form",
        "id": "-yUkIvPntXrt",
        "outputId": "72eeb8cf-a14b-43f2-f9aa-e84aac745951"
      },
      "execution_count": null,
      "outputs": [
        {
          "output_type": "display_data",
          "data": {
            "text/plain": [
              "Textarea(value='', description='Business Objective:', layout=Layout(height='100%', width='auto'), placeholder=…"
            ],
            "application/vnd.jupyter.widget-view+json": {
              "version_major": 2,
              "version_minor": 0,
              "model_id": "56d7bf7435fb4fc99d2e72fc48cdd958"
            }
          },
          "metadata": {}
        }
      ]
    },
    {
      "cell_type": "markdown",
      "source": [
        "---\n",
        "## B. Experiment Description"
      ],
      "metadata": {
        "id": "4q1Bzcejvfpm"
      }
    },
    {
      "cell_type": "code",
      "source": [
        "# @title Experiment Hypothesis\n",
        "\n",
        "wgt_experiment_hypothesis = widgets.Textarea(\n",
        "    value=None,\n",
        "    placeholder='<student to fill this section>',\n",
        "    description='Experiment Hypothesis:',\n",
        "    disabled=False,\n",
        "    style={'description_width': 'initial'},\n",
        "    layout=widgets.Layout(height=\"100%\", width=\"auto\")\n",
        ")\n",
        "wgt_experiment_hypothesis"
      ],
      "metadata": {
        "colab": {
          "base_uri": "https://localhost:8080/",
          "height": 63,
          "referenced_widgets": [
            "56b7d60f498046c590badf484b2c266e",
            "f1719848083e4f0486b585006756a8c1",
            "984ca526876c4abc890c0cdb5e8c0667"
          ]
        },
        "cellView": "form",
        "id": "GXd_BeBLvlH9",
        "outputId": "5a371d99-9b09-4fe6-99f8-aa2a42a3f575"
      },
      "execution_count": null,
      "outputs": [
        {
          "output_type": "display_data",
          "data": {
            "text/plain": [
              "Textarea(value='', description='Experiment Hypothesis:', layout=Layout(height='100%', width='auto'), placehold…"
            ],
            "application/vnd.jupyter.widget-view+json": {
              "version_major": 2,
              "version_minor": 0,
              "model_id": "56b7d60f498046c590badf484b2c266e"
            }
          },
          "metadata": {}
        }
      ]
    },
    {
      "cell_type": "code",
      "source": [
        "\n",
        "# @title Experiment Expectations\n",
        "\n",
        "wgt_experiment_expectations = widgets.Textarea(\n",
        "    value=None,\n",
        "    placeholder='<student to fill this section>',\n",
        "    description='Experiment Expectations:',\n",
        "    disabled=False,\n",
        "    style={'description_width': 'initial'},\n",
        "    layout=widgets.Layout(height=\"100%\", width=\"auto\")\n",
        ")\n",
        "wgt_experiment_expectations"
      ],
      "metadata": {
        "cellView": "form",
        "colab": {
          "base_uri": "https://localhost:8080/",
          "height": 63,
          "referenced_widgets": [
            "6c8068ffe4f3401d931a7c3839dc9e74",
            "4e40869aa3b949988715bbffed44f855",
            "9043ebd9c2e14a04b4e96fe0fda26df8"
          ]
        },
        "id": "-U21y_pAwdJe",
        "outputId": "61b2716f-4514-475b-da55-c8497f35c2ac"
      },
      "execution_count": null,
      "outputs": [
        {
          "output_type": "display_data",
          "data": {
            "text/plain": [
              "Textarea(value='', description='Experiment Expectations:', layout=Layout(height='100%', width='auto'), placeho…"
            ],
            "application/vnd.jupyter.widget-view+json": {
              "version_major": 2,
              "version_minor": 0,
              "model_id": "6c8068ffe4f3401d931a7c3839dc9e74"
            }
          },
          "metadata": {}
        }
      ]
    },
    {
      "cell_type": "markdown",
      "source": [
        "---\n",
        "## C. Data Understanding"
      ],
      "metadata": {
        "id": "P0zsEPshwy1K"
      }
    },
    {
      "cell_type": "markdown",
      "source": [
        "### C.1   Load Dataset\n",
        "\n",
        "> Do not change this code"
      ],
      "metadata": {
        "id": "kKgkHZnNypnE"
      }
    },
    {
      "cell_type": "code",
      "source": [
        "# Load training data\n",
        "df = pd.read_csv(folder_path / \"students_performance.csv\")"
      ],
      "metadata": {
        "id": "l7NaNXKGx7JT"
      },
      "execution_count": null,
      "outputs": []
    },
    {
      "cell_type": "markdown",
      "source": [
        "### C.2 Explore Dataset\n",
        "\n",
        "> You can add more cells in this section"
      ],
      "metadata": {
        "id": "gL5f0ePt0SGX"
      }
    },
    {
      "cell_type": "code",
      "source": [
        "# <Student to fill this section>"
      ],
      "metadata": {
        "id": "OfWPmPTD0UGo"
      },
      "execution_count": null,
      "outputs": []
    },
    {
      "cell_type": "code",
      "source": [
        "# @title Dataset Insights\n",
        "\n",
        "wgt_eda_dataset_insights = widgets.Textarea(\n",
        "    value=None,\n",
        "    placeholder='<student to fill this section>',\n",
        "    description='Dataset Insights:',\n",
        "    disabled=False,\n",
        "    style={'description_width': 'initial'},\n",
        "    layout=widgets.Layout(height=\"100%\", width=\"auto\")\n",
        ")\n",
        "wgt_eda_dataset_insights"
      ],
      "metadata": {
        "colab": {
          "base_uri": "https://localhost:8080/",
          "height": 63,
          "referenced_widgets": [
            "163b8d4a3cd0481aaf0242c09d809b2d",
            "8c7b0e2ce47f4a23b9fb8a77fe13c1c9",
            "102fab8e19504a50bb148dc6a1b55231"
          ]
        },
        "cellView": "form",
        "id": "5rbOhUuTxngt",
        "outputId": "be7202b6-a7cd-4a8a-b335-318fcf6a7c83"
      },
      "execution_count": null,
      "outputs": [
        {
          "output_type": "display_data",
          "data": {
            "text/plain": [
              "Textarea(value='', description='Dataset Insights:', layout=Layout(height='100%', width='auto'), placeholder='<…"
            ],
            "application/vnd.jupyter.widget-view+json": {
              "version_major": 2,
              "version_minor": 0,
              "model_id": "163b8d4a3cd0481aaf0242c09d809b2d"
            }
          },
          "metadata": {}
        }
      ]
    },
    {
      "cell_type": "markdown",
      "source": [
        "### C.3 Explore Target Variable\n",
        "\n",
        "> Save the name of column used as the target variable and call it `target_name`\n",
        "\n",
        "> You can add more cells in this section"
      ],
      "metadata": {
        "id": "bpaUZpXh2Myp"
      }
    },
    {
      "cell_type": "code",
      "source": [
        "# <Student to fill this section>\n",
        "\n",
        "target_name = ''"
      ],
      "metadata": {
        "id": "-D7GFBIV2Sbx"
      },
      "execution_count": null,
      "outputs": []
    },
    {
      "cell_type": "code",
      "source": [
        "# @title Target Variable Insights\n",
        "\n",
        "wgt_eda_target_variable_insights = widgets.Textarea(\n",
        "    value=None,\n",
        "    placeholder='<student to fill this section>',\n",
        "    description='Target Variable Insights:',\n",
        "    disabled=False,\n",
        "    style={'description_width': 'initial'},\n",
        "    layout=widgets.Layout(height=\"100%\", width=\"auto\")\n",
        ")\n",
        "wgt_eda_target_variable_insights"
      ],
      "metadata": {
        "colab": {
          "base_uri": "https://localhost:8080/",
          "height": 63,
          "referenced_widgets": [
            "87d1f2aa5d69456c8129150e74875d7c",
            "cb7d0d9344bc435999c34b37158c14e7",
            "beee21ee03b549ef9cf8da4e06c9421c"
          ]
        },
        "cellView": "form",
        "id": "wD4OkQC42SnX",
        "outputId": "3a5cab96-b281-404d-ac1d-7d4f8c15c175"
      },
      "execution_count": null,
      "outputs": [
        {
          "output_type": "display_data",
          "data": {
            "text/plain": [
              "Textarea(value='', description='Target Variable Insights:', layout=Layout(height='100%', width='auto'), placeh…"
            ],
            "application/vnd.jupyter.widget-view+json": {
              "version_major": 2,
              "version_minor": 0,
              "model_id": "87d1f2aa5d69456c8129150e74875d7c"
            }
          },
          "metadata": {}
        }
      ]
    },
    {
      "cell_type": "markdown",
      "source": [
        "### C.4 Explore Feature of Interest\n",
        "\n",
        "> You can add more cells in this section"
      ],
      "metadata": {
        "id": "Ig93bpyM2RGY"
      }
    },
    {
      "cell_type": "code",
      "source": [
        "# <Student to fill this section>"
      ],
      "metadata": {
        "id": "GLxrz5Zb2TVo"
      },
      "execution_count": null,
      "outputs": []
    },
    {
      "cell_type": "code",
      "source": [
        "# @title Feature Insights\n",
        "\n",
        "wgt_eda_feature_insights = widgets.Textarea(\n",
        "    value=None,\n",
        "    placeholder='<student to fill this section>',\n",
        "    description='Feature Insights:',\n",
        "    disabled=False,\n",
        "    style={'description_width': 'initial'},\n",
        "    layout=widgets.Layout(height=\"100%\", width=\"auto\")\n",
        ")\n",
        "wgt_eda_feature_insights"
      ],
      "metadata": {
        "colab": {
          "base_uri": "https://localhost:8080/",
          "height": 63,
          "referenced_widgets": [
            "6442c255eb76448a92a8f4d1a2538489",
            "479f04b4c13742cd9e4c838d431157c3",
            "f2074a55a5a9432ea17fd785a7cc696f"
          ]
        },
        "cellView": "form",
        "id": "A3G0XTq52TYS",
        "outputId": "2bddaf32-a710-4cb9-b158-d13ef10ccb07"
      },
      "execution_count": null,
      "outputs": [
        {
          "output_type": "display_data",
          "data": {
            "text/plain": [
              "Textarea(value='', description='Feature Insights:', layout=Layout(height='100%', width='auto'), placeholder='<…"
            ],
            "application/vnd.jupyter.widget-view+json": {
              "version_major": 2,
              "version_minor": 0,
              "model_id": "6442c255eb76448a92a8f4d1a2538489"
            }
          },
          "metadata": {}
        }
      ]
    },
    {
      "cell_type": "markdown",
      "metadata": {
        "id": "_NCwQQFkU3v5"
      },
      "source": [
        "---\n",
        "## D. Feature Selection\n"
      ]
    },
    {
      "cell_type": "markdown",
      "source": [
        "### D.1 Approach 1"
      ],
      "metadata": {
        "id": "E18dcL6C3O-4"
      }
    },
    {
      "cell_type": "code",
      "execution_count": null,
      "metadata": {
        "id": "SiroVmhn9_HP"
      },
      "outputs": [],
      "source": [
        "# <Student to fill this section>"
      ]
    },
    {
      "cell_type": "code",
      "execution_count": null,
      "metadata": {
        "id": "Q1iETWjDftMg",
        "colab": {
          "base_uri": "https://localhost:8080/",
          "height": 63,
          "referenced_widgets": [
            "4f325226411d450b93e5ef829d5b7bea",
            "ed4a1985c11b4d97befc52a1cb47b156",
            "5b1552e31d4f415a8be071aff2c14560"
          ]
        },
        "cellView": "form",
        "outputId": "5f658d6e-21a0-4b3f-d19e-11b541ca0048"
      },
      "outputs": [
        {
          "output_type": "display_data",
          "data": {
            "text/plain": [
              "Textarea(value='', description='Feature Selection 1:', layout=Layout(height='100%', width='auto'), placeholder…"
            ],
            "application/vnd.jupyter.widget-view+json": {
              "version_major": 2,
              "version_minor": 0,
              "model_id": "4f325226411d450b93e5ef829d5b7bea"
            }
          },
          "metadata": {}
        }
      ],
      "source": [
        "# @title Feature Selection 1 Insights\n",
        "\n",
        "wgt_feat_selection_1_insights = widgets.Textarea(\n",
        "    value=None,\n",
        "    placeholder='<student to fill this section>',\n",
        "    description='Feature Selection 1:',\n",
        "    disabled=False,\n",
        "    style={'description_width': 'initial'},\n",
        "    layout=widgets.Layout(height=\"100%\", width=\"auto\")\n",
        ")\n",
        "wgt_feat_selection_1_insights"
      ]
    },
    {
      "cell_type": "markdown",
      "source": [
        "### D.2 Approach 2"
      ],
      "metadata": {
        "id": "m0WdHbsf3vTm"
      }
    },
    {
      "cell_type": "code",
      "source": [
        "# <Student to fill this section>"
      ],
      "metadata": {
        "id": "2aAKCI6v3xbC"
      },
      "execution_count": null,
      "outputs": []
    },
    {
      "cell_type": "code",
      "source": [
        "# @title Feature Selection 2 Insights\n",
        "\n",
        "wgt_feat_selection_2_insights = widgets.Textarea(\n",
        "    value=None,\n",
        "    placeholder='<student to fill this section>',\n",
        "    description='Feature Selection 2:',\n",
        "    disabled=False,\n",
        "    style={'description_width': 'initial'},\n",
        "    layout=widgets.Layout(height=\"100%\", width=\"auto\")\n",
        ")\n",
        "wgt_feat_selection_2_insights"
      ],
      "metadata": {
        "colab": {
          "base_uri": "https://localhost:8080/",
          "height": 63,
          "referenced_widgets": [
            "cd5b52cfe2a34a0ebe1f099106c78fb9",
            "3662bdb647074b5c8d1543e62408c9f9",
            "7ce7a7c96dcd42929dafa60f63dd5453"
          ]
        },
        "cellView": "form",
        "id": "0_j-q1eP3yMF",
        "outputId": "a158f621-5867-4a4b-9b1f-35601e00a07d"
      },
      "execution_count": null,
      "outputs": [
        {
          "output_type": "display_data",
          "data": {
            "text/plain": [
              "Textarea(value='', description='Feature Selection 2:', layout=Layout(height='100%', width='auto'), placeholder…"
            ],
            "application/vnd.jupyter.widget-view+json": {
              "version_major": 2,
              "version_minor": 0,
              "model_id": "cd5b52cfe2a34a0ebe1f099106c78fb9"
            }
          },
          "metadata": {}
        }
      ]
    },
    {
      "cell_type": "markdown",
      "source": [
        "## D.3 Final Selection of Features\n",
        "\n",
        "> Save the names of selected features into a list called `features_list`"
      ],
      "metadata": {
        "id": "j5bbQlUn3635"
      }
    },
    {
      "cell_type": "code",
      "source": [
        "# <Student to fill this section>\n",
        "\n",
        "features_list = []"
      ],
      "metadata": {
        "id": "zfC-DLKv4AuM"
      },
      "execution_count": null,
      "outputs": []
    },
    {
      "cell_type": "code",
      "source": [
        "# @title Feature Selection Explanation\n",
        "\n",
        "wgt_feat_selection_explanation = widgets.Textarea(\n",
        "    value=None,\n",
        "    placeholder='<student to fill this section>',\n",
        "    description='Feature Selection Explanation:',\n",
        "    disabled=False,\n",
        "    style={'description_width': 'initial'},\n",
        "    layout=widgets.Layout(height=\"100%\", width=\"auto\")\n",
        ")\n",
        "wgt_feat_selection_explanation"
      ],
      "metadata": {
        "colab": {
          "base_uri": "https://localhost:8080/",
          "height": 63,
          "referenced_widgets": [
            "cbba990bac894654aa895b0a082cff9f",
            "2e8b3b5a8a614f58a96457f2243cc0bd",
            "20212306ae6441fda853ddd4d22c3a91"
          ]
        },
        "id": "l3TDTIWr4BYF",
        "outputId": "72e1d256-f138-4476-86cd-8eed5acd5355",
        "cellView": "form"
      },
      "execution_count": null,
      "outputs": [
        {
          "output_type": "display_data",
          "data": {
            "text/plain": [
              "Textarea(value='', description='Feature Selection Explanation:', layout=Layout(height='100%', width='auto'), p…"
            ],
            "application/vnd.jupyter.widget-view+json": {
              "version_major": 2,
              "version_minor": 0,
              "model_id": "cbba990bac894654aa895b0a082cff9f"
            }
          },
          "metadata": {}
        }
      ]
    },
    {
      "cell_type": "markdown",
      "source": [
        "---\n",
        "## E. Data Cleaning"
      ],
      "metadata": {
        "id": "ErH_bh604mOe"
      }
    },
    {
      "cell_type": "markdown",
      "metadata": {
        "id": "miQ6SiKlscLx"
      },
      "source": [
        "### E.1 Copy Dataset\n",
        "\n",
        "> Create a copy of the dataset and called it `df_clean`\n",
        "\n",
        "> Do not change this code"
      ]
    },
    {
      "cell_type": "code",
      "execution_count": null,
      "metadata": {
        "id": "HrXR7NCLtwxB"
      },
      "outputs": [],
      "source": [
        "# Create copy of datasets\n",
        "\n",
        "df_clean = df[features_list].copy()"
      ]
    },
    {
      "cell_type": "markdown",
      "source": [
        "### E.2 Fixing \"\\<describe_issue_here\\>\"\n",
        "\n",
        "> Provide some explanations on why you believe it is important to fix this issue and its impacts\n",
        "\n",
        "> You can add more cells in this section"
      ],
      "metadata": {
        "id": "bII_PglX5E-r"
      }
    },
    {
      "cell_type": "code",
      "execution_count": null,
      "metadata": {
        "id": "iaR8p5n8hez4"
      },
      "outputs": [],
      "source": [
        "# <Student to fill this section>"
      ]
    },
    {
      "cell_type": "code",
      "execution_count": null,
      "metadata": {
        "id": "qG0Yn0Yvhez4",
        "colab": {
          "base_uri": "https://localhost:8080/",
          "height": 63,
          "referenced_widgets": [
            "6df72a1b075c493f8cec91e0fbb61a46",
            "510caa9ea1174f3a82188a3d59229b8e",
            "7b6b09c129d24f53a74ef70cfa04dd0c"
          ]
        },
        "cellView": "form",
        "outputId": "11b8cc06-90a4-4d10-ce0c-74ffff088db7"
      },
      "outputs": [
        {
          "output_type": "display_data",
          "data": {
            "text/plain": [
              "Textarea(value='', description='Data Cleaning 1 Explanation:', layout=Layout(height='100%', width='auto'), pla…"
            ],
            "application/vnd.jupyter.widget-view+json": {
              "version_major": 2,
              "version_minor": 0,
              "model_id": "6df72a1b075c493f8cec91e0fbb61a46"
            }
          },
          "metadata": {}
        }
      ],
      "source": [
        "# @title Data Cleaning 1 Explanation\n",
        "\n",
        "wgt_data_cleaning_1_explanation = widgets.Textarea(\n",
        "    value=None,\n",
        "    placeholder='<student to fill this section>',\n",
        "    description='Data Cleaning 1 Explanation:',\n",
        "    disabled=False,\n",
        "    style={'description_width': 'initial'},\n",
        "    layout=widgets.Layout(height=\"100%\", width=\"auto\")\n",
        ")\n",
        "wgt_data_cleaning_1_explanation"
      ]
    },
    {
      "cell_type": "markdown",
      "source": [
        "### E.3 Fixing \"\\<describe_issue_here\\>\"\n",
        "\n",
        "> Provide some explanations on why you believe it is important to fix this issue and its impacts\n",
        "\n",
        "> You can add more cells in this section"
      ],
      "metadata": {
        "id": "wRJ6Ql1F5ODe"
      }
    },
    {
      "cell_type": "code",
      "execution_count": null,
      "metadata": {
        "id": "DsTzKV3bhez4"
      },
      "outputs": [],
      "source": [
        "# <Student to fill this section>"
      ]
    },
    {
      "cell_type": "code",
      "source": [
        "# @title Data Cleaning 2 Explanation\n",
        "\n",
        "wgt_data_cleaning_2_explanation = widgets.Textarea(\n",
        "    value=None,\n",
        "    placeholder='<student to fill this section>',\n",
        "    description='Data Cleaning 1 Explanation:',\n",
        "    disabled=False,\n",
        "    style={'description_width': 'initial'},\n",
        "    layout=widgets.Layout(height=\"100%\", width=\"auto\")\n",
        ")\n",
        "wgt_data_cleaning_2_explanation"
      ],
      "metadata": {
        "colab": {
          "base_uri": "https://localhost:8080/",
          "height": 63,
          "referenced_widgets": [
            "d0467ec4c8194ef088e0da8795b8a7f2",
            "0f28517769b54816a6b7756cc9486352",
            "83b7fb4bfd184016911d0d25ab2c26a6"
          ]
        },
        "cellView": "form",
        "id": "fDrSCsSJ5PRg",
        "outputId": "f41caf35-b2eb-46da-f625-7ef34cd211a8"
      },
      "execution_count": null,
      "outputs": [
        {
          "output_type": "display_data",
          "data": {
            "text/plain": [
              "Textarea(value='', description='Data Cleaning 1 Explanation:', layout=Layout(height='100%', width='auto'), pla…"
            ],
            "application/vnd.jupyter.widget-view+json": {
              "version_major": 2,
              "version_minor": 0,
              "model_id": "d0467ec4c8194ef088e0da8795b8a7f2"
            }
          },
          "metadata": {}
        }
      ]
    },
    {
      "cell_type": "markdown",
      "source": [
        "### E.4 Fixing \"\\<describe_issue_here\\>\"\n",
        "\n",
        "> Provide some explanations on why you believe it is important to fix this issue and its impacts\n",
        "\n",
        "> You can add more cells in this section"
      ],
      "metadata": {
        "id": "qhu0LRMi5PgV"
      }
    },
    {
      "cell_type": "code",
      "source": [
        "# <Student to fill this section>"
      ],
      "metadata": {
        "id": "eJh1KWoF5Qze"
      },
      "execution_count": null,
      "outputs": []
    },
    {
      "cell_type": "code",
      "source": [
        "# @title Data Cleaning 3 Explanation\n",
        "\n",
        "wgt_data_cleaning_3_explanation = widgets.Textarea(\n",
        "    value=None,\n",
        "    placeholder='<student to fill this section>',\n",
        "    description='Data Cleaning 3 Explanation:',\n",
        "    disabled=False,\n",
        "    style={'description_width': 'initial'},\n",
        "    layout=widgets.Layout(height=\"100%\", width=\"auto\")\n",
        ")\n",
        "wgt_data_cleaning_3_explanation"
      ],
      "metadata": {
        "colab": {
          "base_uri": "https://localhost:8080/",
          "height": 63,
          "referenced_widgets": [
            "99a2303507fb416cb2bb703b901d1a86",
            "009d2d38b8bb4b1082dbeef5b03ee0bc",
            "d10663a16374421bbd5c19c5114799d9"
          ]
        },
        "cellView": "form",
        "id": "kFGEVDCF5Q99",
        "outputId": "1ed70f2e-95b8-4fc1-ea35-16172d640200"
      },
      "execution_count": null,
      "outputs": [
        {
          "output_type": "display_data",
          "data": {
            "text/plain": [
              "Textarea(value='', description='Data Cleaning 3 Explanation:', layout=Layout(height='100%', width='auto'), pla…"
            ],
            "application/vnd.jupyter.widget-view+json": {
              "version_major": 2,
              "version_minor": 0,
              "model_id": "99a2303507fb416cb2bb703b901d1a86"
            }
          },
          "metadata": {}
        }
      ]
    },
    {
      "cell_type": "markdown",
      "source": [
        "---\n",
        "## F. Feature Engineering"
      ],
      "metadata": {
        "id": "Z9jsWz-z5-XS"
      }
    },
    {
      "cell_type": "markdown",
      "source": [
        "### F.1 Copy Datasets\n",
        "\n",
        "> Create copy of the dataset and called it `df_eng`\n",
        "\n",
        "> Do not change this code"
      ],
      "metadata": {
        "id": "DMN-Plpk6EPF"
      }
    },
    {
      "cell_type": "code",
      "source": [
        "# Create copy of datasets\n",
        "\n",
        "df_eng = df_clean.copy()"
      ],
      "metadata": {
        "id": "viLWliu76Fm6"
      },
      "execution_count": null,
      "outputs": []
    },
    {
      "cell_type": "markdown",
      "source": [
        "### F.2 New Feature \"\\<put_name_here\\>\"\n",
        "\n",
        "> Provide some explanations on why you believe it is important to create this feature and its impacts\n",
        "\n"
      ],
      "metadata": {
        "id": "imwl7ISs6O0t"
      }
    },
    {
      "cell_type": "code",
      "source": [
        "# <Student to fill this section>"
      ],
      "metadata": {
        "id": "t5RVBQKW6mJj"
      },
      "execution_count": null,
      "outputs": []
    },
    {
      "cell_type": "code",
      "source": [
        "# @title Feature Engineering 1 Explanation\n",
        "\n",
        "wgt_feature_engineering_1_explanation = widgets.Textarea(\n",
        "    value=None,\n",
        "    placeholder='<student to fill this section>',\n",
        "    description='Feature Engineering 1 Explanation:',\n",
        "    disabled=False,\n",
        "    style={'description_width': 'initial'},\n",
        "    layout=widgets.Layout(height=\"100%\", width=\"auto\")\n",
        ")\n",
        "wgt_feature_engineering_1_explanation"
      ],
      "metadata": {
        "colab": {
          "base_uri": "https://localhost:8080/",
          "height": 63,
          "referenced_widgets": [
            "27190e4894fc4a079b98204953a031f9",
            "379ac5bdf7004d6893e36f8d5f243caf",
            "117e8f087fc149e89147153444e9611d"
          ]
        },
        "cellView": "form",
        "id": "eb1YYEyc6qcL",
        "outputId": "34cc655e-6173-4ef3-a89d-c5a642df025f"
      },
      "execution_count": null,
      "outputs": [
        {
          "output_type": "display_data",
          "data": {
            "text/plain": [
              "Textarea(value='', description='Feature Engineering 1 Explanation:', layout=Layout(height='100%', width='auto'…"
            ],
            "application/vnd.jupyter.widget-view+json": {
              "version_major": 2,
              "version_minor": 0,
              "model_id": "27190e4894fc4a079b98204953a031f9"
            }
          },
          "metadata": {}
        }
      ]
    },
    {
      "cell_type": "markdown",
      "source": [
        "### F.3 New Feature \"\\<put_name_here\\>\"\n",
        "\n",
        "> Provide some explanations on why you believe it is important to create this feature and its impacts\n",
        "\n"
      ],
      "metadata": {
        "id": "jYxCnW3C6zJj"
      }
    },
    {
      "cell_type": "code",
      "source": [
        "# <Student to fill this section>"
      ],
      "metadata": {
        "id": "y03X8eeW6zbL"
      },
      "execution_count": null,
      "outputs": []
    },
    {
      "cell_type": "code",
      "source": [
        "# @title Feature Engineering 2 Explanation\n",
        "\n",
        "wgt_feature_engineering_2_explanation = widgets.Textarea(\n",
        "    value=None,\n",
        "    placeholder='<student to fill this section>',\n",
        "    description='Feature Engineering 2 Explanation:',\n",
        "    disabled=False,\n",
        "    style={'description_width': 'initial'},\n",
        "    layout=widgets.Layout(height=\"100%\", width=\"auto\")\n",
        ")\n",
        "wgt_feature_engineering_2_explanation"
      ],
      "metadata": {
        "colab": {
          "base_uri": "https://localhost:8080/",
          "height": 63,
          "referenced_widgets": [
            "af543d4659784f089f2b72487be7554d",
            "b67a4bceab0a4273b40f0c1c42a746fb",
            "2daeffa4efc24be08e6b57ca8f18fded"
          ]
        },
        "cellView": "form",
        "id": "3oQ9Wabs6zeP",
        "outputId": "90614df0-efd6-41fd-8714-a90273df1f59"
      },
      "execution_count": null,
      "outputs": [
        {
          "output_type": "display_data",
          "data": {
            "text/plain": [
              "Textarea(value='', description='Feature Engineering 2 Explanation:', layout=Layout(height='100%', width='auto'…"
            ],
            "application/vnd.jupyter.widget-view+json": {
              "version_major": 2,
              "version_minor": 0,
              "model_id": "af543d4659784f089f2b72487be7554d"
            }
          },
          "metadata": {}
        }
      ]
    },
    {
      "cell_type": "markdown",
      "source": [
        "### F.4 New Feature \"\\<put_name_here\\>\"\n",
        "\n",
        "> Provide some explanations on why you believe it is important to create this feature and its impacts\n",
        "\n"
      ],
      "metadata": {
        "id": "gWF4jvXb62kU"
      }
    },
    {
      "cell_type": "code",
      "source": [
        "# <Student to fill this section>"
      ],
      "metadata": {
        "id": "dfXFMHqw62r4"
      },
      "execution_count": null,
      "outputs": []
    },
    {
      "cell_type": "code",
      "source": [
        "# @title Feature Engineering 3 Explanation\n",
        "\n",
        "wgt_feature_engineering_3_explanation = widgets.Textarea(\n",
        "    value=None,\n",
        "    placeholder='<student to fill this section>',\n",
        "    description='Feature Engineering 3 Explanation:',\n",
        "    disabled=False,\n",
        "    style={'description_width': 'initial'},\n",
        "    layout=widgets.Layout(height=\"100%\", width=\"auto\")\n",
        ")\n",
        "wgt_feature_engineering_3_explanation"
      ],
      "metadata": {
        "colab": {
          "base_uri": "https://localhost:8080/",
          "height": 63,
          "referenced_widgets": [
            "ab324c5bb8de4376bd938617367bf2fc",
            "df67d45a8a174ea58be8519e40538d1e",
            "b0213510335b4679a4c083f3093e8d42"
          ]
        },
        "cellView": "form",
        "id": "wH844mhp62uc",
        "outputId": "936540aa-32f8-45ba-ede0-35baaeeb2d52"
      },
      "execution_count": null,
      "outputs": [
        {
          "output_type": "display_data",
          "data": {
            "text/plain": [
              "Textarea(value='', description='Feature Engineering 3 Explanation:', layout=Layout(height='100%', width='auto'…"
            ],
            "application/vnd.jupyter.widget-view+json": {
              "version_major": 2,
              "version_minor": 0,
              "model_id": "ab324c5bb8de4376bd938617367bf2fc"
            }
          },
          "metadata": {}
        }
      ]
    },
    {
      "cell_type": "markdown",
      "metadata": {
        "id": "N0S5LSAcjkvP"
      },
      "source": [
        "---\n",
        "## G. Data Preparation for Modeling"
      ]
    },
    {
      "cell_type": "markdown",
      "source": [
        "### G.1 Split Datasets\n",
        "\n",
        "> Provide some explanations on what is the best strategy to use for data splitting for this dataset\n"
      ],
      "metadata": {
        "id": "TijNthzAyyAX"
      }
    },
    {
      "cell_type": "code",
      "source": [
        "# <Student to fill this section>"
      ],
      "metadata": {
        "id": "yL_Jwh9KzFT_"
      },
      "execution_count": null,
      "outputs": []
    },
    {
      "cell_type": "code",
      "source": [
        "# @title Data Splitting Explanation\n",
        "\n",
        "wgt_data_splitting_explanation = widgets.Textarea(\n",
        "    value=None,\n",
        "    placeholder='<student to fill this section>',\n",
        "    description='Data Splitting Explanation:',\n",
        "    disabled=False,\n",
        "    style={'description_width': 'initial'},\n",
        "    layout=widgets.Layout(height=\"100%\", width=\"auto\")\n",
        ")\n",
        "wgt_data_splitting_explanation"
      ],
      "metadata": {
        "colab": {
          "base_uri": "https://localhost:8080/",
          "height": 63,
          "referenced_widgets": [
            "c5122d1577c242bf82265a19e9059c0e",
            "e0e42de98aa94edb9a5a6969ec3c2a11",
            "ceefe7cd97a34d10af3328e403eaefb6"
          ]
        },
        "cellView": "form",
        "id": "lYX4nKKuzJRV",
        "outputId": "73a39abb-c743-45b5-c50b-99b503ef0d11"
      },
      "execution_count": null,
      "outputs": [
        {
          "output_type": "display_data",
          "data": {
            "text/plain": [
              "Textarea(value='', description='Data Splitting Explanation:', layout=Layout(height='100%', width='auto'), plac…"
            ],
            "application/vnd.jupyter.widget-view+json": {
              "version_major": 2,
              "version_minor": 0,
              "model_id": "c5122d1577c242bf82265a19e9059c0e"
            }
          },
          "metadata": {}
        }
      ]
    },
    {
      "cell_type": "markdown",
      "source": [
        "### G.2 Data Transformation <put_name_here>\n",
        "\n",
        "> Provide some explanations on why you believe it is important to perform this data transformation and its impacts\n"
      ],
      "metadata": {
        "id": "RKqt6BN6csNC"
      }
    },
    {
      "cell_type": "code",
      "execution_count": null,
      "metadata": {
        "id": "7PnGwsy2hez4"
      },
      "outputs": [],
      "source": [
        "# <Student to fill this section>"
      ]
    },
    {
      "cell_type": "code",
      "execution_count": null,
      "metadata": {
        "id": "MMoltFtYhez4",
        "colab": {
          "base_uri": "https://localhost:8080/",
          "height": 63,
          "referenced_widgets": [
            "d054df07fe0f436da37786d6aed79e3c",
            "8644ef623e4c4110908bbc7db85be3bb",
            "cc395730f5f9443fa3012bce28001dac"
          ]
        },
        "cellView": "form",
        "outputId": "10ad3012-b947-46f2-82ea-341dc45aa045"
      },
      "outputs": [
        {
          "output_type": "display_data",
          "data": {
            "text/plain": [
              "Textarea(value='', description='Data Preparation 1 Explanation:', layout=Layout(height='100%', width='auto'), …"
            ],
            "application/vnd.jupyter.widget-view+json": {
              "version_major": 2,
              "version_minor": 0,
              "model_id": "d054df07fe0f436da37786d6aed79e3c"
            }
          },
          "metadata": {}
        }
      ],
      "source": [
        "# @title Data Preparation 1 Explanation\n",
        "\n",
        "wgt_data_preparation_1_explanation = widgets.Textarea(\n",
        "    value=None,\n",
        "    placeholder='<student to fill this section>',\n",
        "    description='Data Preparation 1 Explanation:',\n",
        "    disabled=False,\n",
        "    style={'description_width': 'initial'},\n",
        "    layout=widgets.Layout(height=\"100%\", width=\"auto\")\n",
        ")\n",
        "wgt_data_preparation_1_explanation"
      ]
    },
    {
      "cell_type": "markdown",
      "source": [
        "### G.3 Data Transformation <put_name_here>\n",
        "\n",
        "> Provide some explanations on why you believe it is important to perform this data transformation and its impacts\n"
      ],
      "metadata": {
        "id": "Nl12P1VIdFGy"
      }
    },
    {
      "cell_type": "code",
      "source": [
        "# @title Data Preparation 2 Explanation\n",
        "\n",
        "wgt_data_preparation_2_explanation = widgets.Textarea(\n",
        "    value=None,\n",
        "    placeholder='<student to fill this section>',\n",
        "    description='Data Preparation 2 Explanation:',\n",
        "    disabled=False,\n",
        "    style={'description_width': 'initial'},\n",
        "    layout=widgets.Layout(height=\"100%\", width=\"auto\")\n",
        ")\n",
        "wgt_data_preparation_2_explanation"
      ],
      "metadata": {
        "colab": {
          "base_uri": "https://localhost:8080/",
          "height": 63,
          "referenced_widgets": [
            "11cb288e21824849b325cdb83fb0b6ac",
            "d78cfa92940e4bc9bfe6ce09b8844c30",
            "244ef21894cc4d60b5327e79f2084c9b"
          ]
        },
        "id": "2U9h8i2VdHy6",
        "outputId": "11b9dca1-f269-4dac-9ea8-0cd2d499fe5d",
        "cellView": "form"
      },
      "execution_count": null,
      "outputs": [
        {
          "output_type": "display_data",
          "data": {
            "text/plain": [
              "Textarea(value='', description='Data Preparation 2 Explanation:', layout=Layout(height='100%', width='auto'), …"
            ],
            "application/vnd.jupyter.widget-view+json": {
              "version_major": 2,
              "version_minor": 0,
              "model_id": "11cb288e21824849b325cdb83fb0b6ac"
            }
          },
          "metadata": {}
        }
      ]
    },
    {
      "cell_type": "markdown",
      "source": [
        "### G.4 Data Transformation <put_name_here>\n",
        "\n",
        "> Provide some explanations on why you believe it is important to perform this data transformation and its impacts\n"
      ],
      "metadata": {
        "id": "nw8W-JpHdGlC"
      }
    },
    {
      "cell_type": "code",
      "source": [
        "# @title Data Preparation 3 Explanation\n",
        "\n",
        "wgt_data_preparation_3_explanation = widgets.Textarea(\n",
        "    value=None,\n",
        "    placeholder='<student to fill this section>',\n",
        "    description='Data Preparation 3 Explanation:',\n",
        "    disabled=False,\n",
        "    style={'description_width': 'initial'},\n",
        "    layout=widgets.Layout(height=\"100%\", width=\"auto\")\n",
        ")\n",
        "wgt_data_preparation_3_explanation"
      ],
      "metadata": {
        "colab": {
          "base_uri": "https://localhost:8080/",
          "height": 63,
          "referenced_widgets": [
            "f6b9660c76ac4c049673e8318a7203b6",
            "74ace03f56024f85935c38e3ff9e5665",
            "4b3b71b89f16410ba2a0016841b5c740"
          ]
        },
        "cellView": "form",
        "id": "fbyIoUzxdIPT",
        "outputId": "2d785862-48ab-475e-ea9b-dd7ed47b8d38"
      },
      "execution_count": null,
      "outputs": [
        {
          "output_type": "display_data",
          "data": {
            "text/plain": [
              "Textarea(value='', description='Data Preparation 3 Explanation:', layout=Layout(height='100%', width='auto'), …"
            ],
            "application/vnd.jupyter.widget-view+json": {
              "version_major": 2,
              "version_minor": 0,
              "model_id": "f6b9660c76ac4c049673e8318a7203b6"
            }
          },
          "metadata": {}
        }
      ]
    },
    {
      "cell_type": "markdown",
      "source": [
        "---\n",
        "## H. Save Datasets\n",
        "\n",
        "> Do not change this code"
      ],
      "metadata": {
        "id": "s0CJolMhdmLf"
      }
    },
    {
      "cell_type": "code",
      "source": [
        "# Save training set\n",
        "\n",
        "X_train.to_csv(folder_path / 'X_train.csv', index=False)\n",
        "y_train.to_csv(folder_path / 'y_train.csv', index=False)"
      ],
      "metadata": {
        "id": "hwIgKOsGdrf3"
      },
      "execution_count": null,
      "outputs": []
    },
    {
      "cell_type": "code",
      "source": [
        "# Save validation set\n",
        "\n",
        "X_val.to_csv(folder_path / 'X_val.csv', index=False)\n",
        "y_val.to_csv(folder_path / 'y_val.csv', index=False)"
      ],
      "metadata": {
        "id": "sFBBfgkndwum"
      },
      "execution_count": null,
      "outputs": []
    },
    {
      "cell_type": "code",
      "source": [
        "# Save testing set\n",
        "\n",
        "X_test.to_csv(folder_path / 'X_test.csv', index=False)\n",
        "y_test.to_csv(folder_path / 'y_test.csv', index=False)"
      ],
      "metadata": {
        "id": "BxMKz3zudw0d"
      },
      "execution_count": null,
      "outputs": []
    },
    {
      "cell_type": "markdown",
      "metadata": {
        "id": "N8MNBrC4Zgz6"
      },
      "source": [
        "---\n",
        "## I. Assess Baseline Model"
      ]
    },
    {
      "cell_type": "markdown",
      "source": [
        "### I.1 Generate Predictions with Baseline Model"
      ],
      "metadata": {
        "id": "4_tQitOfeDXr"
      }
    },
    {
      "cell_type": "code",
      "execution_count": null,
      "metadata": {
        "id": "Mh6epkAThez5"
      },
      "outputs": [],
      "source": [
        "# <Student to fill this section>"
      ]
    },
    {
      "cell_type": "markdown",
      "source": [
        "### I.2 Selection of Performance Metrics\n",
        "\n",
        "> Provide some explanations on why you believe the performance metrics you chose is appropriate\n"
      ],
      "metadata": {
        "id": "n5ApYC8BeLsB"
      }
    },
    {
      "cell_type": "code",
      "execution_count": null,
      "metadata": {
        "id": "7We16YIYhez5"
      },
      "outputs": [],
      "source": [
        "# <Student to fill this section>"
      ]
    },
    {
      "cell_type": "code",
      "execution_count": null,
      "metadata": {
        "id": "yQlcYIfThez5",
        "colab": {
          "base_uri": "https://localhost:8080/",
          "height": 63,
          "referenced_widgets": [
            "b2c9590f81f248729c42fb8f433caf6c",
            "a64b540dff4e462f96f14d4a0e63e4a3",
            "a719acb68e564675a7b827e27d78ccc8"
          ]
        },
        "cellView": "form",
        "outputId": "ebdcbdb1-3c7b-4604-eb05-c9b3081ccdbd"
      },
      "outputs": [
        {
          "output_type": "display_data",
          "data": {
            "text/plain": [
              "Textarea(value='', description='Performance Metrics Explanation:', layout=Layout(height='100%', width='auto'),…"
            ],
            "application/vnd.jupyter.widget-view+json": {
              "version_major": 2,
              "version_minor": 0,
              "model_id": "b2c9590f81f248729c42fb8f433caf6c"
            }
          },
          "metadata": {}
        }
      ],
      "source": [
        "# @title Performance Metrics Explanation\n",
        "\n",
        "wgt_perf_metrics_explanation = widgets.Textarea(\n",
        "    value=None,\n",
        "    placeholder='<student to fill this section>',\n",
        "    description='Performance Metrics Explanation:',\n",
        "    disabled=False,\n",
        "    style={'description_width': 'initial'},\n",
        "    layout=widgets.Layout(height=\"100%\", width=\"auto\")\n",
        ")\n",
        "wgt_perf_metrics_explanation"
      ]
    },
    {
      "cell_type": "markdown",
      "source": [
        "### I.3 Baseline Model Performance\n",
        "\n",
        "> Provide some explanations on model performance\n"
      ],
      "metadata": {
        "id": "q43YtqpdeniY"
      }
    },
    {
      "cell_type": "code",
      "execution_count": null,
      "metadata": {
        "id": "x1Q3oxoNhez5"
      },
      "outputs": [],
      "source": [
        "# <Student to fill this section>"
      ]
    },
    {
      "cell_type": "code",
      "execution_count": null,
      "metadata": {
        "id": "osp7Ura2hez5",
        "colab": {
          "base_uri": "https://localhost:8080/",
          "height": 63,
          "referenced_widgets": [
            "12443a5c55a549e5bd35153acc1a0c33",
            "5eea648c0b9a46b4bcb857820f4775b8",
            "2b5fc5cfc935457a8d0f607e5e55b92a"
          ]
        },
        "cellView": "form",
        "outputId": "aada75d3-b983-4c33-e49b-806bb00e68be"
      },
      "outputs": [
        {
          "output_type": "display_data",
          "data": {
            "text/plain": [
              "Textarea(value='', description='Model Performance Explanation:', layout=Layout(height='100%', width='auto'), p…"
            ],
            "application/vnd.jupyter.widget-view+json": {
              "version_major": 2,
              "version_minor": 0,
              "model_id": "12443a5c55a549e5bd35153acc1a0c33"
            }
          },
          "metadata": {}
        }
      ],
      "source": [
        "# @title Performance Metrics Explanation\n",
        "\n",
        "wgt_model_performance_explanation = widgets.Textarea(\n",
        "    value=None,\n",
        "    placeholder='<student to fill this section>',\n",
        "    description='Model Performance Explanation:',\n",
        "    disabled=False,\n",
        "    style={'description_width': 'initial'},\n",
        "    layout=widgets.Layout(height=\"100%\", width=\"auto\")\n",
        ")\n",
        "wgt_model_performance_explanation"
      ]
    }
  ],
  "metadata": {
    "colab": {
      "provenance": [],
      "toc_visible": true
    },
    "kernelspec": {
      "display_name": "Python 3 (ipykernel)",
      "language": "python",
      "name": "python3"
    },
    "language_info": {
      "codemirror_mode": {
        "name": "ipython",
        "version": 3
      },
      "file_extension": ".py",
      "mimetype": "text/x-python",
      "name": "python",
      "nbconvert_exporter": "python",
      "pygments_lexer": "ipython3",
      "version": "3.10.10"
    },
    "widgets": {
      "application/vnd.jupyter.widget-state+json": {
        "e4d2393cbd5a4c6b9a754eac190eec39": {
          "model_module": "@jupyter-widgets/controls",
          "model_name": "HBoxModel",
          "model_module_version": "1.5.0",
          "state": {
            "_dom_classes": [],
            "_model_module": "@jupyter-widgets/controls",
            "_model_module_version": "1.5.0",
            "_model_name": "HBoxModel",
            "_view_count": null,
            "_view_module": "@jupyter-widgets/controls",
            "_view_module_version": "1.5.0",
            "_view_name": "HBoxView",
            "box_style": "",
            "children": [
              "IPY_MODEL_cc882c05cce44e839160db00dddead87",
              "IPY_MODEL_9465a71969b44d8e9442262abf5d47aa"
            ],
            "layout": "IPY_MODEL_7f0b224583bd488eb57f46104db231af"
          }
        },
        "cc882c05cce44e839160db00dddead87": {
          "model_module": "@jupyter-widgets/controls",
          "model_name": "TextModel",
          "model_module_version": "1.5.0",
          "state": {
            "_dom_classes": [],
            "_model_module": "@jupyter-widgets/controls",
            "_model_module_version": "1.5.0",
            "_model_name": "TextModel",
            "_view_count": null,
            "_view_module": "@jupyter-widgets/controls",
            "_view_module_version": "1.5.0",
            "_view_name": "TextView",
            "continuous_update": true,
            "description": "Student Name:",
            "description_tooltip": null,
            "disabled": false,
            "layout": "IPY_MODEL_d818b8665924449aba648baede1dd760",
            "placeholder": "<student to fill this section>",
            "style": "IPY_MODEL_921788f1a35e4b77be7f784cc99dcd03",
            "value": ""
          }
        },
        "9465a71969b44d8e9442262abf5d47aa": {
          "model_module": "@jupyter-widgets/controls",
          "model_name": "TextModel",
          "model_module_version": "1.5.0",
          "state": {
            "_dom_classes": [],
            "_model_module": "@jupyter-widgets/controls",
            "_model_module_version": "1.5.0",
            "_model_name": "TextModel",
            "_view_count": null,
            "_view_module": "@jupyter-widgets/controls",
            "_view_module_version": "1.5.0",
            "_view_name": "TextView",
            "continuous_update": true,
            "description": "Student Id:",
            "description_tooltip": null,
            "disabled": false,
            "layout": "IPY_MODEL_52cedab010894f94bd108392ca0d6fd6",
            "placeholder": "<student to fill this section>",
            "style": "IPY_MODEL_6195bd71f3e14222ae79f963a6be344a",
            "value": ""
          }
        },
        "7f0b224583bd488eb57f46104db231af": {
          "model_module": "@jupyter-widgets/base",
          "model_name": "LayoutModel",
          "model_module_version": "1.2.0",
          "state": {
            "_model_module": "@jupyter-widgets/base",
            "_model_module_version": "1.2.0",
            "_model_name": "LayoutModel",
            "_view_count": null,
            "_view_module": "@jupyter-widgets/base",
            "_view_module_version": "1.2.0",
            "_view_name": "LayoutView",
            "align_content": null,
            "align_items": null,
            "align_self": null,
            "border": null,
            "bottom": null,
            "display": null,
            "flex": null,
            "flex_flow": null,
            "grid_area": null,
            "grid_auto_columns": null,
            "grid_auto_flow": null,
            "grid_auto_rows": null,
            "grid_column": null,
            "grid_gap": null,
            "grid_row": null,
            "grid_template_areas": null,
            "grid_template_columns": null,
            "grid_template_rows": null,
            "height": null,
            "justify_content": null,
            "justify_items": null,
            "left": null,
            "margin": null,
            "max_height": null,
            "max_width": null,
            "min_height": null,
            "min_width": null,
            "object_fit": null,
            "object_position": null,
            "order": null,
            "overflow": null,
            "overflow_x": null,
            "overflow_y": null,
            "padding": null,
            "right": null,
            "top": null,
            "visibility": null,
            "width": null
          }
        },
        "d818b8665924449aba648baede1dd760": {
          "model_module": "@jupyter-widgets/base",
          "model_name": "LayoutModel",
          "model_module_version": "1.2.0",
          "state": {
            "_model_module": "@jupyter-widgets/base",
            "_model_module_version": "1.2.0",
            "_model_name": "LayoutModel",
            "_view_count": null,
            "_view_module": "@jupyter-widgets/base",
            "_view_module_version": "1.2.0",
            "_view_name": "LayoutView",
            "align_content": null,
            "align_items": null,
            "align_self": null,
            "border": null,
            "bottom": null,
            "display": null,
            "flex": null,
            "flex_flow": null,
            "grid_area": null,
            "grid_auto_columns": null,
            "grid_auto_flow": null,
            "grid_auto_rows": null,
            "grid_column": null,
            "grid_gap": null,
            "grid_row": null,
            "grid_template_areas": null,
            "grid_template_columns": null,
            "grid_template_rows": null,
            "height": null,
            "justify_content": null,
            "justify_items": null,
            "left": null,
            "margin": null,
            "max_height": null,
            "max_width": null,
            "min_height": null,
            "min_width": null,
            "object_fit": null,
            "object_position": null,
            "order": null,
            "overflow": null,
            "overflow_x": null,
            "overflow_y": null,
            "padding": null,
            "right": null,
            "top": null,
            "visibility": null,
            "width": null
          }
        },
        "921788f1a35e4b77be7f784cc99dcd03": {
          "model_module": "@jupyter-widgets/controls",
          "model_name": "DescriptionStyleModel",
          "model_module_version": "1.5.0",
          "state": {
            "_model_module": "@jupyter-widgets/controls",
            "_model_module_version": "1.5.0",
            "_model_name": "DescriptionStyleModel",
            "_view_count": null,
            "_view_module": "@jupyter-widgets/base",
            "_view_module_version": "1.2.0",
            "_view_name": "StyleView",
            "description_width": "initial"
          }
        },
        "52cedab010894f94bd108392ca0d6fd6": {
          "model_module": "@jupyter-widgets/base",
          "model_name": "LayoutModel",
          "model_module_version": "1.2.0",
          "state": {
            "_model_module": "@jupyter-widgets/base",
            "_model_module_version": "1.2.0",
            "_model_name": "LayoutModel",
            "_view_count": null,
            "_view_module": "@jupyter-widgets/base",
            "_view_module_version": "1.2.0",
            "_view_name": "LayoutView",
            "align_content": null,
            "align_items": null,
            "align_self": null,
            "border": null,
            "bottom": null,
            "display": null,
            "flex": null,
            "flex_flow": null,
            "grid_area": null,
            "grid_auto_columns": null,
            "grid_auto_flow": null,
            "grid_auto_rows": null,
            "grid_column": null,
            "grid_gap": null,
            "grid_row": null,
            "grid_template_areas": null,
            "grid_template_columns": null,
            "grid_template_rows": null,
            "height": null,
            "justify_content": null,
            "justify_items": null,
            "left": null,
            "margin": null,
            "max_height": null,
            "max_width": null,
            "min_height": null,
            "min_width": null,
            "object_fit": null,
            "object_position": null,
            "order": null,
            "overflow": null,
            "overflow_x": null,
            "overflow_y": null,
            "padding": null,
            "right": null,
            "top": null,
            "visibility": null,
            "width": null
          }
        },
        "6195bd71f3e14222ae79f963a6be344a": {
          "model_module": "@jupyter-widgets/controls",
          "model_name": "DescriptionStyleModel",
          "model_module_version": "1.5.0",
          "state": {
            "_model_module": "@jupyter-widgets/controls",
            "_model_module_version": "1.5.0",
            "_model_name": "DescriptionStyleModel",
            "_view_count": null,
            "_view_module": "@jupyter-widgets/base",
            "_view_module_version": "1.2.0",
            "_view_name": "StyleView",
            "description_width": "initial"
          }
        },
        "416a99681c4e4c08b4a5347f7217fedb": {
          "model_module": "@jupyter-widgets/controls",
          "model_name": "BoundedIntTextModel",
          "model_module_version": "1.5.0",
          "state": {
            "_dom_classes": [],
            "_model_module": "@jupyter-widgets/controls",
            "_model_module_version": "1.5.0",
            "_model_name": "BoundedIntTextModel",
            "_view_count": null,
            "_view_module": "@jupyter-widgets/controls",
            "_view_module_version": "1.5.0",
            "_view_name": "IntTextView",
            "continuous_update": false,
            "description": "Experiment ID:",
            "description_tooltip": null,
            "disabled": false,
            "layout": "IPY_MODEL_2d6349d7ba514724b16adbbf44afafe5",
            "max": 3,
            "min": 0,
            "step": 1,
            "style": "IPY_MODEL_4d4b21b3fb43473da8d99ec08d3cce76",
            "value": 0
          }
        },
        "2d6349d7ba514724b16adbbf44afafe5": {
          "model_module": "@jupyter-widgets/base",
          "model_name": "LayoutModel",
          "model_module_version": "1.2.0",
          "state": {
            "_model_module": "@jupyter-widgets/base",
            "_model_module_version": "1.2.0",
            "_model_name": "LayoutModel",
            "_view_count": null,
            "_view_module": "@jupyter-widgets/base",
            "_view_module_version": "1.2.0",
            "_view_name": "LayoutView",
            "align_content": null,
            "align_items": null,
            "align_self": null,
            "border": null,
            "bottom": null,
            "display": null,
            "flex": null,
            "flex_flow": null,
            "grid_area": null,
            "grid_auto_columns": null,
            "grid_auto_flow": null,
            "grid_auto_rows": null,
            "grid_column": null,
            "grid_gap": null,
            "grid_row": null,
            "grid_template_areas": null,
            "grid_template_columns": null,
            "grid_template_rows": null,
            "height": null,
            "justify_content": null,
            "justify_items": null,
            "left": null,
            "margin": null,
            "max_height": null,
            "max_width": null,
            "min_height": null,
            "min_width": null,
            "object_fit": null,
            "object_position": null,
            "order": null,
            "overflow": null,
            "overflow_x": null,
            "overflow_y": null,
            "padding": null,
            "right": null,
            "top": null,
            "visibility": null,
            "width": null
          }
        },
        "4d4b21b3fb43473da8d99ec08d3cce76": {
          "model_module": "@jupyter-widgets/controls",
          "model_name": "DescriptionStyleModel",
          "model_module_version": "1.5.0",
          "state": {
            "_model_module": "@jupyter-widgets/controls",
            "_model_module_version": "1.5.0",
            "_model_name": "DescriptionStyleModel",
            "_view_count": null,
            "_view_module": "@jupyter-widgets/base",
            "_view_module_version": "1.2.0",
            "_view_name": "StyleView",
            "description_width": "initial"
          }
        },
        "56d7bf7435fb4fc99d2e72fc48cdd958": {
          "model_module": "@jupyter-widgets/controls",
          "model_name": "TextareaModel",
          "model_module_version": "1.5.0",
          "state": {
            "_dom_classes": [],
            "_model_module": "@jupyter-widgets/controls",
            "_model_module_version": "1.5.0",
            "_model_name": "TextareaModel",
            "_view_count": null,
            "_view_module": "@jupyter-widgets/controls",
            "_view_module_version": "1.5.0",
            "_view_name": "TextareaView",
            "continuous_update": true,
            "description": "Business Objective:",
            "description_tooltip": null,
            "disabled": false,
            "layout": "IPY_MODEL_78fcec803b804679877f38bb9391a087",
            "placeholder": "<student to fill this section>",
            "rows": null,
            "style": "IPY_MODEL_6d0a3f56998f433faa4be76994b49ee1",
            "value": ""
          }
        },
        "78fcec803b804679877f38bb9391a087": {
          "model_module": "@jupyter-widgets/base",
          "model_name": "LayoutModel",
          "model_module_version": "1.2.0",
          "state": {
            "_model_module": "@jupyter-widgets/base",
            "_model_module_version": "1.2.0",
            "_model_name": "LayoutModel",
            "_view_count": null,
            "_view_module": "@jupyter-widgets/base",
            "_view_module_version": "1.2.0",
            "_view_name": "LayoutView",
            "align_content": null,
            "align_items": null,
            "align_self": null,
            "border": null,
            "bottom": null,
            "display": null,
            "flex": null,
            "flex_flow": null,
            "grid_area": null,
            "grid_auto_columns": null,
            "grid_auto_flow": null,
            "grid_auto_rows": null,
            "grid_column": null,
            "grid_gap": null,
            "grid_row": null,
            "grid_template_areas": null,
            "grid_template_columns": null,
            "grid_template_rows": null,
            "height": "100%",
            "justify_content": null,
            "justify_items": null,
            "left": null,
            "margin": null,
            "max_height": null,
            "max_width": null,
            "min_height": null,
            "min_width": null,
            "object_fit": null,
            "object_position": null,
            "order": null,
            "overflow": null,
            "overflow_x": null,
            "overflow_y": null,
            "padding": null,
            "right": null,
            "top": null,
            "visibility": null,
            "width": "auto"
          }
        },
        "6d0a3f56998f433faa4be76994b49ee1": {
          "model_module": "@jupyter-widgets/controls",
          "model_name": "DescriptionStyleModel",
          "model_module_version": "1.5.0",
          "state": {
            "_model_module": "@jupyter-widgets/controls",
            "_model_module_version": "1.5.0",
            "_model_name": "DescriptionStyleModel",
            "_view_count": null,
            "_view_module": "@jupyter-widgets/base",
            "_view_module_version": "1.2.0",
            "_view_name": "StyleView",
            "description_width": "initial"
          }
        },
        "56b7d60f498046c590badf484b2c266e": {
          "model_module": "@jupyter-widgets/controls",
          "model_name": "TextareaModel",
          "model_module_version": "1.5.0",
          "state": {
            "_dom_classes": [],
            "_model_module": "@jupyter-widgets/controls",
            "_model_module_version": "1.5.0",
            "_model_name": "TextareaModel",
            "_view_count": null,
            "_view_module": "@jupyter-widgets/controls",
            "_view_module_version": "1.5.0",
            "_view_name": "TextareaView",
            "continuous_update": true,
            "description": "Experiment Hypothesis:",
            "description_tooltip": null,
            "disabled": false,
            "layout": "IPY_MODEL_f1719848083e4f0486b585006756a8c1",
            "placeholder": "<student to fill this section>",
            "rows": null,
            "style": "IPY_MODEL_984ca526876c4abc890c0cdb5e8c0667",
            "value": ""
          }
        },
        "f1719848083e4f0486b585006756a8c1": {
          "model_module": "@jupyter-widgets/base",
          "model_name": "LayoutModel",
          "model_module_version": "1.2.0",
          "state": {
            "_model_module": "@jupyter-widgets/base",
            "_model_module_version": "1.2.0",
            "_model_name": "LayoutModel",
            "_view_count": null,
            "_view_module": "@jupyter-widgets/base",
            "_view_module_version": "1.2.0",
            "_view_name": "LayoutView",
            "align_content": null,
            "align_items": null,
            "align_self": null,
            "border": null,
            "bottom": null,
            "display": null,
            "flex": null,
            "flex_flow": null,
            "grid_area": null,
            "grid_auto_columns": null,
            "grid_auto_flow": null,
            "grid_auto_rows": null,
            "grid_column": null,
            "grid_gap": null,
            "grid_row": null,
            "grid_template_areas": null,
            "grid_template_columns": null,
            "grid_template_rows": null,
            "height": "100%",
            "justify_content": null,
            "justify_items": null,
            "left": null,
            "margin": null,
            "max_height": null,
            "max_width": null,
            "min_height": null,
            "min_width": null,
            "object_fit": null,
            "object_position": null,
            "order": null,
            "overflow": null,
            "overflow_x": null,
            "overflow_y": null,
            "padding": null,
            "right": null,
            "top": null,
            "visibility": null,
            "width": "auto"
          }
        },
        "984ca526876c4abc890c0cdb5e8c0667": {
          "model_module": "@jupyter-widgets/controls",
          "model_name": "DescriptionStyleModel",
          "model_module_version": "1.5.0",
          "state": {
            "_model_module": "@jupyter-widgets/controls",
            "_model_module_version": "1.5.0",
            "_model_name": "DescriptionStyleModel",
            "_view_count": null,
            "_view_module": "@jupyter-widgets/base",
            "_view_module_version": "1.2.0",
            "_view_name": "StyleView",
            "description_width": "initial"
          }
        },
        "6c8068ffe4f3401d931a7c3839dc9e74": {
          "model_module": "@jupyter-widgets/controls",
          "model_name": "TextareaModel",
          "model_module_version": "1.5.0",
          "state": {
            "_dom_classes": [],
            "_model_module": "@jupyter-widgets/controls",
            "_model_module_version": "1.5.0",
            "_model_name": "TextareaModel",
            "_view_count": null,
            "_view_module": "@jupyter-widgets/controls",
            "_view_module_version": "1.5.0",
            "_view_name": "TextareaView",
            "continuous_update": true,
            "description": "Experiment Expectations:",
            "description_tooltip": null,
            "disabled": false,
            "layout": "IPY_MODEL_4e40869aa3b949988715bbffed44f855",
            "placeholder": "<student to fill this section>",
            "rows": null,
            "style": "IPY_MODEL_9043ebd9c2e14a04b4e96fe0fda26df8",
            "value": ""
          }
        },
        "4e40869aa3b949988715bbffed44f855": {
          "model_module": "@jupyter-widgets/base",
          "model_name": "LayoutModel",
          "model_module_version": "1.2.0",
          "state": {
            "_model_module": "@jupyter-widgets/base",
            "_model_module_version": "1.2.0",
            "_model_name": "LayoutModel",
            "_view_count": null,
            "_view_module": "@jupyter-widgets/base",
            "_view_module_version": "1.2.0",
            "_view_name": "LayoutView",
            "align_content": null,
            "align_items": null,
            "align_self": null,
            "border": null,
            "bottom": null,
            "display": null,
            "flex": null,
            "flex_flow": null,
            "grid_area": null,
            "grid_auto_columns": null,
            "grid_auto_flow": null,
            "grid_auto_rows": null,
            "grid_column": null,
            "grid_gap": null,
            "grid_row": null,
            "grid_template_areas": null,
            "grid_template_columns": null,
            "grid_template_rows": null,
            "height": "100%",
            "justify_content": null,
            "justify_items": null,
            "left": null,
            "margin": null,
            "max_height": null,
            "max_width": null,
            "min_height": null,
            "min_width": null,
            "object_fit": null,
            "object_position": null,
            "order": null,
            "overflow": null,
            "overflow_x": null,
            "overflow_y": null,
            "padding": null,
            "right": null,
            "top": null,
            "visibility": null,
            "width": "auto"
          }
        },
        "9043ebd9c2e14a04b4e96fe0fda26df8": {
          "model_module": "@jupyter-widgets/controls",
          "model_name": "DescriptionStyleModel",
          "model_module_version": "1.5.0",
          "state": {
            "_model_module": "@jupyter-widgets/controls",
            "_model_module_version": "1.5.0",
            "_model_name": "DescriptionStyleModel",
            "_view_count": null,
            "_view_module": "@jupyter-widgets/base",
            "_view_module_version": "1.2.0",
            "_view_name": "StyleView",
            "description_width": "initial"
          }
        },
        "163b8d4a3cd0481aaf0242c09d809b2d": {
          "model_module": "@jupyter-widgets/controls",
          "model_name": "TextareaModel",
          "model_module_version": "1.5.0",
          "state": {
            "_dom_classes": [],
            "_model_module": "@jupyter-widgets/controls",
            "_model_module_version": "1.5.0",
            "_model_name": "TextareaModel",
            "_view_count": null,
            "_view_module": "@jupyter-widgets/controls",
            "_view_module_version": "1.5.0",
            "_view_name": "TextareaView",
            "continuous_update": true,
            "description": "Dataset Insights:",
            "description_tooltip": null,
            "disabled": false,
            "layout": "IPY_MODEL_8c7b0e2ce47f4a23b9fb8a77fe13c1c9",
            "placeholder": "<student to fill this section>",
            "rows": null,
            "style": "IPY_MODEL_102fab8e19504a50bb148dc6a1b55231",
            "value": ""
          }
        },
        "8c7b0e2ce47f4a23b9fb8a77fe13c1c9": {
          "model_module": "@jupyter-widgets/base",
          "model_name": "LayoutModel",
          "model_module_version": "1.2.0",
          "state": {
            "_model_module": "@jupyter-widgets/base",
            "_model_module_version": "1.2.0",
            "_model_name": "LayoutModel",
            "_view_count": null,
            "_view_module": "@jupyter-widgets/base",
            "_view_module_version": "1.2.0",
            "_view_name": "LayoutView",
            "align_content": null,
            "align_items": null,
            "align_self": null,
            "border": null,
            "bottom": null,
            "display": null,
            "flex": null,
            "flex_flow": null,
            "grid_area": null,
            "grid_auto_columns": null,
            "grid_auto_flow": null,
            "grid_auto_rows": null,
            "grid_column": null,
            "grid_gap": null,
            "grid_row": null,
            "grid_template_areas": null,
            "grid_template_columns": null,
            "grid_template_rows": null,
            "height": "100%",
            "justify_content": null,
            "justify_items": null,
            "left": null,
            "margin": null,
            "max_height": null,
            "max_width": null,
            "min_height": null,
            "min_width": null,
            "object_fit": null,
            "object_position": null,
            "order": null,
            "overflow": null,
            "overflow_x": null,
            "overflow_y": null,
            "padding": null,
            "right": null,
            "top": null,
            "visibility": null,
            "width": "auto"
          }
        },
        "102fab8e19504a50bb148dc6a1b55231": {
          "model_module": "@jupyter-widgets/controls",
          "model_name": "DescriptionStyleModel",
          "model_module_version": "1.5.0",
          "state": {
            "_model_module": "@jupyter-widgets/controls",
            "_model_module_version": "1.5.0",
            "_model_name": "DescriptionStyleModel",
            "_view_count": null,
            "_view_module": "@jupyter-widgets/base",
            "_view_module_version": "1.2.0",
            "_view_name": "StyleView",
            "description_width": "initial"
          }
        },
        "87d1f2aa5d69456c8129150e74875d7c": {
          "model_module": "@jupyter-widgets/controls",
          "model_name": "TextareaModel",
          "model_module_version": "1.5.0",
          "state": {
            "_dom_classes": [],
            "_model_module": "@jupyter-widgets/controls",
            "_model_module_version": "1.5.0",
            "_model_name": "TextareaModel",
            "_view_count": null,
            "_view_module": "@jupyter-widgets/controls",
            "_view_module_version": "1.5.0",
            "_view_name": "TextareaView",
            "continuous_update": true,
            "description": "Target Variable Insights:",
            "description_tooltip": null,
            "disabled": false,
            "layout": "IPY_MODEL_cb7d0d9344bc435999c34b37158c14e7",
            "placeholder": "<student to fill this section>",
            "rows": null,
            "style": "IPY_MODEL_beee21ee03b549ef9cf8da4e06c9421c",
            "value": ""
          }
        },
        "cb7d0d9344bc435999c34b37158c14e7": {
          "model_module": "@jupyter-widgets/base",
          "model_name": "LayoutModel",
          "model_module_version": "1.2.0",
          "state": {
            "_model_module": "@jupyter-widgets/base",
            "_model_module_version": "1.2.0",
            "_model_name": "LayoutModel",
            "_view_count": null,
            "_view_module": "@jupyter-widgets/base",
            "_view_module_version": "1.2.0",
            "_view_name": "LayoutView",
            "align_content": null,
            "align_items": null,
            "align_self": null,
            "border": null,
            "bottom": null,
            "display": null,
            "flex": null,
            "flex_flow": null,
            "grid_area": null,
            "grid_auto_columns": null,
            "grid_auto_flow": null,
            "grid_auto_rows": null,
            "grid_column": null,
            "grid_gap": null,
            "grid_row": null,
            "grid_template_areas": null,
            "grid_template_columns": null,
            "grid_template_rows": null,
            "height": "100%",
            "justify_content": null,
            "justify_items": null,
            "left": null,
            "margin": null,
            "max_height": null,
            "max_width": null,
            "min_height": null,
            "min_width": null,
            "object_fit": null,
            "object_position": null,
            "order": null,
            "overflow": null,
            "overflow_x": null,
            "overflow_y": null,
            "padding": null,
            "right": null,
            "top": null,
            "visibility": null,
            "width": "auto"
          }
        },
        "beee21ee03b549ef9cf8da4e06c9421c": {
          "model_module": "@jupyter-widgets/controls",
          "model_name": "DescriptionStyleModel",
          "model_module_version": "1.5.0",
          "state": {
            "_model_module": "@jupyter-widgets/controls",
            "_model_module_version": "1.5.0",
            "_model_name": "DescriptionStyleModel",
            "_view_count": null,
            "_view_module": "@jupyter-widgets/base",
            "_view_module_version": "1.2.0",
            "_view_name": "StyleView",
            "description_width": "initial"
          }
        },
        "6442c255eb76448a92a8f4d1a2538489": {
          "model_module": "@jupyter-widgets/controls",
          "model_name": "TextareaModel",
          "model_module_version": "1.5.0",
          "state": {
            "_dom_classes": [],
            "_model_module": "@jupyter-widgets/controls",
            "_model_module_version": "1.5.0",
            "_model_name": "TextareaModel",
            "_view_count": null,
            "_view_module": "@jupyter-widgets/controls",
            "_view_module_version": "1.5.0",
            "_view_name": "TextareaView",
            "continuous_update": true,
            "description": "Feature Insights:",
            "description_tooltip": null,
            "disabled": false,
            "layout": "IPY_MODEL_479f04b4c13742cd9e4c838d431157c3",
            "placeholder": "<student to fill this section>",
            "rows": null,
            "style": "IPY_MODEL_f2074a55a5a9432ea17fd785a7cc696f",
            "value": ""
          }
        },
        "479f04b4c13742cd9e4c838d431157c3": {
          "model_module": "@jupyter-widgets/base",
          "model_name": "LayoutModel",
          "model_module_version": "1.2.0",
          "state": {
            "_model_module": "@jupyter-widgets/base",
            "_model_module_version": "1.2.0",
            "_model_name": "LayoutModel",
            "_view_count": null,
            "_view_module": "@jupyter-widgets/base",
            "_view_module_version": "1.2.0",
            "_view_name": "LayoutView",
            "align_content": null,
            "align_items": null,
            "align_self": null,
            "border": null,
            "bottom": null,
            "display": null,
            "flex": null,
            "flex_flow": null,
            "grid_area": null,
            "grid_auto_columns": null,
            "grid_auto_flow": null,
            "grid_auto_rows": null,
            "grid_column": null,
            "grid_gap": null,
            "grid_row": null,
            "grid_template_areas": null,
            "grid_template_columns": null,
            "grid_template_rows": null,
            "height": "100%",
            "justify_content": null,
            "justify_items": null,
            "left": null,
            "margin": null,
            "max_height": null,
            "max_width": null,
            "min_height": null,
            "min_width": null,
            "object_fit": null,
            "object_position": null,
            "order": null,
            "overflow": null,
            "overflow_x": null,
            "overflow_y": null,
            "padding": null,
            "right": null,
            "top": null,
            "visibility": null,
            "width": "auto"
          }
        },
        "f2074a55a5a9432ea17fd785a7cc696f": {
          "model_module": "@jupyter-widgets/controls",
          "model_name": "DescriptionStyleModel",
          "model_module_version": "1.5.0",
          "state": {
            "_model_module": "@jupyter-widgets/controls",
            "_model_module_version": "1.5.0",
            "_model_name": "DescriptionStyleModel",
            "_view_count": null,
            "_view_module": "@jupyter-widgets/base",
            "_view_module_version": "1.2.0",
            "_view_name": "StyleView",
            "description_width": "initial"
          }
        },
        "4f325226411d450b93e5ef829d5b7bea": {
          "model_module": "@jupyter-widgets/controls",
          "model_name": "TextareaModel",
          "model_module_version": "1.5.0",
          "state": {
            "_dom_classes": [],
            "_model_module": "@jupyter-widgets/controls",
            "_model_module_version": "1.5.0",
            "_model_name": "TextareaModel",
            "_view_count": null,
            "_view_module": "@jupyter-widgets/controls",
            "_view_module_version": "1.5.0",
            "_view_name": "TextareaView",
            "continuous_update": true,
            "description": "Feature Selection 1:",
            "description_tooltip": null,
            "disabled": false,
            "layout": "IPY_MODEL_ed4a1985c11b4d97befc52a1cb47b156",
            "placeholder": "<student to fill this section>",
            "rows": null,
            "style": "IPY_MODEL_5b1552e31d4f415a8be071aff2c14560",
            "value": ""
          }
        },
        "ed4a1985c11b4d97befc52a1cb47b156": {
          "model_module": "@jupyter-widgets/base",
          "model_name": "LayoutModel",
          "model_module_version": "1.2.0",
          "state": {
            "_model_module": "@jupyter-widgets/base",
            "_model_module_version": "1.2.0",
            "_model_name": "LayoutModel",
            "_view_count": null,
            "_view_module": "@jupyter-widgets/base",
            "_view_module_version": "1.2.0",
            "_view_name": "LayoutView",
            "align_content": null,
            "align_items": null,
            "align_self": null,
            "border": null,
            "bottom": null,
            "display": null,
            "flex": null,
            "flex_flow": null,
            "grid_area": null,
            "grid_auto_columns": null,
            "grid_auto_flow": null,
            "grid_auto_rows": null,
            "grid_column": null,
            "grid_gap": null,
            "grid_row": null,
            "grid_template_areas": null,
            "grid_template_columns": null,
            "grid_template_rows": null,
            "height": "100%",
            "justify_content": null,
            "justify_items": null,
            "left": null,
            "margin": null,
            "max_height": null,
            "max_width": null,
            "min_height": null,
            "min_width": null,
            "object_fit": null,
            "object_position": null,
            "order": null,
            "overflow": null,
            "overflow_x": null,
            "overflow_y": null,
            "padding": null,
            "right": null,
            "top": null,
            "visibility": null,
            "width": "auto"
          }
        },
        "5b1552e31d4f415a8be071aff2c14560": {
          "model_module": "@jupyter-widgets/controls",
          "model_name": "DescriptionStyleModel",
          "model_module_version": "1.5.0",
          "state": {
            "_model_module": "@jupyter-widgets/controls",
            "_model_module_version": "1.5.0",
            "_model_name": "DescriptionStyleModel",
            "_view_count": null,
            "_view_module": "@jupyter-widgets/base",
            "_view_module_version": "1.2.0",
            "_view_name": "StyleView",
            "description_width": "initial"
          }
        },
        "cd5b52cfe2a34a0ebe1f099106c78fb9": {
          "model_module": "@jupyter-widgets/controls",
          "model_name": "TextareaModel",
          "model_module_version": "1.5.0",
          "state": {
            "_dom_classes": [],
            "_model_module": "@jupyter-widgets/controls",
            "_model_module_version": "1.5.0",
            "_model_name": "TextareaModel",
            "_view_count": null,
            "_view_module": "@jupyter-widgets/controls",
            "_view_module_version": "1.5.0",
            "_view_name": "TextareaView",
            "continuous_update": true,
            "description": "Feature Selection 2:",
            "description_tooltip": null,
            "disabled": false,
            "layout": "IPY_MODEL_3662bdb647074b5c8d1543e62408c9f9",
            "placeholder": "<student to fill this section>",
            "rows": null,
            "style": "IPY_MODEL_7ce7a7c96dcd42929dafa60f63dd5453",
            "value": ""
          }
        },
        "3662bdb647074b5c8d1543e62408c9f9": {
          "model_module": "@jupyter-widgets/base",
          "model_name": "LayoutModel",
          "model_module_version": "1.2.0",
          "state": {
            "_model_module": "@jupyter-widgets/base",
            "_model_module_version": "1.2.0",
            "_model_name": "LayoutModel",
            "_view_count": null,
            "_view_module": "@jupyter-widgets/base",
            "_view_module_version": "1.2.0",
            "_view_name": "LayoutView",
            "align_content": null,
            "align_items": null,
            "align_self": null,
            "border": null,
            "bottom": null,
            "display": null,
            "flex": null,
            "flex_flow": null,
            "grid_area": null,
            "grid_auto_columns": null,
            "grid_auto_flow": null,
            "grid_auto_rows": null,
            "grid_column": null,
            "grid_gap": null,
            "grid_row": null,
            "grid_template_areas": null,
            "grid_template_columns": null,
            "grid_template_rows": null,
            "height": "100%",
            "justify_content": null,
            "justify_items": null,
            "left": null,
            "margin": null,
            "max_height": null,
            "max_width": null,
            "min_height": null,
            "min_width": null,
            "object_fit": null,
            "object_position": null,
            "order": null,
            "overflow": null,
            "overflow_x": null,
            "overflow_y": null,
            "padding": null,
            "right": null,
            "top": null,
            "visibility": null,
            "width": "auto"
          }
        },
        "7ce7a7c96dcd42929dafa60f63dd5453": {
          "model_module": "@jupyter-widgets/controls",
          "model_name": "DescriptionStyleModel",
          "model_module_version": "1.5.0",
          "state": {
            "_model_module": "@jupyter-widgets/controls",
            "_model_module_version": "1.5.0",
            "_model_name": "DescriptionStyleModel",
            "_view_count": null,
            "_view_module": "@jupyter-widgets/base",
            "_view_module_version": "1.2.0",
            "_view_name": "StyleView",
            "description_width": "initial"
          }
        },
        "cbba990bac894654aa895b0a082cff9f": {
          "model_module": "@jupyter-widgets/controls",
          "model_name": "TextareaModel",
          "model_module_version": "1.5.0",
          "state": {
            "_dom_classes": [],
            "_model_module": "@jupyter-widgets/controls",
            "_model_module_version": "1.5.0",
            "_model_name": "TextareaModel",
            "_view_count": null,
            "_view_module": "@jupyter-widgets/controls",
            "_view_module_version": "1.5.0",
            "_view_name": "TextareaView",
            "continuous_update": true,
            "description": "Feature Selection Explanation:",
            "description_tooltip": null,
            "disabled": false,
            "layout": "IPY_MODEL_2e8b3b5a8a614f58a96457f2243cc0bd",
            "placeholder": "<student to fill this section>",
            "rows": null,
            "style": "IPY_MODEL_20212306ae6441fda853ddd4d22c3a91",
            "value": ""
          }
        },
        "2e8b3b5a8a614f58a96457f2243cc0bd": {
          "model_module": "@jupyter-widgets/base",
          "model_name": "LayoutModel",
          "model_module_version": "1.2.0",
          "state": {
            "_model_module": "@jupyter-widgets/base",
            "_model_module_version": "1.2.0",
            "_model_name": "LayoutModel",
            "_view_count": null,
            "_view_module": "@jupyter-widgets/base",
            "_view_module_version": "1.2.0",
            "_view_name": "LayoutView",
            "align_content": null,
            "align_items": null,
            "align_self": null,
            "border": null,
            "bottom": null,
            "display": null,
            "flex": null,
            "flex_flow": null,
            "grid_area": null,
            "grid_auto_columns": null,
            "grid_auto_flow": null,
            "grid_auto_rows": null,
            "grid_column": null,
            "grid_gap": null,
            "grid_row": null,
            "grid_template_areas": null,
            "grid_template_columns": null,
            "grid_template_rows": null,
            "height": "100%",
            "justify_content": null,
            "justify_items": null,
            "left": null,
            "margin": null,
            "max_height": null,
            "max_width": null,
            "min_height": null,
            "min_width": null,
            "object_fit": null,
            "object_position": null,
            "order": null,
            "overflow": null,
            "overflow_x": null,
            "overflow_y": null,
            "padding": null,
            "right": null,
            "top": null,
            "visibility": null,
            "width": "auto"
          }
        },
        "20212306ae6441fda853ddd4d22c3a91": {
          "model_module": "@jupyter-widgets/controls",
          "model_name": "DescriptionStyleModel",
          "model_module_version": "1.5.0",
          "state": {
            "_model_module": "@jupyter-widgets/controls",
            "_model_module_version": "1.5.0",
            "_model_name": "DescriptionStyleModel",
            "_view_count": null,
            "_view_module": "@jupyter-widgets/base",
            "_view_module_version": "1.2.0",
            "_view_name": "StyleView",
            "description_width": "initial"
          }
        },
        "6df72a1b075c493f8cec91e0fbb61a46": {
          "model_module": "@jupyter-widgets/controls",
          "model_name": "TextareaModel",
          "model_module_version": "1.5.0",
          "state": {
            "_dom_classes": [],
            "_model_module": "@jupyter-widgets/controls",
            "_model_module_version": "1.5.0",
            "_model_name": "TextareaModel",
            "_view_count": null,
            "_view_module": "@jupyter-widgets/controls",
            "_view_module_version": "1.5.0",
            "_view_name": "TextareaView",
            "continuous_update": true,
            "description": "Data Cleaning 1 Explanation:",
            "description_tooltip": null,
            "disabled": false,
            "layout": "IPY_MODEL_510caa9ea1174f3a82188a3d59229b8e",
            "placeholder": "<student to fill this section>",
            "rows": null,
            "style": "IPY_MODEL_7b6b09c129d24f53a74ef70cfa04dd0c",
            "value": ""
          }
        },
        "510caa9ea1174f3a82188a3d59229b8e": {
          "model_module": "@jupyter-widgets/base",
          "model_name": "LayoutModel",
          "model_module_version": "1.2.0",
          "state": {
            "_model_module": "@jupyter-widgets/base",
            "_model_module_version": "1.2.0",
            "_model_name": "LayoutModel",
            "_view_count": null,
            "_view_module": "@jupyter-widgets/base",
            "_view_module_version": "1.2.0",
            "_view_name": "LayoutView",
            "align_content": null,
            "align_items": null,
            "align_self": null,
            "border": null,
            "bottom": null,
            "display": null,
            "flex": null,
            "flex_flow": null,
            "grid_area": null,
            "grid_auto_columns": null,
            "grid_auto_flow": null,
            "grid_auto_rows": null,
            "grid_column": null,
            "grid_gap": null,
            "grid_row": null,
            "grid_template_areas": null,
            "grid_template_columns": null,
            "grid_template_rows": null,
            "height": "100%",
            "justify_content": null,
            "justify_items": null,
            "left": null,
            "margin": null,
            "max_height": null,
            "max_width": null,
            "min_height": null,
            "min_width": null,
            "object_fit": null,
            "object_position": null,
            "order": null,
            "overflow": null,
            "overflow_x": null,
            "overflow_y": null,
            "padding": null,
            "right": null,
            "top": null,
            "visibility": null,
            "width": "auto"
          }
        },
        "7b6b09c129d24f53a74ef70cfa04dd0c": {
          "model_module": "@jupyter-widgets/controls",
          "model_name": "DescriptionStyleModel",
          "model_module_version": "1.5.0",
          "state": {
            "_model_module": "@jupyter-widgets/controls",
            "_model_module_version": "1.5.0",
            "_model_name": "DescriptionStyleModel",
            "_view_count": null,
            "_view_module": "@jupyter-widgets/base",
            "_view_module_version": "1.2.0",
            "_view_name": "StyleView",
            "description_width": "initial"
          }
        },
        "d0467ec4c8194ef088e0da8795b8a7f2": {
          "model_module": "@jupyter-widgets/controls",
          "model_name": "TextareaModel",
          "model_module_version": "1.5.0",
          "state": {
            "_dom_classes": [],
            "_model_module": "@jupyter-widgets/controls",
            "_model_module_version": "1.5.0",
            "_model_name": "TextareaModel",
            "_view_count": null,
            "_view_module": "@jupyter-widgets/controls",
            "_view_module_version": "1.5.0",
            "_view_name": "TextareaView",
            "continuous_update": true,
            "description": "Data Cleaning 1 Explanation:",
            "description_tooltip": null,
            "disabled": false,
            "layout": "IPY_MODEL_0f28517769b54816a6b7756cc9486352",
            "placeholder": "<student to fill this section>",
            "rows": null,
            "style": "IPY_MODEL_83b7fb4bfd184016911d0d25ab2c26a6",
            "value": ""
          }
        },
        "0f28517769b54816a6b7756cc9486352": {
          "model_module": "@jupyter-widgets/base",
          "model_name": "LayoutModel",
          "model_module_version": "1.2.0",
          "state": {
            "_model_module": "@jupyter-widgets/base",
            "_model_module_version": "1.2.0",
            "_model_name": "LayoutModel",
            "_view_count": null,
            "_view_module": "@jupyter-widgets/base",
            "_view_module_version": "1.2.0",
            "_view_name": "LayoutView",
            "align_content": null,
            "align_items": null,
            "align_self": null,
            "border": null,
            "bottom": null,
            "display": null,
            "flex": null,
            "flex_flow": null,
            "grid_area": null,
            "grid_auto_columns": null,
            "grid_auto_flow": null,
            "grid_auto_rows": null,
            "grid_column": null,
            "grid_gap": null,
            "grid_row": null,
            "grid_template_areas": null,
            "grid_template_columns": null,
            "grid_template_rows": null,
            "height": "100%",
            "justify_content": null,
            "justify_items": null,
            "left": null,
            "margin": null,
            "max_height": null,
            "max_width": null,
            "min_height": null,
            "min_width": null,
            "object_fit": null,
            "object_position": null,
            "order": null,
            "overflow": null,
            "overflow_x": null,
            "overflow_y": null,
            "padding": null,
            "right": null,
            "top": null,
            "visibility": null,
            "width": "auto"
          }
        },
        "83b7fb4bfd184016911d0d25ab2c26a6": {
          "model_module": "@jupyter-widgets/controls",
          "model_name": "DescriptionStyleModel",
          "model_module_version": "1.5.0",
          "state": {
            "_model_module": "@jupyter-widgets/controls",
            "_model_module_version": "1.5.0",
            "_model_name": "DescriptionStyleModel",
            "_view_count": null,
            "_view_module": "@jupyter-widgets/base",
            "_view_module_version": "1.2.0",
            "_view_name": "StyleView",
            "description_width": "initial"
          }
        },
        "99a2303507fb416cb2bb703b901d1a86": {
          "model_module": "@jupyter-widgets/controls",
          "model_name": "TextareaModel",
          "model_module_version": "1.5.0",
          "state": {
            "_dom_classes": [],
            "_model_module": "@jupyter-widgets/controls",
            "_model_module_version": "1.5.0",
            "_model_name": "TextareaModel",
            "_view_count": null,
            "_view_module": "@jupyter-widgets/controls",
            "_view_module_version": "1.5.0",
            "_view_name": "TextareaView",
            "continuous_update": true,
            "description": "Data Cleaning 3 Explanation:",
            "description_tooltip": null,
            "disabled": false,
            "layout": "IPY_MODEL_009d2d38b8bb4b1082dbeef5b03ee0bc",
            "placeholder": "<student to fill this section>",
            "rows": null,
            "style": "IPY_MODEL_d10663a16374421bbd5c19c5114799d9",
            "value": ""
          }
        },
        "009d2d38b8bb4b1082dbeef5b03ee0bc": {
          "model_module": "@jupyter-widgets/base",
          "model_name": "LayoutModel",
          "model_module_version": "1.2.0",
          "state": {
            "_model_module": "@jupyter-widgets/base",
            "_model_module_version": "1.2.0",
            "_model_name": "LayoutModel",
            "_view_count": null,
            "_view_module": "@jupyter-widgets/base",
            "_view_module_version": "1.2.0",
            "_view_name": "LayoutView",
            "align_content": null,
            "align_items": null,
            "align_self": null,
            "border": null,
            "bottom": null,
            "display": null,
            "flex": null,
            "flex_flow": null,
            "grid_area": null,
            "grid_auto_columns": null,
            "grid_auto_flow": null,
            "grid_auto_rows": null,
            "grid_column": null,
            "grid_gap": null,
            "grid_row": null,
            "grid_template_areas": null,
            "grid_template_columns": null,
            "grid_template_rows": null,
            "height": "100%",
            "justify_content": null,
            "justify_items": null,
            "left": null,
            "margin": null,
            "max_height": null,
            "max_width": null,
            "min_height": null,
            "min_width": null,
            "object_fit": null,
            "object_position": null,
            "order": null,
            "overflow": null,
            "overflow_x": null,
            "overflow_y": null,
            "padding": null,
            "right": null,
            "top": null,
            "visibility": null,
            "width": "auto"
          }
        },
        "d10663a16374421bbd5c19c5114799d9": {
          "model_module": "@jupyter-widgets/controls",
          "model_name": "DescriptionStyleModel",
          "model_module_version": "1.5.0",
          "state": {
            "_model_module": "@jupyter-widgets/controls",
            "_model_module_version": "1.5.0",
            "_model_name": "DescriptionStyleModel",
            "_view_count": null,
            "_view_module": "@jupyter-widgets/base",
            "_view_module_version": "1.2.0",
            "_view_name": "StyleView",
            "description_width": "initial"
          }
        },
        "27190e4894fc4a079b98204953a031f9": {
          "model_module": "@jupyter-widgets/controls",
          "model_name": "TextareaModel",
          "model_module_version": "1.5.0",
          "state": {
            "_dom_classes": [],
            "_model_module": "@jupyter-widgets/controls",
            "_model_module_version": "1.5.0",
            "_model_name": "TextareaModel",
            "_view_count": null,
            "_view_module": "@jupyter-widgets/controls",
            "_view_module_version": "1.5.0",
            "_view_name": "TextareaView",
            "continuous_update": true,
            "description": "Feature Engineering 1 Explanation:",
            "description_tooltip": null,
            "disabled": false,
            "layout": "IPY_MODEL_379ac5bdf7004d6893e36f8d5f243caf",
            "placeholder": "<student to fill this section>",
            "rows": null,
            "style": "IPY_MODEL_117e8f087fc149e89147153444e9611d",
            "value": ""
          }
        },
        "379ac5bdf7004d6893e36f8d5f243caf": {
          "model_module": "@jupyter-widgets/base",
          "model_name": "LayoutModel",
          "model_module_version": "1.2.0",
          "state": {
            "_model_module": "@jupyter-widgets/base",
            "_model_module_version": "1.2.0",
            "_model_name": "LayoutModel",
            "_view_count": null,
            "_view_module": "@jupyter-widgets/base",
            "_view_module_version": "1.2.0",
            "_view_name": "LayoutView",
            "align_content": null,
            "align_items": null,
            "align_self": null,
            "border": null,
            "bottom": null,
            "display": null,
            "flex": null,
            "flex_flow": null,
            "grid_area": null,
            "grid_auto_columns": null,
            "grid_auto_flow": null,
            "grid_auto_rows": null,
            "grid_column": null,
            "grid_gap": null,
            "grid_row": null,
            "grid_template_areas": null,
            "grid_template_columns": null,
            "grid_template_rows": null,
            "height": "100%",
            "justify_content": null,
            "justify_items": null,
            "left": null,
            "margin": null,
            "max_height": null,
            "max_width": null,
            "min_height": null,
            "min_width": null,
            "object_fit": null,
            "object_position": null,
            "order": null,
            "overflow": null,
            "overflow_x": null,
            "overflow_y": null,
            "padding": null,
            "right": null,
            "top": null,
            "visibility": null,
            "width": "auto"
          }
        },
        "117e8f087fc149e89147153444e9611d": {
          "model_module": "@jupyter-widgets/controls",
          "model_name": "DescriptionStyleModel",
          "model_module_version": "1.5.0",
          "state": {
            "_model_module": "@jupyter-widgets/controls",
            "_model_module_version": "1.5.0",
            "_model_name": "DescriptionStyleModel",
            "_view_count": null,
            "_view_module": "@jupyter-widgets/base",
            "_view_module_version": "1.2.0",
            "_view_name": "StyleView",
            "description_width": "initial"
          }
        },
        "af543d4659784f089f2b72487be7554d": {
          "model_module": "@jupyter-widgets/controls",
          "model_name": "TextareaModel",
          "model_module_version": "1.5.0",
          "state": {
            "_dom_classes": [],
            "_model_module": "@jupyter-widgets/controls",
            "_model_module_version": "1.5.0",
            "_model_name": "TextareaModel",
            "_view_count": null,
            "_view_module": "@jupyter-widgets/controls",
            "_view_module_version": "1.5.0",
            "_view_name": "TextareaView",
            "continuous_update": true,
            "description": "Feature Engineering 2 Explanation:",
            "description_tooltip": null,
            "disabled": false,
            "layout": "IPY_MODEL_b67a4bceab0a4273b40f0c1c42a746fb",
            "placeholder": "<student to fill this section>",
            "rows": null,
            "style": "IPY_MODEL_2daeffa4efc24be08e6b57ca8f18fded",
            "value": ""
          }
        },
        "b67a4bceab0a4273b40f0c1c42a746fb": {
          "model_module": "@jupyter-widgets/base",
          "model_name": "LayoutModel",
          "model_module_version": "1.2.0",
          "state": {
            "_model_module": "@jupyter-widgets/base",
            "_model_module_version": "1.2.0",
            "_model_name": "LayoutModel",
            "_view_count": null,
            "_view_module": "@jupyter-widgets/base",
            "_view_module_version": "1.2.0",
            "_view_name": "LayoutView",
            "align_content": null,
            "align_items": null,
            "align_self": null,
            "border": null,
            "bottom": null,
            "display": null,
            "flex": null,
            "flex_flow": null,
            "grid_area": null,
            "grid_auto_columns": null,
            "grid_auto_flow": null,
            "grid_auto_rows": null,
            "grid_column": null,
            "grid_gap": null,
            "grid_row": null,
            "grid_template_areas": null,
            "grid_template_columns": null,
            "grid_template_rows": null,
            "height": "100%",
            "justify_content": null,
            "justify_items": null,
            "left": null,
            "margin": null,
            "max_height": null,
            "max_width": null,
            "min_height": null,
            "min_width": null,
            "object_fit": null,
            "object_position": null,
            "order": null,
            "overflow": null,
            "overflow_x": null,
            "overflow_y": null,
            "padding": null,
            "right": null,
            "top": null,
            "visibility": null,
            "width": "auto"
          }
        },
        "2daeffa4efc24be08e6b57ca8f18fded": {
          "model_module": "@jupyter-widgets/controls",
          "model_name": "DescriptionStyleModel",
          "model_module_version": "1.5.0",
          "state": {
            "_model_module": "@jupyter-widgets/controls",
            "_model_module_version": "1.5.0",
            "_model_name": "DescriptionStyleModel",
            "_view_count": null,
            "_view_module": "@jupyter-widgets/base",
            "_view_module_version": "1.2.0",
            "_view_name": "StyleView",
            "description_width": "initial"
          }
        },
        "ab324c5bb8de4376bd938617367bf2fc": {
          "model_module": "@jupyter-widgets/controls",
          "model_name": "TextareaModel",
          "model_module_version": "1.5.0",
          "state": {
            "_dom_classes": [],
            "_model_module": "@jupyter-widgets/controls",
            "_model_module_version": "1.5.0",
            "_model_name": "TextareaModel",
            "_view_count": null,
            "_view_module": "@jupyter-widgets/controls",
            "_view_module_version": "1.5.0",
            "_view_name": "TextareaView",
            "continuous_update": true,
            "description": "Feature Engineering 3 Explanation:",
            "description_tooltip": null,
            "disabled": false,
            "layout": "IPY_MODEL_df67d45a8a174ea58be8519e40538d1e",
            "placeholder": "<student to fill this section>",
            "rows": null,
            "style": "IPY_MODEL_b0213510335b4679a4c083f3093e8d42",
            "value": ""
          }
        },
        "df67d45a8a174ea58be8519e40538d1e": {
          "model_module": "@jupyter-widgets/base",
          "model_name": "LayoutModel",
          "model_module_version": "1.2.0",
          "state": {
            "_model_module": "@jupyter-widgets/base",
            "_model_module_version": "1.2.0",
            "_model_name": "LayoutModel",
            "_view_count": null,
            "_view_module": "@jupyter-widgets/base",
            "_view_module_version": "1.2.0",
            "_view_name": "LayoutView",
            "align_content": null,
            "align_items": null,
            "align_self": null,
            "border": null,
            "bottom": null,
            "display": null,
            "flex": null,
            "flex_flow": null,
            "grid_area": null,
            "grid_auto_columns": null,
            "grid_auto_flow": null,
            "grid_auto_rows": null,
            "grid_column": null,
            "grid_gap": null,
            "grid_row": null,
            "grid_template_areas": null,
            "grid_template_columns": null,
            "grid_template_rows": null,
            "height": "100%",
            "justify_content": null,
            "justify_items": null,
            "left": null,
            "margin": null,
            "max_height": null,
            "max_width": null,
            "min_height": null,
            "min_width": null,
            "object_fit": null,
            "object_position": null,
            "order": null,
            "overflow": null,
            "overflow_x": null,
            "overflow_y": null,
            "padding": null,
            "right": null,
            "top": null,
            "visibility": null,
            "width": "auto"
          }
        },
        "b0213510335b4679a4c083f3093e8d42": {
          "model_module": "@jupyter-widgets/controls",
          "model_name": "DescriptionStyleModel",
          "model_module_version": "1.5.0",
          "state": {
            "_model_module": "@jupyter-widgets/controls",
            "_model_module_version": "1.5.0",
            "_model_name": "DescriptionStyleModel",
            "_view_count": null,
            "_view_module": "@jupyter-widgets/base",
            "_view_module_version": "1.2.0",
            "_view_name": "StyleView",
            "description_width": "initial"
          }
        },
        "c5122d1577c242bf82265a19e9059c0e": {
          "model_module": "@jupyter-widgets/controls",
          "model_name": "TextareaModel",
          "model_module_version": "1.5.0",
          "state": {
            "_dom_classes": [],
            "_model_module": "@jupyter-widgets/controls",
            "_model_module_version": "1.5.0",
            "_model_name": "TextareaModel",
            "_view_count": null,
            "_view_module": "@jupyter-widgets/controls",
            "_view_module_version": "1.5.0",
            "_view_name": "TextareaView",
            "continuous_update": true,
            "description": "Data Splitting Explanation:",
            "description_tooltip": null,
            "disabled": false,
            "layout": "IPY_MODEL_e0e42de98aa94edb9a5a6969ec3c2a11",
            "placeholder": "<student to fill this section>",
            "rows": null,
            "style": "IPY_MODEL_ceefe7cd97a34d10af3328e403eaefb6",
            "value": ""
          }
        },
        "e0e42de98aa94edb9a5a6969ec3c2a11": {
          "model_module": "@jupyter-widgets/base",
          "model_name": "LayoutModel",
          "model_module_version": "1.2.0",
          "state": {
            "_model_module": "@jupyter-widgets/base",
            "_model_module_version": "1.2.0",
            "_model_name": "LayoutModel",
            "_view_count": null,
            "_view_module": "@jupyter-widgets/base",
            "_view_module_version": "1.2.0",
            "_view_name": "LayoutView",
            "align_content": null,
            "align_items": null,
            "align_self": null,
            "border": null,
            "bottom": null,
            "display": null,
            "flex": null,
            "flex_flow": null,
            "grid_area": null,
            "grid_auto_columns": null,
            "grid_auto_flow": null,
            "grid_auto_rows": null,
            "grid_column": null,
            "grid_gap": null,
            "grid_row": null,
            "grid_template_areas": null,
            "grid_template_columns": null,
            "grid_template_rows": null,
            "height": "100%",
            "justify_content": null,
            "justify_items": null,
            "left": null,
            "margin": null,
            "max_height": null,
            "max_width": null,
            "min_height": null,
            "min_width": null,
            "object_fit": null,
            "object_position": null,
            "order": null,
            "overflow": null,
            "overflow_x": null,
            "overflow_y": null,
            "padding": null,
            "right": null,
            "top": null,
            "visibility": null,
            "width": "auto"
          }
        },
        "ceefe7cd97a34d10af3328e403eaefb6": {
          "model_module": "@jupyter-widgets/controls",
          "model_name": "DescriptionStyleModel",
          "model_module_version": "1.5.0",
          "state": {
            "_model_module": "@jupyter-widgets/controls",
            "_model_module_version": "1.5.0",
            "_model_name": "DescriptionStyleModel",
            "_view_count": null,
            "_view_module": "@jupyter-widgets/base",
            "_view_module_version": "1.2.0",
            "_view_name": "StyleView",
            "description_width": "initial"
          }
        },
        "d054df07fe0f436da37786d6aed79e3c": {
          "model_module": "@jupyter-widgets/controls",
          "model_name": "TextareaModel",
          "model_module_version": "1.5.0",
          "state": {
            "_dom_classes": [],
            "_model_module": "@jupyter-widgets/controls",
            "_model_module_version": "1.5.0",
            "_model_name": "TextareaModel",
            "_view_count": null,
            "_view_module": "@jupyter-widgets/controls",
            "_view_module_version": "1.5.0",
            "_view_name": "TextareaView",
            "continuous_update": true,
            "description": "Data Preparation 1 Explanation:",
            "description_tooltip": null,
            "disabled": false,
            "layout": "IPY_MODEL_8644ef623e4c4110908bbc7db85be3bb",
            "placeholder": "<student to fill this section>",
            "rows": null,
            "style": "IPY_MODEL_cc395730f5f9443fa3012bce28001dac",
            "value": ""
          }
        },
        "8644ef623e4c4110908bbc7db85be3bb": {
          "model_module": "@jupyter-widgets/base",
          "model_name": "LayoutModel",
          "model_module_version": "1.2.0",
          "state": {
            "_model_module": "@jupyter-widgets/base",
            "_model_module_version": "1.2.0",
            "_model_name": "LayoutModel",
            "_view_count": null,
            "_view_module": "@jupyter-widgets/base",
            "_view_module_version": "1.2.0",
            "_view_name": "LayoutView",
            "align_content": null,
            "align_items": null,
            "align_self": null,
            "border": null,
            "bottom": null,
            "display": null,
            "flex": null,
            "flex_flow": null,
            "grid_area": null,
            "grid_auto_columns": null,
            "grid_auto_flow": null,
            "grid_auto_rows": null,
            "grid_column": null,
            "grid_gap": null,
            "grid_row": null,
            "grid_template_areas": null,
            "grid_template_columns": null,
            "grid_template_rows": null,
            "height": "100%",
            "justify_content": null,
            "justify_items": null,
            "left": null,
            "margin": null,
            "max_height": null,
            "max_width": null,
            "min_height": null,
            "min_width": null,
            "object_fit": null,
            "object_position": null,
            "order": null,
            "overflow": null,
            "overflow_x": null,
            "overflow_y": null,
            "padding": null,
            "right": null,
            "top": null,
            "visibility": null,
            "width": "auto"
          }
        },
        "cc395730f5f9443fa3012bce28001dac": {
          "model_module": "@jupyter-widgets/controls",
          "model_name": "DescriptionStyleModel",
          "model_module_version": "1.5.0",
          "state": {
            "_model_module": "@jupyter-widgets/controls",
            "_model_module_version": "1.5.0",
            "_model_name": "DescriptionStyleModel",
            "_view_count": null,
            "_view_module": "@jupyter-widgets/base",
            "_view_module_version": "1.2.0",
            "_view_name": "StyleView",
            "description_width": "initial"
          }
        },
        "11cb288e21824849b325cdb83fb0b6ac": {
          "model_module": "@jupyter-widgets/controls",
          "model_name": "TextareaModel",
          "model_module_version": "1.5.0",
          "state": {
            "_dom_classes": [],
            "_model_module": "@jupyter-widgets/controls",
            "_model_module_version": "1.5.0",
            "_model_name": "TextareaModel",
            "_view_count": null,
            "_view_module": "@jupyter-widgets/controls",
            "_view_module_version": "1.5.0",
            "_view_name": "TextareaView",
            "continuous_update": true,
            "description": "Data Preparation 2 Explanation:",
            "description_tooltip": null,
            "disabled": false,
            "layout": "IPY_MODEL_d78cfa92940e4bc9bfe6ce09b8844c30",
            "placeholder": "<student to fill this section>",
            "rows": null,
            "style": "IPY_MODEL_244ef21894cc4d60b5327e79f2084c9b",
            "value": ""
          }
        },
        "d78cfa92940e4bc9bfe6ce09b8844c30": {
          "model_module": "@jupyter-widgets/base",
          "model_name": "LayoutModel",
          "model_module_version": "1.2.0",
          "state": {
            "_model_module": "@jupyter-widgets/base",
            "_model_module_version": "1.2.0",
            "_model_name": "LayoutModel",
            "_view_count": null,
            "_view_module": "@jupyter-widgets/base",
            "_view_module_version": "1.2.0",
            "_view_name": "LayoutView",
            "align_content": null,
            "align_items": null,
            "align_self": null,
            "border": null,
            "bottom": null,
            "display": null,
            "flex": null,
            "flex_flow": null,
            "grid_area": null,
            "grid_auto_columns": null,
            "grid_auto_flow": null,
            "grid_auto_rows": null,
            "grid_column": null,
            "grid_gap": null,
            "grid_row": null,
            "grid_template_areas": null,
            "grid_template_columns": null,
            "grid_template_rows": null,
            "height": "100%",
            "justify_content": null,
            "justify_items": null,
            "left": null,
            "margin": null,
            "max_height": null,
            "max_width": null,
            "min_height": null,
            "min_width": null,
            "object_fit": null,
            "object_position": null,
            "order": null,
            "overflow": null,
            "overflow_x": null,
            "overflow_y": null,
            "padding": null,
            "right": null,
            "top": null,
            "visibility": null,
            "width": "auto"
          }
        },
        "244ef21894cc4d60b5327e79f2084c9b": {
          "model_module": "@jupyter-widgets/controls",
          "model_name": "DescriptionStyleModel",
          "model_module_version": "1.5.0",
          "state": {
            "_model_module": "@jupyter-widgets/controls",
            "_model_module_version": "1.5.0",
            "_model_name": "DescriptionStyleModel",
            "_view_count": null,
            "_view_module": "@jupyter-widgets/base",
            "_view_module_version": "1.2.0",
            "_view_name": "StyleView",
            "description_width": "initial"
          }
        },
        "f6b9660c76ac4c049673e8318a7203b6": {
          "model_module": "@jupyter-widgets/controls",
          "model_name": "TextareaModel",
          "model_module_version": "1.5.0",
          "state": {
            "_dom_classes": [],
            "_model_module": "@jupyter-widgets/controls",
            "_model_module_version": "1.5.0",
            "_model_name": "TextareaModel",
            "_view_count": null,
            "_view_module": "@jupyter-widgets/controls",
            "_view_module_version": "1.5.0",
            "_view_name": "TextareaView",
            "continuous_update": true,
            "description": "Data Preparation 3 Explanation:",
            "description_tooltip": null,
            "disabled": false,
            "layout": "IPY_MODEL_74ace03f56024f85935c38e3ff9e5665",
            "placeholder": "<student to fill this section>",
            "rows": null,
            "style": "IPY_MODEL_4b3b71b89f16410ba2a0016841b5c740",
            "value": ""
          }
        },
        "74ace03f56024f85935c38e3ff9e5665": {
          "model_module": "@jupyter-widgets/base",
          "model_name": "LayoutModel",
          "model_module_version": "1.2.0",
          "state": {
            "_model_module": "@jupyter-widgets/base",
            "_model_module_version": "1.2.0",
            "_model_name": "LayoutModel",
            "_view_count": null,
            "_view_module": "@jupyter-widgets/base",
            "_view_module_version": "1.2.0",
            "_view_name": "LayoutView",
            "align_content": null,
            "align_items": null,
            "align_self": null,
            "border": null,
            "bottom": null,
            "display": null,
            "flex": null,
            "flex_flow": null,
            "grid_area": null,
            "grid_auto_columns": null,
            "grid_auto_flow": null,
            "grid_auto_rows": null,
            "grid_column": null,
            "grid_gap": null,
            "grid_row": null,
            "grid_template_areas": null,
            "grid_template_columns": null,
            "grid_template_rows": null,
            "height": "100%",
            "justify_content": null,
            "justify_items": null,
            "left": null,
            "margin": null,
            "max_height": null,
            "max_width": null,
            "min_height": null,
            "min_width": null,
            "object_fit": null,
            "object_position": null,
            "order": null,
            "overflow": null,
            "overflow_x": null,
            "overflow_y": null,
            "padding": null,
            "right": null,
            "top": null,
            "visibility": null,
            "width": "auto"
          }
        },
        "4b3b71b89f16410ba2a0016841b5c740": {
          "model_module": "@jupyter-widgets/controls",
          "model_name": "DescriptionStyleModel",
          "model_module_version": "1.5.0",
          "state": {
            "_model_module": "@jupyter-widgets/controls",
            "_model_module_version": "1.5.0",
            "_model_name": "DescriptionStyleModel",
            "_view_count": null,
            "_view_module": "@jupyter-widgets/base",
            "_view_module_version": "1.2.0",
            "_view_name": "StyleView",
            "description_width": "initial"
          }
        },
        "b2c9590f81f248729c42fb8f433caf6c": {
          "model_module": "@jupyter-widgets/controls",
          "model_name": "TextareaModel",
          "model_module_version": "1.5.0",
          "state": {
            "_dom_classes": [],
            "_model_module": "@jupyter-widgets/controls",
            "_model_module_version": "1.5.0",
            "_model_name": "TextareaModel",
            "_view_count": null,
            "_view_module": "@jupyter-widgets/controls",
            "_view_module_version": "1.5.0",
            "_view_name": "TextareaView",
            "continuous_update": true,
            "description": "Performance Metrics Explanation:",
            "description_tooltip": null,
            "disabled": false,
            "layout": "IPY_MODEL_a64b540dff4e462f96f14d4a0e63e4a3",
            "placeholder": "<student to fill this section>",
            "rows": null,
            "style": "IPY_MODEL_a719acb68e564675a7b827e27d78ccc8",
            "value": ""
          }
        },
        "a64b540dff4e462f96f14d4a0e63e4a3": {
          "model_module": "@jupyter-widgets/base",
          "model_name": "LayoutModel",
          "model_module_version": "1.2.0",
          "state": {
            "_model_module": "@jupyter-widgets/base",
            "_model_module_version": "1.2.0",
            "_model_name": "LayoutModel",
            "_view_count": null,
            "_view_module": "@jupyter-widgets/base",
            "_view_module_version": "1.2.0",
            "_view_name": "LayoutView",
            "align_content": null,
            "align_items": null,
            "align_self": null,
            "border": null,
            "bottom": null,
            "display": null,
            "flex": null,
            "flex_flow": null,
            "grid_area": null,
            "grid_auto_columns": null,
            "grid_auto_flow": null,
            "grid_auto_rows": null,
            "grid_column": null,
            "grid_gap": null,
            "grid_row": null,
            "grid_template_areas": null,
            "grid_template_columns": null,
            "grid_template_rows": null,
            "height": "100%",
            "justify_content": null,
            "justify_items": null,
            "left": null,
            "margin": null,
            "max_height": null,
            "max_width": null,
            "min_height": null,
            "min_width": null,
            "object_fit": null,
            "object_position": null,
            "order": null,
            "overflow": null,
            "overflow_x": null,
            "overflow_y": null,
            "padding": null,
            "right": null,
            "top": null,
            "visibility": null,
            "width": "auto"
          }
        },
        "a719acb68e564675a7b827e27d78ccc8": {
          "model_module": "@jupyter-widgets/controls",
          "model_name": "DescriptionStyleModel",
          "model_module_version": "1.5.0",
          "state": {
            "_model_module": "@jupyter-widgets/controls",
            "_model_module_version": "1.5.0",
            "_model_name": "DescriptionStyleModel",
            "_view_count": null,
            "_view_module": "@jupyter-widgets/base",
            "_view_module_version": "1.2.0",
            "_view_name": "StyleView",
            "description_width": "initial"
          }
        },
        "12443a5c55a549e5bd35153acc1a0c33": {
          "model_module": "@jupyter-widgets/controls",
          "model_name": "TextareaModel",
          "model_module_version": "1.5.0",
          "state": {
            "_dom_classes": [],
            "_model_module": "@jupyter-widgets/controls",
            "_model_module_version": "1.5.0",
            "_model_name": "TextareaModel",
            "_view_count": null,
            "_view_module": "@jupyter-widgets/controls",
            "_view_module_version": "1.5.0",
            "_view_name": "TextareaView",
            "continuous_update": true,
            "description": "Model Performance Explanation:",
            "description_tooltip": null,
            "disabled": false,
            "layout": "IPY_MODEL_5eea648c0b9a46b4bcb857820f4775b8",
            "placeholder": "<student to fill this section>",
            "rows": null,
            "style": "IPY_MODEL_2b5fc5cfc935457a8d0f607e5e55b92a",
            "value": ""
          }
        },
        "5eea648c0b9a46b4bcb857820f4775b8": {
          "model_module": "@jupyter-widgets/base",
          "model_name": "LayoutModel",
          "model_module_version": "1.2.0",
          "state": {
            "_model_module": "@jupyter-widgets/base",
            "_model_module_version": "1.2.0",
            "_model_name": "LayoutModel",
            "_view_count": null,
            "_view_module": "@jupyter-widgets/base",
            "_view_module_version": "1.2.0",
            "_view_name": "LayoutView",
            "align_content": null,
            "align_items": null,
            "align_self": null,
            "border": null,
            "bottom": null,
            "display": null,
            "flex": null,
            "flex_flow": null,
            "grid_area": null,
            "grid_auto_columns": null,
            "grid_auto_flow": null,
            "grid_auto_rows": null,
            "grid_column": null,
            "grid_gap": null,
            "grid_row": null,
            "grid_template_areas": null,
            "grid_template_columns": null,
            "grid_template_rows": null,
            "height": "100%",
            "justify_content": null,
            "justify_items": null,
            "left": null,
            "margin": null,
            "max_height": null,
            "max_width": null,
            "min_height": null,
            "min_width": null,
            "object_fit": null,
            "object_position": null,
            "order": null,
            "overflow": null,
            "overflow_x": null,
            "overflow_y": null,
            "padding": null,
            "right": null,
            "top": null,
            "visibility": null,
            "width": "auto"
          }
        },
        "2b5fc5cfc935457a8d0f607e5e55b92a": {
          "model_module": "@jupyter-widgets/controls",
          "model_name": "DescriptionStyleModel",
          "model_module_version": "1.5.0",
          "state": {
            "_model_module": "@jupyter-widgets/controls",
            "_model_module_version": "1.5.0",
            "_model_name": "DescriptionStyleModel",
            "_view_count": null,
            "_view_module": "@jupyter-widgets/base",
            "_view_module_version": "1.2.0",
            "_view_name": "StyleView",
            "description_width": "initial"
          }
        }
      }
    }
  },
  "nbformat": 4,
  "nbformat_minor": 0
}