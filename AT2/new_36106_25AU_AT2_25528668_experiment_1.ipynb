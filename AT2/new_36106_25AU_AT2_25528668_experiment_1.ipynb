{
  "cells": [
    {
      "cell_type": "markdown",
      "metadata": {
        "id": "uQ6wc2HE0pke"
      },
      "source": [
        "# **Experiment Notebook**\n",
        "\n"
      ]
    },
    {
      "cell_type": "markdown",
      "metadata": {
        "id": "KFVpE17Ahezu"
      },
      "source": [
        "---\n",
        "## 0. Setup Environment"
      ]
    },
    {
      "cell_type": "markdown",
      "source": [
        "### 0.a Install Environment and Mandatory Packages"
      ],
      "metadata": {
        "id": "kWUmi7fakv5O"
      }
    },
    {
      "cell_type": "code",
      "source": [
        "# Do not modify this code\n",
        "!pip install -q utstd\n",
        "\n",
        "from utstd.folders import *\n",
        "from utstd.ipyrenders import *\n",
        "\n",
        "at = AtFolder(\n",
        "    course_code=36106,\n",
        "    assignment=\"AT2\",\n",
        ")\n",
        "at.run()"
      ],
      "metadata": {
        "id": "S8jFaNXqvV5W",
        "colab": {
          "base_uri": "https://localhost:8080/"
        },
        "outputId": "840af252-3ea7-4d83-9bfa-73a8c9b2e9a2"
      },
      "execution_count": null,
      "outputs": [
        {
          "output_type": "stream",
          "name": "stdout",
          "text": [
            "Mounted at /content/gdrive\n",
            "\n",
            "You can now save your data files in: /content/gdrive/MyDrive/36106/assignment/AT2/data\n"
          ]
        }
      ]
    },
    {
      "cell_type": "code",
      "source": [
        "from google.colab import drive\n",
        "drive.mount('/content/drive')"
      ],
      "metadata": {
        "id": "Rhs7CpEgiIiz",
        "colab": {
          "base_uri": "https://localhost:8080/"
        },
        "outputId": "1371d28b-8649-4fb0-a060-0b993282e694"
      },
      "execution_count": null,
      "outputs": [
        {
          "output_type": "stream",
          "name": "stdout",
          "text": [
            "Mounted at /content/drive\n"
          ]
        }
      ]
    },
    {
      "cell_type": "markdown",
      "source": [
        "### 0.b Disable Warnings Messages"
      ],
      "metadata": {
        "id": "jM39DExClCc5"
      }
    },
    {
      "cell_type": "code",
      "source": [
        "# Do not modify this code\n",
        "import warnings\n",
        "warnings.simplefilter(action='ignore')"
      ],
      "metadata": {
        "id": "6FneOmBfka9G"
      },
      "execution_count": null,
      "outputs": []
    },
    {
      "cell_type": "markdown",
      "source": [
        "### 0.c Install Additional Packages\n",
        "\n",
        "> If you are using additional packages, you need to install them here using the command: `! pip install <package_name>`"
      ],
      "metadata": {
        "id": "CgTrMfyylVLf"
      }
    },
    {
      "cell_type": "code",
      "source": [
        "# <Student to fill this section>"
      ],
      "metadata": {
        "id": "D79tb2V-lVpJ"
      },
      "execution_count": null,
      "outputs": []
    },
    {
      "cell_type": "markdown",
      "source": [
        "### 0.d Import Packages"
      ],
      "metadata": {
        "id": "mXFKfa2tp1ch"
      }
    },
    {
      "cell_type": "code",
      "source": [
        "# <Student to fill this section>\n",
        "import pandas as pd\n",
        "import altair as alt"
      ],
      "metadata": {
        "id": "GBEAwdncnlAx"
      },
      "execution_count": null,
      "outputs": []
    },
    {
      "cell_type": "markdown",
      "metadata": {
        "id": "tQgxLRrvjiJb"
      },
      "source": [
        "---\n",
        "## A. Project Description\n"
      ]
    },
    {
      "cell_type": "code",
      "source": [
        "# <Student to fill this section>\n",
        "student_name = \"Md Saifur Rahman\"\n",
        "student_id = \"25528668\""
      ],
      "metadata": {
        "id": "X5mh2fhW1iBy"
      },
      "execution_count": null,
      "outputs": []
    },
    {
      "cell_type": "code",
      "source": [
        "# Do not modify this code\n",
        "print_tile(size=\"h1\", key='student_name', value=student_name)"
      ],
      "metadata": {
        "id": "uaK__uW61iI8",
        "colab": {
          "base_uri": "https://localhost:8080/",
          "height": 98
        },
        "outputId": "6b875630-49ca-47a7-ed1a-c4e4368d6b11"
      },
      "execution_count": null,
      "outputs": [
        {
          "output_type": "display_data",
          "data": {
            "text/plain": [
              "<IPython.core.display.HTML object>"
            ],
            "text/html": [
              "<p style=\"color:grey\">student_name</p><h1 font-size: 3em>Md Saifur Rahman</h1>"
            ]
          },
          "metadata": {}
        }
      ]
    },
    {
      "cell_type": "code",
      "source": [
        "# Do not modify this code\n",
        "print_tile(size=\"h1\", key='student_id', value=student_id)"
      ],
      "metadata": {
        "id": "3sklS9SO1iPN",
        "colab": {
          "base_uri": "https://localhost:8080/",
          "height": 98
        },
        "outputId": "626f3cb5-c5d2-4651-ceb1-15534412bc3f"
      },
      "execution_count": null,
      "outputs": [
        {
          "output_type": "display_data",
          "data": {
            "text/plain": [
              "<IPython.core.display.HTML object>"
            ],
            "text/html": [
              "<p style=\"color:grey\">student_id</p><h1 font-size: 3em>25528668</h1>"
            ]
          },
          "metadata": {}
        }
      ]
    },
    {
      "cell_type": "code",
      "source": [
        "business_objective = \"\"\"\n",
        "The goal of this project is to develop a reliable predictive model that classifies university students into four academic performance categories—Excellent, Good, Average, and Poor—based on various academic, personal, and behavioral attributes.\n",
        "\n",
        "The business value lies in enabling educational institutions to proactively identify students at risk of underperforming and provide timely academic support or counseling. Accurate predictions will help in resource allocation, targeted interventions, and improved student retention rates.\n",
        "\n",
        "Conversely, incorrect classifications—especially mislabeling high-performing students as poor performers or vice versa—could lead to misallocated support efforts, student dissatisfaction, and reputational risk for the institution. Therefore, model accuracy and interpretability are critical to ensure decisions are fair, data-driven, and actionable.\n",
        "\"\"\""
      ],
      "metadata": {
        "id": "GTf0Pg6Z2v-Z"
      },
      "execution_count": null,
      "outputs": []
    },
    {
      "cell_type": "code",
      "source": [
        "# Do not modify this code\n",
        "print_tile(size=\"h3\", key='business_objective', value=business_objective)"
      ],
      "metadata": {
        "id": "exnz6agQ2wFg",
        "colab": {
          "base_uri": "https://localhost:8080/",
          "height": 284
        },
        "outputId": "c9e454b5-a39c-411a-d2f9-88ca4a9568c6"
      },
      "execution_count": null,
      "outputs": [
        {
          "output_type": "display_data",
          "data": {
            "text/plain": [
              "<IPython.core.display.HTML object>"
            ],
            "text/html": [
              "<p style=\"color:grey\">business_objective</p><h3 font-size: 3em>\n",
              "The goal of this project is to develop a reliable predictive model that classifies university students into four academic performance categories—Excellent, Good, Average, and Poor—based on various academic, personal, and behavioral attributes.\n",
              "\n",
              "The business value lies in enabling educational institutions to proactively identify students at risk of underperforming and provide timely academic support or counseling. Accurate predictions will help in resource allocation, targeted interventions, and improved student retention rates.\n",
              "\n",
              "Conversely, incorrect classifications—especially mislabeling high-performing students as poor performers or vice versa—could lead to misallocated support efforts, student dissatisfaction, and reputational risk for the institution. Therefore, model accuracy and interpretability are critical to ensure decisions are fair, data-driven, and actionable.\n",
              "</h3>"
            ]
          },
          "metadata": {}
        }
      ]
    },
    {
      "cell_type": "markdown",
      "source": [
        "---\n",
        "## B. Experiment Description"
      ],
      "metadata": {
        "id": "4q1Bzcejvfpm"
      }
    },
    {
      "cell_type": "code",
      "source": [
        "# Do not modify this code\n",
        "experiment_id = \"1\"\n",
        "print_tile(size=\"h1\", key='experiment_id', value=experiment_id)"
      ],
      "metadata": {
        "id": "dXpWo_-o21FD",
        "colab": {
          "base_uri": "https://localhost:8080/",
          "height": 98
        },
        "outputId": "909b35a4-0a12-4377-ab53-72d61407e181"
      },
      "execution_count": null,
      "outputs": [
        {
          "output_type": "display_data",
          "data": {
            "text/plain": [
              "<IPython.core.display.HTML object>"
            ],
            "text/html": [
              "<p style=\"color:grey\">experiment_id</p><h1 font-size: 3em>1</h1>"
            ]
          },
          "metadata": {}
        }
      ]
    },
    {
      "cell_type": "code",
      "source": [
        "experiment_hypothesis = \"\"\"\n",
        "We hypothesize that a student’s academic performance category (Excellent, Good, Average, Poor) can be predicted using a combination of their historical academic metrics (GPA, completed credits), engagement indicators (study hours, attendance, study sessions), and behavioral/lifestyle factors (social media usage, skill development hours, etc.).\n",
        "\n",
        "This hypothesis is worth testing because if a strong relationship exists between these features and performance, we can design a practical model to identify students in need of academic support early in the semester. This can help universities reduce dropout rates, improve student success, and allocate support resources more efficiently.\n",
        "\"\"\"\n"
      ],
      "metadata": {
        "id": "qng9pUoU21Kp"
      },
      "execution_count": null,
      "outputs": []
    },
    {
      "cell_type": "code",
      "source": [
        "# Do not modify this code\n",
        "print_tile(size=\"h3\", key='experiment_hypothesis', value=experiment_hypothesis)"
      ],
      "metadata": {
        "id": "3F9fpCzf21YI",
        "colab": {
          "base_uri": "https://localhost:8080/",
          "height": 243
        },
        "outputId": "79059745-1b0b-4085-f938-8ccc894a30f2"
      },
      "execution_count": null,
      "outputs": [
        {
          "output_type": "display_data",
          "data": {
            "text/plain": [
              "<IPython.core.display.HTML object>"
            ],
            "text/html": [
              "<p style=\"color:grey\">experiment_hypothesis</p><h3 font-size: 3em>\n",
              "We hypothesize that a student’s academic performance category (Excellent, Good, Average, Poor) can be predicted using a combination of their historical academic metrics (GPA, completed credits), engagement indicators (study hours, attendance, study sessions), and behavioral/lifestyle factors (social media usage, skill development hours, etc.).\n",
              "\n",
              "This hypothesis is worth testing because if a strong relationship exists between these features and performance, we can design a practical model to identify students in need of academic support early in the semester. This can help universities reduce dropout rates, improve student success, and allocate support resources more efficiently.\n",
              "</h3>"
            ]
          },
          "metadata": {}
        }
      ]
    },
    {
      "cell_type": "code",
      "source": [
        "# <Student to fill this section>\n",
        "experiment_expectations = \"\"\"\n",
        "Detail what will be the expected outcome of the experiment. If possible, estimate the goal you are expecting.\n",
        "List the possible scenarios resulting from this experiment.\n",
        "\"\"\""
      ],
      "metadata": {
        "id": "8Ke5AG7A21dx"
      },
      "execution_count": null,
      "outputs": []
    },
    {
      "cell_type": "code",
      "source": [
        "# Do not modify this code\n",
        "print_tile(size=\"h3\", key='experiment_expectations', value=experiment_expectations)"
      ],
      "metadata": {
        "id": "Aal6ECC821nJ",
        "colab": {
          "base_uri": "https://localhost:8080/",
          "height": 101
        },
        "outputId": "6f0f56d8-9e95-47e4-df35-bfc1b3f8ca6f"
      },
      "execution_count": null,
      "outputs": [
        {
          "output_type": "display_data",
          "data": {
            "text/plain": [
              "<IPython.core.display.HTML object>"
            ],
            "text/html": [
              "<p style=\"color:grey\">experiment_expectations</p><h3 font-size: 3em>\n",
              "Detail what will be the expected outcome of the experiment. If possible, estimate the goal you are expecting.\n",
              "List the possible scenarios resulting from this experiment.\n",
              "</h3>"
            ]
          },
          "metadata": {}
        }
      ]
    },
    {
      "cell_type": "markdown",
      "source": [
        "---\n",
        "## C. Data Understanding"
      ],
      "metadata": {
        "id": "P0zsEPshwy1K"
      }
    },
    {
      "cell_type": "code",
      "source": [
        "# Do not modify this code\n",
        "try:\n",
        "  X_train = pd.read_csv('/content/drive/MyDrive/36106/AT02/X_train.csv')\n",
        "  y_train = pd.read_csv('/content/drive/MyDrive/36106/AT02/y_train.csv')\n",
        "\n",
        "  X_val = pd.read_csv('/content/drive/MyDrive/36106/AT02/X_val.csv')\n",
        "  y_val = pd.read_csv('/content/drive/MyDrive/36106/AT02/y_val.csv')\n",
        "\n",
        "  X_test = pd.read_csv('/content/drive/MyDrive/36106/AT02/X_test.csv')\n",
        "  y_test = pd.read_csv('/content/drive/MyDrive/36106/AT02/y_test.csv')\n",
        "except Exception as e:\n",
        "  print(e)"
      ],
      "metadata": {
        "id": "NKgOzSn-w0eq"
      },
      "execution_count": null,
      "outputs": []
    },
    {
      "cell_type": "markdown",
      "metadata": {
        "id": "_NCwQQFkU3v5"
      },
      "source": [
        "---\n",
        "## D. Feature Selection\n"
      ]
    },
    {
      "cell_type": "code",
      "source": [
        "X_train.columns.tolist()"
      ],
      "metadata": {
        "colab": {
          "base_uri": "https://localhost:8080/"
        },
        "id": "_HqvsRmcqawd",
        "outputId": "184af0b5-7ff0-48e5-9bde-e08f915cad60"
      },
      "execution_count": null,
      "outputs": [
        {
          "output_type": "execute_result",
          "data": {
            "text/plain": [
              "['gender',\n",
              " 'scholarship',\n",
              " 'university_transport',\n",
              " 'learning_mode',\n",
              " 'has_phone',\n",
              " 'has_laptop',\n",
              " 'english_proficiency',\n",
              " 'on_probation',\n",
              " 'is_suspended',\n",
              " 'has_consulted_teacher',\n",
              " 'relationship',\n",
              " 'co_curricular',\n",
              " 'living_arrangement',\n",
              " 'health_issues',\n",
              " 'disabilities',\n",
              " 'current _semester',\n",
              " 'study_hours',\n",
              " 'study_sessions',\n",
              " 'social_media_hours',\n",
              " 'average_attendance',\n",
              " 'skills',\n",
              " 'skills_development_hours',\n",
              " 'previous_gpa',\n",
              " 'current_gpa',\n",
              " 'completed_credits',\n",
              " 'has_diploma',\n",
              " 'house_income',\n",
              " 'gpa_change',\n",
              " 'study_x_attendance',\n",
              " 'skill_to_social_ratio']"
            ]
          },
          "metadata": {},
          "execution_count": 21
        }
      ]
    },
    {
      "cell_type": "code",
      "source": [
        "# prompt: now check the the column type\n",
        "\n",
        "X_train.dtypes\n"
      ],
      "metadata": {
        "colab": {
          "base_uri": "https://localhost:8080/",
          "height": 1000
        },
        "id": "DfVxMKvIuMga",
        "outputId": "b0f7bbc3-38d3-4429-d317-b07b979e9d82"
      },
      "execution_count": null,
      "outputs": [
        {
          "output_type": "execute_result",
          "data": {
            "text/plain": [
              "gender                        int64\n",
              "scholarship                   int64\n",
              "university_transport          int64\n",
              "learning_mode                 int64\n",
              "has_phone                     int64\n",
              "has_laptop                    int64\n",
              "english_proficiency           int64\n",
              "on_probation                  int64\n",
              "is_suspended                  int64\n",
              "has_consulted_teacher         int64\n",
              "relationship                  int64\n",
              "co_curricular                 int64\n",
              "living_arrangement            int64\n",
              "health_issues                 int64\n",
              "disabilities                  int64\n",
              "current _semester           float64\n",
              "study_hours                 float64\n",
              "study_sessions              float64\n",
              "social_media_hours          float64\n",
              "average_attendance          float64\n",
              "skills                        int64\n",
              "skills_development_hours    float64\n",
              "previous_gpa                float64\n",
              "current_gpa                 float64\n",
              "completed_credits           float64\n",
              "has_diploma                    bool\n",
              "house_income                float64\n",
              "gpa_change                  float64\n",
              "study_x_attendance          float64\n",
              "skill_to_social_ratio       float64\n",
              "dtype: object"
            ],
            "text/html": [
              "<div>\n",
              "<style scoped>\n",
              "    .dataframe tbody tr th:only-of-type {\n",
              "        vertical-align: middle;\n",
              "    }\n",
              "\n",
              "    .dataframe tbody tr th {\n",
              "        vertical-align: top;\n",
              "    }\n",
              "\n",
              "    .dataframe thead th {\n",
              "        text-align: right;\n",
              "    }\n",
              "</style>\n",
              "<table border=\"1\" class=\"dataframe\">\n",
              "  <thead>\n",
              "    <tr style=\"text-align: right;\">\n",
              "      <th></th>\n",
              "      <th>0</th>\n",
              "    </tr>\n",
              "  </thead>\n",
              "  <tbody>\n",
              "    <tr>\n",
              "      <th>gender</th>\n",
              "      <td>int64</td>\n",
              "    </tr>\n",
              "    <tr>\n",
              "      <th>scholarship</th>\n",
              "      <td>int64</td>\n",
              "    </tr>\n",
              "    <tr>\n",
              "      <th>university_transport</th>\n",
              "      <td>int64</td>\n",
              "    </tr>\n",
              "    <tr>\n",
              "      <th>learning_mode</th>\n",
              "      <td>int64</td>\n",
              "    </tr>\n",
              "    <tr>\n",
              "      <th>has_phone</th>\n",
              "      <td>int64</td>\n",
              "    </tr>\n",
              "    <tr>\n",
              "      <th>has_laptop</th>\n",
              "      <td>int64</td>\n",
              "    </tr>\n",
              "    <tr>\n",
              "      <th>english_proficiency</th>\n",
              "      <td>int64</td>\n",
              "    </tr>\n",
              "    <tr>\n",
              "      <th>on_probation</th>\n",
              "      <td>int64</td>\n",
              "    </tr>\n",
              "    <tr>\n",
              "      <th>is_suspended</th>\n",
              "      <td>int64</td>\n",
              "    </tr>\n",
              "    <tr>\n",
              "      <th>has_consulted_teacher</th>\n",
              "      <td>int64</td>\n",
              "    </tr>\n",
              "    <tr>\n",
              "      <th>relationship</th>\n",
              "      <td>int64</td>\n",
              "    </tr>\n",
              "    <tr>\n",
              "      <th>co_curricular</th>\n",
              "      <td>int64</td>\n",
              "    </tr>\n",
              "    <tr>\n",
              "      <th>living_arrangement</th>\n",
              "      <td>int64</td>\n",
              "    </tr>\n",
              "    <tr>\n",
              "      <th>health_issues</th>\n",
              "      <td>int64</td>\n",
              "    </tr>\n",
              "    <tr>\n",
              "      <th>disabilities</th>\n",
              "      <td>int64</td>\n",
              "    </tr>\n",
              "    <tr>\n",
              "      <th>current _semester</th>\n",
              "      <td>float64</td>\n",
              "    </tr>\n",
              "    <tr>\n",
              "      <th>study_hours</th>\n",
              "      <td>float64</td>\n",
              "    </tr>\n",
              "    <tr>\n",
              "      <th>study_sessions</th>\n",
              "      <td>float64</td>\n",
              "    </tr>\n",
              "    <tr>\n",
              "      <th>social_media_hours</th>\n",
              "      <td>float64</td>\n",
              "    </tr>\n",
              "    <tr>\n",
              "      <th>average_attendance</th>\n",
              "      <td>float64</td>\n",
              "    </tr>\n",
              "    <tr>\n",
              "      <th>skills</th>\n",
              "      <td>int64</td>\n",
              "    </tr>\n",
              "    <tr>\n",
              "      <th>skills_development_hours</th>\n",
              "      <td>float64</td>\n",
              "    </tr>\n",
              "    <tr>\n",
              "      <th>previous_gpa</th>\n",
              "      <td>float64</td>\n",
              "    </tr>\n",
              "    <tr>\n",
              "      <th>current_gpa</th>\n",
              "      <td>float64</td>\n",
              "    </tr>\n",
              "    <tr>\n",
              "      <th>completed_credits</th>\n",
              "      <td>float64</td>\n",
              "    </tr>\n",
              "    <tr>\n",
              "      <th>has_diploma</th>\n",
              "      <td>bool</td>\n",
              "    </tr>\n",
              "    <tr>\n",
              "      <th>house_income</th>\n",
              "      <td>float64</td>\n",
              "    </tr>\n",
              "    <tr>\n",
              "      <th>gpa_change</th>\n",
              "      <td>float64</td>\n",
              "    </tr>\n",
              "    <tr>\n",
              "      <th>study_x_attendance</th>\n",
              "      <td>float64</td>\n",
              "    </tr>\n",
              "    <tr>\n",
              "      <th>skill_to_social_ratio</th>\n",
              "      <td>float64</td>\n",
              "    </tr>\n",
              "  </tbody>\n",
              "</table>\n",
              "</div><br><label><b>dtype:</b> object</label>"
            ]
          },
          "metadata": {},
          "execution_count": 22
        }
      ]
    },
    {
      "cell_type": "code",
      "source": [
        "X_test.dtypes"
      ],
      "metadata": {
        "colab": {
          "base_uri": "https://localhost:8080/",
          "height": 1000
        },
        "id": "1Y32U8lN6vqt",
        "outputId": "79100487-a7a9-4810-f637-d6f500081ed0"
      },
      "execution_count": null,
      "outputs": [
        {
          "output_type": "execute_result",
          "data": {
            "text/plain": [
              "gender                        int64\n",
              "scholarship                   int64\n",
              "university_transport          int64\n",
              "learning_mode                 int64\n",
              "has_phone                     int64\n",
              "has_laptop                    int64\n",
              "english_proficiency           int64\n",
              "on_probation                  int64\n",
              "is_suspended                  int64\n",
              "has_consulted_teacher         int64\n",
              "relationship                  int64\n",
              "co_curricular                 int64\n",
              "living_arrangement            int64\n",
              "health_issues                 int64\n",
              "disabilities                  int64\n",
              "current _semester           float64\n",
              "study_hours                 float64\n",
              "study_sessions              float64\n",
              "social_media_hours          float64\n",
              "average_attendance          float64\n",
              "skills                        int64\n",
              "skills_development_hours    float64\n",
              "previous_gpa                float64\n",
              "current_gpa                 float64\n",
              "completed_credits           float64\n",
              "has_diploma                    bool\n",
              "house_income                float64\n",
              "gpa_change                  float64\n",
              "study_x_attendance          float64\n",
              "skill_to_social_ratio       float64\n",
              "dtype: object"
            ],
            "text/html": [
              "<div>\n",
              "<style scoped>\n",
              "    .dataframe tbody tr th:only-of-type {\n",
              "        vertical-align: middle;\n",
              "    }\n",
              "\n",
              "    .dataframe tbody tr th {\n",
              "        vertical-align: top;\n",
              "    }\n",
              "\n",
              "    .dataframe thead th {\n",
              "        text-align: right;\n",
              "    }\n",
              "</style>\n",
              "<table border=\"1\" class=\"dataframe\">\n",
              "  <thead>\n",
              "    <tr style=\"text-align: right;\">\n",
              "      <th></th>\n",
              "      <th>0</th>\n",
              "    </tr>\n",
              "  </thead>\n",
              "  <tbody>\n",
              "    <tr>\n",
              "      <th>gender</th>\n",
              "      <td>int64</td>\n",
              "    </tr>\n",
              "    <tr>\n",
              "      <th>scholarship</th>\n",
              "      <td>int64</td>\n",
              "    </tr>\n",
              "    <tr>\n",
              "      <th>university_transport</th>\n",
              "      <td>int64</td>\n",
              "    </tr>\n",
              "    <tr>\n",
              "      <th>learning_mode</th>\n",
              "      <td>int64</td>\n",
              "    </tr>\n",
              "    <tr>\n",
              "      <th>has_phone</th>\n",
              "      <td>int64</td>\n",
              "    </tr>\n",
              "    <tr>\n",
              "      <th>has_laptop</th>\n",
              "      <td>int64</td>\n",
              "    </tr>\n",
              "    <tr>\n",
              "      <th>english_proficiency</th>\n",
              "      <td>int64</td>\n",
              "    </tr>\n",
              "    <tr>\n",
              "      <th>on_probation</th>\n",
              "      <td>int64</td>\n",
              "    </tr>\n",
              "    <tr>\n",
              "      <th>is_suspended</th>\n",
              "      <td>int64</td>\n",
              "    </tr>\n",
              "    <tr>\n",
              "      <th>has_consulted_teacher</th>\n",
              "      <td>int64</td>\n",
              "    </tr>\n",
              "    <tr>\n",
              "      <th>relationship</th>\n",
              "      <td>int64</td>\n",
              "    </tr>\n",
              "    <tr>\n",
              "      <th>co_curricular</th>\n",
              "      <td>int64</td>\n",
              "    </tr>\n",
              "    <tr>\n",
              "      <th>living_arrangement</th>\n",
              "      <td>int64</td>\n",
              "    </tr>\n",
              "    <tr>\n",
              "      <th>health_issues</th>\n",
              "      <td>int64</td>\n",
              "    </tr>\n",
              "    <tr>\n",
              "      <th>disabilities</th>\n",
              "      <td>int64</td>\n",
              "    </tr>\n",
              "    <tr>\n",
              "      <th>current _semester</th>\n",
              "      <td>float64</td>\n",
              "    </tr>\n",
              "    <tr>\n",
              "      <th>study_hours</th>\n",
              "      <td>float64</td>\n",
              "    </tr>\n",
              "    <tr>\n",
              "      <th>study_sessions</th>\n",
              "      <td>float64</td>\n",
              "    </tr>\n",
              "    <tr>\n",
              "      <th>social_media_hours</th>\n",
              "      <td>float64</td>\n",
              "    </tr>\n",
              "    <tr>\n",
              "      <th>average_attendance</th>\n",
              "      <td>float64</td>\n",
              "    </tr>\n",
              "    <tr>\n",
              "      <th>skills</th>\n",
              "      <td>int64</td>\n",
              "    </tr>\n",
              "    <tr>\n",
              "      <th>skills_development_hours</th>\n",
              "      <td>float64</td>\n",
              "    </tr>\n",
              "    <tr>\n",
              "      <th>previous_gpa</th>\n",
              "      <td>float64</td>\n",
              "    </tr>\n",
              "    <tr>\n",
              "      <th>current_gpa</th>\n",
              "      <td>float64</td>\n",
              "    </tr>\n",
              "    <tr>\n",
              "      <th>completed_credits</th>\n",
              "      <td>float64</td>\n",
              "    </tr>\n",
              "    <tr>\n",
              "      <th>has_diploma</th>\n",
              "      <td>bool</td>\n",
              "    </tr>\n",
              "    <tr>\n",
              "      <th>house_income</th>\n",
              "      <td>float64</td>\n",
              "    </tr>\n",
              "    <tr>\n",
              "      <th>gpa_change</th>\n",
              "      <td>float64</td>\n",
              "    </tr>\n",
              "    <tr>\n",
              "      <th>study_x_attendance</th>\n",
              "      <td>float64</td>\n",
              "    </tr>\n",
              "    <tr>\n",
              "      <th>skill_to_social_ratio</th>\n",
              "      <td>float64</td>\n",
              "    </tr>\n",
              "  </tbody>\n",
              "</table>\n",
              "</div><br><label><b>dtype:</b> object</label>"
            ]
          },
          "metadata": {},
          "execution_count": 23
        }
      ]
    },
    {
      "cell_type": "code",
      "source": [
        "X_val.dtypes"
      ],
      "metadata": {
        "colab": {
          "base_uri": "https://localhost:8080/",
          "height": 1000
        },
        "id": "ZcJzd-4H6zYi",
        "outputId": "64a7b648-09f6-47d1-f392-423c03a28f29"
      },
      "execution_count": null,
      "outputs": [
        {
          "output_type": "execute_result",
          "data": {
            "text/plain": [
              "gender                        int64\n",
              "scholarship                   int64\n",
              "university_transport          int64\n",
              "learning_mode                 int64\n",
              "has_phone                     int64\n",
              "has_laptop                    int64\n",
              "english_proficiency           int64\n",
              "on_probation                  int64\n",
              "is_suspended                  int64\n",
              "has_consulted_teacher         int64\n",
              "relationship                  int64\n",
              "co_curricular                 int64\n",
              "living_arrangement            int64\n",
              "health_issues                 int64\n",
              "disabilities                  int64\n",
              "current _semester           float64\n",
              "study_hours                 float64\n",
              "study_sessions              float64\n",
              "social_media_hours          float64\n",
              "average_attendance          float64\n",
              "skills                        int64\n",
              "skills_development_hours    float64\n",
              "previous_gpa                float64\n",
              "current_gpa                 float64\n",
              "completed_credits           float64\n",
              "has_diploma                    bool\n",
              "house_income                float64\n",
              "gpa_change                  float64\n",
              "study_x_attendance          float64\n",
              "skill_to_social_ratio       float64\n",
              "dtype: object"
            ],
            "text/html": [
              "<div>\n",
              "<style scoped>\n",
              "    .dataframe tbody tr th:only-of-type {\n",
              "        vertical-align: middle;\n",
              "    }\n",
              "\n",
              "    .dataframe tbody tr th {\n",
              "        vertical-align: top;\n",
              "    }\n",
              "\n",
              "    .dataframe thead th {\n",
              "        text-align: right;\n",
              "    }\n",
              "</style>\n",
              "<table border=\"1\" class=\"dataframe\">\n",
              "  <thead>\n",
              "    <tr style=\"text-align: right;\">\n",
              "      <th></th>\n",
              "      <th>0</th>\n",
              "    </tr>\n",
              "  </thead>\n",
              "  <tbody>\n",
              "    <tr>\n",
              "      <th>gender</th>\n",
              "      <td>int64</td>\n",
              "    </tr>\n",
              "    <tr>\n",
              "      <th>scholarship</th>\n",
              "      <td>int64</td>\n",
              "    </tr>\n",
              "    <tr>\n",
              "      <th>university_transport</th>\n",
              "      <td>int64</td>\n",
              "    </tr>\n",
              "    <tr>\n",
              "      <th>learning_mode</th>\n",
              "      <td>int64</td>\n",
              "    </tr>\n",
              "    <tr>\n",
              "      <th>has_phone</th>\n",
              "      <td>int64</td>\n",
              "    </tr>\n",
              "    <tr>\n",
              "      <th>has_laptop</th>\n",
              "      <td>int64</td>\n",
              "    </tr>\n",
              "    <tr>\n",
              "      <th>english_proficiency</th>\n",
              "      <td>int64</td>\n",
              "    </tr>\n",
              "    <tr>\n",
              "      <th>on_probation</th>\n",
              "      <td>int64</td>\n",
              "    </tr>\n",
              "    <tr>\n",
              "      <th>is_suspended</th>\n",
              "      <td>int64</td>\n",
              "    </tr>\n",
              "    <tr>\n",
              "      <th>has_consulted_teacher</th>\n",
              "      <td>int64</td>\n",
              "    </tr>\n",
              "    <tr>\n",
              "      <th>relationship</th>\n",
              "      <td>int64</td>\n",
              "    </tr>\n",
              "    <tr>\n",
              "      <th>co_curricular</th>\n",
              "      <td>int64</td>\n",
              "    </tr>\n",
              "    <tr>\n",
              "      <th>living_arrangement</th>\n",
              "      <td>int64</td>\n",
              "    </tr>\n",
              "    <tr>\n",
              "      <th>health_issues</th>\n",
              "      <td>int64</td>\n",
              "    </tr>\n",
              "    <tr>\n",
              "      <th>disabilities</th>\n",
              "      <td>int64</td>\n",
              "    </tr>\n",
              "    <tr>\n",
              "      <th>current _semester</th>\n",
              "      <td>float64</td>\n",
              "    </tr>\n",
              "    <tr>\n",
              "      <th>study_hours</th>\n",
              "      <td>float64</td>\n",
              "    </tr>\n",
              "    <tr>\n",
              "      <th>study_sessions</th>\n",
              "      <td>float64</td>\n",
              "    </tr>\n",
              "    <tr>\n",
              "      <th>social_media_hours</th>\n",
              "      <td>float64</td>\n",
              "    </tr>\n",
              "    <tr>\n",
              "      <th>average_attendance</th>\n",
              "      <td>float64</td>\n",
              "    </tr>\n",
              "    <tr>\n",
              "      <th>skills</th>\n",
              "      <td>int64</td>\n",
              "    </tr>\n",
              "    <tr>\n",
              "      <th>skills_development_hours</th>\n",
              "      <td>float64</td>\n",
              "    </tr>\n",
              "    <tr>\n",
              "      <th>previous_gpa</th>\n",
              "      <td>float64</td>\n",
              "    </tr>\n",
              "    <tr>\n",
              "      <th>current_gpa</th>\n",
              "      <td>float64</td>\n",
              "    </tr>\n",
              "    <tr>\n",
              "      <th>completed_credits</th>\n",
              "      <td>float64</td>\n",
              "    </tr>\n",
              "    <tr>\n",
              "      <th>has_diploma</th>\n",
              "      <td>bool</td>\n",
              "    </tr>\n",
              "    <tr>\n",
              "      <th>house_income</th>\n",
              "      <td>float64</td>\n",
              "    </tr>\n",
              "    <tr>\n",
              "      <th>gpa_change</th>\n",
              "      <td>float64</td>\n",
              "    </tr>\n",
              "    <tr>\n",
              "      <th>study_x_attendance</th>\n",
              "      <td>float64</td>\n",
              "    </tr>\n",
              "    <tr>\n",
              "      <th>skill_to_social_ratio</th>\n",
              "      <td>float64</td>\n",
              "    </tr>\n",
              "  </tbody>\n",
              "</table>\n",
              "</div><br><label><b>dtype:</b> object</label>"
            ]
          },
          "metadata": {},
          "execution_count": 24
        }
      ]
    },
    {
      "cell_type": "code",
      "source": [
        "# <Student to fill this section>\n",
        "\n",
        "features_list = ['gender',\n",
        " 'scholarship',\n",
        " 'university_transport',\n",
        " 'learning_mode',\n",
        " 'has_phone',\n",
        " 'has_laptop',\n",
        " 'english_proficiency',\n",
        " 'on_probation',\n",
        " 'is_suspended',\n",
        " 'has_consulted_teacher',\n",
        " 'relationship',\n",
        " 'co_curricular',\n",
        " 'living_arrangement',\n",
        " 'health_issues',\n",
        " 'disabilities',\n",
        " 'current _semester',\n",
        " 'study_hours',\n",
        " 'study_sessions',\n",
        " 'social_media_hours',\n",
        " 'average_attendance',\n",
        " 'skills',\n",
        " 'skills_development_hours',\n",
        " 'previous_gpa',\n",
        " 'current_gpa',\n",
        " 'completed_credits',\n",
        " 'has_diploma',\n",
        " 'house_income',\n",
        " 'gpa_change',\n",
        " 'study_x_attendance',\n",
        " 'skill_to_social_ratio']"
      ],
      "metadata": {
        "id": "zfC-DLKv4AuM"
      },
      "execution_count": null,
      "outputs": []
    },
    {
      "cell_type": "code",
      "source": [
        "feature_selection_explanations = \"\"\"\n",
        "The selected features were chosen based on a combination of exploratory data analysis, visual inspection, and multiple feature selection techniques such as Mutual Information, Random Forest Importance, and Lasso Regression. These features demonstrate strong or moderate predictive relationships with the target variable (student performance), as confirmed by statistical patterns and visual trends.\n",
        "\n",
        "For instance, `current_gpa`, `previous_gpa`, and `average_attendance` emerged as the top predictors due to their strong correlation with performance outcomes. Behavioral features like `study_hours`, `study_sessions`, `skills_development_hours`, and `social_media_hours` were retained for their interpretability and moderate associations with performance classes. Engineered features such as `gpa_change`, `study_x_attendance`, and `skill_to_social_ratio` were included to capture deeper interactions that were not directly visible in the raw data.\n",
        "\n",
        "Categorical variables such as `english_proficiency`, `scholarship`, `on_probation`, `is_suspended`, `learning_mode`, and `has_consulted_teacher` showed strong explanatory power in differentiating performance groups and were therefore included. Other demographic and support-related features like `gender`, `co_curricular`, and `living_arrangement` were retained for their mild but meaningful contribution.\n",
        "\n",
        "On the other hand, features like `program`, `birth_country`, `relationship`, `secondary_address`, and `has_phone` were excluded due to low variance, weak predictive power, or redundancy. These columns either lacked meaningful distribution across the target or provided minimal contribution during feature importance analysis. Additionally, all personally identifiable information (PII) columns were removed to maintain privacy and avoid data leakage.\n",
        "\n",
        "The final set of features reflects a well-balanced mix of academic, behavioral, support-related, and engineered indicators, offering a strong foundation for building a reliable predictive model.\n",
        "\"\"\"\n"
      ],
      "metadata": {
        "id": "ZHaIRLAj2_fj"
      },
      "execution_count": null,
      "outputs": []
    },
    {
      "cell_type": "code",
      "source": [
        "# Do not modify this code\n",
        "print_tile(size=\"h3\", key='feature_selection_explanations', value=feature_selection_explanations)"
      ],
      "metadata": {
        "id": "GXCmXWx62_kZ",
        "colab": {
          "base_uri": "https://localhost:8080/",
          "height": 568
        },
        "outputId": "676328f8-1c7d-448d-8317-d1d687761676"
      },
      "execution_count": null,
      "outputs": [
        {
          "output_type": "display_data",
          "data": {
            "text/plain": [
              "<IPython.core.display.HTML object>"
            ],
            "text/html": [
              "<p style=\"color:grey\">feature_selection_explanations</p><h3 font-size: 3em>\n",
              "The selected features were chosen based on a combination of exploratory data analysis, visual inspection, and multiple feature selection techniques such as Mutual Information, Random Forest Importance, and Lasso Regression. These features demonstrate strong or moderate predictive relationships with the target variable (student performance), as confirmed by statistical patterns and visual trends.\n",
              "\n",
              "For instance, `current_gpa`, `previous_gpa`, and `average_attendance` emerged as the top predictors due to their strong correlation with performance outcomes. Behavioral features like `study_hours`, `study_sessions`, `skills_development_hours`, and `social_media_hours` were retained for their interpretability and moderate associations with performance classes. Engineered features such as `gpa_change`, `study_x_attendance`, and `skill_to_social_ratio` were included to capture deeper interactions that were not directly visible in the raw data.\n",
              "\n",
              "Categorical variables such as `english_proficiency`, `scholarship`, `on_probation`, `is_suspended`, `learning_mode`, and `has_consulted_teacher` showed strong explanatory power in differentiating performance groups and were therefore included. Other demographic and support-related features like `gender`, `co_curricular`, and `living_arrangement` were retained for their mild but meaningful contribution.\n",
              "\n",
              "On the other hand, features like `program`, `birth_country`, `relationship`, `secondary_address`, and `has_phone` were excluded due to low variance, weak predictive power, or redundancy. These columns either lacked meaningful distribution across the target or provided minimal contribution during feature importance analysis. Additionally, all personally identifiable information (PII) columns were removed to maintain privacy and avoid data leakage.\n",
              "\n",
              "The final set of features reflects a well-balanced mix of academic, behavioral, support-related, and engineered indicators, offering a strong foundation for building a reliable predictive model.\n",
              "</h3>"
            ]
          },
          "metadata": {}
        }
      ]
    },
    {
      "cell_type": "markdown",
      "source": [
        "---\n",
        "## E. Data Preparation"
      ],
      "metadata": {
        "id": "j-nNSpJK0Rgu"
      }
    },
    {
      "cell_type": "markdown",
      "source": [
        "### E.1 Data Transformation <put_name_here>\n"
      ],
      "metadata": {
        "id": "EDtRq1990rcW"
      }
    },
    {
      "cell_type": "code",
      "source": [
        "from sklearn.preprocessing import StandardScaler\n",
        "\n",
        "# 1. Rename inconsistent column across all datasets\n",
        "for df in [X_train, X_val, X_test]:\n",
        "    if 'current _semester' in df.columns:\n",
        "        df.rename(columns={'current _semester': 'current_semester'}, inplace=True)\n",
        "\n",
        "# 2. Convert boolean column to int if present\n",
        "for df in [X_train, X_val, X_test]:\n",
        "    if 'has_diploma' in df.columns and df['has_diploma'].dtype == 'bool':\n",
        "        df['has_diploma'] = df['has_diploma'].astype(int)\n",
        "\n",
        "# 3. Standardize float features\n",
        "float_cols = [\n",
        "    'current_semester', 'study_hours', 'study_sessions', 'social_media_hours',\n",
        "    'average_attendance', 'skills_development_hours', 'previous_gpa', 'current_gpa',\n",
        "    'completed_credits', 'house_income', 'gpa_change', 'study_x_attendance', 'skill_to_social_ratio'\n",
        "]\n",
        "\n",
        "# Fit scaler on training data only\n",
        "scaler = StandardScaler()\n",
        "X_train[float_cols] = scaler.fit_transform(X_train[float_cols])\n",
        "X_val[float_cols] = scaler.transform(X_val[float_cols])\n",
        "X_test[float_cols] = scaler.transform(X_test[float_cols])\n",
        "\n",
        "# 4. Confirm all transformations\n",
        "print(\"✅ Data transformation complete. Dtypes after processing:\\n\")\n",
        "print(\"X_train:\\n\", X_train.dtypes)\n",
        "print(\"\\nX_val:\\n\", X_val.dtypes)\n",
        "print(\"\\nX_test:\\n\", X_test.dtypes)"
      ],
      "metadata": {
        "id": "AZN0u9DD0v5X",
        "colab": {
          "base_uri": "https://localhost:8080/"
        },
        "outputId": "b12753e0-416f-4d79-81ac-3cb9d83e65be"
      },
      "execution_count": null,
      "outputs": [
        {
          "output_type": "stream",
          "name": "stdout",
          "text": [
            "✅ Data transformation complete. Dtypes after processing:\n",
            "\n",
            "X_train:\n",
            " gender                        int64\n",
            "scholarship                   int64\n",
            "university_transport          int64\n",
            "learning_mode                 int64\n",
            "has_phone                     int64\n",
            "has_laptop                    int64\n",
            "english_proficiency           int64\n",
            "on_probation                  int64\n",
            "is_suspended                  int64\n",
            "has_consulted_teacher         int64\n",
            "relationship                  int64\n",
            "co_curricular                 int64\n",
            "living_arrangement            int64\n",
            "health_issues                 int64\n",
            "disabilities                  int64\n",
            "current_semester            float64\n",
            "study_hours                 float64\n",
            "study_sessions              float64\n",
            "social_media_hours          float64\n",
            "average_attendance          float64\n",
            "skills                        int64\n",
            "skills_development_hours    float64\n",
            "previous_gpa                float64\n",
            "current_gpa                 float64\n",
            "completed_credits           float64\n",
            "has_diploma                   int64\n",
            "house_income                float64\n",
            "gpa_change                  float64\n",
            "study_x_attendance          float64\n",
            "skill_to_social_ratio       float64\n",
            "dtype: object\n",
            "\n",
            "X_val:\n",
            " gender                        int64\n",
            "scholarship                   int64\n",
            "university_transport          int64\n",
            "learning_mode                 int64\n",
            "has_phone                     int64\n",
            "has_laptop                    int64\n",
            "english_proficiency           int64\n",
            "on_probation                  int64\n",
            "is_suspended                  int64\n",
            "has_consulted_teacher         int64\n",
            "relationship                  int64\n",
            "co_curricular                 int64\n",
            "living_arrangement            int64\n",
            "health_issues                 int64\n",
            "disabilities                  int64\n",
            "current_semester            float64\n",
            "study_hours                 float64\n",
            "study_sessions              float64\n",
            "social_media_hours          float64\n",
            "average_attendance          float64\n",
            "skills                        int64\n",
            "skills_development_hours    float64\n",
            "previous_gpa                float64\n",
            "current_gpa                 float64\n",
            "completed_credits           float64\n",
            "has_diploma                   int64\n",
            "house_income                float64\n",
            "gpa_change                  float64\n",
            "study_x_attendance          float64\n",
            "skill_to_social_ratio       float64\n",
            "dtype: object\n",
            "\n",
            "X_test:\n",
            " gender                        int64\n",
            "scholarship                   int64\n",
            "university_transport          int64\n",
            "learning_mode                 int64\n",
            "has_phone                     int64\n",
            "has_laptop                    int64\n",
            "english_proficiency           int64\n",
            "on_probation                  int64\n",
            "is_suspended                  int64\n",
            "has_consulted_teacher         int64\n",
            "relationship                  int64\n",
            "co_curricular                 int64\n",
            "living_arrangement            int64\n",
            "health_issues                 int64\n",
            "disabilities                  int64\n",
            "current_semester            float64\n",
            "study_hours                 float64\n",
            "study_sessions              float64\n",
            "social_media_hours          float64\n",
            "average_attendance          float64\n",
            "skills                        int64\n",
            "skills_development_hours    float64\n",
            "previous_gpa                float64\n",
            "current_gpa                 float64\n",
            "completed_credits           float64\n",
            "has_diploma                   int64\n",
            "house_income                float64\n",
            "gpa_change                  float64\n",
            "study_x_attendance          float64\n",
            "skill_to_social_ratio       float64\n",
            "dtype: object\n"
          ]
        }
      ]
    },
    {
      "cell_type": "code",
      "source": [
        "data_transformation_1_explanations = \"\"\"\n",
        "Data transformation is a critical preprocessing step that ensures consistency, interpretability, and compatibility with machine learning models. In this case, we first renamed the column `current _semester` to `current_semester` to maintain uniform naming conventions and avoid errors during model training. We also converted the `has_diploma` column from boolean to integer format, as most ML models require numeric input and do not handle boolean values natively.\n",
        "\n",
        "Standardization was applied to all numerical features using z-score normalization (StandardScaler). This transformation was especially important for models sensitive to feature scales, such as KNN, logistic regression, and SVM. Without standardization, features like `house_income` or `completed_credits` would dominate others purely due to their scale, potentially biasing the model and reducing performance.\n",
        "\n",
        "By applying these transformations consistently across training, validation, and test datasets, we not only enhanced model stability and convergence but also ensured fair weight distribution across features. This helps in building more generalizable and interpretable models.\n",
        "\"\"\"\n"
      ],
      "metadata": {
        "id": "GKhUJOlM3FkC"
      },
      "execution_count": null,
      "outputs": []
    },
    {
      "cell_type": "code",
      "source": [
        "# Do not modify this code\n",
        "print_tile(size=\"h3\", key='data_transformation_1_explanations', value=data_transformation_1_explanations)"
      ],
      "metadata": {
        "id": "GaWzPi9h3Fqi",
        "colab": {
          "base_uri": "https://localhost:8080/",
          "height": 365
        },
        "outputId": "009d247b-4a91-40f3-805c-3798da2500e4"
      },
      "execution_count": null,
      "outputs": [
        {
          "output_type": "display_data",
          "data": {
            "text/plain": [
              "<IPython.core.display.HTML object>"
            ],
            "text/html": [
              "<p style=\"color:grey\">data_transformation_1_explanations</p><h3 font-size: 3em>\n",
              "Data transformation is a critical preprocessing step that ensures consistency, interpretability, and compatibility with machine learning models. In this case, we first renamed the column `current _semester` to `current_semester` to maintain uniform naming conventions and avoid errors during model training. We also converted the `has_diploma` column from boolean to integer format, as most ML models require numeric input and do not handle boolean values natively.\n",
              "\n",
              "Standardization was applied to all numerical features using z-score normalization (StandardScaler). This transformation was especially important for models sensitive to feature scales, such as KNN, logistic regression, and SVM. Without standardization, features like `house_income` or `completed_credits` would dominate others purely due to their scale, potentially biasing the model and reducing performance.\n",
              "\n",
              "By applying these transformations consistently across training, validation, and test datasets, we not only enhanced model stability and convergence but also ensured fair weight distribution across features. This helps in building more generalizable and interpretable models.\n",
              "</h3>"
            ]
          },
          "metadata": {}
        }
      ]
    },
    {
      "cell_type": "markdown",
      "source": [
        "### E.2 Data Transformation <put_name_here>\n"
      ],
      "metadata": {
        "id": "SxhDoAkw08Eb"
      }
    },
    {
      "cell_type": "code",
      "source": [
        "# <Student to fill this section>"
      ],
      "metadata": {
        "id": "OO5ITMDZ035_"
      },
      "execution_count": null,
      "outputs": []
    },
    {
      "cell_type": "code",
      "source": [
        "# <Student to fill this section>\n",
        "data_transformation_2_explanations = \"\"\"\n",
        "Provide some explanations on why you believe it is important to perform this data transformation and its impacts\n",
        "\"\"\""
      ],
      "metadata": {
        "id": "QZeg-jbf3YPr"
      },
      "execution_count": null,
      "outputs": []
    },
    {
      "cell_type": "code",
      "source": [
        "# Do not modify this code\n",
        "print_tile(size=\"h3\", key='data_transformation_2_explanations', value=data_transformation_2_explanations)"
      ],
      "metadata": {
        "id": "dyr9ZQOL3YUX"
      },
      "execution_count": null,
      "outputs": []
    },
    {
      "cell_type": "markdown",
      "source": [
        "### E.3 Data Transformation <put_name_here>\n"
      ],
      "metadata": {
        "id": "ylQxO-4g03qH"
      }
    },
    {
      "cell_type": "code",
      "source": [
        "# <Student to fill this section>"
      ],
      "metadata": {
        "id": "5VymIZpS1Ch7"
      },
      "execution_count": null,
      "outputs": []
    },
    {
      "cell_type": "code",
      "source": [
        "# <Student to fill this section>\n",
        "data_transformation_3_explanations = \"\"\"\n",
        "Provide some explanations on why you believe it is important to perform this data transformation and its impacts\n",
        "\"\"\""
      ],
      "metadata": {
        "id": "68S5Eev23b1j"
      },
      "execution_count": null,
      "outputs": []
    },
    {
      "cell_type": "code",
      "source": [
        "# Do not modify this code\n",
        "print_tile(size=\"h3\", key='data_transformation_3_explanations', value=data_transformation_3_explanations)"
      ],
      "metadata": {
        "id": "yeT-WCIm3b4g"
      },
      "execution_count": null,
      "outputs": []
    },
    {
      "cell_type": "markdown",
      "source": [
        "### G.n Fixing \"\\<describe_issue_here\\>\"\n",
        "\n",
        "> You can add more cells related to data preparation in this section"
      ],
      "metadata": {
        "id": "0ykY58h40rwu"
      }
    },
    {
      "cell_type": "code",
      "source": [],
      "metadata": {
        "id": "fk_i65M20r1y"
      },
      "execution_count": null,
      "outputs": []
    },
    {
      "cell_type": "markdown",
      "source": [
        "---\n",
        "## F. Feature Engineering"
      ],
      "metadata": {
        "id": "S80O7okb0RIx"
      }
    },
    {
      "cell_type": "markdown",
      "source": [
        "### F.1 New Feature \"\\<put_name_here\\>\"\n",
        "\n"
      ],
      "metadata": {
        "id": "Kst7h7wp1MFK"
      }
    },
    {
      "cell_type": "code",
      "source": [
        "# <Student to fill this section>"
      ],
      "metadata": {
        "id": "f_wsc2n-1Mdm"
      },
      "execution_count": null,
      "outputs": []
    },
    {
      "cell_type": "code",
      "source": [
        "# <Student to fill this section>\n",
        "feature_engineering_1_explanations = \"\"\"\n",
        "Provide some explanations on why you believe it is important to create this feature and its impacts\n",
        "\"\"\""
      ],
      "metadata": {
        "id": "9Bh6p8D_3hC2"
      },
      "execution_count": null,
      "outputs": []
    },
    {
      "cell_type": "code",
      "source": [
        "# Do not modify this code\n",
        "print_tile(size=\"h3\", key='feature_engineering_1_explanations', value=feature_engineering_1_explanations)"
      ],
      "metadata": {
        "id": "CBCPPzRB3hFt"
      },
      "execution_count": null,
      "outputs": []
    },
    {
      "cell_type": "markdown",
      "source": [
        "### F.2 New Feature \"\\<put_name_here\\>\"\n"
      ],
      "metadata": {
        "id": "xY_hWhC71XAl"
      }
    },
    {
      "cell_type": "code",
      "source": [
        "# <Student to fill this section>"
      ],
      "metadata": {
        "id": "F3DhQoJZ1Xvw"
      },
      "execution_count": null,
      "outputs": []
    },
    {
      "cell_type": "code",
      "source": [
        "# <Student to fill this section>\n",
        "feature_engineering_2_explanations = \"\"\"\n",
        "Provide some explanations on why you believe it is important to create this feature and its impacts\n",
        "\"\"\""
      ],
      "metadata": {
        "id": "BJyOmWEm3l8a"
      },
      "execution_count": null,
      "outputs": []
    },
    {
      "cell_type": "code",
      "source": [
        "# Do not modify this code\n",
        "print_tile(size=\"h3\", key='feature_engineering_2_explanations', value=feature_engineering_2_explanations)"
      ],
      "metadata": {
        "id": "5l9zSFCt3l_4"
      },
      "execution_count": null,
      "outputs": []
    },
    {
      "cell_type": "markdown",
      "source": [
        "### F.3 New Feature \"\\<put_name_here\\>\"\n"
      ],
      "metadata": {
        "id": "w0Fhn4271gVu"
      }
    },
    {
      "cell_type": "code",
      "source": [
        "# <Student to fill this section>"
      ],
      "metadata": {
        "id": "N6wBdmYD1g6c"
      },
      "execution_count": null,
      "outputs": []
    },
    {
      "cell_type": "code",
      "source": [
        "# <Student to fill this section>\n",
        "feature_engineering_3_explanations = \"\"\"\n",
        "Provide some explanations on why you believe it is important to create this feature and its impacts\n",
        "\"\"\""
      ],
      "metadata": {
        "id": "ftZovroG3pv8"
      },
      "execution_count": null,
      "outputs": []
    },
    {
      "cell_type": "code",
      "source": [
        "# Do not modify this code\n",
        "print_tile(size=\"h3\", key='feature_engineering_3_explanations', value=feature_engineering_3_explanations)"
      ],
      "metadata": {
        "id": "xDeQtmJf3pzj"
      },
      "execution_count": null,
      "outputs": []
    },
    {
      "cell_type": "markdown",
      "source": [
        "### F.n Fixing \"\\<describe_issue_here\\>\"\n",
        "\n",
        "> You can add more cells related to new features in this section"
      ],
      "metadata": {
        "id": "hEIG3OUB0p66"
      }
    },
    {
      "cell_type": "code",
      "source": [],
      "metadata": {
        "id": "1wLqXCWt0p_i"
      },
      "execution_count": null,
      "outputs": []
    },
    {
      "cell_type": "markdown",
      "source": [
        "Note: The following engineered features were created and saved in Experiment Book 0:\n",
        "- `gpa_change`: Tracks GPA momentum.\n",
        "- `study_x_attendance`: Measures study engagement.\n",
        "- `skill_to_social_ratio`: Reflects time prioritization.\n",
        "\n",
        "These features are already included in `X_train`, `X_val`, and `X_test`, and thus do not need to be re-generated here.\n",
        "\n",
        "\n"
      ],
      "metadata": {
        "id": "v4K6GXLCLVI7"
      }
    },
    {
      "cell_type": "markdown",
      "metadata": {
        "id": "N8MNBrC4Zgz6"
      },
      "source": [
        "---\n",
        "## G. Train Machine Learning Model"
      ]
    },
    {
      "cell_type": "markdown",
      "source": [
        "### G.1 Import Algorithm\n"
      ],
      "metadata": {
        "id": "4_tQitOfeDXr"
      }
    },
    {
      "cell_type": "code",
      "execution_count": null,
      "metadata": {
        "id": "Mh6epkAThez5",
        "colab": {
          "base_uri": "https://localhost:8080/"
        },
        "outputId": "ca55a019-cb59-4459-c027-7f201d0673b7"
      },
      "outputs": [
        {
          "output_type": "stream",
          "name": "stdout",
          "text": [
            "              precision    recall  f1-score   support\n",
            "\n",
            "           0       0.59      0.69      0.64        61\n",
            "           1       0.00      0.00      0.00        13\n",
            "           2       0.41      0.53      0.46        38\n",
            "           3       0.92      0.74      0.82        92\n",
            "\n",
            "    accuracy                           0.64       204\n",
            "   macro avg       0.48      0.49      0.48       204\n",
            "weighted avg       0.67      0.64      0.65       204\n",
            "\n"
          ]
        }
      ],
      "source": [
        "# <Student to filfrom sklearn.neighbors import KNeighborsClassifier\n",
        "from sklearn.metrics import classification_report\n",
        "\n",
        "model = KNeighborsClassifier()\n",
        "model.fit(X_train, y_train)\n",
        "y_pred = model.predict(X_val)\n",
        "\n",
        "print(classification_report(y_val, y_pred))\n"
      ]
    },
    {
      "cell_type": "code",
      "source": [
        "# prompt: calculate the accuracy  precision recall and F1 Score\n",
        "\n",
        "from sklearn.metrics import classification_report, accuracy_score, precision_score, recall_score, f1_score\n",
        "\n",
        "# Assuming y_val and y_pred are already defined from your KNeighborsClassifier\n",
        "# Example:\n",
        "# from sklearn.neighbors import KNeighborsClassifier\n",
        "# model = KNeighborsClassifier(n_neighbors=5)\n",
        "# model.fit(X_train, y_train)\n",
        "# y_pred = model.predict(X_val)\n",
        "\n",
        "accuracy = accuracy_score(y_val, y_pred)\n",
        "precision = precision_score(y_val, y_pred, average='weighted') # Use 'weighted' for multi-class\n",
        "recall = recall_score(y_val, y_pred, average='weighted') # Use 'weighted' for multi-class\n",
        "f1 = f1_score(y_val, y_pred, average='weighted') # Use 'weighted' for multi-class\n",
        "\n",
        "\n",
        "print(f\"Accuracy: {accuracy}\")\n",
        "print(f\"Precision: {precision}\")\n",
        "print(f\"Recall: {recall}\")\n",
        "print(f\"F1 Score: {f1}\")\n",
        "\n",
        "# You can also print the classification report for more detailed metrics:\n",
        "print(classification_report(y_val, y_pred))\n"
      ],
      "metadata": {
        "colab": {
          "base_uri": "https://localhost:8080/"
        },
        "id": "QmeXHs7RiD3S",
        "outputId": "6893688d-2035-48fc-f8d9-11a7d2703ed2"
      },
      "execution_count": null,
      "outputs": [
        {
          "output_type": "stream",
          "name": "stdout",
          "text": [
            "Accuracy: 0.6372549019607843\n",
            "Precision: 0.6673296650216997\n",
            "Recall: 0.6372549019607843\n",
            "F1 Score: 0.645406569421086\n",
            "              precision    recall  f1-score   support\n",
            "\n",
            "           0       0.59      0.69      0.64        61\n",
            "           1       0.00      0.00      0.00        13\n",
            "           2       0.41      0.53      0.46        38\n",
            "           3       0.92      0.74      0.82        92\n",
            "\n",
            "    accuracy                           0.64       204\n",
            "   macro avg       0.48      0.49      0.48       204\n",
            "weighted avg       0.67      0.64      0.65       204\n",
            "\n"
          ]
        }
      ]
    },
    {
      "cell_type": "code",
      "source": [
        "# <Student to fill this section>\n",
        "algorithm_selection_explanations = \"\"\"\n",
        "Provide some explanations on why you believe this algorithm is a good fit\n",
        "\"\"\""
      ],
      "metadata": {
        "id": "OOzgowlJ3uyp"
      },
      "execution_count": null,
      "outputs": []
    },
    {
      "cell_type": "code",
      "source": [
        "# Do not modify this code\n",
        "print_tile(size=\"h3\", key='algorithm_selection_explanations', value=algorithm_selection_explanations)"
      ],
      "metadata": {
        "id": "BYNgEFLX3u17"
      },
      "execution_count": null,
      "outputs": []
    },
    {
      "cell_type": "markdown",
      "source": [
        "### G.2 Set Hyperparameters"
      ],
      "metadata": {
        "id": "0ks_MmM2mCfm"
      }
    },
    {
      "cell_type": "code",
      "source": [
        "# <Student to fill this section>"
      ],
      "metadata": {
        "id": "NUswpGVLmDXl"
      },
      "execution_count": null,
      "outputs": []
    },
    {
      "cell_type": "code",
      "source": [
        "# <Student to fill this section>\n",
        "hyperparameters_selection_explanations = \"\"\"\n",
        "Explain why you are tuning these hyperparameters\n",
        "\"\"\""
      ],
      "metadata": {
        "id": "L_hjiXab31B3"
      },
      "execution_count": null,
      "outputs": []
    },
    {
      "cell_type": "code",
      "source": [
        "# Do not modify this code\n",
        "print_tile(size=\"h3\", key='hyperparameters_selection_explanations', value=hyperparameters_selection_explanations)"
      ],
      "metadata": {
        "id": "tcZOBvcv31E5"
      },
      "execution_count": null,
      "outputs": []
    },
    {
      "cell_type": "markdown",
      "source": [
        "### G.3 Fit Model"
      ],
      "metadata": {
        "id": "VDjdjQjFmkLe"
      }
    },
    {
      "cell_type": "code",
      "source": [
        "# <Student to fill this section>"
      ],
      "metadata": {
        "id": "0Ub3Nrdgmm2N"
      },
      "execution_count": null,
      "outputs": []
    },
    {
      "cell_type": "markdown",
      "source": [
        "### G.4 Model Technical Performance"
      ],
      "metadata": {
        "id": "q43YtqpdeniY"
      }
    },
    {
      "cell_type": "code",
      "execution_count": null,
      "metadata": {
        "id": "x1Q3oxoNhez5"
      },
      "outputs": [],
      "source": [
        "# <Student to fill this section>"
      ]
    },
    {
      "cell_type": "code",
      "source": [
        "# <Student to fill this section>\n",
        "model_performance_explanations = \"\"\"\n",
        "Provide some explanations on model performance\n",
        "\"\"\""
      ],
      "metadata": {
        "id": "7movz2AD3-k_"
      },
      "execution_count": null,
      "outputs": []
    },
    {
      "cell_type": "code",
      "source": [
        "# Do not modify this code\n",
        "print_tile(size=\"h3\", key='model_performance_explanations', value=model_performance_explanations)"
      ],
      "metadata": {
        "id": "1U_nKfW93-t0"
      },
      "execution_count": null,
      "outputs": []
    },
    {
      "cell_type": "markdown",
      "source": [
        "### G.5 Business Impact from Current Model Performance\n"
      ],
      "metadata": {
        "id": "W1HgZMPcmtu7"
      }
    },
    {
      "cell_type": "code",
      "source": [
        "# <Student to fill this section>"
      ],
      "metadata": {
        "id": "XGq2RWyqmuKM"
      },
      "execution_count": null,
      "outputs": []
    },
    {
      "cell_type": "code",
      "source": [
        "# <Student to fill this section>\n",
        "business_impacts_explanations = \"\"\"\n",
        "Interpret the results of the experiments related to the business objective set earlier. Estimate the impacts of the incorrect results for the business (some results may have more impact compared to others)\n",
        "\"\"\""
      ],
      "metadata": {
        "id": "T7zWIZ4v4Ehd"
      },
      "execution_count": null,
      "outputs": []
    },
    {
      "cell_type": "code",
      "source": [
        "# Do not modify this code\n",
        "print_tile(size=\"h3\", key='business_impacts_explanations', value=business_impacts_explanations)"
      ],
      "metadata": {
        "id": "OfuoUsp84Eod"
      },
      "execution_count": null,
      "outputs": []
    },
    {
      "cell_type": "markdown",
      "source": [
        "## H. Experiment Outcomes"
      ],
      "metadata": {
        "id": "mp1Ie9o8nDl1"
      }
    },
    {
      "cell_type": "code",
      "source": [
        "# <Student to fill this section>\n",
        "experiment_outcome = \"\" # Either 'Hypothesis Confirmed', 'Hypothesis Partially Confirmed' or 'Hypothesis Rejected'"
      ],
      "metadata": {
        "id": "f1ks62SL4KEk"
      },
      "execution_count": null,
      "outputs": []
    },
    {
      "cell_type": "code",
      "source": [
        "# Do not modify this code\n",
        "print_tile(size=\"h2\", key='experiment_outcomes_explanations', value=experiment_outcome)"
      ],
      "metadata": {
        "id": "1Z2YIMpr4KLJ"
      },
      "execution_count": null,
      "outputs": []
    },
    {
      "cell_type": "code",
      "source": [
        "# <Student to fill this section>\n",
        "experiment_results_explanations = \"\"\"\n",
        "Reflect on the outcome of the experiment and list the new insights you gained from it. Provide rationale for pursuing more experimentation with the current approach or call out if you think it is a dead end.\n",
        "Given the results achieved and the overall objective of the project, list the potential next steps and experiments. For each of them assess the expected uplift or gains and rank them accordingly. If the experiment achieved the required outcome for the business, recommend the steps to deploy this solution into production.\n",
        "\"\"\""
      ],
      "metadata": {
        "id": "6tw5lZ2S4KV3"
      },
      "execution_count": null,
      "outputs": []
    },
    {
      "cell_type": "code",
      "source": [
        "# Do not modify this code\n",
        "print_tile(size=\"h2\", key='experiment_results_explanations', value=experiment_results_explanations)"
      ],
      "metadata": {
        "id": "H-Zd7BEz4Kc3"
      },
      "execution_count": null,
      "outputs": []
    },
    {
      "cell_type": "code",
      "source": [],
      "metadata": {
        "id": "RMYQ-XSv6YgU"
      },
      "execution_count": null,
      "outputs": []
    },
    {
      "cell_type": "code",
      "source": [],
      "metadata": {
        "id": "2kJZdk0g6Yir"
      },
      "execution_count": null,
      "outputs": []
    }
  ],
  "metadata": {
    "colab": {
      "provenance": []
    },
    "kernelspec": {
      "display_name": "Python 3 (ipykernel)",
      "language": "python",
      "name": "python3"
    },
    "language_info": {
      "codemirror_mode": {
        "name": "ipython",
        "version": 3
      },
      "file_extension": ".py",
      "mimetype": "text/x-python",
      "name": "python",
      "nbconvert_exporter": "python",
      "pygments_lexer": "ipython3",
      "version": "3.10.10"
    }
  },
  "nbformat": 4,
  "nbformat_minor": 0
}