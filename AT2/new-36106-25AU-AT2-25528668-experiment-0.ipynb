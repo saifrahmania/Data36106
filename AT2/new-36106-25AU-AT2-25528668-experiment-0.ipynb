{
 "cells": [
  {
   "cell_type": "markdown",
   "metadata": {
    "id": "uQ6wc2HE0pke"
   },
   "source": [
    "# **Experiment Notebook**\n",
    "\n"
   ]
  },
  {
   "cell_type": "markdown",
   "metadata": {
    "id": "KFVpE17Ahezu"
   },
   "source": [
    "---\n",
    "## 0. Setup Environment"
   ]
  },
  {
   "cell_type": "markdown",
   "metadata": {
    "id": "kWUmi7fakv5O"
   },
   "source": [
    "### 0.a Install Environment and Mandatory Packages"
   ]
  },
  {
   "cell_type": "code",
   "execution_count": 3,
   "metadata": {
    "colab": {
     "base_uri": "https://localhost:8080/"
    },
    "executionInfo": {
     "elapsed": 37808,
     "status": "ok",
     "timestamp": 1744063179837,
     "user": {
      "displayName": "Anthony So",
      "userId": "05258592867336372279"
     },
     "user_tz": -600
    },
    "id": "S8jFaNXqvV5W",
    "outputId": "fa3aaed5-6ef5-4df1-a47e-be69fb77edc5"
   },
   "outputs": [
    {
     "name": "stdout",
     "output_type": "stream",
     "text": [
      "\n",
      "You can now save your data files in: c:\\Users\\Admin\\Documents\\GitHub\\Data36106\\AT2\\36106\\assignment\\AT2\\data\n"
     ]
    }
   ],
   "source": [
    "# Do not modify this code\n",
    "!pip install -q utstd\n",
    "\n",
    "from utstd.folders import *\n",
    "from utstd.ipyrenders import *\n",
    "\n",
    "at = AtFolder(\n",
    "    course_code=36106,\n",
    "    assignment=\"AT2\",\n",
    ")\n",
    "at.run()"
   ]
  },
  {
   "cell_type": "markdown",
   "metadata": {
    "id": "jM39DExClCc5"
   },
   "source": [
    "### 0.b Disable Warnings Messages"
   ]
  },
  {
   "cell_type": "code",
   "execution_count": 4,
   "metadata": {
    "executionInfo": {
     "elapsed": 3,
     "status": "ok",
     "timestamp": 1744063179840,
     "user": {
      "displayName": "Anthony So",
      "userId": "05258592867336372279"
     },
     "user_tz": -600
    },
    "id": "6FneOmBfka9G"
   },
   "outputs": [],
   "source": [
    "# Do not modify this code\n",
    "import warnings\n",
    "warnings.simplefilter(action='ignore', category=FutureWarning)"
   ]
  },
  {
   "cell_type": "markdown",
   "metadata": {
    "id": "CgTrMfyylVLf"
   },
   "source": [
    "### 0.c Install Additional Packages"
   ]
  },
  {
   "cell_type": "markdown",
   "metadata": {
    "id": "mXFKfa2tp1ch"
   },
   "source": [
    "### 0.d Import Packages\n",
    "\n",
    "> If you are using additional packages, you need to install them here using the command: `! pip install <package_name>`"
   ]
  },
  {
   "cell_type": "code",
   "execution_count": 3,
   "metadata": {
    "executionInfo": {
     "elapsed": 1,
     "status": "ok",
     "timestamp": 1744063179841,
     "user": {
      "displayName": "Anthony So",
      "userId": "05258592867336372279"
     },
     "user_tz": -600
    },
    "id": "r0iZBItTznvr"
   },
   "outputs": [],
   "source": [
    "# <Student to fill this section>"
   ]
  },
  {
   "cell_type": "code",
   "execution_count": 5,
   "metadata": {
    "executionInfo": {
     "elapsed": 822,
     "status": "ok",
     "timestamp": 1744063180663,
     "user": {
      "displayName": "Anthony So",
      "userId": "05258592867336372279"
     },
     "user_tz": -600
    },
    "id": "GBEAwdncnlAx"
   },
   "outputs": [],
   "source": [
    "# <Student to fill this section>\n",
    "import pandas as pd\n",
    "import altair as alt"
   ]
  },
  {
   "cell_type": "markdown",
   "metadata": {
    "id": "tQgxLRrvjiJb"
   },
   "source": [
    "---\n",
    "## A. Project Description\n"
   ]
  },
  {
   "cell_type": "code",
   "execution_count": 6,
   "metadata": {
    "executionInfo": {
     "elapsed": 13,
     "status": "ok",
     "timestamp": 1744063180677,
     "user": {
      "displayName": "Anthony So",
      "userId": "05258592867336372279"
     },
     "user_tz": -600
    },
    "id": "SS-pQF1Nuhh_"
   },
   "outputs": [],
   "source": [
    "# <Student to fill this section>\n",
    "student_name = \"Md Saifur Rahman\"   \n",
    "student_id = \"25528668\""
   ]
  },
  {
   "cell_type": "code",
   "execution_count": 8,
   "metadata": {
    "colab": {
     "base_uri": "https://localhost:8080/",
     "height": 59
    },
    "executionInfo": {
     "elapsed": 4,
     "status": "ok",
     "timestamp": 1744063180704,
     "user": {
      "displayName": "Anthony So",
      "userId": "05258592867336372279"
     },
     "user_tz": -600
    },
    "id": "FH6eQ15aui1S",
    "outputId": "e16a7284-99a7-4af1-8b48-f830be6e89b2"
   },
   "outputs": [
    {
     "data": {
      "text/html": [
       "<p style=\"color:grey\">student_name</p><h1 font-size: 3em>Md Saifur Rahman</h1>"
      ],
      "text/plain": [
       "<IPython.core.display.HTML object>"
      ]
     },
     "metadata": {},
     "output_type": "display_data"
    }
   ],
   "source": [
    "# Do not modify this code\n",
    "print_tile(size=\"h1\", key='student_name', value=student_name)"
   ]
  },
  {
   "cell_type": "code",
   "execution_count": 7,
   "metadata": {
    "colab": {
     "base_uri": "https://localhost:8080/",
     "height": 59
    },
    "executionInfo": {
     "elapsed": 7,
     "status": "ok",
     "timestamp": 1744063180712,
     "user": {
      "displayName": "Anthony So",
      "userId": "05258592867336372279"
     },
     "user_tz": -600
    },
    "id": "etKMbTbsvhNA",
    "outputId": "2509a042-b379-4ca1-b8a7-037faef0aa74"
   },
   "outputs": [
    {
     "data": {
      "text/html": [
       "<p style=\"color:grey\">student_id</p><h1 font-size: 3em>25528668</h1>"
      ],
      "text/plain": [
       "<IPython.core.display.HTML object>"
      ]
     },
     "metadata": {},
     "output_type": "display_data"
    }
   ],
   "source": [
    "# Do not modify this code\n",
    "print_tile(size=\"h1\", key='student_id', value=student_id)"
   ]
  },
  {
   "cell_type": "code",
   "execution_count": 8,
   "metadata": {
    "executionInfo": {
     "elapsed": 14,
     "status": "ok",
     "timestamp": 1744063180726,
     "user": {
      "displayName": "Anthony So",
      "userId": "05258592867336372279"
     },
     "user_tz": -600
    },
    "id": "00teGgpAv1d1"
   },
   "outputs": [],
   "source": [
    "# <Student to fill this section>\n",
    "business_objective = \"\"\"\n",
    "Explain clearly what is the goal of this project for the business. How will the results be used? What will be the impact of accurate or incorrect results?\n",
    "\"\"\""
   ]
  },
  {
   "cell_type": "code",
   "execution_count": 9,
   "metadata": {
    "colab": {
     "base_uri": "https://localhost:8080/",
     "height": 101
    },
    "executionInfo": {
     "elapsed": 18,
     "status": "ok",
     "timestamp": 1744063180745,
     "user": {
      "displayName": "Anthony So",
      "userId": "05258592867336372279"
     },
     "user_tz": -600
    },
    "id": "yAt-ZdQJv7JY",
    "outputId": "e85c1e56-aa0f-4123-fdec-be43965f1757"
   },
   "outputs": [
    {
     "data": {
      "text/html": [
       "<p style=\"color:grey\">business_objective</p><h3 font-size: 3em>\n",
       "Explain clearly what is the goal of this project for the business. How will the results be used? What will be the impact of accurate or incorrect results?\n",
       "</h3>"
      ],
      "text/plain": [
       "<IPython.core.display.HTML object>"
      ]
     },
     "metadata": {},
     "output_type": "display_data"
    }
   ],
   "source": [
    "# Do not modify this code\n",
    "print_tile(size=\"h3\", key='business_objective', value=business_objective)"
   ]
  },
  {
   "cell_type": "markdown",
   "metadata": {
    "id": "4q1Bzcejvfpm"
   },
   "source": [
    "---\n",
    "## B. Experiment Description"
   ]
  },
  {
   "cell_type": "code",
   "execution_count": 10,
   "metadata": {
    "colab": {
     "base_uri": "https://localhost:8080/",
     "height": 98
    },
    "executionInfo": {
     "elapsed": 2,
     "status": "ok",
     "timestamp": 1744063180748,
     "user": {
      "displayName": "Anthony So",
      "userId": "05258592867336372279"
     },
     "user_tz": -600
    },
    "id": "an1XVBrevrhs",
    "outputId": "e4126952-8b2c-40ba-ae0b-018a2d3caa66"
   },
   "outputs": [
    {
     "data": {
      "text/html": [
       "<p style=\"color:grey\">experiment_id</p><h1 font-size: 3em>0</h1>"
      ],
      "text/plain": [
       "<IPython.core.display.HTML object>"
      ]
     },
     "metadata": {},
     "output_type": "display_data"
    }
   ],
   "source": [
    "# Do not modify this code\n",
    "experiment_id = \"0\"\n",
    "print_tile(size=\"h1\", key='experiment_id', value=experiment_id)"
   ]
  },
  {
   "cell_type": "code",
   "execution_count": 11,
   "metadata": {
    "executionInfo": {
     "elapsed": 1,
     "status": "ok",
     "timestamp": 1744063180750,
     "user": {
      "displayName": "Anthony So",
      "userId": "05258592867336372279"
     },
     "user_tz": -600
    },
    "id": "-NNroN2fwCQB"
   },
   "outputs": [],
   "source": [
    "# <Student to fill this section>\n",
    "experiment_hypothesis = \"\"\"\n",
    "Present the hypothesis you want to test, the question you want to answer or the insight you are seeking.\n",
    "Explain the reasons why you think it is worthwhile considering it\n",
    "\"\"\""
   ]
  },
  {
   "cell_type": "code",
   "execution_count": 12,
   "metadata": {
    "colab": {
     "base_uri": "https://localhost:8080/",
     "height": 101
    },
    "executionInfo": {
     "elapsed": 6,
     "status": "ok",
     "timestamp": 1744063180756,
     "user": {
      "displayName": "Anthony So",
      "userId": "05258592867336372279"
     },
     "user_tz": -600
    },
    "id": "Gcq-v-eJwC1q",
    "outputId": "46c97947-83de-450c-ee1d-c2d8afb7a967"
   },
   "outputs": [
    {
     "data": {
      "text/html": [
       "<p style=\"color:grey\">experiment_hypothesis</p><h3 font-size: 3em>\n",
       "Present the hypothesis you want to test, the question you want to answer or the insight you are seeking.\n",
       "Explain the reasons why you think it is worthwhile considering it\n",
       "</h3>"
      ],
      "text/plain": [
       "<IPython.core.display.HTML object>"
      ]
     },
     "metadata": {},
     "output_type": "display_data"
    }
   ],
   "source": [
    "# Do not modify this code\n",
    "print_tile(size=\"h3\", key='experiment_hypothesis', value=experiment_hypothesis)"
   ]
  },
  {
   "cell_type": "code",
   "execution_count": 13,
   "metadata": {
    "executionInfo": {
     "elapsed": 1,
     "status": "ok",
     "timestamp": 1744063180757,
     "user": {
      "displayName": "Anthony So",
      "userId": "05258592867336372279"
     },
     "user_tz": -600
    },
    "id": "wRkZ3TudwI4n"
   },
   "outputs": [],
   "source": [
    "# <Student to fill this section>\n",
    "experiment_expectations = \"\"\"\n",
    "Detail what will be the expected outcome of the experiment. If possible, estimate the goal you are expecting.\n",
    "List the possible scenarios resulting from this experiment.\n",
    "\"\"\""
   ]
  },
  {
   "cell_type": "code",
   "execution_count": 14,
   "metadata": {
    "colab": {
     "base_uri": "https://localhost:8080/",
     "height": 101
    },
    "executionInfo": {
     "elapsed": 2,
     "status": "ok",
     "timestamp": 1744063180759,
     "user": {
      "displayName": "Anthony So",
      "userId": "05258592867336372279"
     },
     "user_tz": -600
    },
    "id": "WKXJuYbnwJWf",
    "outputId": "29c91d16-e540-41e0-e372-f0e65d9c12fb"
   },
   "outputs": [
    {
     "data": {
      "text/html": [
       "<p style=\"color:grey\">experiment_expectations</p><h3 font-size: 3em>\n",
       "Detail what will be the expected outcome of the experiment. If possible, estimate the goal you are expecting.\n",
       "List the possible scenarios resulting from this experiment.\n",
       "</h3>"
      ],
      "text/plain": [
       "<IPython.core.display.HTML object>"
      ]
     },
     "metadata": {},
     "output_type": "display_data"
    }
   ],
   "source": [
    "# Do not modify this code\n",
    "print_tile(size=\"h3\", key='experiment_expectations', value=experiment_expectations)"
   ]
  },
  {
   "cell_type": "markdown",
   "metadata": {
    "id": "P0zsEPshwy1K"
   },
   "source": [
    "---\n",
    "## C. Data Understanding"
   ]
  },
  {
   "cell_type": "code",
   "execution_count": 15,
   "metadata": {
    "colab": {
     "base_uri": "https://localhost:8080/"
    },
    "executionInfo": {
     "elapsed": 6,
     "status": "ok",
     "timestamp": 1744063180766,
     "user": {
      "displayName": "Anthony So",
      "userId": "05258592867336372279"
     },
     "user_tz": -600
    },
    "id": "l7NaNXKGx7JT",
    "outputId": "e2ae787b-c8ae-4a42-a6dc-c905146f22a6"
   },
   "outputs": [
    {
     "name": "stdout",
     "output_type": "stream",
     "text": [
      "[Errno 2] No such file or directory: '/content/36106/assignment/AT2/data/students_performance.csv'\n"
     ]
    }
   ],
   "source": [
    "# Do not modify this code\n",
    "try:\n",
    "  df = pd.read_csv(at.folder_path / \"students_performance.csv\")\n",
    "except Exception as e:\n",
    "  print(e)"
   ]
  },
  {
   "cell_type": "markdown",
   "metadata": {
    "id": "gL5f0ePt0SGX"
   },
   "source": [
    "### C.1 Explore Dataset"
   ]
  },
  {
   "cell_type": "code",
   "execution_count": 16,
   "metadata": {
    "executionInfo": {
     "elapsed": 25,
     "status": "ok",
     "timestamp": 1744063180791,
     "user": {
      "displayName": "Anthony So",
      "userId": "05258592867336372279"
     },
     "user_tz": -600
    },
    "id": "OfWPmPTD0UGo"
   },
   "outputs": [],
   "source": [
    "# <Student to fill this section>"
   ]
  },
  {
   "cell_type": "code",
   "execution_count": 16,
   "metadata": {
    "executionInfo": {
     "elapsed": 5,
     "status": "ok",
     "timestamp": 1744063180791,
     "user": {
      "displayName": "Anthony So",
      "userId": "05258592867336372279"
     },
     "user_tz": -600
    },
    "id": "RpCXNEdsPG3H"
   },
   "outputs": [],
   "source": []
  },
  {
   "cell_type": "code",
   "execution_count": 17,
   "metadata": {
    "executionInfo": {
     "elapsed": 8,
     "status": "ok",
     "timestamp": 1744063180794,
     "user": {
      "displayName": "Anthony So",
      "userId": "05258592867336372279"
     },
     "user_tz": -600
    },
    "id": "ig3ZHEmDwQek"
   },
   "outputs": [],
   "source": [
    "# <Student to fill this section>\n",
    "dataset_insights = \"\"\"\n",
    "provide a detailed analysis on the dataset, its dimensions, information, issues, ...\n",
    "\"\"\""
   ]
  },
  {
   "cell_type": "code",
   "execution_count": 18,
   "metadata": {
    "colab": {
     "base_uri": "https://localhost:8080/",
     "height": 81
    },
    "executionInfo": {
     "elapsed": 7,
     "status": "ok",
     "timestamp": 1744063180795,
     "user": {
      "displayName": "Anthony So",
      "userId": "05258592867336372279"
     },
     "user_tz": -600
    },
    "id": "d64Q58qywQh1",
    "outputId": "4ebe25b8-0f0c-456b-aeb0-f544d852de2b"
   },
   "outputs": [
    {
     "data": {
      "text/html": [
       "<p style=\"color:grey\">dataset_insights</p><h3 font-size: 3em>\n",
       "provide a detailed analysis on the dataset, its dimensions, information, issues, ...\n",
       "</h3>"
      ],
      "text/plain": [
       "<IPython.core.display.HTML object>"
      ]
     },
     "metadata": {},
     "output_type": "display_data"
    }
   ],
   "source": [
    "# Do not modify this code\n",
    "print_tile(size=\"h3\", key='dataset_insights', value=dataset_insights)"
   ]
  },
  {
   "cell_type": "markdown",
   "metadata": {
    "id": "bpaUZpXh2Myp"
   },
   "source": [
    "### C.2 Explore Target Variable"
   ]
  },
  {
   "cell_type": "code",
   "execution_count": 19,
   "metadata": {
    "executionInfo": {
     "elapsed": 6,
     "status": "ok",
     "timestamp": 1744063180795,
     "user": {
      "displayName": "Anthony So",
      "userId": "05258592867336372279"
     },
     "user_tz": -600
    },
    "id": "-D7GFBIV2Sbx"
   },
   "outputs": [],
   "source": [
    "# <Student to fill this section>\n",
    "target_name = ''"
   ]
  },
  {
   "cell_type": "code",
   "execution_count": 19,
   "metadata": {
    "executionInfo": {
     "elapsed": 6,
     "status": "ok",
     "timestamp": 1744063180796,
     "user": {
      "displayName": "Anthony So",
      "userId": "05258592867336372279"
     },
     "user_tz": -600
    },
    "id": "AtzhJ6W1PsYh"
   },
   "outputs": [],
   "source": []
  },
  {
   "cell_type": "code",
   "execution_count": 20,
   "metadata": {
    "executionInfo": {
     "elapsed": 1,
     "status": "ok",
     "timestamp": 1744063180797,
     "user": {
      "displayName": "Anthony So",
      "userId": "05258592867336372279"
     },
     "user_tz": -600
    },
    "id": "St1SZ6SSwYZw"
   },
   "outputs": [],
   "source": [
    "# <Student to fill this section>\n",
    "target_insights = \"\"\"\n",
    "provide a detailed analysis on the target variable, its distribution, limitations, issues, ...\n",
    "\"\"\""
   ]
  },
  {
   "cell_type": "code",
   "execution_count": 21,
   "metadata": {
    "colab": {
     "base_uri": "https://localhost:8080/",
     "height": 81
    },
    "executionInfo": {
     "elapsed": 2,
     "status": "ok",
     "timestamp": 1744063180799,
     "user": {
      "displayName": "Anthony So",
      "userId": "05258592867336372279"
     },
     "user_tz": -600
    },
    "id": "VMKtDFxOwYc3",
    "outputId": "2b3a718b-3bd1-4ee1-a39d-e62f0641a46f"
   },
   "outputs": [
    {
     "data": {
      "text/html": [
       "<p style=\"color:grey\">target_insights</p><h3 font-size: 3em>\n",
       "provide a detailed analysis on the target variable, its distribution, limitations, issues, ...\n",
       "</h3>"
      ],
      "text/plain": [
       "<IPython.core.display.HTML object>"
      ]
     },
     "metadata": {},
     "output_type": "display_data"
    }
   ],
   "source": [
    "# Do not modify this code\n",
    "print_tile(size=\"h3\", key='target_insights', value=target_insights)"
   ]
  },
  {
   "cell_type": "markdown",
   "metadata": {
    "id": "Ig93bpyM2RGY"
   },
   "source": [
    "### C.4 Explore Feature of Interest `\\<put feature name here\\>`"
   ]
  },
  {
   "cell_type": "code",
   "execution_count": 22,
   "metadata": {
    "executionInfo": {
     "elapsed": 47,
     "status": "ok",
     "timestamp": 1744063180848,
     "user": {
      "displayName": "Anthony So",
      "userId": "05258592867336372279"
     },
     "user_tz": -600
    },
    "id": "GLxrz5Zb2TVo"
   },
   "outputs": [],
   "source": [
    "# <Student to fill this section>"
   ]
  },
  {
   "cell_type": "code",
   "execution_count": 22,
   "metadata": {
    "executionInfo": {
     "elapsed": 7,
     "status": "ok",
     "timestamp": 1744063180852,
     "user": {
      "displayName": "Anthony So",
      "userId": "05258592867336372279"
     },
     "user_tz": -600
    },
    "id": "AEyDDr-NPrSl"
   },
   "outputs": [],
   "source": []
  },
  {
   "cell_type": "code",
   "execution_count": 23,
   "metadata": {
    "executionInfo": {
     "elapsed": 8,
     "status": "ok",
     "timestamp": 1744063180853,
     "user": {
      "displayName": "Anthony So",
      "userId": "05258592867336372279"
     },
     "user_tz": -600
    },
    "id": "uPWXTAR1wf4y"
   },
   "outputs": [],
   "source": [
    "# <Student to fill this section>\n",
    "feature_1_insights = \"\"\"\n",
    "provide a detailed analysis on the selected feature, its distribution, limitations, issues, ...\n",
    "\"\"\""
   ]
  },
  {
   "cell_type": "code",
   "execution_count": 24,
   "metadata": {
    "colab": {
     "base_uri": "https://localhost:8080/",
     "height": 81
    },
    "executionInfo": {
     "elapsed": 9,
     "status": "ok",
     "timestamp": 1744063180854,
     "user": {
      "displayName": "Anthony So",
      "userId": "05258592867336372279"
     },
     "user_tz": -600
    },
    "id": "V1bxPJtWwjNd",
    "outputId": "935897e5-9236-4f4d-a408-852a576e2ae6"
   },
   "outputs": [
    {
     "data": {
      "text/html": [
       "<p style=\"color:grey\">feature_1_insights</p><h3 font-size: 3em>\n",
       "provide a detailed analysis on the selected feature, its distribution, limitations, issues, ...\n",
       "</h3>"
      ],
      "text/plain": [
       "<IPython.core.display.HTML object>"
      ]
     },
     "metadata": {},
     "output_type": "display_data"
    }
   ],
   "source": [
    "# Do not modify this code\n",
    "print_tile(size=\"h3\", key='feature_1_insights', value=feature_1_insights)"
   ]
  },
  {
   "cell_type": "markdown",
   "metadata": {
    "id": "CzAu4gM-wr1O"
   },
   "source": [
    "### C.5 Explore Feature of Interest `\\<put feature name here\\>`"
   ]
  },
  {
   "cell_type": "code",
   "execution_count": 25,
   "metadata": {
    "executionInfo": {
     "elapsed": 7,
     "status": "ok",
     "timestamp": 1744063180854,
     "user": {
      "displayName": "Anthony So",
      "userId": "05258592867336372279"
     },
     "user_tz": -600
    },
    "id": "M8mmLJTbwsN-"
   },
   "outputs": [],
   "source": [
    "# <Student to fill this section>"
   ]
  },
  {
   "cell_type": "code",
   "execution_count": 25,
   "metadata": {
    "executionInfo": {
     "elapsed": 1,
     "status": "ok",
     "timestamp": 1744063180855,
     "user": {
      "displayName": "Anthony So",
      "userId": "05258592867336372279"
     },
     "user_tz": -600
    },
    "id": "FxR1p7IzPu-v"
   },
   "outputs": [],
   "source": []
  },
  {
   "cell_type": "code",
   "execution_count": 26,
   "metadata": {
    "executionInfo": {
     "elapsed": 0,
     "status": "ok",
     "timestamp": 1744063180856,
     "user": {
      "displayName": "Anthony So",
      "userId": "05258592867336372279"
     },
     "user_tz": -600
    },
    "id": "bFGJP7iqwsUO"
   },
   "outputs": [],
   "source": [
    "# <Student to fill this section>\n",
    "feature_2_insights = \"\"\"\n",
    "provide a detailed analysis on the selected feature, its distribution, limitations, issues, ...\n",
    "\"\"\""
   ]
  },
  {
   "cell_type": "code",
   "execution_count": 27,
   "metadata": {
    "colab": {
     "base_uri": "https://localhost:8080/",
     "height": 81
    },
    "executionInfo": {
     "elapsed": 2,
     "status": "ok",
     "timestamp": 1744063180862,
     "user": {
      "displayName": "Anthony So",
      "userId": "05258592867336372279"
     },
     "user_tz": -600
    },
    "id": "gDUS_4R9wspm",
    "outputId": "db5d992d-940e-41e2-c028-c02301576963"
   },
   "outputs": [
    {
     "data": {
      "text/html": [
       "<p style=\"color:grey\">feature_2_insights</p><h3 font-size: 3em>\n",
       "provide a detailed analysis on the selected feature, its distribution, limitations, issues, ...\n",
       "</h3>"
      ],
      "text/plain": [
       "<IPython.core.display.HTML object>"
      ]
     },
     "metadata": {},
     "output_type": "display_data"
    }
   ],
   "source": [
    "# Do not modify this code\n",
    "print_tile(size=\"h3\", key='feature_2_insights', value=feature_2_insights)"
   ]
  },
  {
   "cell_type": "markdown",
   "metadata": {
    "id": "CfsJyjfpwsyE"
   },
   "source": [
    "### C.6 Explore Feature of Interest `\\<put feature name here\\>`"
   ]
  },
  {
   "cell_type": "code",
   "execution_count": 28,
   "metadata": {
    "executionInfo": {
     "elapsed": 10,
     "status": "ok",
     "timestamp": 1744063180873,
     "user": {
      "displayName": "Anthony So",
      "userId": "05258592867336372279"
     },
     "user_tz": -600
    },
    "id": "44FtOBTRwtBR"
   },
   "outputs": [],
   "source": [
    "# <Student to fill this section>"
   ]
  },
  {
   "cell_type": "code",
   "execution_count": 28,
   "metadata": {
    "executionInfo": {
     "elapsed": 2,
     "status": "ok",
     "timestamp": 1744063180878,
     "user": {
      "displayName": "Anthony So",
      "userId": "05258592867336372279"
     },
     "user_tz": -600
    },
    "id": "2JzXXa-vPqXb"
   },
   "outputs": [],
   "source": []
  },
  {
   "cell_type": "code",
   "execution_count": 29,
   "metadata": {
    "executionInfo": {
     "elapsed": 13,
     "status": "ok",
     "timestamp": 1744063180892,
     "user": {
      "displayName": "Anthony So",
      "userId": "05258592867336372279"
     },
     "user_tz": -600
    },
    "id": "05WCrWhJwtFc"
   },
   "outputs": [],
   "source": [
    "# <Student to fill this section>\n",
    "feature_n_insights = \"\"\"\n",
    "provide a detailed analysis on the selected feature, its distribution, limitations, issues, ...\n",
    "\"\"\""
   ]
  },
  {
   "cell_type": "code",
   "execution_count": 30,
   "metadata": {
    "colab": {
     "base_uri": "https://localhost:8080/",
     "height": 81
    },
    "executionInfo": {
     "elapsed": 2,
     "status": "ok",
     "timestamp": 1744063180961,
     "user": {
      "displayName": "Anthony So",
      "userId": "05258592867336372279"
     },
     "user_tz": -600
    },
    "id": "6uawrdTewtJF",
    "outputId": "61afaa18-078f-4f5e-f813-ca2d24504b24"
   },
   "outputs": [
    {
     "data": {
      "text/html": [
       "<p style=\"color:grey\">feature_n_insights</p><h3 font-size: 3em>\n",
       "provide a detailed analysis on the selected feature, its distribution, limitations, issues, ...\n",
       "</h3>"
      ],
      "text/plain": [
       "<IPython.core.display.HTML object>"
      ]
     },
     "metadata": {},
     "output_type": "display_data"
    }
   ],
   "source": [
    "# Do not modify this code\n",
    "print_tile(size=\"h3\", key='feature_n_insights', value=feature_n_insights)"
   ]
  },
  {
   "cell_type": "markdown",
   "metadata": {
    "id": "eAwoTL8txCxP"
   },
   "source": [
    "### C.n Explore Feature of Interest `\\<put feature name here\\>`\n",
    "\n",
    "> You can add more cells related to other feeatures in this section"
   ]
  },
  {
   "cell_type": "code",
   "execution_count": 30,
   "metadata": {
    "executionInfo": {
     "elapsed": 0,
     "status": "ok",
     "timestamp": 1744063180962,
     "user": {
      "displayName": "Anthony So",
      "userId": "05258592867336372279"
     },
     "user_tz": -600
    },
    "id": "0t6jURh1xC5k"
   },
   "outputs": [],
   "source": []
  },
  {
   "cell_type": "markdown",
   "metadata": {
    "id": "_NCwQQFkU3v5"
   },
   "source": [
    "---\n",
    "## D. Feature Selection\n"
   ]
  },
  {
   "cell_type": "markdown",
   "metadata": {
    "id": "E18dcL6C3O-4"
   },
   "source": [
    "### D.1 Approach \"\\<describe_approach_here\\>\"\n"
   ]
  },
  {
   "cell_type": "code",
   "execution_count": 31,
   "metadata": {
    "executionInfo": {
     "elapsed": 1,
     "status": "ok",
     "timestamp": 1744063180963,
     "user": {
      "displayName": "Anthony So",
      "userId": "05258592867336372279"
     },
     "user_tz": -600
    },
    "id": "SiroVmhn9_HP"
   },
   "outputs": [],
   "source": [
    "# <Student to fill this section>"
   ]
  },
  {
   "cell_type": "code",
   "execution_count": 31,
   "metadata": {
    "executionInfo": {
     "elapsed": 0,
     "status": "ok",
     "timestamp": 1744063180963,
     "user": {
      "displayName": "Anthony So",
      "userId": "05258592867336372279"
     },
     "user_tz": -600
    },
    "id": "bVhY-yGxQIEp"
   },
   "outputs": [],
   "source": []
  },
  {
   "cell_type": "code",
   "execution_count": 32,
   "metadata": {
    "executionInfo": {
     "elapsed": 1,
     "status": "ok",
     "timestamp": 1744063180964,
     "user": {
      "displayName": "Anthony So",
      "userId": "05258592867336372279"
     },
     "user_tz": -600
    },
    "id": "bkNjw_Osw_Ch"
   },
   "outputs": [],
   "source": [
    "# <Student to fill this section>\n",
    "feature_selection_1_insights = \"\"\"\n",
    "provide an explanation on why you use this approach for feature selection and describe its results\n",
    "\"\"\""
   ]
  },
  {
   "cell_type": "code",
   "execution_count": 33,
   "metadata": {
    "colab": {
     "base_uri": "https://localhost:8080/",
     "height": 81
    },
    "executionInfo": {
     "elapsed": 1,
     "status": "ok",
     "timestamp": 1744063180965,
     "user": {
      "displayName": "Anthony So",
      "userId": "05258592867336372279"
     },
     "user_tz": -600
    },
    "id": "ew0xzw6PxE26",
    "outputId": "030de33e-1166-4297-fedc-65b4870be999"
   },
   "outputs": [
    {
     "data": {
      "text/html": [
       "<p style=\"color:grey\">feature_selection_1_insights</p><h3 font-size: 3em>\n",
       "provide an explanation on why you use this approach for feature selection and describe its results\n",
       "</h3>"
      ],
      "text/plain": [
       "<IPython.core.display.HTML object>"
      ]
     },
     "metadata": {},
     "output_type": "display_data"
    }
   ],
   "source": [
    "# Do not modify this code\n",
    "print_tile(size=\"h3\", key='feature_selection_1_insights', value=feature_selection_1_insights)"
   ]
  },
  {
   "cell_type": "markdown",
   "metadata": {
    "id": "m0WdHbsf3vTm"
   },
   "source": [
    "### D.2 Approach \"\\<describe_approach_here\\>\"\n"
   ]
  },
  {
   "cell_type": "code",
   "execution_count": 34,
   "metadata": {
    "executionInfo": {
     "elapsed": 11,
     "status": "ok",
     "timestamp": 1744063180976,
     "user": {
      "displayName": "Anthony So",
      "userId": "05258592867336372279"
     },
     "user_tz": -600
    },
    "id": "2aAKCI6v3xbC"
   },
   "outputs": [],
   "source": [
    "# <Student to fill this section>"
   ]
  },
  {
   "cell_type": "code",
   "execution_count": 34,
   "metadata": {
    "executionInfo": {
     "elapsed": 0,
     "status": "ok",
     "timestamp": 1744063180977,
     "user": {
      "displayName": "Anthony So",
      "userId": "05258592867336372279"
     },
     "user_tz": -600
    },
    "id": "0Wk8RpjHQIqj"
   },
   "outputs": [],
   "source": []
  },
  {
   "cell_type": "code",
   "execution_count": 35,
   "metadata": {
    "executionInfo": {
     "elapsed": 4,
     "status": "ok",
     "timestamp": 1744063180981,
     "user": {
      "displayName": "Anthony So",
      "userId": "05258592867336372279"
     },
     "user_tz": -600
    },
    "id": "JoFrM9L4xAYJ"
   },
   "outputs": [],
   "source": [
    "# <Student to fill this section>\n",
    "feature_selection_2_insights = \"\"\"\n",
    "provide an explanation on why you use this approach for feature selection and describe its results\n",
    "\"\"\""
   ]
  },
  {
   "cell_type": "code",
   "execution_count": 36,
   "metadata": {
    "colab": {
     "base_uri": "https://localhost:8080/",
     "height": 81
    },
    "executionInfo": {
     "elapsed": 1,
     "status": "ok",
     "timestamp": 1744063180982,
     "user": {
      "displayName": "Anthony So",
      "userId": "05258592867336372279"
     },
     "user_tz": -600
    },
    "id": "Do4yXyzhxKOK",
    "outputId": "73dfa5b5-4c29-40aa-8a58-879cefa92870"
   },
   "outputs": [
    {
     "data": {
      "text/html": [
       "<p style=\"color:grey\">feature_selection_2_insights</p><h3 font-size: 3em>\n",
       "provide an explanation on why you use this approach for feature selection and describe its results\n",
       "</h3>"
      ],
      "text/plain": [
       "<IPython.core.display.HTML object>"
      ]
     },
     "metadata": {},
     "output_type": "display_data"
    }
   ],
   "source": [
    "# Do not modify this code\n",
    "print_tile(size=\"h3\", key='feature_selection_2_insights', value=feature_selection_2_insights)"
   ]
  },
  {
   "cell_type": "markdown",
   "metadata": {
    "id": "-fYICFRZv8sn"
   },
   "source": [
    "### D.n Approach \"\\<describe_approach_here\\>\"\n",
    "\n",
    "> You can add more cells related to other approaches in this section"
   ]
  },
  {
   "cell_type": "code",
   "execution_count": 36,
   "metadata": {
    "executionInfo": {
     "elapsed": 0,
     "status": "ok",
     "timestamp": 1744063180983,
     "user": {
      "displayName": "Anthony So",
      "userId": "05258592867336372279"
     },
     "user_tz": -600
    },
    "id": "gYgCX4MvQoYS"
   },
   "outputs": [],
   "source": []
  },
  {
   "cell_type": "markdown",
   "metadata": {
    "id": "j5bbQlUn3635"
   },
   "source": [
    "## D.z Final Selection of Features"
   ]
  },
  {
   "cell_type": "code",
   "execution_count": 37,
   "metadata": {
    "executionInfo": {
     "elapsed": 2,
     "status": "ok",
     "timestamp": 1744063180992,
     "user": {
      "displayName": "Anthony So",
      "userId": "05258592867336372279"
     },
     "user_tz": -600
    },
    "id": "zfC-DLKv4AuM"
   },
   "outputs": [],
   "source": [
    "# <Student to fill this section>\n",
    "\n",
    "features_list = []"
   ]
  },
  {
   "cell_type": "code",
   "execution_count": 37,
   "metadata": {
    "executionInfo": {
     "elapsed": 30,
     "status": "ok",
     "timestamp": 1744063181022,
     "user": {
      "displayName": "Anthony So",
      "userId": "05258592867336372279"
     },
     "user_tz": -600
    },
    "id": "TITVWKd1MeKT"
   },
   "outputs": [],
   "source": []
  },
  {
   "cell_type": "code",
   "execution_count": 38,
   "metadata": {
    "executionInfo": {
     "elapsed": 2,
     "status": "ok",
     "timestamp": 1744063181024,
     "user": {
      "displayName": "Anthony So",
      "userId": "05258592867336372279"
     },
     "user_tz": -600
    },
    "id": "DFpzSqrexOy6"
   },
   "outputs": [],
   "source": [
    "# <Student to fill this section>\n",
    "feature_selection_explanations = \"\"\"\n",
    "provide a quick explanation on the features selected\n",
    "\"\"\""
   ]
  },
  {
   "cell_type": "code",
   "execution_count": 39,
   "metadata": {
    "colab": {
     "base_uri": "https://localhost:8080/",
     "height": 81
    },
    "executionInfo": {
     "elapsed": 1,
     "status": "ok",
     "timestamp": 1744063181024,
     "user": {
      "displayName": "Anthony So",
      "userId": "05258592867336372279"
     },
     "user_tz": -600
    },
    "id": "-iFKuDtuxO4_",
    "outputId": "00557890-afc1-4ed3-cd27-31a0e419eb4b"
   },
   "outputs": [
    {
     "data": {
      "text/html": [
       "<p style=\"color:grey\">feature_selection_explanations</p><h3 font-size: 3em>\n",
       "provide a quick explanation on the features selected\n",
       "</h3>"
      ],
      "text/plain": [
       "<IPython.core.display.HTML object>"
      ]
     },
     "metadata": {},
     "output_type": "display_data"
    }
   ],
   "source": [
    "# Do not modify this code\n",
    "print_tile(size=\"h3\", key='feature_selection_explanations', value=feature_selection_explanations)"
   ]
  },
  {
   "cell_type": "markdown",
   "metadata": {
    "id": "ErH_bh604mOe"
   },
   "source": [
    "---\n",
    "## E. Data Cleaning"
   ]
  },
  {
   "cell_type": "code",
   "execution_count": 40,
   "metadata": {
    "colab": {
     "base_uri": "https://localhost:8080/"
    },
    "executionInfo": {
     "elapsed": 4,
     "status": "ok",
     "timestamp": 1744063181029,
     "user": {
      "displayName": "Anthony So",
      "userId": "05258592867336372279"
     },
     "user_tz": -600
    },
    "id": "HrXR7NCLtwxB",
    "outputId": "743e1d9a-bca9-4bd6-f585-b4b069873c2c"
   },
   "outputs": [
    {
     "name": "stdout",
     "output_type": "stream",
     "text": [
      "name 'df' is not defined\n"
     ]
    }
   ],
   "source": [
    "# Do not modify this code\n",
    "try:\n",
    "  df_clean = df[features_list].copy()\n",
    "except Exception as e:\n",
    "  print(e)"
   ]
  },
  {
   "cell_type": "markdown",
   "metadata": {
    "id": "bII_PglX5E-r"
   },
   "source": [
    "### E.1 Fixing \"\\<describe_issue_here\\>\"\n"
   ]
  },
  {
   "cell_type": "code",
   "execution_count": 41,
   "metadata": {
    "executionInfo": {
     "elapsed": 1,
     "status": "ok",
     "timestamp": 1744063181031,
     "user": {
      "displayName": "Anthony So",
      "userId": "05258592867336372279"
     },
     "user_tz": -600
    },
    "id": "iaR8p5n8hez4"
   },
   "outputs": [],
   "source": [
    "# <Student to fill this section>"
   ]
  },
  {
   "cell_type": "code",
   "execution_count": 41,
   "metadata": {
    "executionInfo": {
     "elapsed": 1,
     "status": "ok",
     "timestamp": 1744063181032,
     "user": {
      "displayName": "Anthony So",
      "userId": "05258592867336372279"
     },
     "user_tz": -600
    },
    "id": "1SW-uuf1P1WA"
   },
   "outputs": [],
   "source": []
  },
  {
   "cell_type": "code",
   "execution_count": 42,
   "metadata": {
    "executionInfo": {
     "elapsed": 1,
     "status": "ok",
     "timestamp": 1744063181033,
     "user": {
      "displayName": "Anthony So",
      "userId": "05258592867336372279"
     },
     "user_tz": -600
    },
    "id": "GLPQSm-QxZ3m"
   },
   "outputs": [],
   "source": [
    "# <Student to fill this section>\n",
    "data_cleaning_1_explanations = \"\"\"\n",
    "Provide some explanations on why you believe it is important to fix this issue and its impacts\n",
    "\"\"\""
   ]
  },
  {
   "cell_type": "code",
   "execution_count": 43,
   "metadata": {
    "colab": {
     "base_uri": "https://localhost:8080/",
     "height": 81
    },
    "executionInfo": {
     "elapsed": 57,
     "status": "ok",
     "timestamp": 1744063181090,
     "user": {
      "displayName": "Anthony So",
      "userId": "05258592867336372279"
     },
     "user_tz": -600
    },
    "id": "I0whpKgVxZ92",
    "outputId": "30ae9306-36a7-40a4-e097-84f1e3d043dc"
   },
   "outputs": [
    {
     "data": {
      "text/html": [
       "<p style=\"color:grey\">data_cleaning_1_explanations</p><h3 font-size: 3em>\n",
       "Provide some explanations on why you believe it is important to fix this issue and its impacts\n",
       "</h3>"
      ],
      "text/plain": [
       "<IPython.core.display.HTML object>"
      ]
     },
     "metadata": {},
     "output_type": "display_data"
    }
   ],
   "source": [
    "# Do not modify this code\n",
    "print_tile(size=\"h3\", key='data_cleaning_1_explanations', value=data_cleaning_1_explanations)"
   ]
  },
  {
   "cell_type": "markdown",
   "metadata": {
    "id": "wRJ6Ql1F5ODe"
   },
   "source": [
    "### E.2 Fixing \"\\<describe_issue_here\\>\""
   ]
  },
  {
   "cell_type": "code",
   "execution_count": 44,
   "metadata": {
    "executionInfo": {
     "elapsed": 10,
     "status": "ok",
     "timestamp": 1744063181090,
     "user": {
      "displayName": "Anthony So",
      "userId": "05258592867336372279"
     },
     "user_tz": -600
    },
    "id": "DsTzKV3bhez4"
   },
   "outputs": [],
   "source": [
    "# <Student to fill this section>"
   ]
  },
  {
   "cell_type": "code",
   "execution_count": 44,
   "metadata": {
    "executionInfo": {
     "elapsed": 1,
     "status": "ok",
     "timestamp": 1744063181098,
     "user": {
      "displayName": "Anthony So",
      "userId": "05258592867336372279"
     },
     "user_tz": -600
    },
    "id": "GlsY6O3HP12C"
   },
   "outputs": [],
   "source": []
  },
  {
   "cell_type": "code",
   "execution_count": 45,
   "metadata": {
    "executionInfo": {
     "elapsed": 0,
     "status": "ok",
     "timestamp": 1744063181098,
     "user": {
      "displayName": "Anthony So",
      "userId": "05258592867336372279"
     },
     "user_tz": -600
    },
    "id": "se_O3nL1xjCD"
   },
   "outputs": [],
   "source": [
    "# <Student to fill this section>\n",
    "data_cleaning_2_explanations = \"\"\"\n",
    "Provide some explanations on why you believe it is important to fix this issue and its impacts\n",
    "\"\"\""
   ]
  },
  {
   "cell_type": "code",
   "execution_count": 46,
   "metadata": {
    "colab": {
     "base_uri": "https://localhost:8080/",
     "height": 81
    },
    "executionInfo": {
     "elapsed": 1,
     "status": "ok",
     "timestamp": 1744063181100,
     "user": {
      "displayName": "Anthony So",
      "userId": "05258592867336372279"
     },
     "user_tz": -600
    },
    "id": "phfKSsB0xjG2",
    "outputId": "7c1cf159-a810-457a-a8d1-129f9d87adbc"
   },
   "outputs": [
    {
     "data": {
      "text/html": [
       "<p style=\"color:grey\">data_cleaning_2_explanations</p><h3 font-size: 3em>\n",
       "Provide some explanations on why you believe it is important to fix this issue and its impacts\n",
       "</h3>"
      ],
      "text/plain": [
       "<IPython.core.display.HTML object>"
      ]
     },
     "metadata": {},
     "output_type": "display_data"
    }
   ],
   "source": [
    "# Do not modify this code\n",
    "print_tile(size=\"h3\", key='data_cleaning_2_explanations', value=data_cleaning_2_explanations)"
   ]
  },
  {
   "cell_type": "markdown",
   "metadata": {
    "id": "OE7AqdGFvA6g"
   },
   "source": [
    "### E.3 Fixing \"\\<describe_issue_here\\>\""
   ]
  },
  {
   "cell_type": "code",
   "execution_count": 47,
   "metadata": {
    "executionInfo": {
     "elapsed": 0,
     "status": "ok",
     "timestamp": 1744063181101,
     "user": {
      "displayName": "Anthony So",
      "userId": "05258592867336372279"
     },
     "user_tz": -600
    },
    "id": "eJh1KWoF5Qze"
   },
   "outputs": [],
   "source": [
    "# <Student to fill this section>"
   ]
  },
  {
   "cell_type": "code",
   "execution_count": 47,
   "metadata": {
    "executionInfo": {
     "elapsed": 0,
     "status": "ok",
     "timestamp": 1744063181102,
     "user": {
      "displayName": "Anthony So",
      "userId": "05258592867336372279"
     },
     "user_tz": -600
    },
    "id": "ZnYals0AP2j_"
   },
   "outputs": [],
   "source": []
  },
  {
   "cell_type": "code",
   "execution_count": 48,
   "metadata": {
    "executionInfo": {
     "elapsed": 3,
     "status": "ok",
     "timestamp": 1744063181105,
     "user": {
      "displayName": "Anthony So",
      "userId": "05258592867336372279"
     },
     "user_tz": -600
    },
    "id": "uNHYKGioxojE"
   },
   "outputs": [],
   "source": [
    "# <Student to fill this section>\n",
    "data_cleaning_3_explanations = \"\"\"\n",
    "Provide some explanations on why you believe it is important to fix this issue and its impacts\n",
    "\"\"\""
   ]
  },
  {
   "cell_type": "code",
   "execution_count": 49,
   "metadata": {
    "colab": {
     "base_uri": "https://localhost:8080/",
     "height": 81
    },
    "executionInfo": {
     "elapsed": 2,
     "status": "ok",
     "timestamp": 1744063181107,
     "user": {
      "displayName": "Anthony So",
      "userId": "05258592867336372279"
     },
     "user_tz": -600
    },
    "id": "ICKH-MEZxonW",
    "outputId": "72d966ca-465c-4deb-f944-6fbc6329815d"
   },
   "outputs": [
    {
     "data": {
      "text/html": [
       "<p style=\"color:grey\">data_cleaning_3_explanations</p><h3 font-size: 3em>\n",
       "Provide some explanations on why you believe it is important to fix this issue and its impacts\n",
       "</h3>"
      ],
      "text/plain": [
       "<IPython.core.display.HTML object>"
      ]
     },
     "metadata": {},
     "output_type": "display_data"
    }
   ],
   "source": [
    "# Do not modify this code\n",
    "print_tile(size=\"h3\", key='data_cleaning_3_explanations', value=data_cleaning_3_explanations)"
   ]
  },
  {
   "cell_type": "markdown",
   "metadata": {
    "id": "ujZunhZfvOA5"
   },
   "source": [
    "### E.n Fixing \"\\<describe_issue_here\\>\"\n",
    "\n",
    "> You can add more cells related to other issues in this section"
   ]
  },
  {
   "cell_type": "code",
   "execution_count": 49,
   "metadata": {
    "executionInfo": {
     "elapsed": 8,
     "status": "ok",
     "timestamp": 1744063181115,
     "user": {
      "displayName": "Anthony So",
      "userId": "05258592867336372279"
     },
     "user_tz": -600
    },
    "id": "iPLQ8oTRvOVN"
   },
   "outputs": [],
   "source": []
  },
  {
   "cell_type": "markdown",
   "metadata": {
    "id": "Z9jsWz-z5-XS"
   },
   "source": [
    "---\n",
    "## F. Feature Engineering"
   ]
  },
  {
   "cell_type": "code",
   "execution_count": 50,
   "metadata": {
    "colab": {
     "base_uri": "https://localhost:8080/"
    },
    "executionInfo": {
     "elapsed": 7,
     "status": "ok",
     "timestamp": 1744063181122,
     "user": {
      "displayName": "Anthony So",
      "userId": "05258592867336372279"
     },
     "user_tz": -600
    },
    "id": "viLWliu76Fm6",
    "outputId": "819416ab-5732-4c00-9ed6-0fcafbace046"
   },
   "outputs": [
    {
     "name": "stdout",
     "output_type": "stream",
     "text": [
      "name 'df_clean' is not defined\n"
     ]
    }
   ],
   "source": [
    "# Do not modify this code\n",
    "try:\n",
    "  df_eng = df_clean.copy()\n",
    "except Exception as e:\n",
    "  print(e)"
   ]
  },
  {
   "cell_type": "markdown",
   "metadata": {
    "id": "imwl7ISs6O0t"
   },
   "source": [
    "### F.1 New Feature \"\\<put_name_here\\>\"\n"
   ]
  },
  {
   "cell_type": "code",
   "execution_count": 51,
   "metadata": {
    "executionInfo": {
     "elapsed": 11,
     "status": "ok",
     "timestamp": 1744063181133,
     "user": {
      "displayName": "Anthony So",
      "userId": "05258592867336372279"
     },
     "user_tz": -600
    },
    "id": "t5RVBQKW6mJj"
   },
   "outputs": [],
   "source": [
    "# <Student to fill this section>"
   ]
  },
  {
   "cell_type": "code",
   "execution_count": 51,
   "metadata": {
    "executionInfo": {
     "elapsed": 7,
     "status": "ok",
     "timestamp": 1744063181141,
     "user": {
      "displayName": "Anthony So",
      "userId": "05258592867336372279"
     },
     "user_tz": -600
    },
    "id": "nNWX3CREQMpR"
   },
   "outputs": [],
   "source": []
  },
  {
   "cell_type": "code",
   "execution_count": 52,
   "metadata": {
    "executionInfo": {
     "elapsed": 1,
     "status": "ok",
     "timestamp": 1744063181142,
     "user": {
      "displayName": "Anthony So",
      "userId": "05258592867336372279"
     },
     "user_tz": -600
    },
    "id": "2wxeJr9HxvAH"
   },
   "outputs": [],
   "source": [
    "# <Student to fill this section>\n",
    "feature_engineering_1_explanations = \"\"\"\n",
    "Provide some explanations on why you believe it is important to create this feature and its impacts\n",
    "\"\"\""
   ]
  },
  {
   "cell_type": "code",
   "execution_count": 53,
   "metadata": {
    "colab": {
     "base_uri": "https://localhost:8080/",
     "height": 81
    },
    "executionInfo": {
     "elapsed": 29,
     "status": "ok",
     "timestamp": 1744063181171,
     "user": {
      "displayName": "Anthony So",
      "userId": "05258592867336372279"
     },
     "user_tz": -600
    },
    "id": "h4XlH3gUxvCj",
    "outputId": "43a20874-d383-43b9-bd16-26afb0cc1b5c"
   },
   "outputs": [
    {
     "data": {
      "text/html": [
       "<p style=\"color:grey\">feature_engineering_1_explanations</p><h3 font-size: 3em>\n",
       "Provide some explanations on why you believe it is important to create this feature and its impacts\n",
       "</h3>"
      ],
      "text/plain": [
       "<IPython.core.display.HTML object>"
      ]
     },
     "metadata": {},
     "output_type": "display_data"
    }
   ],
   "source": [
    "# Do not modify this code\n",
    "print_tile(size=\"h3\", key='feature_engineering_1_explanations', value=feature_engineering_1_explanations)"
   ]
  },
  {
   "cell_type": "markdown",
   "metadata": {
    "id": "jYxCnW3C6zJj"
   },
   "source": [
    "### F.2 New Feature \"\\<put_name_here\\>\"\n",
    "\n",
    ">\n",
    "\n"
   ]
  },
  {
   "cell_type": "code",
   "execution_count": 54,
   "metadata": {
    "executionInfo": {
     "elapsed": 0,
     "status": "ok",
     "timestamp": 1744063181172,
     "user": {
      "displayName": "Anthony So",
      "userId": "05258592867336372279"
     },
     "user_tz": -600
    },
    "id": "y03X8eeW6zbL"
   },
   "outputs": [],
   "source": [
    "# <Student to fill this section>"
   ]
  },
  {
   "cell_type": "code",
   "execution_count": 54,
   "metadata": {
    "executionInfo": {
     "elapsed": 1,
     "status": "ok",
     "timestamp": 1744063181173,
     "user": {
      "displayName": "Anthony So",
      "userId": "05258592867336372279"
     },
     "user_tz": -600
    },
    "id": "iPd2jclHQNI0"
   },
   "outputs": [],
   "source": []
  },
  {
   "cell_type": "code",
   "execution_count": 55,
   "metadata": {
    "executionInfo": {
     "elapsed": 1,
     "status": "ok",
     "timestamp": 1744063181174,
     "user": {
      "displayName": "Anthony So",
      "userId": "05258592867336372279"
     },
     "user_tz": -600
    },
    "id": "rjQArT6Yx3OR"
   },
   "outputs": [],
   "source": [
    "# <Student to fill this section>\n",
    "feature_engineering_2_explanations = \"\"\"\n",
    "Provide some explanations on why you believe it is important to create this feature and its impacts\n",
    "\"\"\""
   ]
  },
  {
   "cell_type": "code",
   "execution_count": 56,
   "metadata": {
    "colab": {
     "base_uri": "https://localhost:8080/",
     "height": 81
    },
    "executionInfo": {
     "elapsed": 4,
     "status": "ok",
     "timestamp": 1744063181178,
     "user": {
      "displayName": "Anthony So",
      "userId": "05258592867336372279"
     },
     "user_tz": -600
    },
    "id": "VpP62hgkx3S7",
    "outputId": "c32717dc-bf9f-4f2f-93d6-0a0cc48d36b3"
   },
   "outputs": [
    {
     "data": {
      "text/html": [
       "<p style=\"color:grey\">feature_engineering_2_explanations</p><h3 font-size: 3em>\n",
       "Provide some explanations on why you believe it is important to create this feature and its impacts\n",
       "</h3>"
      ],
      "text/plain": [
       "<IPython.core.display.HTML object>"
      ]
     },
     "metadata": {},
     "output_type": "display_data"
    }
   ],
   "source": [
    "# Do not modify this code\n",
    "print_tile(size=\"h3\", key='feature_engineering_2_explanations', value=feature_engineering_2_explanations)"
   ]
  },
  {
   "cell_type": "markdown",
   "metadata": {
    "id": "gWF4jvXb62kU"
   },
   "source": [
    "### F.3 New Feature \"\\<put_name_here\\>\"\n",
    "\n"
   ]
  },
  {
   "cell_type": "code",
   "execution_count": 57,
   "metadata": {
    "executionInfo": {
     "elapsed": 1,
     "status": "ok",
     "timestamp": 1744063181180,
     "user": {
      "displayName": "Anthony So",
      "userId": "05258592867336372279"
     },
     "user_tz": -600
    },
    "id": "dfXFMHqw62r4"
   },
   "outputs": [],
   "source": [
    "# <Student to fill this section>"
   ]
  },
  {
   "cell_type": "code",
   "execution_count": 57,
   "metadata": {
    "executionInfo": {
     "elapsed": 1,
     "status": "ok",
     "timestamp": 1744063181181,
     "user": {
      "displayName": "Anthony So",
      "userId": "05258592867336372279"
     },
     "user_tz": -600
    },
    "id": "f6FmTaVeQOBk"
   },
   "outputs": [],
   "source": []
  },
  {
   "cell_type": "code",
   "execution_count": 58,
   "metadata": {
    "executionInfo": {
     "elapsed": 6,
     "status": "ok",
     "timestamp": 1744063181188,
     "user": {
      "displayName": "Anthony So",
      "userId": "05258592867336372279"
     },
     "user_tz": -600
    },
    "id": "SLYDy4TLx8zZ"
   },
   "outputs": [],
   "source": [
    "# <Student to fill this section>\n",
    "feature_engineering_n_explanations = \"\"\"\n",
    "Provide some explanations on why you believe it is important to create this feature and its impacts\n",
    "\"\"\""
   ]
  },
  {
   "cell_type": "code",
   "execution_count": 59,
   "metadata": {
    "colab": {
     "base_uri": "https://localhost:8080/",
     "height": 81
    },
    "executionInfo": {
     "elapsed": 40,
     "status": "ok",
     "timestamp": 1744063181251,
     "user": {
      "displayName": "Anthony So",
      "userId": "05258592867336372279"
     },
     "user_tz": -600
    },
    "id": "eyA_86xIx84Q",
    "outputId": "26fc3b09-d2d1-4a54-8f60-ff9a8cc3316d"
   },
   "outputs": [
    {
     "data": {
      "text/html": [
       "<p style=\"color:grey\">feature_engineering_n_explanations</p><h3 font-size: 3em>\n",
       "Provide some explanations on why you believe it is important to create this feature and its impacts\n",
       "</h3>"
      ],
      "text/plain": [
       "<IPython.core.display.HTML object>"
      ]
     },
     "metadata": {},
     "output_type": "display_data"
    }
   ],
   "source": [
    "# Do not modify this code\n",
    "print_tile(size=\"h3\", key='feature_engineering_n_explanations', value=feature_engineering_n_explanations)"
   ]
  },
  {
   "cell_type": "markdown",
   "metadata": {
    "id": "71q4CKpPvc6K"
   },
   "source": [
    "### F.n Fixing \"\\<describe_issue_here\\>\"\n",
    "\n",
    "> You can add more cells related to new features in this section"
   ]
  },
  {
   "cell_type": "code",
   "execution_count": 59,
   "metadata": {
    "executionInfo": {
     "elapsed": 1,
     "status": "ok",
     "timestamp": 1744063181253,
     "user": {
      "displayName": "Anthony So",
      "userId": "05258592867336372279"
     },
     "user_tz": -600
    },
    "id": "lJhTt15nvc_8"
   },
   "outputs": [],
   "source": []
  },
  {
   "cell_type": "markdown",
   "metadata": {
    "id": "N0S5LSAcjkvP"
   },
   "source": [
    "---\n",
    "## G. Data Preparation for Modeling"
   ]
  },
  {
   "cell_type": "markdown",
   "metadata": {
    "id": "TijNthzAyyAX"
   },
   "source": [
    "### G.1 Split Datasets\n"
   ]
  },
  {
   "cell_type": "code",
   "execution_count": 60,
   "metadata": {
    "executionInfo": {
     "elapsed": 1,
     "status": "ok",
     "timestamp": 1744063181254,
     "user": {
      "displayName": "Anthony So",
      "userId": "05258592867336372279"
     },
     "user_tz": -600
    },
    "id": "yL_Jwh9KzFT_"
   },
   "outputs": [],
   "source": [
    "# <Student to fill this section>"
   ]
  },
  {
   "cell_type": "code",
   "execution_count": 60,
   "metadata": {
    "executionInfo": {
     "elapsed": 1,
     "status": "ok",
     "timestamp": 1744063181255,
     "user": {
      "displayName": "Anthony So",
      "userId": "05258592867336372279"
     },
     "user_tz": -600
    },
    "id": "KBmEY01rMgnJ"
   },
   "outputs": [],
   "source": []
  },
  {
   "cell_type": "code",
   "execution_count": 61,
   "metadata": {
    "executionInfo": {
     "elapsed": 73,
     "status": "ok",
     "timestamp": 1744063181341,
     "user": {
      "displayName": "Anthony So",
      "userId": "05258592867336372279"
     },
     "user_tz": -600
    },
    "id": "2L2ZXDYRyN2N"
   },
   "outputs": [],
   "source": [
    "# <Student to fill this section>\n",
    "data_splitting_explanations = \"\"\"\n",
    "Provide some explanations on what is the best strategy to use for data splitting for this dataset\n",
    "\"\"\""
   ]
  },
  {
   "cell_type": "code",
   "execution_count": 62,
   "metadata": {
    "colab": {
     "base_uri": "https://localhost:8080/",
     "height": 81
    },
    "executionInfo": {
     "elapsed": 1,
     "status": "ok",
     "timestamp": 1744063181344,
     "user": {
      "displayName": "Anthony So",
      "userId": "05258592867336372279"
     },
     "user_tz": -600
    },
    "id": "jc8t17rMyN4y",
    "outputId": "062559c7-ea28-42b8-ba00-75775148a5a8"
   },
   "outputs": [
    {
     "data": {
      "text/html": [
       "<p style=\"color:grey\">data_splitting_explanations</p><h3 font-size: 3em>\n",
       "Provide some explanations on what is the best strategy to use for data splitting for this dataset\n",
       "</h3>"
      ],
      "text/plain": [
       "<IPython.core.display.HTML object>"
      ]
     },
     "metadata": {},
     "output_type": "display_data"
    }
   ],
   "source": [
    "# Do not modify this code\n",
    "print_tile(size=\"h3\", key='data_splitting_explanations', value=data_splitting_explanations)"
   ]
  },
  {
   "cell_type": "markdown",
   "metadata": {
    "id": "RKqt6BN6csNC"
   },
   "source": [
    "### G.2 Data Transformation <put_name_here>"
   ]
  },
  {
   "cell_type": "code",
   "execution_count": 63,
   "metadata": {
    "executionInfo": {
     "elapsed": 0,
     "status": "ok",
     "timestamp": 1744063181345,
     "user": {
      "displayName": "Anthony So",
      "userId": "05258592867336372279"
     },
     "user_tz": -600
    },
    "id": "7PnGwsy2hez4"
   },
   "outputs": [],
   "source": [
    "# <Student to fill this section>"
   ]
  },
  {
   "cell_type": "code",
   "execution_count": 63,
   "metadata": {
    "executionInfo": {
     "elapsed": 0,
     "status": "ok",
     "timestamp": 1744063181346,
     "user": {
      "displayName": "Anthony So",
      "userId": "05258592867336372279"
     },
     "user_tz": -600
    },
    "id": "afVed1knMEfu"
   },
   "outputs": [],
   "source": []
  },
  {
   "cell_type": "code",
   "execution_count": 64,
   "metadata": {
    "executionInfo": {
     "elapsed": 1,
     "status": "ok",
     "timestamp": 1744063181347,
     "user": {
      "displayName": "Anthony So",
      "userId": "05258592867336372279"
     },
     "user_tz": -600
    },
    "id": "GjO2VNe0yV4k"
   },
   "outputs": [],
   "source": [
    "# <Student to fill this section>\n",
    "data_transformation_1_explanations = \"\"\"\n",
    "Provide some explanations on why you believe it is important to perform this data transformation and its impacts\n",
    "\"\"\""
   ]
  },
  {
   "cell_type": "code",
   "execution_count": 65,
   "metadata": {
    "colab": {
     "base_uri": "https://localhost:8080/",
     "height": 81
    },
    "executionInfo": {
     "elapsed": 1,
     "status": "ok",
     "timestamp": 1744063181349,
     "user": {
      "displayName": "Anthony So",
      "userId": "05258592867336372279"
     },
     "user_tz": -600
    },
    "id": "5iLMKPm_yWAU",
    "outputId": "bab23ec9-dd43-4224-ca4e-93af14307d99"
   },
   "outputs": [
    {
     "data": {
      "text/html": [
       "<p style=\"color:grey\">data_transformation_1_explanations</p><h3 font-size: 3em>\n",
       "Provide some explanations on why you believe it is important to perform this data transformation and its impacts\n",
       "</h3>"
      ],
      "text/plain": [
       "<IPython.core.display.HTML object>"
      ]
     },
     "metadata": {},
     "output_type": "display_data"
    }
   ],
   "source": [
    "# Do not modify this code\n",
    "print_tile(size=\"h3\", key='data_transformation_1_explanations', value=data_transformation_1_explanations)"
   ]
  },
  {
   "cell_type": "markdown",
   "metadata": {
    "id": "Nl12P1VIdFGy"
   },
   "source": [
    "### G.3 Data Transformation <put_name_here>"
   ]
  },
  {
   "cell_type": "code",
   "execution_count": 66,
   "metadata": {
    "executionInfo": {
     "elapsed": 0,
     "status": "ok",
     "timestamp": 1744063181350,
     "user": {
      "displayName": "Anthony So",
      "userId": "05258592867336372279"
     },
     "user_tz": -600
    },
    "id": "DWw06xkDHU1i"
   },
   "outputs": [],
   "source": [
    "# <Student to fill this section>"
   ]
  },
  {
   "cell_type": "code",
   "execution_count": 66,
   "metadata": {
    "executionInfo": {
     "elapsed": 2,
     "status": "ok",
     "timestamp": 1744063181360,
     "user": {
      "displayName": "Anthony So",
      "userId": "05258592867336372279"
     },
     "user_tz": -600
    },
    "id": "kwX6GQclMFBb"
   },
   "outputs": [],
   "source": []
  },
  {
   "cell_type": "code",
   "execution_count": 67,
   "metadata": {
    "executionInfo": {
     "elapsed": 40,
     "status": "ok",
     "timestamp": 1744063181404,
     "user": {
      "displayName": "Anthony So",
      "userId": "05258592867336372279"
     },
     "user_tz": -600
    },
    "id": "AnOQ7dK1yfYl"
   },
   "outputs": [],
   "source": [
    "# <Student to fill this section>\n",
    "data_transformation_2_explanations = \"\"\"\n",
    "Provide some explanations on why you believe it is important to perform this data transformation and its impacts\n",
    "\"\"\""
   ]
  },
  {
   "cell_type": "code",
   "execution_count": 68,
   "metadata": {
    "colab": {
     "base_uri": "https://localhost:8080/",
     "height": 81
    },
    "executionInfo": {
     "elapsed": 33,
     "status": "ok",
     "timestamp": 1744063181488,
     "user": {
      "displayName": "Anthony So",
      "userId": "05258592867336372279"
     },
     "user_tz": -600
    },
    "id": "GdboQEaayffW",
    "outputId": "02836cb8-a39b-4195-f803-4f4a96ab6bc7"
   },
   "outputs": [
    {
     "data": {
      "text/html": [
       "<p style=\"color:grey\">data_transformation_2_explanations</p><h3 font-size: 3em>\n",
       "Provide some explanations on why you believe it is important to perform this data transformation and its impacts\n",
       "</h3>"
      ],
      "text/plain": [
       "<IPython.core.display.HTML object>"
      ]
     },
     "metadata": {},
     "output_type": "display_data"
    }
   ],
   "source": [
    "# Do not modify this code\n",
    "print_tile(size=\"h3\", key='data_transformation_2_explanations', value=data_transformation_2_explanations)"
   ]
  },
  {
   "cell_type": "markdown",
   "metadata": {
    "id": "nw8W-JpHdGlC"
   },
   "source": [
    "### G.4 Data Transformation <put_name_here>"
   ]
  },
  {
   "cell_type": "code",
   "execution_count": 69,
   "metadata": {
    "executionInfo": {
     "elapsed": 1,
     "status": "ok",
     "timestamp": 1744063181535,
     "user": {
      "displayName": "Anthony So",
      "userId": "05258592867336372279"
     },
     "user_tz": -600
    },
    "id": "TTfdRd6vHTlX"
   },
   "outputs": [],
   "source": [
    "# <Student to fill this section>"
   ]
  },
  {
   "cell_type": "code",
   "execution_count": 69,
   "metadata": {
    "executionInfo": {
     "elapsed": 1,
     "status": "ok",
     "timestamp": 1744063181540,
     "user": {
      "displayName": "Anthony So",
      "userId": "05258592867336372279"
     },
     "user_tz": -600
    },
    "id": "tuqwQORmMFuX"
   },
   "outputs": [],
   "source": []
  },
  {
   "cell_type": "code",
   "execution_count": 70,
   "metadata": {
    "executionInfo": {
     "elapsed": 0,
     "status": "ok",
     "timestamp": 1744063181540,
     "user": {
      "displayName": "Anthony So",
      "userId": "05258592867336372279"
     },
     "user_tz": -600
    },
    "id": "-7jBQjaHykoD"
   },
   "outputs": [],
   "source": [
    "# <Student to fill this section>\n",
    "data_transformation_3_explanations = \"\"\"\n",
    "Provide some explanations on why you believe it is important to perform this data transformation and its impacts\n",
    "\"\"\""
   ]
  },
  {
   "cell_type": "code",
   "execution_count": 71,
   "metadata": {
    "colab": {
     "base_uri": "https://localhost:8080/",
     "height": 81
    },
    "executionInfo": {
     "elapsed": 14,
     "status": "ok",
     "timestamp": 1744063181555,
     "user": {
      "displayName": "Anthony So",
      "userId": "05258592867336372279"
     },
     "user_tz": -600
    },
    "id": "Y_7Ko1Xoyk04",
    "outputId": "af3c04cd-13d1-46ab-e239-89df6ddfa600"
   },
   "outputs": [
    {
     "data": {
      "text/html": [
       "<p style=\"color:grey\">data_transformation_3_explanations</p><h3 font-size: 3em>\n",
       "Provide some explanations on why you believe it is important to perform this data transformation and its impacts\n",
       "</h3>"
      ],
      "text/plain": [
       "<IPython.core.display.HTML object>"
      ]
     },
     "metadata": {},
     "output_type": "display_data"
    }
   ],
   "source": [
    "# Do not modify this code\n",
    "print_tile(size=\"h3\", key='data_transformation_3_explanations', value=data_transformation_3_explanations)"
   ]
  },
  {
   "cell_type": "markdown",
   "metadata": {
    "id": "Wnu5Vyvovh_w"
   },
   "source": [
    "### G.n Fixing \"\\<describe_issue_here\\>\"\n",
    "\n",
    "> You can add more cells related to data preparation in this section"
   ]
  },
  {
   "cell_type": "code",
   "execution_count": 71,
   "metadata": {
    "executionInfo": {
     "elapsed": 25,
     "status": "ok",
     "timestamp": 1744063181580,
     "user": {
      "displayName": "Anthony So",
      "userId": "05258592867336372279"
     },
     "user_tz": -600
    },
    "id": "GLOatzghviGQ"
   },
   "outputs": [],
   "source": []
  },
  {
   "cell_type": "markdown",
   "metadata": {
    "id": "s0CJolMhdmLf"
   },
   "source": [
    "---\n",
    "## H. Save Datasets"
   ]
  },
  {
   "cell_type": "code",
   "execution_count": 72,
   "metadata": {
    "colab": {
     "base_uri": "https://localhost:8080/"
    },
    "executionInfo": {
     "elapsed": 62,
     "status": "ok",
     "timestamp": 1744063181643,
     "user": {
      "displayName": "Anthony So",
      "userId": "05258592867336372279"
     },
     "user_tz": -600
    },
    "id": "hwIgKOsGdrf3",
    "outputId": "3d0b3379-d4ba-4fa1-c2bd-0c62086a5df9"
   },
   "outputs": [
    {
     "name": "stdout",
     "output_type": "stream",
     "text": [
      "name 'X_train' is not defined\n"
     ]
    }
   ],
   "source": [
    "# Do not modify this code\n",
    "try:\n",
    "  X_train.to_csv(at.folder_path / 'X_train.csv', index=False)\n",
    "  y_train.to_csv(at.folder_path / 'y_train.csv', index=False)\n",
    "\n",
    "  X_val.to_csv(at.folder_path / 'X_val.csv', index=False)\n",
    "  y_val.to_csv(at.folder_path / 'y_val.csv', index=False)\n",
    "\n",
    "  X_test.to_csv(at.folder_path / 'X_test.csv', index=False)\n",
    "  y_test.to_csv(at.folder_path / 'y_test.csv', index=False)\n",
    "except Exception as e:\n",
    "  print(e)"
   ]
  },
  {
   "cell_type": "markdown",
   "metadata": {
    "id": "N8MNBrC4Zgz6"
   },
   "source": [
    "---\n",
    "## I. Assess Baseline Model"
   ]
  },
  {
   "cell_type": "markdown",
   "metadata": {
    "id": "4_tQitOfeDXr"
   },
   "source": [
    "### I.1 Generate Predictions with Baseline Model"
   ]
  },
  {
   "cell_type": "code",
   "execution_count": 73,
   "metadata": {
    "executionInfo": {
     "elapsed": 47,
     "status": "ok",
     "timestamp": 1744063181690,
     "user": {
      "displayName": "Anthony So",
      "userId": "05258592867336372279"
     },
     "user_tz": -600
    },
    "id": "Mh6epkAThez5"
   },
   "outputs": [],
   "source": [
    "# <Student to fill this section>"
   ]
  },
  {
   "cell_type": "markdown",
   "metadata": {
    "id": "n5ApYC8BeLsB"
   },
   "source": [
    "### I.2 Selection of Performance Metrics\n"
   ]
  },
  {
   "cell_type": "code",
   "execution_count": 74,
   "metadata": {
    "executionInfo": {
     "elapsed": 1,
     "status": "ok",
     "timestamp": 1744063181692,
     "user": {
      "displayName": "Anthony So",
      "userId": "05258592867336372279"
     },
     "user_tz": -600
    },
    "id": "7We16YIYhez5"
   },
   "outputs": [],
   "source": [
    "# <Student to fill this section>"
   ]
  },
  {
   "cell_type": "code",
   "execution_count": 75,
   "metadata": {
    "executionInfo": {
     "elapsed": 1,
     "status": "ok",
     "timestamp": 1744063181693,
     "user": {
      "displayName": "Anthony So",
      "userId": "05258592867336372279"
     },
     "user_tz": -600
    },
    "id": "0L8bb2_yytDG"
   },
   "outputs": [],
   "source": [
    "# <Student to fill this section>\n",
    "performance_metrics_explanations = \"\"\"\n",
    "Provide some explanations on why you believe the performance metrics you chose is appropriate\n",
    "\"\"\""
   ]
  },
  {
   "cell_type": "code",
   "execution_count": 76,
   "metadata": {
    "colab": {
     "base_uri": "https://localhost:8080/",
     "height": 81
    },
    "executionInfo": {
     "elapsed": 1,
     "status": "ok",
     "timestamp": 1744063181694,
     "user": {
      "displayName": "Anthony So",
      "userId": "05258592867336372279"
     },
     "user_tz": -600
    },
    "id": "8PygG0TXytGd",
    "outputId": "689fb447-7a9d-4d3a-9e88-845a20f29290"
   },
   "outputs": [
    {
     "data": {
      "text/html": [
       "<p style=\"color:grey\">performance_metrics_explanations</p><h3 font-size: 3em>\n",
       "Provide some explanations on why you believe the performance metrics you chose is appropriate\n",
       "</h3>"
      ],
      "text/plain": [
       "<IPython.core.display.HTML object>"
      ]
     },
     "metadata": {},
     "output_type": "display_data"
    }
   ],
   "source": [
    "# Do not modify this code\n",
    "print_tile(size=\"h3\", key='performance_metrics_explanations', value=performance_metrics_explanations)"
   ]
  },
  {
   "cell_type": "markdown",
   "metadata": {
    "id": "q43YtqpdeniY"
   },
   "source": [
    "### I.3 Baseline Model Performance"
   ]
  },
  {
   "cell_type": "code",
   "execution_count": 77,
   "metadata": {
    "executionInfo": {
     "elapsed": 0,
     "status": "ok",
     "timestamp": 1744063181695,
     "user": {
      "displayName": "Anthony So",
      "userId": "05258592867336372279"
     },
     "user_tz": -600
    },
    "id": "x1Q3oxoNhez5"
   },
   "outputs": [],
   "source": [
    "# <Student to fill this section>"
   ]
  },
  {
   "cell_type": "code",
   "execution_count": 78,
   "metadata": {
    "executionInfo": {
     "elapsed": 0,
     "status": "ok",
     "timestamp": 1744063181697,
     "user": {
      "displayName": "Anthony So",
      "userId": "05258592867336372279"
     },
     "user_tz": -600
    },
    "id": "QO4YwUfSy2AQ"
   },
   "outputs": [],
   "source": [
    "# <Student to fill this section>\n",
    "baseline_performance_explanations = \"\"\"\n",
    "Provide some explanations on model performance\n",
    "\"\"\""
   ]
  },
  {
   "cell_type": "code",
   "execution_count": 79,
   "metadata": {
    "colab": {
     "base_uri": "https://localhost:8080/",
     "height": 81
    },
    "executionInfo": {
     "elapsed": 2,
     "status": "ok",
     "timestamp": 1744063181700,
     "user": {
      "displayName": "Anthony So",
      "userId": "05258592867336372279"
     },
     "user_tz": -600
    },
    "id": "Y-Cxdd09y2D4",
    "outputId": "bcbfbe4b-d690-45ea-8717-66870fd651ff"
   },
   "outputs": [
    {
     "data": {
      "text/html": [
       "<p style=\"color:grey\">baseline_performance_explanations</p><h3 font-size: 3em>\n",
       "Provide some explanations on model performance\n",
       "</h3>"
      ],
      "text/plain": [
       "<IPython.core.display.HTML object>"
      ]
     },
     "metadata": {},
     "output_type": "display_data"
    }
   ],
   "source": [
    "# Do not modify this code\n",
    "print_tile(size=\"h3\", key='baseline_performance_explanations', value=baseline_performance_explanations)"
   ]
  },
  {
   "cell_type": "code",
   "execution_count": 79,
   "metadata": {
    "executionInfo": {
     "elapsed": 1,
     "status": "ok",
     "timestamp": 1744063181701,
     "user": {
      "displayName": "Anthony So",
      "userId": "05258592867336372279"
     },
     "user_tz": -600
    },
    "id": "XYI2cwfg6UCp"
   },
   "outputs": [],
   "source": []
  },
  {
   "cell_type": "code",
   "execution_count": 79,
   "metadata": {
    "executionInfo": {
     "elapsed": 1,
     "status": "ok",
     "timestamp": 1744063181702,
     "user": {
      "displayName": "Anthony So",
      "userId": "05258592867336372279"
     },
     "user_tz": -600
    },
    "id": "WVgxtsnk6ULQ"
   },
   "outputs": [],
   "source": []
  }
 ],
 "metadata": {
  "colab": {
   "provenance": [
    {
     "file_id": "13MHsQlFmfLuY1rWjvW73WSaDUaRPENW4",
     "timestamp": 1680399055727
    }
   ],
   "toc_visible": true
  },
  "kernelspec": {
   "display_name": "Python 3",
   "language": "python",
   "name": "python3"
  },
  "language_info": {
   "codemirror_mode": {
    "name": "ipython",
    "version": 3
   },
   "file_extension": ".py",
   "mimetype": "text/x-python",
   "name": "python",
   "nbconvert_exporter": "python",
   "pygments_lexer": "ipython3",
   "version": "3.12.5"
  }
 },
 "nbformat": 4,
 "nbformat_minor": 0
}
