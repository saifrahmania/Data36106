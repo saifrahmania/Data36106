{
  "cells": [
    {
      "cell_type": "markdown",
      "metadata": {
        "id": "uQ6wc2HE0pke"
      },
      "source": [
        "# **Experiment Notebook**\n",
        "\n"
      ]
    },
    {
      "cell_type": "markdown",
      "metadata": {
        "id": "KFVpE17Ahezu"
      },
      "source": [
        "---\n",
        "## 0. Setup Environment"
      ]
    },
    {
      "cell_type": "markdown",
      "source": [
        "### 0.a Install Mandatory Packages\n",
        "\n",
        "> Do not modify this code before running it"
      ],
      "metadata": {
        "id": "kWUmi7fakv5O"
      }
    },
    {
      "cell_type": "code",
      "source": [
        "# Do not modify this code\n",
        "\n",
        "import os\n",
        "import sys\n",
        "from pathlib import Path\n",
        "\n",
        "COURSE = \"36106\"\n",
        "ASSIGNMENT = \"AT1\"\n",
        "DATA = \"data\"\n",
        "\n",
        "asgmt_path = f\"{COURSE}/assignment/{ASSIGNMENT}\"\n",
        "root_path = \"./\"\n",
        "\n",
        "print(\"###### Install required Python packages ######\")\n",
        "! pip install -r https://raw.githubusercontent.com/aso-uts/labs_datasets/main/36106-mlaa/requirements.txt\n",
        "\n",
        "if os.getenv(\"COLAB_RELEASE_TAG\"):\n",
        "\n",
        "    from google.colab import drive\n",
        "    from pathlib import Path\n",
        "\n",
        "    print(\"\\n###### Connect to personal Google Drive ######\")\n",
        "    gdrive_path = \"/content/gdrive\"\n",
        "    drive.mount(gdrive_path)\n",
        "    root_path = f\"{gdrive_path}/MyDrive/\"\n",
        "\n",
        "print(\"\\n###### Setting up folders ######\")\n",
        "folder_path = Path(f\"{root_path}/{asgmt_path}/\") / DATA\n",
        "folder_path.mkdir(parents=True, exist_ok=True)\n",
        "print(f\"\\nYou can now save your data files in: {folder_path}\")\n",
        "\n",
        "if os.getenv(\"COLAB_RELEASE_TAG\"):\n",
        "    %cd {folder_path}\n"
      ],
      "metadata": {
        "colab": {
          "base_uri": "https://localhost:8080/"
        },
        "id": "S8jFaNXqvV5W",
        "outputId": "0fe72394-be54-4805-b2bd-092e12cfedb6"
      },
      "execution_count": 1,
      "outputs": [
        {
          "output_type": "stream",
          "name": "stdout",
          "text": [
            "###### Install required Python packages ######\n",
            "Requirement already satisfied: pandas==2.2.2 in /usr/local/lib/python3.11/dist-packages (from -r https://raw.githubusercontent.com/aso-uts/labs_datasets/main/36106-mlaa/requirements.txt (line 1)) (2.2.2)\n",
            "Requirement already satisfied: scikit-learn==1.6.1 in /usr/local/lib/python3.11/dist-packages (from -r https://raw.githubusercontent.com/aso-uts/labs_datasets/main/36106-mlaa/requirements.txt (line 2)) (1.6.1)\n",
            "Requirement already satisfied: altair==5.5.0 in /usr/local/lib/python3.11/dist-packages (from -r https://raw.githubusercontent.com/aso-uts/labs_datasets/main/36106-mlaa/requirements.txt (line 3)) (5.5.0)\n",
            "Requirement already satisfied: numpy>=1.23.2 in /usr/local/lib/python3.11/dist-packages (from pandas==2.2.2->-r https://raw.githubusercontent.com/aso-uts/labs_datasets/main/36106-mlaa/requirements.txt (line 1)) (2.0.2)\n",
            "Requirement already satisfied: python-dateutil>=2.8.2 in /usr/local/lib/python3.11/dist-packages (from pandas==2.2.2->-r https://raw.githubusercontent.com/aso-uts/labs_datasets/main/36106-mlaa/requirements.txt (line 1)) (2.8.2)\n",
            "Requirement already satisfied: pytz>=2020.1 in /usr/local/lib/python3.11/dist-packages (from pandas==2.2.2->-r https://raw.githubusercontent.com/aso-uts/labs_datasets/main/36106-mlaa/requirements.txt (line 1)) (2025.1)\n",
            "Requirement already satisfied: tzdata>=2022.7 in /usr/local/lib/python3.11/dist-packages (from pandas==2.2.2->-r https://raw.githubusercontent.com/aso-uts/labs_datasets/main/36106-mlaa/requirements.txt (line 1)) (2025.1)\n",
            "Requirement already satisfied: scipy>=1.6.0 in /usr/local/lib/python3.11/dist-packages (from scikit-learn==1.6.1->-r https://raw.githubusercontent.com/aso-uts/labs_datasets/main/36106-mlaa/requirements.txt (line 2)) (1.14.1)\n",
            "Requirement already satisfied: joblib>=1.2.0 in /usr/local/lib/python3.11/dist-packages (from scikit-learn==1.6.1->-r https://raw.githubusercontent.com/aso-uts/labs_datasets/main/36106-mlaa/requirements.txt (line 2)) (1.4.2)\n",
            "Requirement already satisfied: threadpoolctl>=3.1.0 in /usr/local/lib/python3.11/dist-packages (from scikit-learn==1.6.1->-r https://raw.githubusercontent.com/aso-uts/labs_datasets/main/36106-mlaa/requirements.txt (line 2)) (3.6.0)\n",
            "Requirement already satisfied: jinja2 in /usr/local/lib/python3.11/dist-packages (from altair==5.5.0->-r https://raw.githubusercontent.com/aso-uts/labs_datasets/main/36106-mlaa/requirements.txt (line 3)) (3.1.6)\n",
            "Requirement already satisfied: jsonschema>=3.0 in /usr/local/lib/python3.11/dist-packages (from altair==5.5.0->-r https://raw.githubusercontent.com/aso-uts/labs_datasets/main/36106-mlaa/requirements.txt (line 3)) (4.23.0)\n",
            "Requirement already satisfied: narwhals>=1.14.2 in /usr/local/lib/python3.11/dist-packages (from altair==5.5.0->-r https://raw.githubusercontent.com/aso-uts/labs_datasets/main/36106-mlaa/requirements.txt (line 3)) (1.31.0)\n",
            "Requirement already satisfied: packaging in /usr/local/lib/python3.11/dist-packages (from altair==5.5.0->-r https://raw.githubusercontent.com/aso-uts/labs_datasets/main/36106-mlaa/requirements.txt (line 3)) (24.2)\n",
            "Requirement already satisfied: typing-extensions>=4.10.0 in /usr/local/lib/python3.11/dist-packages (from altair==5.5.0->-r https://raw.githubusercontent.com/aso-uts/labs_datasets/main/36106-mlaa/requirements.txt (line 3)) (4.12.2)\n",
            "Requirement already satisfied: attrs>=22.2.0 in /usr/local/lib/python3.11/dist-packages (from jsonschema>=3.0->altair==5.5.0->-r https://raw.githubusercontent.com/aso-uts/labs_datasets/main/36106-mlaa/requirements.txt (line 3)) (25.3.0)\n",
            "Requirement already satisfied: jsonschema-specifications>=2023.03.6 in /usr/local/lib/python3.11/dist-packages (from jsonschema>=3.0->altair==5.5.0->-r https://raw.githubusercontent.com/aso-uts/labs_datasets/main/36106-mlaa/requirements.txt (line 3)) (2024.10.1)\n",
            "Requirement already satisfied: referencing>=0.28.4 in /usr/local/lib/python3.11/dist-packages (from jsonschema>=3.0->altair==5.5.0->-r https://raw.githubusercontent.com/aso-uts/labs_datasets/main/36106-mlaa/requirements.txt (line 3)) (0.36.2)\n",
            "Requirement already satisfied: rpds-py>=0.7.1 in /usr/local/lib/python3.11/dist-packages (from jsonschema>=3.0->altair==5.5.0->-r https://raw.githubusercontent.com/aso-uts/labs_datasets/main/36106-mlaa/requirements.txt (line 3)) (0.23.1)\n",
            "Requirement already satisfied: six>=1.5 in /usr/local/lib/python3.11/dist-packages (from python-dateutil>=2.8.2->pandas==2.2.2->-r https://raw.githubusercontent.com/aso-uts/labs_datasets/main/36106-mlaa/requirements.txt (line 1)) (1.17.0)\n",
            "Requirement already satisfied: MarkupSafe>=2.0 in /usr/local/lib/python3.11/dist-packages (from jinja2->altair==5.5.0->-r https://raw.githubusercontent.com/aso-uts/labs_datasets/main/36106-mlaa/requirements.txt (line 3)) (3.0.2)\n",
            "\n",
            "###### Connect to personal Google Drive ######\n",
            "Mounted at /content/gdrive\n",
            "\n",
            "###### Setting up folders ######\n",
            "\n",
            "You can now save your data files in: /content/gdrive/MyDrive/36106/assignment/AT1/data\n",
            "/content/gdrive/MyDrive/36106/assignment/AT1/data\n"
          ]
        }
      ]
    },
    {
      "cell_type": "markdown",
      "source": [
        "### 0.b Disable Warnings Messages\n",
        "\n",
        "> Do not modify this code before running it"
      ],
      "metadata": {
        "id": "jM39DExClCc5"
      }
    },
    {
      "cell_type": "code",
      "source": [
        "import warnings\n",
        "warnings.simplefilter(action='ignore', category=FutureWarning)"
      ],
      "metadata": {
        "id": "6FneOmBfka9G"
      },
      "execution_count": 2,
      "outputs": []
    },
    {
      "cell_type": "markdown",
      "source": [
        "### 0.c Install Additional Packages\n",
        "\n",
        "> If you are using additional packages, you need to install them here using the command: `! pip install <package_name>`"
      ],
      "metadata": {
        "id": "CgTrMfyylVLf"
      }
    },
    {
      "cell_type": "code",
      "source": [
        "# <Student to fill this section>"
      ],
      "metadata": {
        "id": "D79tb2V-lVpJ"
      },
      "execution_count": 3,
      "outputs": []
    },
    {
      "cell_type": "markdown",
      "source": [
        "### 0.d Import Packages"
      ],
      "metadata": {
        "id": "mXFKfa2tp1ch"
      }
    },
    {
      "cell_type": "code",
      "source": [
        "import ipywidgets as widgets\n",
        "import pandas as pd\n",
        "import matplotlib.pyplot as plt\n",
        "import seaborn as sns\n",
        "import altair as alt\n",
        "from sklearn.preprocessing import MinMaxScaler\n",
        "from sklearn.preprocessing import StandardScaler\n",
        "from sklearn.pipeline import Pipeline\n",
        "from sklearn.neighbors import KNeighborsRegressor\n",
        "from sklearn.model_selection import GridSearchCV\n",
        "from sklearn.decomposition import PCA\n",
        "from sklearn.model_selection import cross_val_score\n",
        "from sklearn.ensemble import VotingRegressor\n",
        "from sklearn.linear_model import ElasticNet\n",
        "from sklearn.decomposition import PCA\n",
        "from sklearn.preprocessing import MinMaxScaler\n",
        "from sklearn.pipeline import Pipeline\n",
        "from sklearn.neighbors import KNeighborsRegressor\n",
        "from sklearn.linear_model import LinearRegression\n",
        "from sklearn.metrics import mean_squared_error, mean_absolute_error, r2_score\n",
        "import numpy as np\n",
        "from sklearn.metrics import mean_squared_error, mean_absolute_error, r2_score"
      ],
      "metadata": {
        "id": "GBEAwdncnlAx"
      },
      "execution_count": 27,
      "outputs": []
    },
    {
      "cell_type": "markdown",
      "metadata": {
        "id": "tQgxLRrvjiJb"
      },
      "source": [
        "---\n",
        "## A. Project Description\n"
      ]
    },
    {
      "cell_type": "code",
      "source": [
        "# @title Student Information\n",
        "wgt_student_name = widgets.Text(\n",
        "    value=None,\n",
        "    placeholder='<student to fill this section>',\n",
        "    description='Student Name:',\n",
        "    style={'description_width': 'initial'},\n",
        "    disabled=False\n",
        ")\n",
        "\n",
        "wgt_student_id = widgets.Text(\n",
        "    value=None,\n",
        "    placeholder='<student to fill this section>',\n",
        "    description='Student Id:',\n",
        "    style={'description_width': 'initial'},\n",
        "    disabled=False\n",
        ")\n",
        "\n",
        "widgets.HBox([wgt_student_name, wgt_student_id])"
      ],
      "metadata": {
        "colab": {
          "base_uri": "https://localhost:8080/",
          "height": 49,
          "referenced_widgets": [
            "0857dc46b5ec4916909ec9b5fbf784f1",
            "da2e274a09964ebdb22567e6fdab6fc8",
            "252df55e11d14a199c39ff47472187d0",
            "f3cc5fe2af5e4fcdb7070fc85b0f137b",
            "cf972404d32d43b3a6ad5d1721e346e8",
            "d164ed9f8ed44714a925f82e802eac16",
            "28811e6499264b9fa0d10ac3c24a1ffb",
            "bf3beaff7e6d4184b0668410df072b09"
          ]
        },
        "cellView": "form",
        "id": "fGU0q-Egs0Ju",
        "outputId": "edf35004-b00a-4b1f-a990-0a38d107309f"
      },
      "execution_count": 5,
      "outputs": [
        {
          "output_type": "display_data",
          "data": {
            "text/plain": [
              "HBox(children=(Text(value='', description='Student Name:', placeholder='<student to fill this section>', style…"
            ],
            "application/vnd.jupyter.widget-view+json": {
              "version_major": 2,
              "version_minor": 0,
              "model_id": "0857dc46b5ec4916909ec9b5fbf784f1"
            }
          },
          "metadata": {}
        }
      ]
    },
    {
      "cell_type": "code",
      "source": [
        "# @title Experiment ID\n",
        "\n",
        "wgt_experiment_id = widgets.BoundedIntText(\n",
        "    value=3,\n",
        "    min=0,\n",
        "    max=3,\n",
        "    step=1,\n",
        "    description='Experiment ID:',\n",
        "    style={'description_width': 'initial'},\n",
        "    disabled=False\n",
        ")\n",
        "wgt_experiment_id"
      ],
      "metadata": {
        "colab": {
          "base_uri": "https://localhost:8080/",
          "height": 49,
          "referenced_widgets": [
            "5ec1850c89a44d3fa34a6c54df418aa3",
            "a72979fbd6c14b32ad746b6cef93f4c6",
            "5950e3b52ed64cf4ae9aace52a13e0b5"
          ]
        },
        "cellView": "form",
        "id": "RWCjbJJmnKbB",
        "outputId": "132d4ce6-99a8-4b96-bfee-2bac11adc6b4"
      },
      "execution_count": 6,
      "outputs": [
        {
          "output_type": "display_data",
          "data": {
            "text/plain": [
              "BoundedIntText(value=3, description='Experiment ID:', max=3, style=DescriptionStyle(description_width='initial…"
            ],
            "application/vnd.jupyter.widget-view+json": {
              "version_major": 2,
              "version_minor": 0,
              "model_id": "5ec1850c89a44d3fa34a6c54df418aa3"
            }
          },
          "metadata": {}
        }
      ]
    },
    {
      "cell_type": "code",
      "source": [
        "# @title Business Objective\n",
        "\n",
        "wgt_business_objective = widgets.Textarea(\n",
        "    value=None,\n",
        "    placeholder='<student to fill this section>',\n",
        "    description='Business Objective:',\n",
        "    disabled=False,\n",
        "    style={'description_width': 'initial'},\n",
        "    layout=widgets.Layout(height=\"100%\", width=\"auto\")\n",
        ")\n",
        "wgt_business_objective"
      ],
      "metadata": {
        "colab": {
          "base_uri": "https://localhost:8080/",
          "height": 63,
          "referenced_widgets": [
            "ae3923e7ba1544f980985e6a82a6c393",
            "391dbcdc8c6c409db11a5534dbd0985e",
            "f42b4487df48449d8241aa860a878316"
          ]
        },
        "cellView": "form",
        "id": "-yUkIvPntXrt",
        "outputId": "7a5b2e00-9da7-4c15-8b93-63428d55fbca"
      },
      "execution_count": 7,
      "outputs": [
        {
          "output_type": "display_data",
          "data": {
            "text/plain": [
              "Textarea(value='', description='Business Objective:', layout=Layout(height='100%', width='auto'), placeholder=…"
            ],
            "application/vnd.jupyter.widget-view+json": {
              "version_major": 2,
              "version_minor": 0,
              "model_id": "ae3923e7ba1544f980985e6a82a6c393"
            }
          },
          "metadata": {}
        }
      ]
    },
    {
      "cell_type": "markdown",
      "source": [
        "---\n",
        "## B. Experiment Description"
      ],
      "metadata": {
        "id": "4q1Bzcejvfpm"
      }
    },
    {
      "cell_type": "code",
      "source": [
        "# @title Experiment Hypothesis\n",
        "\n",
        "wgt_experiment_hypothesis = widgets.Textarea(\n",
        "    value=None,\n",
        "    placeholder='<student to fill this section>',\n",
        "    description='Experiment Hypothesis:',\n",
        "    disabled=False,\n",
        "    style={'description_width': 'initial'},\n",
        "    layout=widgets.Layout(height=\"100%\", width=\"auto\")\n",
        ")\n",
        "wgt_experiment_hypothesis"
      ],
      "metadata": {
        "colab": {
          "base_uri": "https://localhost:8080/",
          "height": 63,
          "referenced_widgets": [
            "64f3eaaa982d4ffca903c873cea6037b",
            "3ddabcf7d7a940eb9ae4544eddd7bfab",
            "aef6786089f04b5385058541126a8119"
          ]
        },
        "cellView": "form",
        "id": "GXd_BeBLvlH9",
        "outputId": "44c14d57-d7bc-4054-c4f3-ea34d063337d"
      },
      "execution_count": 8,
      "outputs": [
        {
          "output_type": "display_data",
          "data": {
            "text/plain": [
              "Textarea(value='', description='Experiment Hypothesis:', layout=Layout(height='100%', width='auto'), placehold…"
            ],
            "application/vnd.jupyter.widget-view+json": {
              "version_major": 2,
              "version_minor": 0,
              "model_id": "64f3eaaa982d4ffca903c873cea6037b"
            }
          },
          "metadata": {}
        }
      ]
    },
    {
      "cell_type": "code",
      "source": [
        "\n",
        "# @title Experiment Expectations\n",
        "\n",
        "wgt_experiment_expectations = widgets.Textarea(\n",
        "    value=None,\n",
        "    placeholder='<student to fill this section>',\n",
        "    description='Experiment Expectations:',\n",
        "    disabled=False,\n",
        "    style={'description_width': 'initial'},\n",
        "    layout=widgets.Layout(height=\"100%\", width=\"auto\")\n",
        ")\n",
        "wgt_experiment_expectations"
      ],
      "metadata": {
        "cellView": "form",
        "colab": {
          "base_uri": "https://localhost:8080/",
          "height": 63,
          "referenced_widgets": [
            "88d1f5863942490581e7e7346b33f1ba",
            "6f190e16325d46eb85bc2bc76d65e6ba",
            "ece427f20c0e418cb09920af92ab14a9"
          ]
        },
        "id": "-U21y_pAwdJe",
        "outputId": "f56b3f82-58a8-4397-c305-6a90d4e5d960"
      },
      "execution_count": 9,
      "outputs": [
        {
          "output_type": "display_data",
          "data": {
            "text/plain": [
              "Textarea(value='', description='Experiment Expectations:', layout=Layout(height='100%', width='auto'), placeho…"
            ],
            "application/vnd.jupyter.widget-view+json": {
              "version_major": 2,
              "version_minor": 0,
              "model_id": "88d1f5863942490581e7e7346b33f1ba"
            }
          },
          "metadata": {}
        }
      ]
    },
    {
      "cell_type": "markdown",
      "source": [
        "---\n",
        "## C. Data Understanding"
      ],
      "metadata": {
        "id": "P0zsEPshwy1K"
      }
    },
    {
      "cell_type": "markdown",
      "source": [
        "### C.1   Load Datasets\n",
        "\n",
        "> Do not change this code"
      ],
      "metadata": {
        "id": "kKgkHZnNypnE"
      }
    },
    {
      "cell_type": "code",
      "source": [
        "# Load training data\n",
        "X_train = pd.read_csv(folder_path / 'X_train.csv')\n",
        "y_train = pd.read_csv(folder_path / 'y_train.csv')"
      ],
      "metadata": {
        "id": "NKgOzSn-w0eq"
      },
      "execution_count": 10,
      "outputs": []
    },
    {
      "cell_type": "code",
      "source": [
        "# Load validation data\n",
        "X_val = pd.read_csv(folder_path / 'X_val.csv')\n",
        "y_val = pd.read_csv(folder_path / 'y_val.csv')"
      ],
      "metadata": {
        "id": "KUrJMQ2jw0m3"
      },
      "execution_count": 11,
      "outputs": []
    },
    {
      "cell_type": "code",
      "source": [
        "# Load testing data\n",
        "X_test = pd.read_csv(folder_path / 'X_test.csv')\n",
        "y_test = pd.read_csv(folder_path / 'y_test.csv')"
      ],
      "metadata": {
        "id": "YmD8k_bdw054"
      },
      "execution_count": 12,
      "outputs": []
    },
    {
      "cell_type": "markdown",
      "metadata": {
        "id": "_NCwQQFkU3v5"
      },
      "source": [
        "---\n",
        "## D. Feature Selection\n"
      ]
    },
    {
      "cell_type": "code",
      "source": [
        "# <Student to fill this section>\n",
        "\n",
        "strong_features = ['number_of_bedrooms', 'floor_area', 'number_of_bathrooms', 'furnished', 'suburb']\n"
      ],
      "metadata": {
        "id": "zfC-DLKv4AuM"
      },
      "execution_count": 13,
      "outputs": []
    },
    {
      "cell_type": "code",
      "source": [
        "# @title Feature Selection Explanation\n",
        "\n",
        "wgt_feat_selection_explanation = widgets.Textarea(\n",
        "    value=None,\n",
        "    placeholder='<student to fill this section>',\n",
        "    description='Feature Selection Explanation:',\n",
        "    disabled=False,\n",
        "    style={'description_width': 'initial'},\n",
        "    layout=widgets.Layout(height=\"100%\", width=\"auto\")\n",
        ")\n",
        "wgt_feat_selection_explanation"
      ],
      "metadata": {
        "colab": {
          "base_uri": "https://localhost:8080/",
          "height": 63,
          "referenced_widgets": [
            "117786107fd14fe4a4411deaa5a23dc5",
            "4e9b22dab7ca4a63bf8317e1b1268db0",
            "f3a1068d3c254e0da0ef34954862c88c"
          ]
        },
        "id": "l3TDTIWr4BYF",
        "outputId": "c9441098-6e6a-49e7-d72f-12f9360e562a"
      },
      "execution_count": 14,
      "outputs": [
        {
          "output_type": "display_data",
          "data": {
            "text/plain": [
              "Textarea(value='', description='Feature Selection Explanation:', layout=Layout(height='100%', width='auto'), p…"
            ],
            "application/vnd.jupyter.widget-view+json": {
              "version_major": 2,
              "version_minor": 0,
              "model_id": "117786107fd14fe4a4411deaa5a23dc5"
            }
          },
          "metadata": {}
        }
      ]
    },
    {
      "cell_type": "markdown",
      "metadata": {
        "id": "N8MNBrC4Zgz6"
      },
      "source": [
        "---\n",
        "## E. Train Machine Learning Model"
      ]
    },
    {
      "cell_type": "markdown",
      "source": [
        "### E.1 Import Algorithm\n",
        "\n",
        "> Provide some explanations on why you believe this algorithm is a good fit\n"
      ],
      "metadata": {
        "id": "4_tQitOfeDXr"
      }
    },
    {
      "cell_type": "code",
      "execution_count": 15,
      "metadata": {
        "id": "Mh6epkAThez5"
      },
      "outputs": [],
      "source": [
        "# <Student to fill this section>"
      ]
    },
    {
      "cell_type": "code",
      "execution_count": 16,
      "metadata": {
        "id": "yQlcYIfThez5",
        "colab": {
          "base_uri": "https://localhost:8080/",
          "height": 63,
          "referenced_widgets": [
            "fba00973a7e2452bab7aa04baf4f606c",
            "9351b63436b74ed4984ee7fd4c9e4d18",
            "daf019bea52f490baa05407918184d8a"
          ]
        },
        "cellView": "form",
        "outputId": "8d55977b-47cd-4f46-ce95-1e619efcdf61"
      },
      "outputs": [
        {
          "output_type": "display_data",
          "data": {
            "text/plain": [
              "Textarea(value='', description='Algorithm Selection Explanation:', layout=Layout(height='100%', width='auto'),…"
            ],
            "application/vnd.jupyter.widget-view+json": {
              "version_major": 2,
              "version_minor": 0,
              "model_id": "fba00973a7e2452bab7aa04baf4f606c"
            }
          },
          "metadata": {}
        }
      ],
      "source": [
        "# @title Algorithm Selection Explanation\n",
        "\n",
        "wgt_algo_selection_explanation = widgets.Textarea(\n",
        "    value=None,\n",
        "    placeholder='<student to fill this section>',\n",
        "    description='Algorithm Selection Explanation:',\n",
        "    disabled=False,\n",
        "    style={'description_width': 'initial'},\n",
        "    layout=widgets.Layout(height=\"100%\", width=\"auto\")\n",
        ")\n",
        "wgt_algo_selection_explanation"
      ]
    },
    {
      "cell_type": "markdown",
      "source": [
        "### E.2 Set Hyperparameters\n",
        "\n",
        "> Provide some explanations on why you believe this algorithm is a good fit\n"
      ],
      "metadata": {
        "id": "0ks_MmM2mCfm"
      }
    },
    {
      "cell_type": "code",
      "source": [
        "X_train_strong = X_train[strong_features]\n",
        "X_val_strong = X_val[strong_features]\n",
        "X_test_strong = X_test[strong_features]"
      ],
      "metadata": {
        "id": "oh4orFkt6VE-"
      },
      "execution_count": 17,
      "outputs": []
    },
    {
      "cell_type": "code",
      "source": [
        "# Define the pipeline\n",
        "knn_pipeline = Pipeline([\n",
        "    ('scaler', StandardScaler()),\n",
        "    ('knn', KNeighborsRegressor())\n",
        "])\n",
        "\n",
        "# Define parameter grid\n",
        "knn_param_grid = {\n",
        "    'knn__n_neighbors': [3, 5, 7, 9, 11],\n",
        "    'knn__weights': ['uniform', 'distance']\n",
        "}\n",
        "\n",
        "# Grid search with 5-fold cross-validation\n",
        "knn_grid_search = GridSearchCV(knn_pipeline, knn_param_grid, cv=5, scoring='r2', return_train_score=True)\n",
        "knn_grid_search.fit(X_train_strong, y_train.values.ravel())\n",
        "\n",
        "\n"
      ],
      "metadata": {
        "id": "NhldDPyg6n8y",
        "colab": {
          "base_uri": "https://localhost:8080/",
          "height": 188
        },
        "outputId": "b63a11f8-f35c-4e4a-8952-8c30b2eca196"
      },
      "execution_count": 18,
      "outputs": [
        {
          "output_type": "execute_result",
          "data": {
            "text/plain": [
              "GridSearchCV(cv=5,\n",
              "             estimator=Pipeline(steps=[('scaler', StandardScaler()),\n",
              "                                       ('knn', KNeighborsRegressor())]),\n",
              "             param_grid={'knn__n_neighbors': [3, 5, 7, 9, 11],\n",
              "                         'knn__weights': ['uniform', 'distance']},\n",
              "             return_train_score=True, scoring='r2')"
            ],
            "text/html": [
              "<style>#sk-container-id-1 {\n",
              "  /* Definition of color scheme common for light and dark mode */\n",
              "  --sklearn-color-text: #000;\n",
              "  --sklearn-color-text-muted: #666;\n",
              "  --sklearn-color-line: gray;\n",
              "  /* Definition of color scheme for unfitted estimators */\n",
              "  --sklearn-color-unfitted-level-0: #fff5e6;\n",
              "  --sklearn-color-unfitted-level-1: #f6e4d2;\n",
              "  --sklearn-color-unfitted-level-2: #ffe0b3;\n",
              "  --sklearn-color-unfitted-level-3: chocolate;\n",
              "  /* Definition of color scheme for fitted estimators */\n",
              "  --sklearn-color-fitted-level-0: #f0f8ff;\n",
              "  --sklearn-color-fitted-level-1: #d4ebff;\n",
              "  --sklearn-color-fitted-level-2: #b3dbfd;\n",
              "  --sklearn-color-fitted-level-3: cornflowerblue;\n",
              "\n",
              "  /* Specific color for light theme */\n",
              "  --sklearn-color-text-on-default-background: var(--sg-text-color, var(--theme-code-foreground, var(--jp-content-font-color1, black)));\n",
              "  --sklearn-color-background: var(--sg-background-color, var(--theme-background, var(--jp-layout-color0, white)));\n",
              "  --sklearn-color-border-box: var(--sg-text-color, var(--theme-code-foreground, var(--jp-content-font-color1, black)));\n",
              "  --sklearn-color-icon: #696969;\n",
              "\n",
              "  @media (prefers-color-scheme: dark) {\n",
              "    /* Redefinition of color scheme for dark theme */\n",
              "    --sklearn-color-text-on-default-background: var(--sg-text-color, var(--theme-code-foreground, var(--jp-content-font-color1, white)));\n",
              "    --sklearn-color-background: var(--sg-background-color, var(--theme-background, var(--jp-layout-color0, #111)));\n",
              "    --sklearn-color-border-box: var(--sg-text-color, var(--theme-code-foreground, var(--jp-content-font-color1, white)));\n",
              "    --sklearn-color-icon: #878787;\n",
              "  }\n",
              "}\n",
              "\n",
              "#sk-container-id-1 {\n",
              "  color: var(--sklearn-color-text);\n",
              "}\n",
              "\n",
              "#sk-container-id-1 pre {\n",
              "  padding: 0;\n",
              "}\n",
              "\n",
              "#sk-container-id-1 input.sk-hidden--visually {\n",
              "  border: 0;\n",
              "  clip: rect(1px 1px 1px 1px);\n",
              "  clip: rect(1px, 1px, 1px, 1px);\n",
              "  height: 1px;\n",
              "  margin: -1px;\n",
              "  overflow: hidden;\n",
              "  padding: 0;\n",
              "  position: absolute;\n",
              "  width: 1px;\n",
              "}\n",
              "\n",
              "#sk-container-id-1 div.sk-dashed-wrapped {\n",
              "  border: 1px dashed var(--sklearn-color-line);\n",
              "  margin: 0 0.4em 0.5em 0.4em;\n",
              "  box-sizing: border-box;\n",
              "  padding-bottom: 0.4em;\n",
              "  background-color: var(--sklearn-color-background);\n",
              "}\n",
              "\n",
              "#sk-container-id-1 div.sk-container {\n",
              "  /* jupyter's `normalize.less` sets `[hidden] { display: none; }`\n",
              "     but bootstrap.min.css set `[hidden] { display: none !important; }`\n",
              "     so we also need the `!important` here to be able to override the\n",
              "     default hidden behavior on the sphinx rendered scikit-learn.org.\n",
              "     See: https://github.com/scikit-learn/scikit-learn/issues/21755 */\n",
              "  display: inline-block !important;\n",
              "  position: relative;\n",
              "}\n",
              "\n",
              "#sk-container-id-1 div.sk-text-repr-fallback {\n",
              "  display: none;\n",
              "}\n",
              "\n",
              "div.sk-parallel-item,\n",
              "div.sk-serial,\n",
              "div.sk-item {\n",
              "  /* draw centered vertical line to link estimators */\n",
              "  background-image: linear-gradient(var(--sklearn-color-text-on-default-background), var(--sklearn-color-text-on-default-background));\n",
              "  background-size: 2px 100%;\n",
              "  background-repeat: no-repeat;\n",
              "  background-position: center center;\n",
              "}\n",
              "\n",
              "/* Parallel-specific style estimator block */\n",
              "\n",
              "#sk-container-id-1 div.sk-parallel-item::after {\n",
              "  content: \"\";\n",
              "  width: 100%;\n",
              "  border-bottom: 2px solid var(--sklearn-color-text-on-default-background);\n",
              "  flex-grow: 1;\n",
              "}\n",
              "\n",
              "#sk-container-id-1 div.sk-parallel {\n",
              "  display: flex;\n",
              "  align-items: stretch;\n",
              "  justify-content: center;\n",
              "  background-color: var(--sklearn-color-background);\n",
              "  position: relative;\n",
              "}\n",
              "\n",
              "#sk-container-id-1 div.sk-parallel-item {\n",
              "  display: flex;\n",
              "  flex-direction: column;\n",
              "}\n",
              "\n",
              "#sk-container-id-1 div.sk-parallel-item:first-child::after {\n",
              "  align-self: flex-end;\n",
              "  width: 50%;\n",
              "}\n",
              "\n",
              "#sk-container-id-1 div.sk-parallel-item:last-child::after {\n",
              "  align-self: flex-start;\n",
              "  width: 50%;\n",
              "}\n",
              "\n",
              "#sk-container-id-1 div.sk-parallel-item:only-child::after {\n",
              "  width: 0;\n",
              "}\n",
              "\n",
              "/* Serial-specific style estimator block */\n",
              "\n",
              "#sk-container-id-1 div.sk-serial {\n",
              "  display: flex;\n",
              "  flex-direction: column;\n",
              "  align-items: center;\n",
              "  background-color: var(--sklearn-color-background);\n",
              "  padding-right: 1em;\n",
              "  padding-left: 1em;\n",
              "}\n",
              "\n",
              "\n",
              "/* Toggleable style: style used for estimator/Pipeline/ColumnTransformer box that is\n",
              "clickable and can be expanded/collapsed.\n",
              "- Pipeline and ColumnTransformer use this feature and define the default style\n",
              "- Estimators will overwrite some part of the style using the `sk-estimator` class\n",
              "*/\n",
              "\n",
              "/* Pipeline and ColumnTransformer style (default) */\n",
              "\n",
              "#sk-container-id-1 div.sk-toggleable {\n",
              "  /* Default theme specific background. It is overwritten whether we have a\n",
              "  specific estimator or a Pipeline/ColumnTransformer */\n",
              "  background-color: var(--sklearn-color-background);\n",
              "}\n",
              "\n",
              "/* Toggleable label */\n",
              "#sk-container-id-1 label.sk-toggleable__label {\n",
              "  cursor: pointer;\n",
              "  display: flex;\n",
              "  width: 100%;\n",
              "  margin-bottom: 0;\n",
              "  padding: 0.5em;\n",
              "  box-sizing: border-box;\n",
              "  text-align: center;\n",
              "  align-items: start;\n",
              "  justify-content: space-between;\n",
              "  gap: 0.5em;\n",
              "}\n",
              "\n",
              "#sk-container-id-1 label.sk-toggleable__label .caption {\n",
              "  font-size: 0.6rem;\n",
              "  font-weight: lighter;\n",
              "  color: var(--sklearn-color-text-muted);\n",
              "}\n",
              "\n",
              "#sk-container-id-1 label.sk-toggleable__label-arrow:before {\n",
              "  /* Arrow on the left of the label */\n",
              "  content: \"▸\";\n",
              "  float: left;\n",
              "  margin-right: 0.25em;\n",
              "  color: var(--sklearn-color-icon);\n",
              "}\n",
              "\n",
              "#sk-container-id-1 label.sk-toggleable__label-arrow:hover:before {\n",
              "  color: var(--sklearn-color-text);\n",
              "}\n",
              "\n",
              "/* Toggleable content - dropdown */\n",
              "\n",
              "#sk-container-id-1 div.sk-toggleable__content {\n",
              "  max-height: 0;\n",
              "  max-width: 0;\n",
              "  overflow: hidden;\n",
              "  text-align: left;\n",
              "  /* unfitted */\n",
              "  background-color: var(--sklearn-color-unfitted-level-0);\n",
              "}\n",
              "\n",
              "#sk-container-id-1 div.sk-toggleable__content.fitted {\n",
              "  /* fitted */\n",
              "  background-color: var(--sklearn-color-fitted-level-0);\n",
              "}\n",
              "\n",
              "#sk-container-id-1 div.sk-toggleable__content pre {\n",
              "  margin: 0.2em;\n",
              "  border-radius: 0.25em;\n",
              "  color: var(--sklearn-color-text);\n",
              "  /* unfitted */\n",
              "  background-color: var(--sklearn-color-unfitted-level-0);\n",
              "}\n",
              "\n",
              "#sk-container-id-1 div.sk-toggleable__content.fitted pre {\n",
              "  /* unfitted */\n",
              "  background-color: var(--sklearn-color-fitted-level-0);\n",
              "}\n",
              "\n",
              "#sk-container-id-1 input.sk-toggleable__control:checked~div.sk-toggleable__content {\n",
              "  /* Expand drop-down */\n",
              "  max-height: 200px;\n",
              "  max-width: 100%;\n",
              "  overflow: auto;\n",
              "}\n",
              "\n",
              "#sk-container-id-1 input.sk-toggleable__control:checked~label.sk-toggleable__label-arrow:before {\n",
              "  content: \"▾\";\n",
              "}\n",
              "\n",
              "/* Pipeline/ColumnTransformer-specific style */\n",
              "\n",
              "#sk-container-id-1 div.sk-label input.sk-toggleable__control:checked~label.sk-toggleable__label {\n",
              "  color: var(--sklearn-color-text);\n",
              "  background-color: var(--sklearn-color-unfitted-level-2);\n",
              "}\n",
              "\n",
              "#sk-container-id-1 div.sk-label.fitted input.sk-toggleable__control:checked~label.sk-toggleable__label {\n",
              "  background-color: var(--sklearn-color-fitted-level-2);\n",
              "}\n",
              "\n",
              "/* Estimator-specific style */\n",
              "\n",
              "/* Colorize estimator box */\n",
              "#sk-container-id-1 div.sk-estimator input.sk-toggleable__control:checked~label.sk-toggleable__label {\n",
              "  /* unfitted */\n",
              "  background-color: var(--sklearn-color-unfitted-level-2);\n",
              "}\n",
              "\n",
              "#sk-container-id-1 div.sk-estimator.fitted input.sk-toggleable__control:checked~label.sk-toggleable__label {\n",
              "  /* fitted */\n",
              "  background-color: var(--sklearn-color-fitted-level-2);\n",
              "}\n",
              "\n",
              "#sk-container-id-1 div.sk-label label.sk-toggleable__label,\n",
              "#sk-container-id-1 div.sk-label label {\n",
              "  /* The background is the default theme color */\n",
              "  color: var(--sklearn-color-text-on-default-background);\n",
              "}\n",
              "\n",
              "/* On hover, darken the color of the background */\n",
              "#sk-container-id-1 div.sk-label:hover label.sk-toggleable__label {\n",
              "  color: var(--sklearn-color-text);\n",
              "  background-color: var(--sklearn-color-unfitted-level-2);\n",
              "}\n",
              "\n",
              "/* Label box, darken color on hover, fitted */\n",
              "#sk-container-id-1 div.sk-label.fitted:hover label.sk-toggleable__label.fitted {\n",
              "  color: var(--sklearn-color-text);\n",
              "  background-color: var(--sklearn-color-fitted-level-2);\n",
              "}\n",
              "\n",
              "/* Estimator label */\n",
              "\n",
              "#sk-container-id-1 div.sk-label label {\n",
              "  font-family: monospace;\n",
              "  font-weight: bold;\n",
              "  display: inline-block;\n",
              "  line-height: 1.2em;\n",
              "}\n",
              "\n",
              "#sk-container-id-1 div.sk-label-container {\n",
              "  text-align: center;\n",
              "}\n",
              "\n",
              "/* Estimator-specific */\n",
              "#sk-container-id-1 div.sk-estimator {\n",
              "  font-family: monospace;\n",
              "  border: 1px dotted var(--sklearn-color-border-box);\n",
              "  border-radius: 0.25em;\n",
              "  box-sizing: border-box;\n",
              "  margin-bottom: 0.5em;\n",
              "  /* unfitted */\n",
              "  background-color: var(--sklearn-color-unfitted-level-0);\n",
              "}\n",
              "\n",
              "#sk-container-id-1 div.sk-estimator.fitted {\n",
              "  /* fitted */\n",
              "  background-color: var(--sklearn-color-fitted-level-0);\n",
              "}\n",
              "\n",
              "/* on hover */\n",
              "#sk-container-id-1 div.sk-estimator:hover {\n",
              "  /* unfitted */\n",
              "  background-color: var(--sklearn-color-unfitted-level-2);\n",
              "}\n",
              "\n",
              "#sk-container-id-1 div.sk-estimator.fitted:hover {\n",
              "  /* fitted */\n",
              "  background-color: var(--sklearn-color-fitted-level-2);\n",
              "}\n",
              "\n",
              "/* Specification for estimator info (e.g. \"i\" and \"?\") */\n",
              "\n",
              "/* Common style for \"i\" and \"?\" */\n",
              "\n",
              ".sk-estimator-doc-link,\n",
              "a:link.sk-estimator-doc-link,\n",
              "a:visited.sk-estimator-doc-link {\n",
              "  float: right;\n",
              "  font-size: smaller;\n",
              "  line-height: 1em;\n",
              "  font-family: monospace;\n",
              "  background-color: var(--sklearn-color-background);\n",
              "  border-radius: 1em;\n",
              "  height: 1em;\n",
              "  width: 1em;\n",
              "  text-decoration: none !important;\n",
              "  margin-left: 0.5em;\n",
              "  text-align: center;\n",
              "  /* unfitted */\n",
              "  border: var(--sklearn-color-unfitted-level-1) 1pt solid;\n",
              "  color: var(--sklearn-color-unfitted-level-1);\n",
              "}\n",
              "\n",
              ".sk-estimator-doc-link.fitted,\n",
              "a:link.sk-estimator-doc-link.fitted,\n",
              "a:visited.sk-estimator-doc-link.fitted {\n",
              "  /* fitted */\n",
              "  border: var(--sklearn-color-fitted-level-1) 1pt solid;\n",
              "  color: var(--sklearn-color-fitted-level-1);\n",
              "}\n",
              "\n",
              "/* On hover */\n",
              "div.sk-estimator:hover .sk-estimator-doc-link:hover,\n",
              ".sk-estimator-doc-link:hover,\n",
              "div.sk-label-container:hover .sk-estimator-doc-link:hover,\n",
              ".sk-estimator-doc-link:hover {\n",
              "  /* unfitted */\n",
              "  background-color: var(--sklearn-color-unfitted-level-3);\n",
              "  color: var(--sklearn-color-background);\n",
              "  text-decoration: none;\n",
              "}\n",
              "\n",
              "div.sk-estimator.fitted:hover .sk-estimator-doc-link.fitted:hover,\n",
              ".sk-estimator-doc-link.fitted:hover,\n",
              "div.sk-label-container:hover .sk-estimator-doc-link.fitted:hover,\n",
              ".sk-estimator-doc-link.fitted:hover {\n",
              "  /* fitted */\n",
              "  background-color: var(--sklearn-color-fitted-level-3);\n",
              "  color: var(--sklearn-color-background);\n",
              "  text-decoration: none;\n",
              "}\n",
              "\n",
              "/* Span, style for the box shown on hovering the info icon */\n",
              ".sk-estimator-doc-link span {\n",
              "  display: none;\n",
              "  z-index: 9999;\n",
              "  position: relative;\n",
              "  font-weight: normal;\n",
              "  right: .2ex;\n",
              "  padding: .5ex;\n",
              "  margin: .5ex;\n",
              "  width: min-content;\n",
              "  min-width: 20ex;\n",
              "  max-width: 50ex;\n",
              "  color: var(--sklearn-color-text);\n",
              "  box-shadow: 2pt 2pt 4pt #999;\n",
              "  /* unfitted */\n",
              "  background: var(--sklearn-color-unfitted-level-0);\n",
              "  border: .5pt solid var(--sklearn-color-unfitted-level-3);\n",
              "}\n",
              "\n",
              ".sk-estimator-doc-link.fitted span {\n",
              "  /* fitted */\n",
              "  background: var(--sklearn-color-fitted-level-0);\n",
              "  border: var(--sklearn-color-fitted-level-3);\n",
              "}\n",
              "\n",
              ".sk-estimator-doc-link:hover span {\n",
              "  display: block;\n",
              "}\n",
              "\n",
              "/* \"?\"-specific style due to the `<a>` HTML tag */\n",
              "\n",
              "#sk-container-id-1 a.estimator_doc_link {\n",
              "  float: right;\n",
              "  font-size: 1rem;\n",
              "  line-height: 1em;\n",
              "  font-family: monospace;\n",
              "  background-color: var(--sklearn-color-background);\n",
              "  border-radius: 1rem;\n",
              "  height: 1rem;\n",
              "  width: 1rem;\n",
              "  text-decoration: none;\n",
              "  /* unfitted */\n",
              "  color: var(--sklearn-color-unfitted-level-1);\n",
              "  border: var(--sklearn-color-unfitted-level-1) 1pt solid;\n",
              "}\n",
              "\n",
              "#sk-container-id-1 a.estimator_doc_link.fitted {\n",
              "  /* fitted */\n",
              "  border: var(--sklearn-color-fitted-level-1) 1pt solid;\n",
              "  color: var(--sklearn-color-fitted-level-1);\n",
              "}\n",
              "\n",
              "/* On hover */\n",
              "#sk-container-id-1 a.estimator_doc_link:hover {\n",
              "  /* unfitted */\n",
              "  background-color: var(--sklearn-color-unfitted-level-3);\n",
              "  color: var(--sklearn-color-background);\n",
              "  text-decoration: none;\n",
              "}\n",
              "\n",
              "#sk-container-id-1 a.estimator_doc_link.fitted:hover {\n",
              "  /* fitted */\n",
              "  background-color: var(--sklearn-color-fitted-level-3);\n",
              "}\n",
              "</style><div id=\"sk-container-id-1\" class=\"sk-top-container\"><div class=\"sk-text-repr-fallback\"><pre>GridSearchCV(cv=5,\n",
              "             estimator=Pipeline(steps=[(&#x27;scaler&#x27;, StandardScaler()),\n",
              "                                       (&#x27;knn&#x27;, KNeighborsRegressor())]),\n",
              "             param_grid={&#x27;knn__n_neighbors&#x27;: [3, 5, 7, 9, 11],\n",
              "                         &#x27;knn__weights&#x27;: [&#x27;uniform&#x27;, &#x27;distance&#x27;]},\n",
              "             return_train_score=True, scoring=&#x27;r2&#x27;)</pre><b>In a Jupyter environment, please rerun this cell to show the HTML representation or trust the notebook. <br />On GitHub, the HTML representation is unable to render, please try loading this page with nbviewer.org.</b></div><div class=\"sk-container\" hidden><div class=\"sk-item sk-dashed-wrapped\"><div class=\"sk-label-container\"><div class=\"sk-label fitted sk-toggleable\"><input class=\"sk-toggleable__control sk-hidden--visually\" id=\"sk-estimator-id-1\" type=\"checkbox\" ><label for=\"sk-estimator-id-1\" class=\"sk-toggleable__label fitted sk-toggleable__label-arrow\"><div><div>GridSearchCV</div></div><div><a class=\"sk-estimator-doc-link fitted\" rel=\"noreferrer\" target=\"_blank\" href=\"https://scikit-learn.org/1.6/modules/generated/sklearn.model_selection.GridSearchCV.html\">?<span>Documentation for GridSearchCV</span></a><span class=\"sk-estimator-doc-link fitted\">i<span>Fitted</span></span></div></label><div class=\"sk-toggleable__content fitted\"><pre>GridSearchCV(cv=5,\n",
              "             estimator=Pipeline(steps=[(&#x27;scaler&#x27;, StandardScaler()),\n",
              "                                       (&#x27;knn&#x27;, KNeighborsRegressor())]),\n",
              "             param_grid={&#x27;knn__n_neighbors&#x27;: [3, 5, 7, 9, 11],\n",
              "                         &#x27;knn__weights&#x27;: [&#x27;uniform&#x27;, &#x27;distance&#x27;]},\n",
              "             return_train_score=True, scoring=&#x27;r2&#x27;)</pre></div> </div></div><div class=\"sk-parallel\"><div class=\"sk-parallel-item\"><div class=\"sk-item\"><div class=\"sk-label-container\"><div class=\"sk-label fitted sk-toggleable\"><input class=\"sk-toggleable__control sk-hidden--visually\" id=\"sk-estimator-id-2\" type=\"checkbox\" ><label for=\"sk-estimator-id-2\" class=\"sk-toggleable__label fitted sk-toggleable__label-arrow\"><div><div>best_estimator_: Pipeline</div></div></label><div class=\"sk-toggleable__content fitted\"><pre>Pipeline(steps=[(&#x27;scaler&#x27;, StandardScaler()),\n",
              "                (&#x27;knn&#x27;, KNeighborsRegressor(n_neighbors=7))])</pre></div> </div></div><div class=\"sk-serial\"><div class=\"sk-item\"><div class=\"sk-serial\"><div class=\"sk-item\"><div class=\"sk-estimator fitted sk-toggleable\"><input class=\"sk-toggleable__control sk-hidden--visually\" id=\"sk-estimator-id-3\" type=\"checkbox\" ><label for=\"sk-estimator-id-3\" class=\"sk-toggleable__label fitted sk-toggleable__label-arrow\"><div><div>StandardScaler</div></div><div><a class=\"sk-estimator-doc-link fitted\" rel=\"noreferrer\" target=\"_blank\" href=\"https://scikit-learn.org/1.6/modules/generated/sklearn.preprocessing.StandardScaler.html\">?<span>Documentation for StandardScaler</span></a></div></label><div class=\"sk-toggleable__content fitted\"><pre>StandardScaler()</pre></div> </div></div><div class=\"sk-item\"><div class=\"sk-estimator fitted sk-toggleable\"><input class=\"sk-toggleable__control sk-hidden--visually\" id=\"sk-estimator-id-4\" type=\"checkbox\" ><label for=\"sk-estimator-id-4\" class=\"sk-toggleable__label fitted sk-toggleable__label-arrow\"><div><div>KNeighborsRegressor</div></div><div><a class=\"sk-estimator-doc-link fitted\" rel=\"noreferrer\" target=\"_blank\" href=\"https://scikit-learn.org/1.6/modules/generated/sklearn.neighbors.KNeighborsRegressor.html\">?<span>Documentation for KNeighborsRegressor</span></a></div></label><div class=\"sk-toggleable__content fitted\"><pre>KNeighborsRegressor(n_neighbors=7)</pre></div> </div></div></div></div></div></div></div></div></div></div></div>"
            ]
          },
          "metadata": {},
          "execution_count": 18
        }
      ]
    },
    {
      "cell_type": "markdown",
      "source": [
        "### E.3 Fit Model"
      ],
      "metadata": {
        "id": "VDjdjQjFmkLe"
      }
    },
    {
      "cell_type": "code",
      "source": [
        "# Best model\n",
        "best_knn_model = knn_grid_search.best_estimator_\n",
        "\n",
        "# Predict\n",
        "y_val_knn = best_knn_model.predict(X_val_strong)\n",
        "y_test_knn = best_knn_model.predict(X_test_strong)\n",
        "\n",
        "# Evaluation\n",
        "val_rmse = mean_squared_error(y_val, y_val_knn) ** 0.5\n",
        "val_mae = mean_absolute_error(y_val, y_val_knn)\n",
        "val_r2 = r2_score(y_val, y_val_knn)\n",
        "\n",
        "test_rmse = mean_squared_error(y_test, y_test_knn) ** 0.5\n",
        "test_mae = mean_absolute_error(y_test, y_test_knn)\n",
        "test_r2 = r2_score(y_test, y_test_knn)\n",
        "\n",
        "# Display results\n",
        "print(f\"Best KNN Parameters: {knn_grid_search.best_params_}\")\n",
        "print(f\"Validation RMSE: {val_rmse:.2f}, MAE: {val_mae:.2f}, R²: {val_r2:.2f}\")\n",
        "print(f\"Test RMSE: {test_rmse:.2f}, MAE: {test_mae:.2f}, R²: {test_r2:.2f}\")\n"
      ],
      "metadata": {
        "colab": {
          "base_uri": "https://localhost:8080/"
        },
        "id": "qDgQ1mJP6fO5",
        "outputId": "c19361f1-1b0d-4e7f-be2d-f37a7e6a15de"
      },
      "execution_count": 19,
      "outputs": [
        {
          "output_type": "stream",
          "name": "stdout",
          "text": [
            "Best KNN Parameters: {'knn__n_neighbors': 7, 'knn__weights': 'uniform'}\n",
            "Validation RMSE: 8.91, MAE: 5.90, R²: 0.60\n",
            "Test RMSE: 80.18, MAE: 31.82, R²: -0.01\n"
          ]
        }
      ]
    },
    {
      "cell_type": "code",
      "source": [
        "# Define a pipeline with scaling and KNN\n",
        "knn_pipeline = Pipeline([\n",
        "    ('scaler', StandardScaler()),\n",
        "    ('knn', KNeighborsRegressor())\n",
        "])\n",
        "\n",
        "# Refined parameter grid for fine tuning\n",
        "knn_param_grid_refined = {\n",
        "    'knn__n_neighbors': [5, 7, 9, 11, 13, 15, 17],\n",
        "    'knn__weights': ['uniform', 'distance'],\n",
        "    'knn__p': [1, 2]  # Manhattan and Euclidean distance\n",
        "}\n",
        "\n",
        "# Perform GridSearchCV\n",
        "knn_grid_search_refined = GridSearchCV(knn_pipeline, knn_param_grid_refined, cv=5, scoring='r2', return_train_score=True)\n",
        "knn_grid_search_refined.fit(X_train_strong, y_train.values.ravel())\n",
        "\n",
        "# Evaluate the best refined model\n",
        "best_knn_refined = knn_grid_search_refined.best_estimator_\n",
        "y_val_knn_refined = best_knn_refined.predict(X_val_strong)\n",
        "y_test_knn_refined = best_knn_refined.predict(X_test_strong)\n",
        "\n",
        "val_rmse_refined = mean_squared_error(y_val, y_val_knn_refined) **0.5\n",
        "val_mae_refined = mean_absolute_error(y_val, y_val_knn_refined)\n",
        "val_r2_refined = r2_score(y_val, y_val_knn_refined)\n",
        "\n",
        "test_rmse_refined = mean_squared_error(y_test, y_test_knn_refined)  **0.5\n",
        "test_mae_refined = mean_absolute_error(y_test, y_test_knn_refined)\n",
        "test_r2_refined = r2_score(y_test, y_test_knn_refined)\n",
        "\n",
        "{\n",
        "    \"Best Parameters\": knn_grid_search_refined.best_params_,\n",
        "    \"Validation RMSE\": val_rmse_refined,\n",
        "    \"Validation MAE\": val_mae_refined,\n",
        "    \"Validation R2\": val_r2_refined,\n",
        "    \"Test RMSE\": test_rmse_refined,\n",
        "    \"Test MAE\": test_mae_refined,\n",
        "    \"Test R2\": test_r2_refined\n",
        "}"
      ],
      "metadata": {
        "colab": {
          "base_uri": "https://localhost:8080/"
        },
        "id": "fFZp1r828yBC",
        "outputId": "1c8c3d57-8172-4610-deee-394ca4600122"
      },
      "execution_count": 20,
      "outputs": [
        {
          "output_type": "execute_result",
          "data": {
            "text/plain": [
              "{'Best Parameters': {'knn__n_neighbors': 15,\n",
              "  'knn__p': 1,\n",
              "  'knn__weights': 'uniform'},\n",
              " 'Validation RMSE': 9.1650780310608,\n",
              " 'Validation MAE': 6.052259332023576,\n",
              " 'Validation R2': 0.5810079872357053,\n",
              " 'Test RMSE': 80.39652469351955,\n",
              " 'Test MAE': 32.01129032258065,\n",
              " 'Test R2': -0.019307920380666088}"
            ]
          },
          "metadata": {},
          "execution_count": 20
        }
      ]
    },
    {
      "cell_type": "code",
      "source": [
        "# Combine train and validation sets for better training\n",
        "X_combined = pd.concat([X_train, X_val], axis=0)\n",
        "y_combined = pd.concat([y_train, y_val], axis=0)\n",
        "\n",
        "# Define a more refined parameter grid for tuning\n",
        "param_grid_fine = {\n",
        "    'knn__n_neighbors': [7, 9, 11, 13, 15],\n",
        "    'knn__weights': ['uniform', 'distance'],\n",
        "    'knn__p': [1, 2]  # Manhattan and Euclidean\n",
        "}\n",
        "\n",
        "# Define a pipeline with scaling and KNN\n",
        "knn_pipeline = Pipeline([\n",
        "    ('scaler', StandardScaler()),\n",
        "    ('knn', KNeighborsRegressor())\n",
        "])\n",
        "\n",
        "# Grid search with combined data\n",
        "grid_search_fine = GridSearchCV(knn_pipeline, param_grid_fine, cv=5, scoring='r2')\n",
        "grid_search_fine.fit(X_combined, y_combined.values.ravel())\n",
        "\n",
        "# Best model and predictions\n",
        "best_knn_fine = grid_search_fine.best_estimator_\n",
        "y_test_pred_fine = best_knn_fine.predict(X_test)\n",
        "\n",
        "# Evaluate\n",
        "test_mse = mean_squared_error(y_test, y_test_pred_fine)\n",
        "test_rmse = test_mse ** 0.5\n",
        "test_mae = mean_absolute_error(y_test, y_test_pred_fine)\n",
        "test_r2 = r2_score(y_test, y_test_pred_fine)\n",
        "\n",
        "# Output best parameters and performance\n",
        "{\n",
        "    \"Best Parameters\": grid_search_fine.best_params_,\n",
        "    \"Test RMSE\": test_rmse,\n",
        "    \"Test MAE\": test_mae,\n",
        "    \"Test R²\": test_r2\n",
        "}"
      ],
      "metadata": {
        "colab": {
          "base_uri": "https://localhost:8080/"
        },
        "id": "yfisr0Mk9wCt",
        "outputId": "9385fd28-5eb4-40e6-e7e9-071ec75f285d"
      },
      "execution_count": 21,
      "outputs": [
        {
          "output_type": "execute_result",
          "data": {
            "text/plain": [
              "{'Best Parameters': {'knn__n_neighbors': 15,\n",
              "  'knn__p': 1,\n",
              "  'knn__weights': 'distance'},\n",
              " 'Test RMSE': 80.47689586857504,\n",
              " 'Test MAE': 30.922883183290654,\n",
              " 'Test R²': -0.0213469120955192}"
            ]
          },
          "metadata": {},
          "execution_count": 21
        }
      ]
    },
    {
      "cell_type": "code",
      "source": [
        "# PCA + KNN Pipeline\n",
        "pca_knn_pipeline = Pipeline([\n",
        "    ('scaler', StandardScaler()),\n",
        "    ('pca', PCA(n_components=0.95)),\n",
        "    ('knn', KNeighborsRegressor(n_neighbors=11, weights='uniform', p=2))\n",
        "])\n",
        "pca_knn_pipeline.fit(X_train_strong, y_train.values.ravel())\n",
        "y_val_pca_knn = pca_knn_pipeline.predict(X_val_strong)\n",
        "y_test_pca_knn = pca_knn_pipeline.predict(X_test_strong)"
      ],
      "metadata": {
        "id": "tNNPg1Gp_9_3"
      },
      "execution_count": 22,
      "outputs": []
    },
    {
      "cell_type": "code",
      "source": [
        "# Voting Regressor (KNN + ElasticNet)\n",
        "elastic_model = ElasticNet(alpha=1.0, l1_ratio=0.1)\n",
        "voting = VotingRegressor([\n",
        "    ('knn', best_knn_model),\n",
        "    ('elastic', elastic_model)\n",
        "])\n",
        "voting.fit(X_train_strong, y_train.values.ravel())\n",
        "y_val_voting = voting.predict(X_val_strong)\n",
        "y_test_voting = voting.predict(X_test_strong)"
      ],
      "metadata": {
        "id": "ydr2197NAFki"
      },
      "execution_count": 23,
      "outputs": []
    },
    {
      "cell_type": "code",
      "source": [
        "# Cross-validated R² scores\n",
        "cv_scores_knn = cross_val_score(best_knn_model, X_train_strong, y_train.values.ravel(), cv=5, scoring='r2')\n",
        "\n",
        "# Evaluate performance\n",
        "results_extra_analysis = {\n",
        "    \"PCA+KNN\": {\n",
        "        \"Validation RMSE\": np.sqrt(mean_squared_error(y_val, y_val_pca_knn)),\n",
        "        \"Validation MAE\": mean_absolute_error(y_val, y_val_pca_knn),\n",
        "        \"Validation R²\": r2_score(y_val, y_val_pca_knn),\n",
        "        \"Test RMSE\": np.sqrt(mean_squared_error(y_test, y_test_pca_knn)),\n",
        "        \"Test MAE\": mean_absolute_error(y_test, y_test_pca_knn),\n",
        "        \"Test R²\": r2_score(y_test, y_test_pca_knn),\n",
        "    },\n",
        "    \"Voting Regressor (KNN + ElasticNet)\": {\n",
        "        \"Validation RMSE\": np.sqrt(mean_squared_error(y_val, y_val_voting)),\n",
        "        \"Validation MAE\": mean_absolute_error(y_val, y_val_voting),\n",
        "        \"Validation R²\": r2_score(y_val, y_val_voting),\n",
        "        \"Test RMSE\": np.sqrt(mean_squared_error(y_test, y_test_voting)),\n",
        "        \"Test MAE\": mean_absolute_error(y_test, y_test_voting),\n",
        "        \"Test R²\": r2_score(y_test, y_test_voting),\n",
        "    },\n",
        "    \"Cross-Validated KNN (R²)\": {\n",
        "        \"Mean R²\": cv_scores_knn.mean(),\n",
        "        \"Std Dev\": cv_scores_knn.std()\n",
        "    }\n",
        "}\n",
        "\n",
        "results_extra_analysis"
      ],
      "metadata": {
        "colab": {
          "base_uri": "https://localhost:8080/"
        },
        "id": "nfgyEwFZARuh",
        "outputId": "a2011524-3581-4f93-d6b7-2585ae6fef24"
      },
      "execution_count": 24,
      "outputs": [
        {
          "output_type": "execute_result",
          "data": {
            "text/plain": [
              "{'PCA+KNN': {'Validation RMSE': np.float64(9.051320301185974),\n",
              "  'Validation MAE': 5.9757099482050355,\n",
              "  'Validation R²': 0.5913445665505155,\n",
              "  'Test RMSE': np.float64(80.3210569102237),\n",
              "  'Test MAE': 31.84530791788856,\n",
              "  'Test R²': -0.017395180867563642},\n",
              " 'Voting Regressor (KNN + ElasticNet)': {'Validation RMSE': np.float64(10.327426174352702),\n",
              "  'Validation MAE': 6.9445513508647085,\n",
              "  'Validation R²': 0.46799267918336585,\n",
              "  'Test RMSE': np.float64(80.69715644095021),\n",
              "  'Test MAE': 33.53235168372282,\n",
              "  'Test R²': -0.026945296764394833},\n",
              " 'Cross-Validated KNN (R²)': {'Mean R²': np.float64(0.08914540012836318),\n",
              "  'Std Dev': np.float64(0.5770960018099741)}}"
            ]
          },
          "metadata": {},
          "execution_count": 24
        }
      ]
    },
    {
      "cell_type": "code",
      "source": [
        "# Use X_val, not X_val_strong, because the pipeline handles preprocessing\n",
        "y_val_pred_knn = best_knn_model.predict(X_val)"
      ],
      "metadata": {
        "id": "dhc0xw2uJ79Y"
      },
      "execution_count": 25,
      "outputs": []
    },
    {
      "cell_type": "code",
      "source": [
        "# Reload the best parameters if previously used (e.g., n_neighbors=11, weights='uniform')\n",
        "best_knn_model = Pipeline([\n",
        "    ('scaler', StandardScaler()),\n",
        "    ('knn', KNeighborsRegressor(n_neighbors=11, weights='uniform'))\n",
        "])\n",
        "\n",
        "# Fit the model on training data\n",
        "best_knn_model.fit(X_train, y_train.values.ravel())\n",
        "\n",
        "# Predict on validation and test sets\n",
        "y_val_pred_knn = best_knn_model.predict(X_val)\n",
        "y_test_pred_knn = best_knn_model.predict(X_test)\n",
        "\n",
        "# Now calculate residuals\n",
        "residuals = y_val.values.ravel() - y_val_pred_knn\n",
        "\n",
        "# Plot residuals\n",
        "plt.figure(figsize=(8, 6))\n",
        "sns.scatterplot(x=y_val.values.ravel(), y=residuals, alpha=0.5)\n",
        "plt.axhline(0, color='red', linestyle='--')\n",
        "plt.xlabel(\"Actual Rent\")\n",
        "plt.ylabel(\"Residuals\")\n",
        "plt.title(\"Residual Plot - KNN Model (Validation Set)\")\n",
        "plt.grid(True)\n",
        "plt.tight_layout()\n",
        "plt.show()\n"
      ],
      "metadata": {
        "id": "ECn2u2lqHIZT",
        "colab": {
          "base_uri": "https://localhost:8080/",
          "height": 492
        },
        "outputId": "2d77332d-1907-49bf-8d4b-6d03b471ad60"
      },
      "execution_count": 28,
      "outputs": [
        {
          "output_type": "display_data",
          "data": {
            "text/plain": [
              "<Figure size 800x600 with 1 Axes>"
            ],
            "image/png": "[encoded data removed]"
          },
          "metadata": {}
        }
      ]
    },
    {
      "cell_type": "code",
      "source": [
        "errors = y_val.values.ravel() - y_val_pred_knn\n",
        "plt.figure(figsize=(8, 5))\n",
        "sns.histplot(errors, bins=40, kde=True)\n",
        "plt.title(\"Distribution of Prediction Errors (Residuals) - KNN\")\n",
        "plt.xlabel(\"Prediction Error\")\n",
        "plt.ylabel(\"Frequency\")\n",
        "plt.grid(True)\n",
        "plt.tight_layout()\n",
        "plt.show()\n"
      ],
      "metadata": {
        "id": "vKS2ykkPOBxF",
        "colab": {
          "base_uri": "https://localhost:8080/",
          "height": 412
        },
        "outputId": "45532d9c-b91f-43e2-9753-6a7679cb1ee0"
      },
      "execution_count": 29,
      "outputs": [
        {
          "output_type": "display_data",
          "data": {
            "text/plain": [
              "<Figure size 800x500 with 1 Axes>"
            ],
            "image/png": "[encoded data removed]"
          },
          "metadata": {}
        }
      ]
    },
    {
      "cell_type": "code",
      "source": [
        "from sklearn.linear_model import ElasticNet\n",
        "\n",
        "# Manually tuned best parameters (from previous GridSearchCV)\n",
        "final_elastic_model = ElasticNet(alpha=1.0, l1_ratio=0.1, fit_intercept=True, max_iter=10000)\n",
        "final_elastic_model.fit(X_train, y_train)\n",
        "\n",
        "# Predictions\n",
        "final_y_val_pred = final_elastic_model.predict(X_val)\n",
        "final_y_test_pred = final_elastic_model.predict(X_test)\n",
        "\n",
        "# Evaluation Metrics\n",
        "val_rmse_elastic = np.sqrt(mean_squared_error(y_val, final_y_val_pred))\n",
        "test_rmse_elastic = np.sqrt(mean_squared_error(y_test, final_y_test_pred))\n",
        "val_r2_elastic = r2_score(y_val, final_y_val_pred)\n",
        "test_r2_elastic = r2_score(y_test, final_y_test_pred)\n",
        "\n",
        "print(f\"ElasticNet Validation R²: {val_r2_elastic:.3f}\")\n",
        "print(f\"ElasticNet Test R²: {test_r2_elastic:.3f}\")\n"
      ],
      "metadata": {
        "id": "59lOvzIcPalQ",
        "colab": {
          "base_uri": "https://localhost:8080/"
        },
        "outputId": "789c0b93-74da-4312-eaaa-9de9bea42db4"
      },
      "execution_count": 30,
      "outputs": [
        {
          "output_type": "stream",
          "name": "stdout",
          "text": [
            "ElasticNet Validation R²: 0.099\n",
            "ElasticNet Test R²: -0.049\n"
          ]
        }
      ]
    },
    {
      "cell_type": "code",
      "source": [
        "val_rmse_elastic = np.sqrt(mean_squared_error(y_val, final_y_val_pred))\n",
        "test_rmse_elastic = np.sqrt(mean_squared_error(y_test, final_y_test_pred))\n",
        "val_r2_elastic = r2_score(y_val, final_y_val_pred)\n",
        "test_r2_elastic = r2_score(y_test, final_y_test_pred)\n"
      ],
      "metadata": {
        "id": "Qg4rVkxJPE7C"
      },
      "execution_count": 31,
      "outputs": []
    },
    {
      "cell_type": "code",
      "source": [
        "val_rmse_knn = np.sqrt(mean_squared_error(y_val, y_val_pred_knn))\n",
        "test_rmse_knn = np.sqrt(mean_squared_error(y_test, y_test_pred_knn))\n",
        "val_r2_knn = r2_score(y_val, y_val_pred_knn)\n",
        "test_r2_knn = r2_score(y_test, y_test_pred_knn)\n"
      ],
      "metadata": {
        "id": "axyE7rgjPHyY"
      },
      "execution_count": 32,
      "outputs": []
    },
    {
      "cell_type": "code",
      "source": [
        "from sklearn.linear_model import LinearRegression\n",
        "\n",
        "# Create and train the linear regression model\n",
        "linear_model = LinearRegression()\n",
        "linear_model.fit(X_train, y_train)\n",
        "\n",
        "# Predict on validation and test sets\n",
        "y_val_pred_lin = linear_model.predict(X_val)\n",
        "y_test_pred_lin = linear_model.predict(X_test)\n",
        "\n",
        "# Evaluation metrics\n",
        "val_rmse_lin = np.sqrt(mean_squared_error(y_val, y_val_pred_lin))\n",
        "test_rmse_lin = np.sqrt(mean_squared_error(y_test, y_test_pred_lin))\n",
        "val_r2_lin = r2_score(y_val, y_val_pred_lin)\n",
        "test_r2_lin = r2_score(y_test, y_test_pred_lin)\n",
        "\n",
        "print(f\"Linear Regression Validation R²: {val_r2_lin:.3f}\")\n",
        "print(f\"Linear Regression Test R²: {test_r2_lin:.3f}\")\n"
      ],
      "metadata": {
        "id": "7fAp7Jb4P1tn",
        "colab": {
          "base_uri": "https://localhost:8080/"
        },
        "outputId": "f592334f-255d-419b-9ae2-ec11c3aadae2"
      },
      "execution_count": 33,
      "outputs": [
        {
          "output_type": "stream",
          "name": "stdout",
          "text": [
            "Linear Regression Validation R²: 0.194\n",
            "Linear Regression Test R²: 0.041\n"
          ]
        }
      ]
    },
    {
      "cell_type": "code",
      "source": [
        "comparison_df = pd.DataFrame({\n",
        "    \"Model\": [\"Linear Regression\", \"ElasticNet\", \"KNN\"],\n",
        "    \"Validation R²\": [val_r2_lin, val_r2_elastic, val_r2_knn],\n",
        "    \"Test R²\": [test_r2_lin, test_r2_elastic, test_r2_knn],\n",
        "    \"Validation RMSE\": [val_rmse_lin, val_rmse_elastic, val_rmse_knn],\n",
        "    \"Test RMSE\": [test_rmse_lin, test_rmse_elastic, test_rmse_knn]\n",
        "})\n",
        "\n",
        "display(comparison_df)\n"
      ],
      "metadata": {
        "id": "-aAn1QsdONh-",
        "colab": {
          "base_uri": "https://localhost:8080/",
          "height": 143
        },
        "outputId": "580b20d5-d1ed-48b4-dee2-58f81e63bdf7"
      },
      "execution_count": 34,
      "outputs": [
        {
          "output_type": "display_data",
          "data": {
            "text/plain": [
              "               Model  Validation R²   Test R²  Validation RMSE  Test RMSE\n",
              "0  Linear Regression       0.194411  0.040870        12.708378  77.987185\n",
              "1         ElasticNet       0.099124 -0.049420        13.438966  81.575390\n",
              "2                KNN       0.590282 -0.017719         9.063082  80.333842"
            ],
            "text/html": [
              "\n",
              "  <div id=\"df-55ad00c1-5253-4fdc-8015-9f63bcd30265\" class=\"colab-df-container\">\n",
              "    <div>\n",
              "<style scoped>\n",
              "    .dataframe tbody tr th:only-of-type {\n",
              "        vertical-align: middle;\n",
              "    }\n",
              "\n",
              "    .dataframe tbody tr th {\n",
              "        vertical-align: top;\n",
              "    }\n",
              "\n",
              "    .dataframe thead th {\n",
              "        text-align: right;\n",
              "    }\n",
              "</style>\n",
              "<table border=\"1\" class=\"dataframe\">\n",
              "  <thead>\n",
              "    <tr style=\"text-align: right;\">\n",
              "      <th></th>\n",
              "      <th>Model</th>\n",
              "      <th>Validation R²</th>\n",
              "      <th>Test R²</th>\n",
              "      <th>Validation RMSE</th>\n",
              "      <th>Test RMSE</th>\n",
              "    </tr>\n",
              "  </thead>\n",
              "  <tbody>\n",
              "    <tr>\n",
              "      <th>0</th>\n",
              "      <td>Linear Regression</td>\n",
              "      <td>0.194411</td>\n",
              "      <td>0.040870</td>\n",
              "      <td>12.708378</td>\n",
              "      <td>77.987185</td>\n",
              "    </tr>\n",
              "    <tr>\n",
              "      <th>1</th>\n",
              "      <td>ElasticNet</td>\n",
              "      <td>0.099124</td>\n",
              "      <td>-0.049420</td>\n",
              "      <td>13.438966</td>\n",
              "      <td>81.575390</td>\n",
              "    </tr>\n",
              "    <tr>\n",
              "      <th>2</th>\n",
              "      <td>KNN</td>\n",
              "      <td>0.590282</td>\n",
              "      <td>-0.017719</td>\n",
              "      <td>9.063082</td>\n",
              "      <td>80.333842</td>\n",
              "    </tr>\n",
              "  </tbody>\n",
              "</table>\n",
              "</div>\n",
              "    <div class=\"colab-df-buttons\">\n",
              "\n",
              "  <div class=\"colab-df-container\">\n",
              "    <button class=\"colab-df-convert\" onclick=\"convertToInteractive('df-55ad00c1-5253-4fdc-8015-9f63bcd30265')\"\n",
              "            title=\"Convert this dataframe to an interactive table.\"\n",
              "            style=\"display:none;\">\n",
              "\n",
              "  <svg xmlns=\"http://www.w3.org/2000/svg\" height=\"24px\" viewBox=\"0 -960 960 960\">\n",
              "    <path d=\"M120-120v-720h720v720H120Zm60-500h600v-160H180v160Zm220 220h160v-160H400v160Zm0 220h160v-160H400v160ZM180-400h160v-160H180v160Zm440 0h160v-160H620v160ZM180-180h160v-160H180v160Zm440 0h160v-160H620v160Z\"/>\n",
              "  </svg>\n",
              "    </button>\n",
              "\n",
              "  <style>\n",
              "    .colab-df-container {\n",
              "      display:flex;\n",
              "      gap: 12px;\n",
              "    }\n",
              "\n",
              "    .colab-df-convert {\n",
              "      background-color: #E8F0FE;\n",
              "      border: none;\n",
              "      border-radius: 50%;\n",
              "      cursor: pointer;\n",
              "      display: none;\n",
              "      fill: #1967D2;\n",
              "      height: 32px;\n",
              "      padding: 0 0 0 0;\n",
              "      width: 32px;\n",
              "    }\n",
              "\n",
              "    .colab-df-convert:hover {\n",
              "      background-color: #E2EBFA;\n",
              "      box-shadow: 0px 1px 2px rgba(60, 64, 67, 0.3), 0px 1px 3px 1px rgba(60, 64, 67, 0.15);\n",
              "      fill: #174EA6;\n",
              "    }\n",
              "\n",
              "    .colab-df-buttons div {\n",
              "      margin-bottom: 4px;\n",
              "    }\n",
              "\n",
              "    [theme=dark] .colab-df-convert {\n",
              "      background-color: #3B4455;\n",
              "      fill: #D2E3FC;\n",
              "    }\n",
              "\n",
              "    [theme=dark] .colab-df-convert:hover {\n",
              "      background-color: #434B5C;\n",
              "      box-shadow: 0px 1px 3px 1px rgba(0, 0, 0, 0.15);\n",
              "      filter: drop-shadow(0px 1px 2px rgba(0, 0, 0, 0.3));\n",
              "      fill: #FFFFFF;\n",
              "    }\n",
              "  </style>\n",
              "\n",
              "    <script>\n",
              "      const buttonEl =\n",
              "        document.querySelector('#df-55ad00c1-5253-4fdc-8015-9f63bcd30265 button.colab-df-convert');\n",
              "      buttonEl.style.display =\n",
              "        google.colab.kernel.accessAllowed ? 'block' : 'none';\n",
              "\n",
              "      async function convertToInteractive(key) {\n",
              "        const element = document.querySelector('#df-55ad00c1-5253-4fdc-8015-9f63bcd30265');\n",
              "        const dataTable =\n",
              "          await google.colab.kernel.invokeFunction('convertToInteractive',\n",
              "                                                    [key], {});\n",
              "        if (!dataTable) return;\n",
              "\n",
              "        const docLinkHtml = 'Like what you see? Visit the ' +\n",
              "          '<a target=\"_blank\" href=https://colab.research.google.com/notebooks/data_table.ipynb>data table notebook</a>'\n",
              "          + ' to learn more about interactive tables.';\n",
              "        element.innerHTML = '';\n",
              "        dataTable['output_type'] = 'display_data';\n",
              "        await google.colab.output.renderOutput(dataTable, element);\n",
              "        const docLink = document.createElement('div');\n",
              "        docLink.innerHTML = docLinkHtml;\n",
              "        element.appendChild(docLink);\n",
              "      }\n",
              "    </script>\n",
              "  </div>\n",
              "\n",
              "\n",
              "<div id=\"df-54389114-7468-4940-8e35-8f98bf0eefa8\">\n",
              "  <button class=\"colab-df-quickchart\" onclick=\"quickchart('df-54389114-7468-4940-8e35-8f98bf0eefa8')\"\n",
              "            title=\"Suggest charts\"\n",
              "            style=\"display:none;\">\n",
              "\n",
              "<svg xmlns=\"http://www.w3.org/2000/svg\" height=\"24px\"viewBox=\"0 0 24 24\"\n",
              "     width=\"24px\">\n",
              "    <g>\n",
              "        <path d=\"M19 3H5c-1.1 0-2 .9-2 2v14c0 1.1.9 2 2 2h14c1.1 0 2-.9 2-2V5c0-1.1-.9-2-2-2zM9 17H7v-7h2v7zm4 0h-2V7h2v10zm4 0h-2v-4h2v4z\"/>\n",
              "    </g>\n",
              "</svg>\n",
              "  </button>\n",
              "\n",
              "<style>\n",
              "  .colab-df-quickchart {\n",
              "      --bg-color: #E8F0FE;\n",
              "      --fill-color: #1967D2;\n",
              "      --hover-bg-color: #E2EBFA;\n",
              "      --hover-fill-color: #174EA6;\n",
              "      --disabled-fill-color: #AAA;\n",
              "      --disabled-bg-color: #DDD;\n",
              "  }\n",
              "\n",
              "  [theme=dark] .colab-df-quickchart {\n",
              "      --bg-color: #3B4455;\n",
              "      --fill-color: #D2E3FC;\n",
              "      --hover-bg-color: #434B5C;\n",
              "      --hover-fill-color: #FFFFFF;\n",
              "      --disabled-bg-color: #3B4455;\n",
              "      --disabled-fill-color: #666;\n",
              "  }\n",
              "\n",
              "  .colab-df-quickchart {\n",
              "    background-color: var(--bg-color);\n",
              "    border: none;\n",
              "    border-radius: 50%;\n",
              "    cursor: pointer;\n",
              "    display: none;\n",
              "    fill: var(--fill-color);\n",
              "    height: 32px;\n",
              "    padding: 0;\n",
              "    width: 32px;\n",
              "  }\n",
              "\n",
              "  .colab-df-quickchart:hover {\n",
              "    background-color: var(--hover-bg-color);\n",
              "    box-shadow: 0 1px 2px rgba(60, 64, 67, 0.3), 0 1px 3px 1px rgba(60, 64, 67, 0.15);\n",
              "    fill: var(--button-hover-fill-color);\n",
              "  }\n",
              "\n",
              "  .colab-df-quickchart-complete:disabled,\n",
              "  .colab-df-quickchart-complete:disabled:hover {\n",
              "    background-color: var(--disabled-bg-color);\n",
              "    fill: var(--disabled-fill-color);\n",
              "    box-shadow: none;\n",
              "  }\n",
              "\n",
              "  .colab-df-spinner {\n",
              "    border: 2px solid var(--fill-color);\n",
              "    border-color: transparent;\n",
              "    border-bottom-color: var(--fill-color);\n",
              "    animation:\n",
              "      spin 1s steps(1) infinite;\n",
              "  }\n",
              "\n",
              "  @keyframes spin {\n",
              "    0% {\n",
              "      border-color: transparent;\n",
              "      border-bottom-color: var(--fill-color);\n",
              "      border-left-color: var(--fill-color);\n",
              "    }\n",
              "    20% {\n",
              "      border-color: transparent;\n",
              "      border-left-color: var(--fill-color);\n",
              "      border-top-color: var(--fill-color);\n",
              "    }\n",
              "    30% {\n",
              "      border-color: transparent;\n",
              "      border-left-color: var(--fill-color);\n",
              "      border-top-color: var(--fill-color);\n",
              "      border-right-color: var(--fill-color);\n",
              "    }\n",
              "    40% {\n",
              "      border-color: transparent;\n",
              "      border-right-color: var(--fill-color);\n",
              "      border-top-color: var(--fill-color);\n",
              "    }\n",
              "    60% {\n",
              "      border-color: transparent;\n",
              "      border-right-color: var(--fill-color);\n",
              "    }\n",
              "    80% {\n",
              "      border-color: transparent;\n",
              "      border-right-color: var(--fill-color);\n",
              "      border-bottom-color: var(--fill-color);\n",
              "    }\n",
              "    90% {\n",
              "      border-color: transparent;\n",
              "      border-bottom-color: var(--fill-color);\n",
              "    }\n",
              "  }\n",
              "</style>\n",
              "\n",
              "  <script>\n",
              "    async function quickchart(key) {\n",
              "      const quickchartButtonEl =\n",
              "        document.querySelector('#' + key + ' button');\n",
              "      quickchartButtonEl.disabled = true;  // To prevent multiple clicks.\n",
              "      quickchartButtonEl.classList.add('colab-df-spinner');\n",
              "      try {\n",
              "        const charts = await google.colab.kernel.invokeFunction(\n",
              "            'suggestCharts', [key], {});\n",
              "      } catch (error) {\n",
              "        console.error('Error during call to suggestCharts:', error);\n",
              "      }\n",
              "      quickchartButtonEl.classList.remove('colab-df-spinner');\n",
              "      quickchartButtonEl.classList.add('colab-df-quickchart-complete');\n",
              "    }\n",
              "    (() => {\n",
              "      let quickchartButtonEl =\n",
              "        document.querySelector('#df-54389114-7468-4940-8e35-8f98bf0eefa8 button');\n",
              "      quickchartButtonEl.style.display =\n",
              "        google.colab.kernel.accessAllowed ? 'block' : 'none';\n",
              "    })();\n",
              "  </script>\n",
              "</div>\n",
              "\n",
              "  <div id=\"id_a92942c6-cdd3-4ae0-8057-9656ed5217a9\">\n",
              "    <style>\n",
              "      .colab-df-generate {\n",
              "        background-color: #E8F0FE;\n",
              "        border: none;\n",
              "        border-radius: 50%;\n",
              "        cursor: pointer;\n",
              "        display: none;\n",
              "        fill: #1967D2;\n",
              "        height: 32px;\n",
              "        padding: 0 0 0 0;\n",
              "        width: 32px;\n",
              "      }\n",
              "\n",
              "      .colab-df-generate:hover {\n",
              "        background-color: #E2EBFA;\n",
              "        box-shadow: 0px 1px 2px rgba(60, 64, 67, 0.3), 0px 1px 3px 1px rgba(60, 64, 67, 0.15);\n",
              "        fill: #174EA6;\n",
              "      }\n",
              "\n",
              "      [theme=dark] .colab-df-generate {\n",
              "        background-color: #3B4455;\n",
              "        fill: #D2E3FC;\n",
              "      }\n",
              "\n",
              "      [theme=dark] .colab-df-generate:hover {\n",
              "        background-color: #434B5C;\n",
              "        box-shadow: 0px 1px 3px 1px rgba(0, 0, 0, 0.15);\n",
              "        filter: drop-shadow(0px 1px 2px rgba(0, 0, 0, 0.3));\n",
              "        fill: #FFFFFF;\n",
              "      }\n",
              "    </style>\n",
              "    <button class=\"colab-df-generate\" onclick=\"generateWithVariable('comparison_df')\"\n",
              "            title=\"Generate code using this dataframe.\"\n",
              "            style=\"display:none;\">\n",
              "\n",
              "  <svg xmlns=\"http://www.w3.org/2000/svg\" height=\"24px\"viewBox=\"0 0 24 24\"\n",
              "       width=\"24px\">\n",
              "    <path d=\"M7,19H8.4L18.45,9,17,7.55,7,17.6ZM5,21V16.75L18.45,3.32a2,2,0,0,1,2.83,0l1.4,1.43a1.91,1.91,0,0,1,.58,1.4,1.91,1.91,0,0,1-.58,1.4L9.25,21ZM18.45,9,17,7.55Zm-12,3A5.31,5.31,0,0,0,4.9,8.1,5.31,5.31,0,0,0,1,6.5,5.31,5.31,0,0,0,4.9,4.9,5.31,5.31,0,0,0,6.5,1,5.31,5.31,0,0,0,8.1,4.9,5.31,5.31,0,0,0,12,6.5,5.46,5.46,0,0,0,6.5,12Z\"/>\n",
              "  </svg>\n",
              "    </button>\n",
              "    <script>\n",
              "      (() => {\n",
              "      const buttonEl =\n",
              "        document.querySelector('#id_a92942c6-cdd3-4ae0-8057-9656ed5217a9 button.colab-df-generate');\n",
              "      buttonEl.style.display =\n",
              "        google.colab.kernel.accessAllowed ? 'block' : 'none';\n",
              "\n",
              "      buttonEl.onclick = () => {\n",
              "        google.colab.notebook.generateWithVariable('comparison_df');\n",
              "      }\n",
              "      })();\n",
              "    </script>\n",
              "  </div>\n",
              "\n",
              "    </div>\n",
              "  </div>\n"
            ],
            "application/vnd.google.colaboratory.intrinsic+json": {
              "type": "dataframe",
              "variable_name": "comparison_df",
              "summary": "{\n  \"name\": \"comparison_df\",\n  \"rows\": 3,\n  \"fields\": [\n    {\n      \"column\": \"Model\",\n      \"properties\": {\n        \"dtype\": \"string\",\n        \"num_unique_values\": 3,\n        \"samples\": [\n          \"Linear Regression\",\n          \"ElasticNet\",\n          \"KNN\"\n        ],\n        \"semantic_type\": \"\",\n        \"description\": \"\"\n      }\n    },\n    {\n      \"column\": \"Validation R\\u00b2\",\n      \"properties\": {\n        \"dtype\": \"number\",\n        \"std\": 0.2604578620741905,\n        \"min\": 0.09912374437795057,\n        \"max\": 0.5902818185632976,\n        \"num_unique_values\": 3,\n        \"samples\": [\n          0.1944107212323003,\n          0.09912374437795057,\n          0.5902818185632976\n        ],\n        \"semantic_type\": \"\",\n        \"description\": \"\"\n      }\n    },\n    {\n      \"column\": \"Test R\\u00b2\",\n      \"properties\": {\n        \"dtype\": \"number\",\n        \"std\": 0.045807385884107765,\n        \"min\": -0.049419577553796445,\n        \"max\": 0.04087030082607834,\n        \"num_unique_values\": 3,\n        \"samples\": [\n          0.04087030082607834,\n          -0.049419577553796445,\n          -0.01771908707763048\n        ],\n        \"semantic_type\": \"\",\n        \"description\": \"\"\n      }\n    },\n    {\n      \"column\": \"Validation RMSE\",\n      \"properties\": {\n        \"dtype\": \"number\",\n        \"std\": 2.344152514205595,\n        \"min\": 9.063082076267857,\n        \"max\": 13.438966303997475,\n        \"num_unique_values\": 3,\n        \"samples\": [\n          12.708378281868649,\n          13.438966303997475,\n          9.063082076267857\n        ],\n        \"semantic_type\": \"\",\n        \"description\": \"\"\n      }\n    },\n    {\n      \"column\": \"Test RMSE\",\n      \"properties\": {\n        \"dtype\": \"number\",\n        \"std\": 1.8222444703069336,\n        \"min\": 77.98718526593531,\n        \"max\": 81.5753897501784,\n        \"num_unique_values\": 3,\n        \"samples\": [\n          77.98718526593531,\n          81.5753897501784,\n          80.33384172542915\n        ],\n        \"semantic_type\": \"\",\n        \"description\": \"\"\n      }\n    }\n  ]\n}"
            }
          },
          "metadata": {}
        }
      ]
    },
    {
      "cell_type": "code",
      "source": [
        "# @title Hyperparameters Selection Explanation\n",
        "\n",
        "wgt_hyperparams_selection_explanation = widgets.Textarea(\n",
        "    value=None,\n",
        "    placeholder='<student to fill this section>',\n",
        "    description='Hyperparameters Selection Explanation:',\n",
        "    disabled=False,\n",
        "    style={'description_width': 'initial'},\n",
        "    layout=widgets.Layout(height=\"100%\", width=\"auto\")\n",
        ")\n",
        "wgt_hyperparams_selection_explanation"
      ],
      "metadata": {
        "cellView": "form",
        "id": "89e9t-19mEE3",
        "colab": {
          "base_uri": "https://localhost:8080/",
          "height": 63,
          "referenced_widgets": [
            "5dfead70de4d48278e7a146613c2db4b",
            "d5544537378a4a6fad4917e588fa6b5b",
            "95728a4ddecc4844a16e0aacf5b4c942"
          ]
        },
        "outputId": "b02ee011-7539-4699-9795-8d9bffb261e4"
      },
      "execution_count": 35,
      "outputs": [
        {
          "output_type": "display_data",
          "data": {
            "text/plain": [
              "Textarea(value='', description='Hyperparameters Selection Explanation:', layout=Layout(height='100%', width='a…"
            ],
            "application/vnd.jupyter.widget-view+json": {
              "version_major": 2,
              "version_minor": 0,
              "model_id": "5dfead70de4d48278e7a146613c2db4b"
            }
          },
          "metadata": {}
        }
      ]
    },
    {
      "cell_type": "code",
      "source": [
        "# <Student to fill this section>"
      ],
      "metadata": {
        "id": "0Ub3Nrdgmm2N"
      },
      "execution_count": 36,
      "outputs": []
    },
    {
      "cell_type": "markdown",
      "source": [
        "### E.4 Model Technical Performance\n",
        "\n",
        "> Provide some explanations on model performance\n"
      ],
      "metadata": {
        "id": "q43YtqpdeniY"
      }
    },
    {
      "cell_type": "code",
      "source": [
        "import matplotlib.pyplot as plt\n",
        "\n",
        "plt.figure(figsize=(6, 5))\n",
        "plt.scatter(y_val, y_val_knn, alpha=0.5)\n",
        "plt.plot([y_val.min(), y_val.max()], [y_val.min(), y_val.max()], 'r--')\n",
        "plt.title('KNN Model: Predicted vs Actual Rent (Validation)')\n",
        "plt.xlabel('Actual Rent')\n",
        "plt.ylabel('Predicted Rent')\n",
        "plt.grid(True)\n",
        "plt.show()\n"
      ],
      "metadata": {
        "colab": {
          "base_uri": "https://localhost:8080/",
          "height": 487
        },
        "id": "ApKqK07z7odf",
        "outputId": "e8609d8f-6c27-4165-fadb-f1d5fe947683"
      },
      "execution_count": 37,
      "outputs": [
        {
          "output_type": "display_data",
          "data": {
            "text/plain": [
              "<Figure size 600x500 with 1 Axes>"
            ],
            "image/png": "[encoded data removed]"
          },
          "metadata": {}
        }
      ]
    },
    {
      "cell_type": "code",
      "source": [
        "\n",
        "\n",
        "# Residual Plot\n",
        "import matplotlib.pyplot as plt\n",
        "import seaborn as sns\n",
        "\n",
        "residuals = y_val.values.ravel() - y_val_pred_knn\n",
        "\n",
        "plt.figure(figsize=(8, 6))\n",
        "sns.scatterplot(x=y_val.values.ravel(), y=residuals, alpha=0.5)\n",
        "plt.axhline(0, color='red', linestyle='--')\n",
        "plt.xlabel(\"Actual Rent\")\n",
        "plt.ylabel(\"Residuals\")\n",
        "plt.title(\"Residual Plot - KNN Model (Validation Set)\")\n",
        "plt.grid(True)\n",
        "plt.tight_layout()\n",
        "plt.show()\n"
      ],
      "metadata": {
        "id": "4WuUg0AeJTYi",
        "colab": {
          "base_uri": "https://localhost:8080/",
          "height": 492
        },
        "outputId": "ed95f9ce-033a-40fe-da81-dc338f1ee10f"
      },
      "execution_count": 38,
      "outputs": [
        {
          "output_type": "display_data",
          "data": {
            "text/plain": [
              "<Figure size 800x600 with 1 Axes>"
            ],
            "image/png": "[encoded data removed]"
          },
          "metadata": {}
        }
      ]
    },
    {
      "cell_type": "code",
      "source": [
        "cv_results = pd.DataFrame(knn_grid_search.cv_results_)\n",
        "std_scores = cv_results['std_test_score']\n",
        "mean_scores = cv_results['mean_test_score']\n",
        "\n",
        "plt.figure(figsize=(8, 5))\n",
        "plt.plot(mean_scores, label='Mean R²')\n",
        "plt.fill_between(range(len(mean_scores)),\n",
        "                 mean_scores - std_scores,\n",
        "                 mean_scores + std_scores,\n",
        "                 alpha=0.2, label='±1 STD')\n",
        "plt.xlabel(\"Model Configurations\")\n",
        "plt.ylabel(\"R² Score\")\n",
        "plt.title(\"Cross-Validation Score Variability\")\n",
        "plt.legend()\n",
        "plt.grid(True)\n",
        "plt.tight_layout()\n",
        "plt.show()\n"
      ],
      "metadata": {
        "id": "OFN8TzYrOFdZ",
        "colab": {
          "base_uri": "https://localhost:8080/",
          "height": 412
        },
        "outputId": "d3d14921-6f10-4282-c05f-40a7c8763d0d"
      },
      "execution_count": 39,
      "outputs": [
        {
          "output_type": "display_data",
          "data": {
            "text/plain": [
              "<Figure size 800x500 with 1 Axes>"
            ],
            "image/png": "[encoded data removed]"
          },
          "metadata": {}
        }
      ]
    },
    {
      "cell_type": "code",
      "source": [
        "# Extract n_neighbors vs. mean test score from GridSearchCV\n",
        "cv_df = pd.DataFrame(knn_grid_search.cv_results_)\n",
        "cv_df['n_neighbors'] = cv_df['param_knn__n_neighbors']\n",
        "\n",
        "plt.figure(figsize=(8, 5))\n",
        "sns.lineplot(data=cv_df, x='n_neighbors', y='mean_test_score', marker='o')\n",
        "plt.title(\"R² Score vs. Number of Neighbors\")\n",
        "plt.xlabel(\"n_neighbors\")\n",
        "plt.ylabel(\"Mean R² Score (CV)\")\n",
        "plt.grid(True)\n",
        "plt.tight_layout()\n",
        "plt.show()\n"
      ],
      "metadata": {
        "id": "26Js0ABOOIIZ",
        "colab": {
          "base_uri": "https://localhost:8080/",
          "height": 412
        },
        "outputId": "a60356ce-b084-4207-c298-f9f32cb39afe"
      },
      "execution_count": 40,
      "outputs": [
        {
          "output_type": "display_data",
          "data": {
            "text/plain": [
              "<Figure size 800x500 with 1 Axes>"
            ],
            "image/png": "[encoded data removed]"
          },
          "metadata": {}
        }
      ]
    },
    {
      "cell_type": "code",
      "source": [
        "# Models and metrics\n",
        "models = [\"Linear Regression\", \"ElasticNet\", \"KNN\"]\n",
        "val_r2_scores = [val_r2_lin, val_r2_elastic, val_r2_knn]\n",
        "test_r2_scores = [test_r2_lin, test_r2_elastic, test_r2_knn]\n",
        "val_rmse_scores = [val_rmse_lin, val_rmse_elastic, val_rmse_knn]\n",
        "test_rmse_scores = [test_rmse_lin, test_rmse_elastic, test_rmse_knn]\n",
        "\n",
        "x = np.arange(len(models))  # bar positions\n",
        "width = 0.35  # bar width\n",
        "\n",
        "# Plot R² scores\n",
        "fig, ax = plt.subplots(figsize=(10, 5))\n",
        "bars1 = ax.bar(x - width/2, val_r2_scores, width, label='Validation R²')\n",
        "bars2 = ax.bar(x + width/2, test_r2_scores, width, label='Test R²')\n",
        "\n",
        "ax.set_ylabel('R² Score')\n",
        "ax.set_title('R² Scores by Model')\n",
        "ax.set_xticks(x)\n",
        "ax.set_xticklabels(models)\n",
        "ax.legend()\n",
        "ax.grid(True, linestyle='--', alpha=0.6)\n",
        "plt.tight_layout()\n",
        "plt.show()\n",
        "\n",
        "# Plot RMSE scores\n",
        "fig, ax = plt.subplots(figsize=(10, 5))\n",
        "bars3 = ax.bar(x - width/2, val_rmse_scores, width, label='Validation RMSE')\n",
        "bars4 = ax.bar(x + width/2, test_rmse_scores, width, label='Test RMSE')\n",
        "\n",
        "ax.set_ylabel('RMSE')\n",
        "ax.set_title('RMSE by Model')\n",
        "ax.set_xticks(x)\n",
        "ax.set_xticklabels(models)\n",
        "ax.legend()\n",
        "ax.grid(True, linestyle='--', alpha=0.6)\n",
        "plt.tight_layout()\n",
        "plt.show()"
      ],
      "metadata": {
        "id": "WgCwNwA8SgMk",
        "colab": {
          "base_uri": "https://localhost:8080/",
          "height": 648
        },
        "outputId": "932e4d4f-d0c6-4a13-aad6-6c91cfad07a4"
      },
      "execution_count": 41,
      "outputs": [
        {
          "output_type": "display_data",
          "data": {
            "text/plain": [
              "<Figure size 1000x500 with 1 Axes>"
            ],
            "image/png": "[encoded data removed]"
          },
          "metadata": {}
        },
        {
          "output_type": "display_data",
          "data": {
            "text/plain": [
              "<Figure size 1000x500 with 1 Axes>"
            ],
            "image/png": "[encoded data removed]"
          },
          "metadata": {}
        }
      ]
    },
    {
      "cell_type": "code",
      "execution_count": 42,
      "metadata": {
        "id": "x1Q3oxoNhez5"
      },
      "outputs": [],
      "source": [
        "# <Student to fill this section>"
      ]
    },
    {
      "cell_type": "code",
      "execution_count": 43,
      "metadata": {
        "id": "osp7Ura2hez5",
        "cellView": "form",
        "colab": {
          "base_uri": "https://localhost:8080/",
          "height": 63,
          "referenced_widgets": [
            "0e428344d6564c5b81b6d5358a0d3c52",
            "e75509974a8a41a2b9fb15700fb78413",
            "d560df4c508d4c58958d931fc5f577bb"
          ]
        },
        "outputId": "1410f218-c4e6-4383-9fb1-5745cfa0bb4d"
      },
      "outputs": [
        {
          "output_type": "display_data",
          "data": {
            "text/plain": [
              "Textarea(value='', description='Model Performance Explanation:', layout=Layout(height='100%', width='auto'), p…"
            ],
            "application/vnd.jupyter.widget-view+json": {
              "version_major": 2,
              "version_minor": 0,
              "model_id": "0e428344d6564c5b81b6d5358a0d3c52"
            }
          },
          "metadata": {}
        }
      ],
      "source": [
        "# @title Model Performance Explanation\n",
        "\n",
        "wgt_model_performance_explanation = widgets.Textarea(\n",
        "    value=None,\n",
        "    placeholder='<student to fill this section>',\n",
        "    description='Model Performance Explanation:',\n",
        "    disabled=False,\n",
        "    style={'description_width': 'initial'},\n",
        "    layout=widgets.Layout(height=\"100%\", width=\"auto\")\n",
        ")\n",
        "wgt_model_performance_explanation"
      ]
    },
    {
      "cell_type": "markdown",
      "source": [
        "The performance comparison among KNN, ElasticNet, and Linear Regression models highlights the strengths and limitations of each. KNN often demonstrated improved R² scores and lower RMSE on the validation set compared to the baseline Linear Regression model, indicating its capability to capture non-linear relationships. ElasticNet, on the other hand, balanced bias and variance effectively through regularization, making it more stable than KNN in some cases, especially on the test set. However, KNN occasionally exhibited sensitivity to local noise and variation due to its reliance on nearest neighbors, which can lead to less stability across different subsets of data. Overall, KNN provided competitive performance, especially when fine-tuned, but with trade-offs in model interpretability and robustness."
      ],
      "metadata": {
        "id": "ajn6sSQqjp-5"
      }
    },
    {
      "cell_type": "markdown",
      "source": [
        "### E.5 Business Impact from Current Model Performance\n",
        "\n",
        "> Provide some analysis on the model impacts from the business point of view\n"
      ],
      "metadata": {
        "id": "W1HgZMPcmtu7"
      }
    },
    {
      "cell_type": "code",
      "source": [
        "# <Student to fill this section>"
      ],
      "metadata": {
        "id": "XGq2RWyqmuKM"
      },
      "execution_count": 44,
      "outputs": []
    },
    {
      "cell_type": "markdown",
      "source": [
        "From a business perspective, a well-performing KNN model offers valuable insights for rent prediction by capturing local patterns in the dataset. Accurate rental price predictions can support property managers and agents in setting competitive pricing strategies tailored to property features and location. It enables businesses to avoid underpricing or overpricing properties, maximizing revenue while maintaining market competitiveness. Additionally, reliable predictions can enhance customer satisfaction by offering more consistent pricing aligned with market demand and property characteristics."
      ],
      "metadata": {
        "id": "BI9nf49OjwG-"
      }
    },
    {
      "cell_type": "code",
      "source": [
        "# @title Model Business Impacts Explanation\n",
        "\n",
        "wgt_model_business_explanation = widgets.Textarea(\n",
        "    value=None,\n",
        "    placeholder='<student to fill this section>',\n",
        "    description='Model Business Impacts Explanation:',\n",
        "    disabled=False,\n",
        "    style={'description_width': 'initial'},\n",
        "    layout=widgets.Layout(height=\"100%\", width=\"auto\")\n",
        ")\n",
        "wgt_model_business_explanation"
      ],
      "metadata": {
        "id": "UeryaEZhmub4",
        "cellView": "form",
        "colab": {
          "base_uri": "https://localhost:8080/",
          "height": 63,
          "referenced_widgets": [
            "26e26f0026364b26a93b044d5eacb621",
            "c0c5e4b0d5ed4120bd4968938912d6e9",
            "c2b2e114d7aa433c9faca93e26fb94f7"
          ]
        },
        "outputId": "adecb306-5ba7-4f3f-e287-342c97162ea1"
      },
      "execution_count": 45,
      "outputs": [
        {
          "output_type": "display_data",
          "data": {
            "text/plain": [
              "Textarea(value='', description='Model Business Impacts Explanation:', layout=Layout(height='100%', width='auto…"
            ],
            "application/vnd.jupyter.widget-view+json": {
              "version_major": 2,
              "version_minor": 0,
              "model_id": "26e26f0026364b26a93b044d5eacb621"
            }
          },
          "metadata": {}
        }
      ]
    },
    {
      "cell_type": "markdown",
      "source": [
        "The effectiveness of the predictive models directly influences strategic decision-making in the rental market. Accurate models enable more efficient and data-driven rent pricing, improving profitability and market responsiveness. ElasticNet's interpretability allows stakeholders to understand which features drive rent, supporting transparency in pricing decisions. Meanwhile, KNN's adaptability to local data patterns provides a dynamic pricing mechanism that reflects current market behavior. Overall, model performance translates into better resource allocation, improved marketing strategies, and smarter business forecasting."
      ],
      "metadata": {
        "id": "SJuWv-QIj2-q"
      }
    },
    {
      "cell_type": "markdown",
      "source": [
        "## F. Experiment Outcomes"
      ],
      "metadata": {
        "id": "mp1Ie9o8nDl1"
      }
    },
    {
      "cell_type": "code",
      "source": [
        "# @title Experiment Outcomes Explanation\n",
        "\n",
        "wgt_experiment_outcomes_explanation = widgets.Select(\n",
        "    options=['Hypothesis Confirmed', 'Hypothesis Partially Confirmed', 'Hypothesis Rejected'],\n",
        "    value='Hypothesis Rejected',\n",
        "    description='Experiment Outcomes:',\n",
        "    disabled=False,\n",
        ")\n",
        "\n",
        "wgt_experiment_outcomes_explanation"
      ],
      "metadata": {
        "id": "Ap1T1UyfnNYY",
        "cellView": "form",
        "colab": {
          "base_uri": "https://localhost:8080/",
          "height": 111,
          "referenced_widgets": [
            "b24192a57f9c4fadb70bab7c96d67ced",
            "d075b14047334cb2b5fa4c1cb9e49c28",
            "865ab1476ce7473fb0a2bbbb6090348f"
          ]
        },
        "outputId": "3167a425-b0f6-44ac-f916-7f596b881ff4"
      },
      "execution_count": 46,
      "outputs": [
        {
          "output_type": "display_data",
          "data": {
            "text/plain": [
              "Select(description='Experiment Outcomes:', index=2, options=('Hypothesis Confirmed', 'Hypothesis Partially Con…"
            ],
            "application/vnd.jupyter.widget-view+json": {
              "version_major": 2,
              "version_minor": 0,
              "model_id": "b24192a57f9c4fadb70bab7c96d67ced"
            }
          },
          "metadata": {}
        }
      ]
    },
    {
      "cell_type": "code",
      "source": [
        "# @title Experiments Results Explanation\n",
        "\n",
        "wgt_experiment_results_explanation = widgets.Textarea(\n",
        "    value=None,\n",
        "    placeholder='<student to fill this section>',\n",
        "    description='Experiments Results Explanation:',\n",
        "    disabled=False,\n",
        "    style={'description_width': 'initial'},\n",
        "    layout=widgets.Layout(height=\"100%\", width=\"auto\")\n",
        ")\n",
        "wgt_experiment_results_explanation"
      ],
      "metadata": {
        "id": "7JUbOVxRoH3p",
        "cellView": "form",
        "colab": {
          "base_uri": "https://localhost:8080/",
          "height": 63,
          "referenced_widgets": [
            "5cab903b2af040d1a6a3a1e4cea0bd86",
            "ead3662fa2ae455e92e0ad180e7db1ed",
            "860ac0b7e7334bf484a16ffa6a1c70f4"
          ]
        },
        "outputId": "54c62664-1b23-49f8-ca70-8e2154010add"
      },
      "execution_count": 47,
      "outputs": [
        {
          "output_type": "display_data",
          "data": {
            "text/plain": [
              "Textarea(value='', description='Experiments Results Explanation:', layout=Layout(height='100%', width='auto'),…"
            ],
            "application/vnd.jupyter.widget-view+json": {
              "version_major": 2,
              "version_minor": 0,
              "model_id": "5cab903b2af040d1a6a3a1e4cea0bd86"
            }
          },
          "metadata": {}
        }
      ]
    },
    {
      "cell_type": "markdown",
      "source": [
        "The experiments showed that ElasticNet, with tuned hyperparameters and selected features, delivered the best balance of accuracy and interpretability. Linear Regression served as a stable baseline but underperformed due to its simplicity. KNN, after tuning, achieved competitive R² scores and captured non-linear patterns well, though it was more sensitive to noise and required more computation. Ensemble and PCA-based approaches offered modest improvements. Overall, the results matched expectations, with ElasticNet emerging as the most reliable model, and KNN offering strong performance in certain scenarios."
      ],
      "metadata": {
        "id": "SpFwSamnkYNu"
      }
    }
  ],
  "metadata": {
    "colab": {
      "provenance": []
    },
    "kernelspec": {
      "display_name": "Python 3 (ipykernel)",
      "language": "python",
      "name": "python3"
    },
    "language_info": {
      "codemirror_mode": {
        "name": "ipython",
        "version": 3
      },
      "file_extension": ".py",
      "mimetype": "text/x-python",
      "name": "python",
      "nbconvert_exporter": "python",
      "pygments_lexer": "ipython3",
      "version": "3.10.10"
    },
    "widgets": {
      "application/vnd.jupyter.widget-state+json": {
        "0857dc46b5ec4916909ec9b5fbf784f1": {
          "model_module": "@jupyter-widgets/controls",
          "model_name": "HBoxModel",
          "model_module_version": "1.5.0",
          "state": {
            "_dom_classes": [],
            "_model_module": "@jupyter-widgets/controls",
            "_model_module_version": "1.5.0",
            "_model_name": "HBoxModel",
            "_view_count": null,
            "_view_module": "@jupyter-widgets/controls",
            "_view_module_version": "1.5.0",
            "_view_name": "HBoxView",
            "box_style": "",
            "children": [
              "IPY_MODEL_da2e274a09964ebdb22567e6fdab6fc8",
              "IPY_MODEL_252df55e11d14a199c39ff47472187d0"
            ],
            "layout": "IPY_MODEL_f3cc5fe2af5e4fcdb7070fc85b0f137b"
          }
        },
        "da2e274a09964ebdb22567e6fdab6fc8": {
          "model_module": "@jupyter-widgets/controls",
          "model_name": "TextModel",
          "model_module_version": "1.5.0",
          "state": {
            "_dom_classes": [],
            "_model_module": "@jupyter-widgets/controls",
            "_model_module_version": "1.5.0",
            "_model_name": "TextModel",
            "_view_count": null,
            "_view_module": "@jupyter-widgets/controls",
            "_view_module_version": "1.5.0",
            "_view_name": "TextView",
            "continuous_update": true,
            "description": "Student Name:",
            "description_tooltip": null,
            "disabled": false,
            "layout": "IPY_MODEL_cf972404d32d43b3a6ad5d1721e346e8",
            "placeholder": "<student to fill this section>",
            "style": "IPY_MODEL_d164ed9f8ed44714a925f82e802eac16",
            "value": ""
          }
        },
        "252df55e11d14a199c39ff47472187d0": {
          "model_module": "@jupyter-widgets/controls",
          "model_name": "TextModel",
          "model_module_version": "1.5.0",
          "state": {
            "_dom_classes": [],
            "_model_module": "@jupyter-widgets/controls",
            "_model_module_version": "1.5.0",
            "_model_name": "TextModel",
            "_view_count": null,
            "_view_module": "@jupyter-widgets/controls",
            "_view_module_version": "1.5.0",
            "_view_name": "TextView",
            "continuous_update": true,
            "description": "Student Id:",
            "description_tooltip": null,
            "disabled": false,
            "layout": "IPY_MODEL_28811e6499264b9fa0d10ac3c24a1ffb",
            "placeholder": "<student to fill this section>",
            "style": "IPY_MODEL_bf3beaff7e6d4184b0668410df072b09",
            "value": ""
          }
        },
        "f3cc5fe2af5e4fcdb7070fc85b0f137b": {
          "model_module": "@jupyter-widgets/base",
          "model_name": "LayoutModel",
          "model_module_version": "1.2.0",
          "state": {
            "_model_module": "@jupyter-widgets/base",
            "_model_module_version": "1.2.0",
            "_model_name": "LayoutModel",
            "_view_count": null,
            "_view_module": "@jupyter-widgets/base",
            "_view_module_version": "1.2.0",
            "_view_name": "LayoutView",
            "align_content": null,
            "align_items": null,
            "align_self": null,
            "border": null,
            "bottom": null,
            "display": null,
            "flex": null,
            "flex_flow": null,
            "grid_area": null,
            "grid_auto_columns": null,
            "grid_auto_flow": null,
            "grid_auto_rows": null,
            "grid_column": null,
            "grid_gap": null,
            "grid_row": null,
            "grid_template_areas": null,
            "grid_template_columns": null,
            "grid_template_rows": null,
            "height": null,
            "justify_content": null,
            "justify_items": null,
            "left": null,
            "margin": null,
            "max_height": null,
            "max_width": null,
            "min_height": null,
            "min_width": null,
            "object_fit": null,
            "object_position": null,
            "order": null,
            "overflow": null,
            "overflow_x": null,
            "overflow_y": null,
            "padding": null,
            "right": null,
            "top": null,
            "visibility": null,
            "width": null
          }
        },
        "cf972404d32d43b3a6ad5d1721e346e8": {
          "model_module": "@jupyter-widgets/base",
          "model_name": "LayoutModel",
          "model_module_version": "1.2.0",
          "state": {
            "_model_module": "@jupyter-widgets/base",
            "_model_module_version": "1.2.0",
            "_model_name": "LayoutModel",
            "_view_count": null,
            "_view_module": "@jupyter-widgets/base",
            "_view_module_version": "1.2.0",
            "_view_name": "LayoutView",
            "align_content": null,
            "align_items": null,
            "align_self": null,
            "border": null,
            "bottom": null,
            "display": null,
            "flex": null,
            "flex_flow": null,
            "grid_area": null,
            "grid_auto_columns": null,
            "grid_auto_flow": null,
            "grid_auto_rows": null,
            "grid_column": null,
            "grid_gap": null,
            "grid_row": null,
            "grid_template_areas": null,
            "grid_template_columns": null,
            "grid_template_rows": null,
            "height": null,
            "justify_content": null,
            "justify_items": null,
            "left": null,
            "margin": null,
            "max_height": null,
            "max_width": null,
            "min_height": null,
            "min_width": null,
            "object_fit": null,
            "object_position": null,
            "order": null,
            "overflow": null,
            "overflow_x": null,
            "overflow_y": null,
            "padding": null,
            "right": null,
            "top": null,
            "visibility": null,
            "width": null
          }
        },
        "d164ed9f8ed44714a925f82e802eac16": {
          "model_module": "@jupyter-widgets/controls",
          "model_name": "DescriptionStyleModel",
          "model_module_version": "1.5.0",
          "state": {
            "_model_module": "@jupyter-widgets/controls",
            "_model_module_version": "1.5.0",
            "_model_name": "DescriptionStyleModel",
            "_view_count": null,
            "_view_module": "@jupyter-widgets/base",
            "_view_module_version": "1.2.0",
            "_view_name": "StyleView",
            "description_width": "initial"
          }
        },
        "28811e6499264b9fa0d10ac3c24a1ffb": {
          "model_module": "@jupyter-widgets/base",
          "model_name": "LayoutModel",
          "model_module_version": "1.2.0",
          "state": {
            "_model_module": "@jupyter-widgets/base",
            "_model_module_version": "1.2.0",
            "_model_name": "LayoutModel",
            "_view_count": null,
            "_view_module": "@jupyter-widgets/base",
            "_view_module_version": "1.2.0",
            "_view_name": "LayoutView",
            "align_content": null,
            "align_items": null,
            "align_self": null,
            "border": null,
            "bottom": null,
            "display": null,
            "flex": null,
            "flex_flow": null,
            "grid_area": null,
            "grid_auto_columns": null,
            "grid_auto_flow": null,
            "grid_auto_rows": null,
            "grid_column": null,
            "grid_gap": null,
            "grid_row": null,
            "grid_template_areas": null,
            "grid_template_columns": null,
            "grid_template_rows": null,
            "height": null,
            "justify_content": null,
            "justify_items": null,
            "left": null,
            "margin": null,
            "max_height": null,
            "max_width": null,
            "min_height": null,
            "min_width": null,
            "object_fit": null,
            "object_position": null,
            "order": null,
            "overflow": null,
            "overflow_x": null,
            "overflow_y": null,
            "padding": null,
            "right": null,
            "top": null,
            "visibility": null,
            "width": null
          }
        },
        "bf3beaff7e6d4184b0668410df072b09": {
          "model_module": "@jupyter-widgets/controls",
          "model_name": "DescriptionStyleModel",
          "model_module_version": "1.5.0",
          "state": {
            "_model_module": "@jupyter-widgets/controls",
            "_model_module_version": "1.5.0",
            "_model_name": "DescriptionStyleModel",
            "_view_count": null,
            "_view_module": "@jupyter-widgets/base",
            "_view_module_version": "1.2.0",
            "_view_name": "StyleView",
            "description_width": "initial"
          }
        },
        "5ec1850c89a44d3fa34a6c54df418aa3": {
          "model_module": "@jupyter-widgets/controls",
          "model_name": "BoundedIntTextModel",
          "model_module_version": "1.5.0",
          "state": {
            "_dom_classes": [],
            "_model_module": "@jupyter-widgets/controls",
            "_model_module_version": "1.5.0",
            "_model_name": "BoundedIntTextModel",
            "_view_count": null,
            "_view_module": "@jupyter-widgets/controls",
            "_view_module_version": "1.5.0",
            "_view_name": "IntTextView",
            "continuous_update": false,
            "description": "Experiment ID:",
            "description_tooltip": null,
            "disabled": false,
            "layout": "IPY_MODEL_a72979fbd6c14b32ad746b6cef93f4c6",
            "max": 3,
            "min": 0,
            "step": 1,
            "style": "IPY_MODEL_5950e3b52ed64cf4ae9aace52a13e0b5",
            "value": 3
          }
        },
        "a72979fbd6c14b32ad746b6cef93f4c6": {
          "model_module": "@jupyter-widgets/base",
          "model_name": "LayoutModel",
          "model_module_version": "1.2.0",
          "state": {
            "_model_module": "@jupyter-widgets/base",
            "_model_module_version": "1.2.0",
            "_model_name": "LayoutModel",
            "_view_count": null,
            "_view_module": "@jupyter-widgets/base",
            "_view_module_version": "1.2.0",
            "_view_name": "LayoutView",
            "align_content": null,
            "align_items": null,
            "align_self": null,
            "border": null,
            "bottom": null,
            "display": null,
            "flex": null,
            "flex_flow": null,
            "grid_area": null,
            "grid_auto_columns": null,
            "grid_auto_flow": null,
            "grid_auto_rows": null,
            "grid_column": null,
            "grid_gap": null,
            "grid_row": null,
            "grid_template_areas": null,
            "grid_template_columns": null,
            "grid_template_rows": null,
            "height": null,
            "justify_content": null,
            "justify_items": null,
            "left": null,
            "margin": null,
            "max_height": null,
            "max_width": null,
            "min_height": null,
            "min_width": null,
            "object_fit": null,
            "object_position": null,
            "order": null,
            "overflow": null,
            "overflow_x": null,
            "overflow_y": null,
            "padding": null,
            "right": null,
            "top": null,
            "visibility": null,
            "width": null
          }
        },
        "5950e3b52ed64cf4ae9aace52a13e0b5": {
          "model_module": "@jupyter-widgets/controls",
          "model_name": "DescriptionStyleModel",
          "model_module_version": "1.5.0",
          "state": {
            "_model_module": "@jupyter-widgets/controls",
            "_model_module_version": "1.5.0",
            "_model_name": "DescriptionStyleModel",
            "_view_count": null,
            "_view_module": "@jupyter-widgets/base",
            "_view_module_version": "1.2.0",
            "_view_name": "StyleView",
            "description_width": "initial"
          }
        },
        "ae3923e7ba1544f980985e6a82a6c393": {
          "model_module": "@jupyter-widgets/controls",
          "model_name": "TextareaModel",
          "model_module_version": "1.5.0",
          "state": {
            "_dom_classes": [],
            "_model_module": "@jupyter-widgets/controls",
            "_model_module_version": "1.5.0",
            "_model_name": "TextareaModel",
            "_view_count": null,
            "_view_module": "@jupyter-widgets/controls",
            "_view_module_version": "1.5.0",
            "_view_name": "TextareaView",
            "continuous_update": true,
            "description": "Business Objective:",
            "description_tooltip": null,
            "disabled": false,
            "layout": "IPY_MODEL_391dbcdc8c6c409db11a5534dbd0985e",
            "placeholder": "<student to fill this section>",
            "rows": null,
            "style": "IPY_MODEL_f42b4487df48449d8241aa860a878316",
            "value": ""
          }
        },
        "391dbcdc8c6c409db11a5534dbd0985e": {
          "model_module": "@jupyter-widgets/base",
          "model_name": "LayoutModel",
          "model_module_version": "1.2.0",
          "state": {
            "_model_module": "@jupyter-widgets/base",
            "_model_module_version": "1.2.0",
            "_model_name": "LayoutModel",
            "_view_count": null,
            "_view_module": "@jupyter-widgets/base",
            "_view_module_version": "1.2.0",
            "_view_name": "LayoutView",
            "align_content": null,
            "align_items": null,
            "align_self": null,
            "border": null,
            "bottom": null,
            "display": null,
            "flex": null,
            "flex_flow": null,
            "grid_area": null,
            "grid_auto_columns": null,
            "grid_auto_flow": null,
            "grid_auto_rows": null,
            "grid_column": null,
            "grid_gap": null,
            "grid_row": null,
            "grid_template_areas": null,
            "grid_template_columns": null,
            "grid_template_rows": null,
            "height": "100%",
            "justify_content": null,
            "justify_items": null,
            "left": null,
            "margin": null,
            "max_height": null,
            "max_width": null,
            "min_height": null,
            "min_width": null,
            "object_fit": null,
            "object_position": null,
            "order": null,
            "overflow": null,
            "overflow_x": null,
            "overflow_y": null,
            "padding": null,
            "right": null,
            "top": null,
            "visibility": null,
            "width": "auto"
          }
        },
        "f42b4487df48449d8241aa860a878316": {
          "model_module": "@jupyter-widgets/controls",
          "model_name": "DescriptionStyleModel",
          "model_module_version": "1.5.0",
          "state": {
            "_model_module": "@jupyter-widgets/controls",
            "_model_module_version": "1.5.0",
            "_model_name": "DescriptionStyleModel",
            "_view_count": null,
            "_view_module": "@jupyter-widgets/base",
            "_view_module_version": "1.2.0",
            "_view_name": "StyleView",
            "description_width": "initial"
          }
        },
        "64f3eaaa982d4ffca903c873cea6037b": {
          "model_module": "@jupyter-widgets/controls",
          "model_name": "TextareaModel",
          "model_module_version": "1.5.0",
          "state": {
            "_dom_classes": [],
            "_model_module": "@jupyter-widgets/controls",
            "_model_module_version": "1.5.0",
            "_model_name": "TextareaModel",
            "_view_count": null,
            "_view_module": "@jupyter-widgets/controls",
            "_view_module_version": "1.5.0",
            "_view_name": "TextareaView",
            "continuous_update": true,
            "description": "Experiment Hypothesis:",
            "description_tooltip": null,
            "disabled": false,
            "layout": "IPY_MODEL_3ddabcf7d7a940eb9ae4544eddd7bfab",
            "placeholder": "<student to fill this section>",
            "rows": null,
            "style": "IPY_MODEL_aef6786089f04b5385058541126a8119",
            "value": ""
          }
        },
        "3ddabcf7d7a940eb9ae4544eddd7bfab": {
          "model_module": "@jupyter-widgets/base",
          "model_name": "LayoutModel",
          "model_module_version": "1.2.0",
          "state": {
            "_model_module": "@jupyter-widgets/base",
            "_model_module_version": "1.2.0",
            "_model_name": "LayoutModel",
            "_view_count": null,
            "_view_module": "@jupyter-widgets/base",
            "_view_module_version": "1.2.0",
            "_view_name": "LayoutView",
            "align_content": null,
            "align_items": null,
            "align_self": null,
            "border": null,
            "bottom": null,
            "display": null,
            "flex": null,
            "flex_flow": null,
            "grid_area": null,
            "grid_auto_columns": null,
            "grid_auto_flow": null,
            "grid_auto_rows": null,
            "grid_column": null,
            "grid_gap": null,
            "grid_row": null,
            "grid_template_areas": null,
            "grid_template_columns": null,
            "grid_template_rows": null,
            "height": "100%",
            "justify_content": null,
            "justify_items": null,
            "left": null,
            "margin": null,
            "max_height": null,
            "max_width": null,
            "min_height": null,
            "min_width": null,
            "object_fit": null,
            "object_position": null,
            "order": null,
            "overflow": null,
            "overflow_x": null,
            "overflow_y": null,
            "padding": null,
            "right": null,
            "top": null,
            "visibility": null,
            "width": "auto"
          }
        },
        "aef6786089f04b5385058541126a8119": {
          "model_module": "@jupyter-widgets/controls",
          "model_name": "DescriptionStyleModel",
          "model_module_version": "1.5.0",
          "state": {
            "_model_module": "@jupyter-widgets/controls",
            "_model_module_version": "1.5.0",
            "_model_name": "DescriptionStyleModel",
            "_view_count": null,
            "_view_module": "@jupyter-widgets/base",
            "_view_module_version": "1.2.0",
            "_view_name": "StyleView",
            "description_width": "initial"
          }
        },
        "88d1f5863942490581e7e7346b33f1ba": {
          "model_module": "@jupyter-widgets/controls",
          "model_name": "TextareaModel",
          "model_module_version": "1.5.0",
          "state": {
            "_dom_classes": [],
            "_model_module": "@jupyter-widgets/controls",
            "_model_module_version": "1.5.0",
            "_model_name": "TextareaModel",
            "_view_count": null,
            "_view_module": "@jupyter-widgets/controls",
            "_view_module_version": "1.5.0",
            "_view_name": "TextareaView",
            "continuous_update": true,
            "description": "Experiment Expectations:",
            "description_tooltip": null,
            "disabled": false,
            "layout": "IPY_MODEL_6f190e16325d46eb85bc2bc76d65e6ba",
            "placeholder": "<student to fill this section>",
            "rows": null,
            "style": "IPY_MODEL_ece427f20c0e418cb09920af92ab14a9",
            "value": ""
          }
        },
        "6f190e16325d46eb85bc2bc76d65e6ba": {
          "model_module": "@jupyter-widgets/base",
          "model_name": "LayoutModel",
          "model_module_version": "1.2.0",
          "state": {
            "_model_module": "@jupyter-widgets/base",
            "_model_module_version": "1.2.0",
            "_model_name": "LayoutModel",
            "_view_count": null,
            "_view_module": "@jupyter-widgets/base",
            "_view_module_version": "1.2.0",
            "_view_name": "LayoutView",
            "align_content": null,
            "align_items": null,
            "align_self": null,
            "border": null,
            "bottom": null,
            "display": null,
            "flex": null,
            "flex_flow": null,
            "grid_area": null,
            "grid_auto_columns": null,
            "grid_auto_flow": null,
            "grid_auto_rows": null,
            "grid_column": null,
            "grid_gap": null,
            "grid_row": null,
            "grid_template_areas": null,
            "grid_template_columns": null,
            "grid_template_rows": null,
            "height": "100%",
            "justify_content": null,
            "justify_items": null,
            "left": null,
            "margin": null,
            "max_height": null,
            "max_width": null,
            "min_height": null,
            "min_width": null,
            "object_fit": null,
            "object_position": null,
            "order": null,
            "overflow": null,
            "overflow_x": null,
            "overflow_y": null,
            "padding": null,
            "right": null,
            "top": null,
            "visibility": null,
            "width": "auto"
          }
        },
        "ece427f20c0e418cb09920af92ab14a9": {
          "model_module": "@jupyter-widgets/controls",
          "model_name": "DescriptionStyleModel",
          "model_module_version": "1.5.0",
          "state": {
            "_model_module": "@jupyter-widgets/controls",
            "_model_module_version": "1.5.0",
            "_model_name": "DescriptionStyleModel",
            "_view_count": null,
            "_view_module": "@jupyter-widgets/base",
            "_view_module_version": "1.2.0",
            "_view_name": "StyleView",
            "description_width": "initial"
          }
        },
        "117786107fd14fe4a4411deaa5a23dc5": {
          "model_module": "@jupyter-widgets/controls",
          "model_name": "TextareaModel",
          "model_module_version": "1.5.0",
          "state": {
            "_dom_classes": [],
            "_model_module": "@jupyter-widgets/controls",
            "_model_module_version": "1.5.0",
            "_model_name": "TextareaModel",
            "_view_count": null,
            "_view_module": "@jupyter-widgets/controls",
            "_view_module_version": "1.5.0",
            "_view_name": "TextareaView",
            "continuous_update": true,
            "description": "Feature Selection Explanation:",
            "description_tooltip": null,
            "disabled": false,
            "layout": "IPY_MODEL_4e9b22dab7ca4a63bf8317e1b1268db0",
            "placeholder": "<student to fill this section>",
            "rows": null,
            "style": "IPY_MODEL_f3a1068d3c254e0da0ef34954862c88c",
            "value": ""
          }
        },
        "4e9b22dab7ca4a63bf8317e1b1268db0": {
          "model_module": "@jupyter-widgets/base",
          "model_name": "LayoutModel",
          "model_module_version": "1.2.0",
          "state": {
            "_model_module": "@jupyter-widgets/base",
            "_model_module_version": "1.2.0",
            "_model_name": "LayoutModel",
            "_view_count": null,
            "_view_module": "@jupyter-widgets/base",
            "_view_module_version": "1.2.0",
            "_view_name": "LayoutView",
            "align_content": null,
            "align_items": null,
            "align_self": null,
            "border": null,
            "bottom": null,
            "display": null,
            "flex": null,
            "flex_flow": null,
            "grid_area": null,
            "grid_auto_columns": null,
            "grid_auto_flow": null,
            "grid_auto_rows": null,
            "grid_column": null,
            "grid_gap": null,
            "grid_row": null,
            "grid_template_areas": null,
            "grid_template_columns": null,
            "grid_template_rows": null,
            "height": "100%",
            "justify_content": null,
            "justify_items": null,
            "left": null,
            "margin": null,
            "max_height": null,
            "max_width": null,
            "min_height": null,
            "min_width": null,
            "object_fit": null,
            "object_position": null,
            "order": null,
            "overflow": null,
            "overflow_x": null,
            "overflow_y": null,
            "padding": null,
            "right": null,
            "top": null,
            "visibility": null,
            "width": "auto"
          }
        },
        "f3a1068d3c254e0da0ef34954862c88c": {
          "model_module": "@jupyter-widgets/controls",
          "model_name": "DescriptionStyleModel",
          "model_module_version": "1.5.0",
          "state": {
            "_model_module": "@jupyter-widgets/controls",
            "_model_module_version": "1.5.0",
            "_model_name": "DescriptionStyleModel",
            "_view_count": null,
            "_view_module": "@jupyter-widgets/base",
            "_view_module_version": "1.2.0",
            "_view_name": "StyleView",
            "description_width": "initial"
          }
        },
        "fba00973a7e2452bab7aa04baf4f606c": {
          "model_module": "@jupyter-widgets/controls",
          "model_name": "TextareaModel",
          "model_module_version": "1.5.0",
          "state": {
            "_dom_classes": [],
            "_model_module": "@jupyter-widgets/controls",
            "_model_module_version": "1.5.0",
            "_model_name": "TextareaModel",
            "_view_count": null,
            "_view_module": "@jupyter-widgets/controls",
            "_view_module_version": "1.5.0",
            "_view_name": "TextareaView",
            "continuous_update": true,
            "description": "Algorithm Selection Explanation:",
            "description_tooltip": null,
            "disabled": false,
            "layout": "IPY_MODEL_9351b63436b74ed4984ee7fd4c9e4d18",
            "placeholder": "<student to fill this section>",
            "rows": null,
            "style": "IPY_MODEL_daf019bea52f490baa05407918184d8a",
            "value": ""
          }
        },
        "9351b63436b74ed4984ee7fd4c9e4d18": {
          "model_module": "@jupyter-widgets/base",
          "model_name": "LayoutModel",
          "model_module_version": "1.2.0",
          "state": {
            "_model_module": "@jupyter-widgets/base",
            "_model_module_version": "1.2.0",
            "_model_name": "LayoutModel",
            "_view_count": null,
            "_view_module": "@jupyter-widgets/base",
            "_view_module_version": "1.2.0",
            "_view_name": "LayoutView",
            "align_content": null,
            "align_items": null,
            "align_self": null,
            "border": null,
            "bottom": null,
            "display": null,
            "flex": null,
            "flex_flow": null,
            "grid_area": null,
            "grid_auto_columns": null,
            "grid_auto_flow": null,
            "grid_auto_rows": null,
            "grid_column": null,
            "grid_gap": null,
            "grid_row": null,
            "grid_template_areas": null,
            "grid_template_columns": null,
            "grid_template_rows": null,
            "height": "100%",
            "justify_content": null,
            "justify_items": null,
            "left": null,
            "margin": null,
            "max_height": null,
            "max_width": null,
            "min_height": null,
            "min_width": null,
            "object_fit": null,
            "object_position": null,
            "order": null,
            "overflow": null,
            "overflow_x": null,
            "overflow_y": null,
            "padding": null,
            "right": null,
            "top": null,
            "visibility": null,
            "width": "auto"
          }
        },
        "daf019bea52f490baa05407918184d8a": {
          "model_module": "@jupyter-widgets/controls",
          "model_name": "DescriptionStyleModel",
          "model_module_version": "1.5.0",
          "state": {
            "_model_module": "@jupyter-widgets/controls",
            "_model_module_version": "1.5.0",
            "_model_name": "DescriptionStyleModel",
            "_view_count": null,
            "_view_module": "@jupyter-widgets/base",
            "_view_module_version": "1.2.0",
            "_view_name": "StyleView",
            "description_width": "initial"
          }
        },
        "5dfead70de4d48278e7a146613c2db4b": {
          "model_module": "@jupyter-widgets/controls",
          "model_name": "TextareaModel",
          "model_module_version": "1.5.0",
          "state": {
            "_dom_classes": [],
            "_model_module": "@jupyter-widgets/controls",
            "_model_module_version": "1.5.0",
            "_model_name": "TextareaModel",
            "_view_count": null,
            "_view_module": "@jupyter-widgets/controls",
            "_view_module_version": "1.5.0",
            "_view_name": "TextareaView",
            "continuous_update": true,
            "description": "Hyperparameters Selection Explanation:",
            "description_tooltip": null,
            "disabled": false,
            "layout": "IPY_MODEL_d5544537378a4a6fad4917e588fa6b5b",
            "placeholder": "<student to fill this section>",
            "rows": null,
            "style": "IPY_MODEL_95728a4ddecc4844a16e0aacf5b4c942",
            "value": ""
          }
        },
        "d5544537378a4a6fad4917e588fa6b5b": {
          "model_module": "@jupyter-widgets/base",
          "model_name": "LayoutModel",
          "model_module_version": "1.2.0",
          "state": {
            "_model_module": "@jupyter-widgets/base",
            "_model_module_version": "1.2.0",
            "_model_name": "LayoutModel",
            "_view_count": null,
            "_view_module": "@jupyter-widgets/base",
            "_view_module_version": "1.2.0",
            "_view_name": "LayoutView",
            "align_content": null,
            "align_items": null,
            "align_self": null,
            "border": null,
            "bottom": null,
            "display": null,
            "flex": null,
            "flex_flow": null,
            "grid_area": null,
            "grid_auto_columns": null,
            "grid_auto_flow": null,
            "grid_auto_rows": null,
            "grid_column": null,
            "grid_gap": null,
            "grid_row": null,
            "grid_template_areas": null,
            "grid_template_columns": null,
            "grid_template_rows": null,
            "height": "100%",
            "justify_content": null,
            "justify_items": null,
            "left": null,
            "margin": null,
            "max_height": null,
            "max_width": null,
            "min_height": null,
            "min_width": null,
            "object_fit": null,
            "object_position": null,
            "order": null,
            "overflow": null,
            "overflow_x": null,
            "overflow_y": null,
            "padding": null,
            "right": null,
            "top": null,
            "visibility": null,
            "width": "auto"
          }
        },
        "95728a4ddecc4844a16e0aacf5b4c942": {
          "model_module": "@jupyter-widgets/controls",
          "model_name": "DescriptionStyleModel",
          "model_module_version": "1.5.0",
          "state": {
            "_model_module": "@jupyter-widgets/controls",
            "_model_module_version": "1.5.0",
            "_model_name": "DescriptionStyleModel",
            "_view_count": null,
            "_view_module": "@jupyter-widgets/base",
            "_view_module_version": "1.2.0",
            "_view_name": "StyleView",
            "description_width": "initial"
          }
        },
        "0e428344d6564c5b81b6d5358a0d3c52": {
          "model_module": "@jupyter-widgets/controls",
          "model_name": "TextareaModel",
          "model_module_version": "1.5.0",
          "state": {
            "_dom_classes": [],
            "_model_module": "@jupyter-widgets/controls",
            "_model_module_version": "1.5.0",
            "_model_name": "TextareaModel",
            "_view_count": null,
            "_view_module": "@jupyter-widgets/controls",
            "_view_module_version": "1.5.0",
            "_view_name": "TextareaView",
            "continuous_update": true,
            "description": "Model Performance Explanation:",
            "description_tooltip": null,
            "disabled": false,
            "layout": "IPY_MODEL_e75509974a8a41a2b9fb15700fb78413",
            "placeholder": "<student to fill this section>",
            "rows": null,
            "style": "IPY_MODEL_d560df4c508d4c58958d931fc5f577bb",
            "value": ""
          }
        },
        "e75509974a8a41a2b9fb15700fb78413": {
          "model_module": "@jupyter-widgets/base",
          "model_name": "LayoutModel",
          "model_module_version": "1.2.0",
          "state": {
            "_model_module": "@jupyter-widgets/base",
            "_model_module_version": "1.2.0",
            "_model_name": "LayoutModel",
            "_view_count": null,
            "_view_module": "@jupyter-widgets/base",
            "_view_module_version": "1.2.0",
            "_view_name": "LayoutView",
            "align_content": null,
            "align_items": null,
            "align_self": null,
            "border": null,
            "bottom": null,
            "display": null,
            "flex": null,
            "flex_flow": null,
            "grid_area": null,
            "grid_auto_columns": null,
            "grid_auto_flow": null,
            "grid_auto_rows": null,
            "grid_column": null,
            "grid_gap": null,
            "grid_row": null,
            "grid_template_areas": null,
            "grid_template_columns": null,
            "grid_template_rows": null,
            "height": "100%",
            "justify_content": null,
            "justify_items": null,
            "left": null,
            "margin": null,
            "max_height": null,
            "max_width": null,
            "min_height": null,
            "min_width": null,
            "object_fit": null,
            "object_position": null,
            "order": null,
            "overflow": null,
            "overflow_x": null,
            "overflow_y": null,
            "padding": null,
            "right": null,
            "top": null,
            "visibility": null,
            "width": "auto"
          }
        },
        "d560df4c508d4c58958d931fc5f577bb": {
          "model_module": "@jupyter-widgets/controls",
          "model_name": "DescriptionStyleModel",
          "model_module_version": "1.5.0",
          "state": {
            "_model_module": "@jupyter-widgets/controls",
            "_model_module_version": "1.5.0",
            "_model_name": "DescriptionStyleModel",
            "_view_count": null,
            "_view_module": "@jupyter-widgets/base",
            "_view_module_version": "1.2.0",
            "_view_name": "StyleView",
            "description_width": "initial"
          }
        },
        "26e26f0026364b26a93b044d5eacb621": {
          "model_module": "@jupyter-widgets/controls",
          "model_name": "TextareaModel",
          "model_module_version": "1.5.0",
          "state": {
            "_dom_classes": [],
            "_model_module": "@jupyter-widgets/controls",
            "_model_module_version": "1.5.0",
            "_model_name": "TextareaModel",
            "_view_count": null,
            "_view_module": "@jupyter-widgets/controls",
            "_view_module_version": "1.5.0",
            "_view_name": "TextareaView",
            "continuous_update": true,
            "description": "Model Business Impacts Explanation:",
            "description_tooltip": null,
            "disabled": false,
            "layout": "IPY_MODEL_c0c5e4b0d5ed4120bd4968938912d6e9",
            "placeholder": "<student to fill this section>",
            "rows": null,
            "style": "IPY_MODEL_c2b2e114d7aa433c9faca93e26fb94f7",
            "value": ""
          }
        },
        "c0c5e4b0d5ed4120bd4968938912d6e9": {
          "model_module": "@jupyter-widgets/base",
          "model_name": "LayoutModel",
          "model_module_version": "1.2.0",
          "state": {
            "_model_module": "@jupyter-widgets/base",
            "_model_module_version": "1.2.0",
            "_model_name": "LayoutModel",
            "_view_count": null,
            "_view_module": "@jupyter-widgets/base",
            "_view_module_version": "1.2.0",
            "_view_name": "LayoutView",
            "align_content": null,
            "align_items": null,
            "align_self": null,
            "border": null,
            "bottom": null,
            "display": null,
            "flex": null,
            "flex_flow": null,
            "grid_area": null,
            "grid_auto_columns": null,
            "grid_auto_flow": null,
            "grid_auto_rows": null,
            "grid_column": null,
            "grid_gap": null,
            "grid_row": null,
            "grid_template_areas": null,
            "grid_template_columns": null,
            "grid_template_rows": null,
            "height": "100%",
            "justify_content": null,
            "justify_items": null,
            "left": null,
            "margin": null,
            "max_height": null,
            "max_width": null,
            "min_height": null,
            "min_width": null,
            "object_fit": null,
            "object_position": null,
            "order": null,
            "overflow": null,
            "overflow_x": null,
            "overflow_y": null,
            "padding": null,
            "right": null,
            "top": null,
            "visibility": null,
            "width": "auto"
          }
        },
        "c2b2e114d7aa433c9faca93e26fb94f7": {
          "model_module": "@jupyter-widgets/controls",
          "model_name": "DescriptionStyleModel",
          "model_module_version": "1.5.0",
          "state": {
            "_model_module": "@jupyter-widgets/controls",
            "_model_module_version": "1.5.0",
            "_model_name": "DescriptionStyleModel",
            "_view_count": null,
            "_view_module": "@jupyter-widgets/base",
            "_view_module_version": "1.2.0",
            "_view_name": "StyleView",
            "description_width": "initial"
          }
        },
        "b24192a57f9c4fadb70bab7c96d67ced": {
          "model_module": "@jupyter-widgets/controls",
          "model_name": "SelectModel",
          "model_module_version": "1.5.0",
          "state": {
            "_dom_classes": [],
            "_model_module": "@jupyter-widgets/controls",
            "_model_module_version": "1.5.0",
            "_model_name": "SelectModel",
            "_options_labels": [
              "Hypothesis Confirmed",
              "Hypothesis Partially Confirmed",
              "Hypothesis Rejected"
            ],
            "_view_count": null,
            "_view_module": "@jupyter-widgets/controls",
            "_view_module_version": "1.5.0",
            "_view_name": "SelectView",
            "description": "Experiment Outcomes:",
            "description_tooltip": null,
            "disabled": false,
            "index": 2,
            "layout": "IPY_MODEL_d075b14047334cb2b5fa4c1cb9e49c28",
            "rows": 5,
            "style": "IPY_MODEL_865ab1476ce7473fb0a2bbbb6090348f"
          }
        },
        "d075b14047334cb2b5fa4c1cb9e49c28": {
          "model_module": "@jupyter-widgets/base",
          "model_name": "LayoutModel",
          "model_module_version": "1.2.0",
          "state": {
            "_model_module": "@jupyter-widgets/base",
            "_model_module_version": "1.2.0",
            "_model_name": "LayoutModel",
            "_view_count": null,
            "_view_module": "@jupyter-widgets/base",
            "_view_module_version": "1.2.0",
            "_view_name": "LayoutView",
            "align_content": null,
            "align_items": null,
            "align_self": null,
            "border": null,
            "bottom": null,
            "display": null,
            "flex": null,
            "flex_flow": null,
            "grid_area": null,
            "grid_auto_columns": null,
            "grid_auto_flow": null,
            "grid_auto_rows": null,
            "grid_column": null,
            "grid_gap": null,
            "grid_row": null,
            "grid_template_areas": null,
            "grid_template_columns": null,
            "grid_template_rows": null,
            "height": null,
            "justify_content": null,
            "justify_items": null,
            "left": null,
            "margin": null,
            "max_height": null,
            "max_width": null,
            "min_height": null,
            "min_width": null,
            "object_fit": null,
            "object_position": null,
            "order": null,
            "overflow": null,
            "overflow_x": null,
            "overflow_y": null,
            "padding": null,
            "right": null,
            "top": null,
            "visibility": null,
            "width": null
          }
        },
        "865ab1476ce7473fb0a2bbbb6090348f": {
          "model_module": "@jupyter-widgets/controls",
          "model_name": "DescriptionStyleModel",
          "model_module_version": "1.5.0",
          "state": {
            "_model_module": "@jupyter-widgets/controls",
            "_model_module_version": "1.5.0",
            "_model_name": "DescriptionStyleModel",
            "_view_count": null,
            "_view_module": "@jupyter-widgets/base",
            "_view_module_version": "1.2.0",
            "_view_name": "StyleView",
            "description_width": ""
          }
        },
        "5cab903b2af040d1a6a3a1e4cea0bd86": {
          "model_module": "@jupyter-widgets/controls",
          "model_name": "TextareaModel",
          "model_module_version": "1.5.0",
          "state": {
            "_dom_classes": [],
            "_model_module": "@jupyter-widgets/controls",
            "_model_module_version": "1.5.0",
            "_model_name": "TextareaModel",
            "_view_count": null,
            "_view_module": "@jupyter-widgets/controls",
            "_view_module_version": "1.5.0",
            "_view_name": "TextareaView",
            "continuous_update": true,
            "description": "Experiments Results Explanation:",
            "description_tooltip": null,
            "disabled": false,
            "layout": "IPY_MODEL_ead3662fa2ae455e92e0ad180e7db1ed",
            "placeholder": "<student to fill this section>",
            "rows": null,
            "style": "IPY_MODEL_860ac0b7e7334bf484a16ffa6a1c70f4",
            "value": ""
          }
        },
        "ead3662fa2ae455e92e0ad180e7db1ed": {
          "model_module": "@jupyter-widgets/base",
          "model_name": "LayoutModel",
          "model_module_version": "1.2.0",
          "state": {
            "_model_module": "@jupyter-widgets/base",
            "_model_module_version": "1.2.0",
            "_model_name": "LayoutModel",
            "_view_count": null,
            "_view_module": "@jupyter-widgets/base",
            "_view_module_version": "1.2.0",
            "_view_name": "LayoutView",
            "align_content": null,
            "align_items": null,
            "align_self": null,
            "border": null,
            "bottom": null,
            "display": null,
            "flex": null,
            "flex_flow": null,
            "grid_area": null,
            "grid_auto_columns": null,
            "grid_auto_flow": null,
            "grid_auto_rows": null,
            "grid_column": null,
            "grid_gap": null,
            "grid_row": null,
            "grid_template_areas": null,
            "grid_template_columns": null,
            "grid_template_rows": null,
            "height": "100%",
            "justify_content": null,
            "justify_items": null,
            "left": null,
            "margin": null,
            "max_height": null,
            "max_width": null,
            "min_height": null,
            "min_width": null,
            "object_fit": null,
            "object_position": null,
            "order": null,
            "overflow": null,
            "overflow_x": null,
            "overflow_y": null,
            "padding": null,
            "right": null,
            "top": null,
            "visibility": null,
            "width": "auto"
          }
        },
        "860ac0b7e7334bf484a16ffa6a1c70f4": {
          "model_module": "@jupyter-widgets/controls",
          "model_name": "DescriptionStyleModel",
          "model_module_version": "1.5.0",
          "state": {
            "_model_module": "@jupyter-widgets/controls",
            "_model_module_version": "1.5.0",
            "_model_name": "DescriptionStyleModel",
            "_view_count": null,
            "_view_module": "@jupyter-widgets/base",
            "_view_module_version": "1.2.0",
            "_view_name": "StyleView",
            "description_width": "initial"
          }
        }
      }
    }
  },
  "nbformat": 4,
  "nbformat_minor": 0
}